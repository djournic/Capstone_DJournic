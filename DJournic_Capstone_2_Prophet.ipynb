{
 "cells": [
  {
   "cell_type": "markdown",
   "metadata": {},
   "source": [
    "# Prophet modeling"
   ]
  },
  {
   "cell_type": "markdown",
   "metadata": {},
   "source": [
    "Here we'll try to mimic the same process of finding the best train-test split, but for Facebook's Prophet library. Let's import everything."
   ]
  },
  {
   "cell_type": "code",
   "execution_count": 29,
   "metadata": {},
   "outputs": [],
   "source": [
    "from fbprophet import Prophet\n",
    "from prophet.diagnostics import cross_validation\n",
    "from prophet.plot import plot_cross_validation_metric\n",
    "from prophet.diagnostics import performance_metrics\n",
    "from sklearn.linear_model import LinearRegression\n",
    "from iexfinance.stocks import Stock\n",
    "import random\n",
    "#from trafalgar import*\n",
    "import pandas as pd\n",
    "import pandas.tseries\n",
    "import numpy as np\n",
    "import seaborn as sb\n",
    "import matplotlib.pyplot as plt\n",
    "import statsmodels.api as sm\n",
    "import matplotlib\n",
    "import pmdarima as pm\n",
    "import datetime as dt\n",
    "from datetime import date\n",
    "from datetime import timedelta \n",
    "import yfinance as yf\n",
    "import requests\n",
    "from sklearn.model_selection import TimeSeriesSplit\n",
    "from sktime.forecasting.model_selection import temporal_train_test_split\n",
    "from pandas.plotting import lag_plot\n",
    "from pandas import datetime\n",
    "import re\n",
    "from tiingo import TiingoClient\n",
    "import json\n",
    "from pandas_datareader import data as pdr"
   ]
  },
  {
   "cell_type": "code",
   "execution_count": 30,
   "metadata": {},
   "outputs": [
    {
     "data": {
      "text/plain": [
       "'0.1.63'"
      ]
     },
     "execution_count": 30,
     "metadata": {},
     "output_type": "execute_result"
    }
   ],
   "source": [
    "yf.__version__"
   ]
  },
  {
   "cell_type": "markdown",
   "metadata": {},
   "source": [
    "### The test case: C\n",
    "Just like the previous notebook, we'll try to run through a simple test case and expand it to other stocks. We'll use Citicgroup again."
   ]
  },
  {
   "cell_type": "markdown",
   "metadata": {},
   "source": [
    "Quick note: I encountered a bug with my earlier library, yfinance, so I've had to switch to tiingo, so a lot of code will be hashed out from earlier. And in case I can get the bugs worked out."
   ]
  },
  {
   "cell_type": "code",
   "execution_count": 31,
   "metadata": {},
   "outputs": [],
   "source": [
    "c = yf.Ticker(\"C\")"
   ]
  },
  {
   "cell_type": "code",
   "execution_count": 32,
   "metadata": {
    "scrolled": true
   },
   "outputs": [],
   "source": [
    "df=c.history(period=\"2y\")"
   ]
  },
  {
   "cell_type": "code",
   "execution_count": 33,
   "metadata": {},
   "outputs": [
    {
     "data": {
      "text/html": [
       "<div>\n",
       "<style scoped>\n",
       "    .dataframe tbody tr th:only-of-type {\n",
       "        vertical-align: middle;\n",
       "    }\n",
       "\n",
       "    .dataframe tbody tr th {\n",
       "        vertical-align: top;\n",
       "    }\n",
       "\n",
       "    .dataframe thead th {\n",
       "        text-align: right;\n",
       "    }\n",
       "</style>\n",
       "<table border=\"1\" class=\"dataframe\">\n",
       "  <thead>\n",
       "    <tr style=\"text-align: right;\">\n",
       "      <th></th>\n",
       "      <th>Open</th>\n",
       "      <th>High</th>\n",
       "      <th>Low</th>\n",
       "      <th>Close</th>\n",
       "      <th>Volume</th>\n",
       "      <th>Dividends</th>\n",
       "      <th>Stock Splits</th>\n",
       "    </tr>\n",
       "    <tr>\n",
       "      <th>Date</th>\n",
       "      <th></th>\n",
       "      <th></th>\n",
       "      <th></th>\n",
       "      <th></th>\n",
       "      <th></th>\n",
       "      <th></th>\n",
       "      <th></th>\n",
       "    </tr>\n",
       "  </thead>\n",
       "  <tbody>\n",
       "    <tr>\n",
       "      <th>2019-07-17</th>\n",
       "      <td>66.404265</td>\n",
       "      <td>66.693423</td>\n",
       "      <td>65.872583</td>\n",
       "      <td>66.059135</td>\n",
       "      <td>12278200</td>\n",
       "      <td>0.0</td>\n",
       "      <td>0</td>\n",
       "    </tr>\n",
       "    <tr>\n",
       "      <th>2019-07-18</th>\n",
       "      <td>65.797982</td>\n",
       "      <td>67.066557</td>\n",
       "      <td>65.742018</td>\n",
       "      <td>66.963951</td>\n",
       "      <td>13407400</td>\n",
       "      <td>0.0</td>\n",
       "      <td>0</td>\n",
       "    </tr>\n",
       "    <tr>\n",
       "      <th>2019-07-19</th>\n",
       "      <td>66.907973</td>\n",
       "      <td>67.318389</td>\n",
       "      <td>66.096456</td>\n",
       "      <td>66.152420</td>\n",
       "      <td>11184600</td>\n",
       "      <td>0.0</td>\n",
       "      <td>0</td>\n",
       "    </tr>\n",
       "    <tr>\n",
       "      <th>2019-07-22</th>\n",
       "      <td>65.965877</td>\n",
       "      <td>66.497558</td>\n",
       "      <td>65.928565</td>\n",
       "      <td>66.329659</td>\n",
       "      <td>7930600</td>\n",
       "      <td>0.0</td>\n",
       "      <td>0</td>\n",
       "    </tr>\n",
       "    <tr>\n",
       "      <th>2019-07-23</th>\n",
       "      <td>66.534877</td>\n",
       "      <td>67.327735</td>\n",
       "      <td>66.506895</td>\n",
       "      <td>67.150505</td>\n",
       "      <td>11804300</td>\n",
       "      <td>0.0</td>\n",
       "      <td>0</td>\n",
       "    </tr>\n",
       "  </tbody>\n",
       "</table>\n",
       "</div>"
      ],
      "text/plain": [
       "                 Open       High        Low      Close    Volume  Dividends  \\\n",
       "Date                                                                          \n",
       "2019-07-17  66.404265  66.693423  65.872583  66.059135  12278200        0.0   \n",
       "2019-07-18  65.797982  67.066557  65.742018  66.963951  13407400        0.0   \n",
       "2019-07-19  66.907973  67.318389  66.096456  66.152420  11184600        0.0   \n",
       "2019-07-22  65.965877  66.497558  65.928565  66.329659   7930600        0.0   \n",
       "2019-07-23  66.534877  67.327735  66.506895  67.150505  11804300        0.0   \n",
       "\n",
       "            Stock Splits  \n",
       "Date                      \n",
       "2019-07-17             0  \n",
       "2019-07-18             0  \n",
       "2019-07-19             0  \n",
       "2019-07-22             0  \n",
       "2019-07-23             0  "
      ]
     },
     "execution_count": 33,
     "metadata": {},
     "output_type": "execute_result"
    }
   ],
   "source": [
    "df.head()"
   ]
  },
  {
   "cell_type": "code",
   "execution_count": 34,
   "metadata": {},
   "outputs": [
    {
     "data": {
      "text/html": [
       "<div>\n",
       "<style scoped>\n",
       "    .dataframe tbody tr th:only-of-type {\n",
       "        vertical-align: middle;\n",
       "    }\n",
       "\n",
       "    .dataframe tbody tr th {\n",
       "        vertical-align: top;\n",
       "    }\n",
       "\n",
       "    .dataframe thead th {\n",
       "        text-align: right;\n",
       "    }\n",
       "</style>\n",
       "<table border=\"1\" class=\"dataframe\">\n",
       "  <thead>\n",
       "    <tr style=\"text-align: right;\">\n",
       "      <th></th>\n",
       "      <th>Open</th>\n",
       "      <th>High</th>\n",
       "      <th>Low</th>\n",
       "      <th>Close</th>\n",
       "      <th>Volume</th>\n",
       "      <th>Dividends</th>\n",
       "      <th>Stock Splits</th>\n",
       "    </tr>\n",
       "    <tr>\n",
       "      <th>Date</th>\n",
       "      <th></th>\n",
       "      <th></th>\n",
       "      <th></th>\n",
       "      <th></th>\n",
       "      <th></th>\n",
       "      <th></th>\n",
       "      <th></th>\n",
       "    </tr>\n",
       "  </thead>\n",
       "  <tbody>\n",
       "    <tr>\n",
       "      <th>2019-07-17</th>\n",
       "      <td>66.404265</td>\n",
       "      <td>66.693423</td>\n",
       "      <td>65.872583</td>\n",
       "      <td>66.059135</td>\n",
       "      <td>12278200</td>\n",
       "      <td>0.0</td>\n",
       "      <td>0</td>\n",
       "    </tr>\n",
       "    <tr>\n",
       "      <th>2019-07-18</th>\n",
       "      <td>65.797982</td>\n",
       "      <td>67.066557</td>\n",
       "      <td>65.742018</td>\n",
       "      <td>66.963951</td>\n",
       "      <td>13407400</td>\n",
       "      <td>0.0</td>\n",
       "      <td>0</td>\n",
       "    </tr>\n",
       "    <tr>\n",
       "      <th>2019-07-19</th>\n",
       "      <td>66.907973</td>\n",
       "      <td>67.318389</td>\n",
       "      <td>66.096456</td>\n",
       "      <td>66.152420</td>\n",
       "      <td>11184600</td>\n",
       "      <td>0.0</td>\n",
       "      <td>0</td>\n",
       "    </tr>\n",
       "    <tr>\n",
       "      <th>2019-07-22</th>\n",
       "      <td>65.965877</td>\n",
       "      <td>66.497558</td>\n",
       "      <td>65.928565</td>\n",
       "      <td>66.329659</td>\n",
       "      <td>7930600</td>\n",
       "      <td>0.0</td>\n",
       "      <td>0</td>\n",
       "    </tr>\n",
       "    <tr>\n",
       "      <th>2019-07-23</th>\n",
       "      <td>66.534877</td>\n",
       "      <td>67.327735</td>\n",
       "      <td>66.506895</td>\n",
       "      <td>67.150505</td>\n",
       "      <td>11804300</td>\n",
       "      <td>0.0</td>\n",
       "      <td>0</td>\n",
       "    </tr>\n",
       "  </tbody>\n",
       "</table>\n",
       "</div>"
      ],
      "text/plain": [
       "                 Open       High        Low      Close    Volume  Dividends  \\\n",
       "Date                                                                          \n",
       "2019-07-17  66.404265  66.693423  65.872583  66.059135  12278200        0.0   \n",
       "2019-07-18  65.797982  67.066557  65.742018  66.963951  13407400        0.0   \n",
       "2019-07-19  66.907973  67.318389  66.096456  66.152420  11184600        0.0   \n",
       "2019-07-22  65.965877  66.497558  65.928565  66.329659   7930600        0.0   \n",
       "2019-07-23  66.534877  67.327735  66.506895  67.150505  11804300        0.0   \n",
       "\n",
       "            Stock Splits  \n",
       "Date                      \n",
       "2019-07-17             0  \n",
       "2019-07-18             0  \n",
       "2019-07-19             0  \n",
       "2019-07-22             0  \n",
       "2019-07-23             0  "
      ]
     },
     "execution_count": 34,
     "metadata": {},
     "output_type": "execute_result"
    }
   ],
   "source": [
    "df.head()"
   ]
  },
  {
   "cell_type": "code",
   "execution_count": 35,
   "metadata": {},
   "outputs": [],
   "source": [
    "deltas=['d','m','y']\n",
    "att='200d'"
   ]
  },
  {
   "cell_type": "code",
   "execution_count": 36,
   "metadata": {},
   "outputs": [
    {
     "data": {
      "text/plain": [
       "'d'"
      ]
     },
     "execution_count": 36,
     "metadata": {},
     "output_type": "execute_result"
    }
   ],
   "source": [
    "att[-1]"
   ]
  },
  {
   "cell_type": "code",
   "execution_count": 37,
   "metadata": {},
   "outputs": [
    {
     "data": {
      "text/plain": [
       "'200'"
      ]
     },
     "execution_count": 37,
     "metadata": {},
     "output_type": "execute_result"
    }
   ],
   "source": [
    "spl=len(att)-1\n",
    "att[:spl]"
   ]
  },
  {
   "cell_type": "code",
   "execution_count": 38,
   "metadata": {},
   "outputs": [
    {
     "data": {
      "text/plain": [
       "'200 days'"
      ]
     },
     "execution_count": 38,
     "metadata": {},
     "output_type": "execute_result"
    }
   ],
   "source": [
    "end=att[:spl] + ' days'\n",
    "end"
   ]
  },
  {
   "cell_type": "code",
   "execution_count": 39,
   "metadata": {},
   "outputs": [],
   "source": [
    "df1=df['Close']"
   ]
  },
  {
   "cell_type": "code",
   "execution_count": 40,
   "metadata": {},
   "outputs": [
    {
     "data": {
      "text/plain": [
       "Date\n",
       "2019-07-17    66.059135\n",
       "2019-07-18    66.963951\n",
       "2019-07-19    66.152420\n",
       "2019-07-22    66.329659\n",
       "2019-07-23    67.150505\n",
       "Name: Close, dtype: float64"
      ]
     },
     "execution_count": 40,
     "metadata": {},
     "output_type": "execute_result"
    }
   ],
   "source": [
    "df1.head()"
   ]
  },
  {
   "cell_type": "code",
   "execution_count": 41,
   "metadata": {},
   "outputs": [],
   "source": [
    "df1=df1.to_frame()"
   ]
  },
  {
   "cell_type": "code",
   "execution_count": 42,
   "metadata": {},
   "outputs": [],
   "source": [
    "# instantiate Prophet\n",
    "prof_1 = Prophet()"
   ]
  },
  {
   "cell_type": "code",
   "execution_count": 43,
   "metadata": {},
   "outputs": [
    {
     "data": {
      "text/html": [
       "<div>\n",
       "<style scoped>\n",
       "    .dataframe tbody tr th:only-of-type {\n",
       "        vertical-align: middle;\n",
       "    }\n",
       "\n",
       "    .dataframe tbody tr th {\n",
       "        vertical-align: top;\n",
       "    }\n",
       "\n",
       "    .dataframe thead th {\n",
       "        text-align: right;\n",
       "    }\n",
       "</style>\n",
       "<table border=\"1\" class=\"dataframe\">\n",
       "  <thead>\n",
       "    <tr style=\"text-align: right;\">\n",
       "      <th></th>\n",
       "      <th>Close</th>\n",
       "    </tr>\n",
       "    <tr>\n",
       "      <th>Date</th>\n",
       "      <th></th>\n",
       "    </tr>\n",
       "  </thead>\n",
       "  <tbody>\n",
       "    <tr>\n",
       "      <th>2019-07-17</th>\n",
       "      <td>66.059135</td>\n",
       "    </tr>\n",
       "    <tr>\n",
       "      <th>2019-07-18</th>\n",
       "      <td>66.963951</td>\n",
       "    </tr>\n",
       "    <tr>\n",
       "      <th>2019-07-19</th>\n",
       "      <td>66.152420</td>\n",
       "    </tr>\n",
       "    <tr>\n",
       "      <th>2019-07-22</th>\n",
       "      <td>66.329659</td>\n",
       "    </tr>\n",
       "    <tr>\n",
       "      <th>2019-07-23</th>\n",
       "      <td>67.150505</td>\n",
       "    </tr>\n",
       "  </tbody>\n",
       "</table>\n",
       "</div>"
      ],
      "text/plain": [
       "                Close\n",
       "Date                 \n",
       "2019-07-17  66.059135\n",
       "2019-07-18  66.963951\n",
       "2019-07-19  66.152420\n",
       "2019-07-22  66.329659\n",
       "2019-07-23  67.150505"
      ]
     },
     "execution_count": 43,
     "metadata": {},
     "output_type": "execute_result"
    }
   ],
   "source": [
    "df1.head()"
   ]
  },
  {
   "cell_type": "code",
   "execution_count": 44,
   "metadata": {},
   "outputs": [],
   "source": [
    "df1.index.names = ['ds']\n",
    "df1.columns=['y']"
   ]
  },
  {
   "cell_type": "code",
   "execution_count": 45,
   "metadata": {},
   "outputs": [],
   "source": [
    "df1.reset_index(level=0, inplace=True)"
   ]
  },
  {
   "cell_type": "code",
   "execution_count": 46,
   "metadata": {},
   "outputs": [
    {
     "data": {
      "text/html": [
       "<div>\n",
       "<style scoped>\n",
       "    .dataframe tbody tr th:only-of-type {\n",
       "        vertical-align: middle;\n",
       "    }\n",
       "\n",
       "    .dataframe tbody tr th {\n",
       "        vertical-align: top;\n",
       "    }\n",
       "\n",
       "    .dataframe thead th {\n",
       "        text-align: right;\n",
       "    }\n",
       "</style>\n",
       "<table border=\"1\" class=\"dataframe\">\n",
       "  <thead>\n",
       "    <tr style=\"text-align: right;\">\n",
       "      <th></th>\n",
       "      <th>ds</th>\n",
       "      <th>y</th>\n",
       "    </tr>\n",
       "  </thead>\n",
       "  <tbody>\n",
       "    <tr>\n",
       "      <th>0</th>\n",
       "      <td>2019-07-17</td>\n",
       "      <td>66.059135</td>\n",
       "    </tr>\n",
       "    <tr>\n",
       "      <th>1</th>\n",
       "      <td>2019-07-18</td>\n",
       "      <td>66.963951</td>\n",
       "    </tr>\n",
       "    <tr>\n",
       "      <th>2</th>\n",
       "      <td>2019-07-19</td>\n",
       "      <td>66.152420</td>\n",
       "    </tr>\n",
       "    <tr>\n",
       "      <th>3</th>\n",
       "      <td>2019-07-22</td>\n",
       "      <td>66.329659</td>\n",
       "    </tr>\n",
       "    <tr>\n",
       "      <th>4</th>\n",
       "      <td>2019-07-23</td>\n",
       "      <td>67.150505</td>\n",
       "    </tr>\n",
       "  </tbody>\n",
       "</table>\n",
       "</div>"
      ],
      "text/plain": [
       "          ds          y\n",
       "0 2019-07-17  66.059135\n",
       "1 2019-07-18  66.963951\n",
       "2 2019-07-19  66.152420\n",
       "3 2019-07-22  66.329659\n",
       "4 2019-07-23  67.150505"
      ]
     },
     "execution_count": 46,
     "metadata": {},
     "output_type": "execute_result"
    }
   ],
   "source": [
    "df1.head()"
   ]
  },
  {
   "cell_type": "code",
   "execution_count": 47,
   "metadata": {},
   "outputs": [
    {
     "name": "stdout",
     "output_type": "stream",
     "text": [
      "<class 'pandas.core.frame.DataFrame'>\n",
      "RangeIndex: 505 entries, 0 to 504\n",
      "Data columns (total 2 columns):\n",
      " #   Column  Non-Null Count  Dtype         \n",
      "---  ------  --------------  -----         \n",
      " 0   ds      505 non-null    datetime64[ns]\n",
      " 1   y       505 non-null    float64       \n",
      "dtypes: datetime64[ns](1), float64(1)\n",
      "memory usage: 8.0 KB\n"
     ]
    }
   ],
   "source": [
    "df1.info()"
   ]
  },
  {
   "cell_type": "code",
   "execution_count": 48,
   "metadata": {},
   "outputs": [
    {
     "name": "stderr",
     "output_type": "stream",
     "text": [
      "INFO:fbprophet:Disabling daily seasonality. Run prophet with daily_seasonality=True to override this.\n"
     ]
    },
    {
     "data": {
      "text/plain": [
       "<fbprophet.forecaster.Prophet at 0x287e5ac97b8>"
      ]
     },
     "execution_count": 48,
     "metadata": {},
     "output_type": "execute_result"
    }
   ],
   "source": [
    "prof_1.fit(df1)"
   ]
  },
  {
   "cell_type": "code",
   "execution_count": 49,
   "metadata": {},
   "outputs": [],
   "source": [
    "#Create a new dataframe for the predictions, 3 weeks out\n",
    "future = prof_1.make_future_dataframe(periods=21)"
   ]
  },
  {
   "cell_type": "code",
   "execution_count": 50,
   "metadata": {},
   "outputs": [],
   "source": [
    "forecast = prof_1.predict(future)"
   ]
  },
  {
   "cell_type": "code",
   "execution_count": 51,
   "metadata": {},
   "outputs": [
    {
     "data": {
      "text/html": [
       "<div>\n",
       "<style scoped>\n",
       "    .dataframe tbody tr th:only-of-type {\n",
       "        vertical-align: middle;\n",
       "    }\n",
       "\n",
       "    .dataframe tbody tr th {\n",
       "        vertical-align: top;\n",
       "    }\n",
       "\n",
       "    .dataframe thead th {\n",
       "        text-align: right;\n",
       "    }\n",
       "</style>\n",
       "<table border=\"1\" class=\"dataframe\">\n",
       "  <thead>\n",
       "    <tr style=\"text-align: right;\">\n",
       "      <th></th>\n",
       "      <th>ds</th>\n",
       "      <th>trend</th>\n",
       "      <th>yhat_lower</th>\n",
       "      <th>yhat_upper</th>\n",
       "      <th>trend_lower</th>\n",
       "      <th>trend_upper</th>\n",
       "      <th>additive_terms</th>\n",
       "      <th>additive_terms_lower</th>\n",
       "      <th>additive_terms_upper</th>\n",
       "      <th>weekly</th>\n",
       "      <th>weekly_lower</th>\n",
       "      <th>weekly_upper</th>\n",
       "      <th>yearly</th>\n",
       "      <th>yearly_lower</th>\n",
       "      <th>yearly_upper</th>\n",
       "      <th>multiplicative_terms</th>\n",
       "      <th>multiplicative_terms_lower</th>\n",
       "      <th>multiplicative_terms_upper</th>\n",
       "      <th>yhat</th>\n",
       "    </tr>\n",
       "  </thead>\n",
       "  <tbody>\n",
       "    <tr>\n",
       "      <th>521</th>\n",
       "      <td>2021-08-02</td>\n",
       "      <td>75.238021</td>\n",
       "      <td>71.556025</td>\n",
       "      <td>81.368006</td>\n",
       "      <td>75.032201</td>\n",
       "      <td>75.424817</td>\n",
       "      <td>0.711930</td>\n",
       "      <td>0.711930</td>\n",
       "      <td>0.711930</td>\n",
       "      <td>-0.430478</td>\n",
       "      <td>-0.430478</td>\n",
       "      <td>-0.430478</td>\n",
       "      <td>1.142408</td>\n",
       "      <td>1.142408</td>\n",
       "      <td>1.142408</td>\n",
       "      <td>0.0</td>\n",
       "      <td>0.0</td>\n",
       "      <td>0.0</td>\n",
       "      <td>75.949951</td>\n",
       "    </tr>\n",
       "    <tr>\n",
       "      <th>522</th>\n",
       "      <td>2021-08-03</td>\n",
       "      <td>75.310363</td>\n",
       "      <td>70.296904</td>\n",
       "      <td>80.485127</td>\n",
       "      <td>75.083586</td>\n",
       "      <td>75.528783</td>\n",
       "      <td>0.166397</td>\n",
       "      <td>0.166397</td>\n",
       "      <td>0.166397</td>\n",
       "      <td>-0.652423</td>\n",
       "      <td>-0.652423</td>\n",
       "      <td>-0.652423</td>\n",
       "      <td>0.818820</td>\n",
       "      <td>0.818820</td>\n",
       "      <td>0.818820</td>\n",
       "      <td>0.0</td>\n",
       "      <td>0.0</td>\n",
       "      <td>0.0</td>\n",
       "      <td>75.476761</td>\n",
       "    </tr>\n",
       "    <tr>\n",
       "      <th>523</th>\n",
       "      <td>2021-08-04</td>\n",
       "      <td>75.382706</td>\n",
       "      <td>69.996725</td>\n",
       "      <td>80.509996</td>\n",
       "      <td>75.123003</td>\n",
       "      <td>75.630446</td>\n",
       "      <td>-0.092185</td>\n",
       "      <td>-0.092185</td>\n",
       "      <td>-0.092185</td>\n",
       "      <td>-0.569478</td>\n",
       "      <td>-0.569478</td>\n",
       "      <td>-0.569478</td>\n",
       "      <td>0.477293</td>\n",
       "      <td>0.477293</td>\n",
       "      <td>0.477293</td>\n",
       "      <td>0.0</td>\n",
       "      <td>0.0</td>\n",
       "      <td>0.0</td>\n",
       "      <td>75.290521</td>\n",
       "    </tr>\n",
       "    <tr>\n",
       "      <th>524</th>\n",
       "      <td>2021-08-05</td>\n",
       "      <td>75.455048</td>\n",
       "      <td>70.133790</td>\n",
       "      <td>79.880694</td>\n",
       "      <td>75.161106</td>\n",
       "      <td>75.719389</td>\n",
       "      <td>-0.473197</td>\n",
       "      <td>-0.473197</td>\n",
       "      <td>-0.473197</td>\n",
       "      <td>-0.596291</td>\n",
       "      <td>-0.596291</td>\n",
       "      <td>-0.596291</td>\n",
       "      <td>0.123094</td>\n",
       "      <td>0.123094</td>\n",
       "      <td>0.123094</td>\n",
       "      <td>0.0</td>\n",
       "      <td>0.0</td>\n",
       "      <td>0.0</td>\n",
       "      <td>74.981851</td>\n",
       "    </tr>\n",
       "    <tr>\n",
       "      <th>525</th>\n",
       "      <td>2021-08-06</td>\n",
       "      <td>75.527391</td>\n",
       "      <td>69.573756</td>\n",
       "      <td>79.775514</td>\n",
       "      <td>75.195173</td>\n",
       "      <td>75.830308</td>\n",
       "      <td>-0.883225</td>\n",
       "      <td>-0.883225</td>\n",
       "      <td>-0.883225</td>\n",
       "      <td>-0.644813</td>\n",
       "      <td>-0.644813</td>\n",
       "      <td>-0.644813</td>\n",
       "      <td>-0.238412</td>\n",
       "      <td>-0.238412</td>\n",
       "      <td>-0.238412</td>\n",
       "      <td>0.0</td>\n",
       "      <td>0.0</td>\n",
       "      <td>0.0</td>\n",
       "      <td>74.644165</td>\n",
       "    </tr>\n",
       "  </tbody>\n",
       "</table>\n",
       "</div>"
      ],
      "text/plain": [
       "            ds      trend  yhat_lower  yhat_upper  trend_lower  trend_upper  \\\n",
       "521 2021-08-02  75.238021   71.556025   81.368006    75.032201    75.424817   \n",
       "522 2021-08-03  75.310363   70.296904   80.485127    75.083586    75.528783   \n",
       "523 2021-08-04  75.382706   69.996725   80.509996    75.123003    75.630446   \n",
       "524 2021-08-05  75.455048   70.133790   79.880694    75.161106    75.719389   \n",
       "525 2021-08-06  75.527391   69.573756   79.775514    75.195173    75.830308   \n",
       "\n",
       "     additive_terms  additive_terms_lower  additive_terms_upper    weekly  \\\n",
       "521        0.711930              0.711930              0.711930 -0.430478   \n",
       "522        0.166397              0.166397              0.166397 -0.652423   \n",
       "523       -0.092185             -0.092185             -0.092185 -0.569478   \n",
       "524       -0.473197             -0.473197             -0.473197 -0.596291   \n",
       "525       -0.883225             -0.883225             -0.883225 -0.644813   \n",
       "\n",
       "     weekly_lower  weekly_upper    yearly  yearly_lower  yearly_upper  \\\n",
       "521     -0.430478     -0.430478  1.142408      1.142408      1.142408   \n",
       "522     -0.652423     -0.652423  0.818820      0.818820      0.818820   \n",
       "523     -0.569478     -0.569478  0.477293      0.477293      0.477293   \n",
       "524     -0.596291     -0.596291  0.123094      0.123094      0.123094   \n",
       "525     -0.644813     -0.644813 -0.238412     -0.238412     -0.238412   \n",
       "\n",
       "     multiplicative_terms  multiplicative_terms_lower  \\\n",
       "521                   0.0                         0.0   \n",
       "522                   0.0                         0.0   \n",
       "523                   0.0                         0.0   \n",
       "524                   0.0                         0.0   \n",
       "525                   0.0                         0.0   \n",
       "\n",
       "     multiplicative_terms_upper       yhat  \n",
       "521                         0.0  75.949951  \n",
       "522                         0.0  75.476761  \n",
       "523                         0.0  75.290521  \n",
       "524                         0.0  74.981851  \n",
       "525                         0.0  74.644165  "
      ]
     },
     "execution_count": 51,
     "metadata": {},
     "output_type": "execute_result"
    }
   ],
   "source": [
    "forecast.tail()"
   ]
  },
  {
   "cell_type": "code",
   "execution_count": 52,
   "metadata": {},
   "outputs": [
    {
     "name": "stdout",
     "output_type": "stream",
     "text": [
      "<class 'pandas.core.frame.DataFrame'>\n",
      "RangeIndex: 526 entries, 0 to 525\n",
      "Data columns (total 19 columns):\n",
      " #   Column                      Non-Null Count  Dtype         \n",
      "---  ------                      --------------  -----         \n",
      " 0   ds                          526 non-null    datetime64[ns]\n",
      " 1   trend                       526 non-null    float64       \n",
      " 2   yhat_lower                  526 non-null    float64       \n",
      " 3   yhat_upper                  526 non-null    float64       \n",
      " 4   trend_lower                 526 non-null    float64       \n",
      " 5   trend_upper                 526 non-null    float64       \n",
      " 6   additive_terms              526 non-null    float64       \n",
      " 7   additive_terms_lower        526 non-null    float64       \n",
      " 8   additive_terms_upper        526 non-null    float64       \n",
      " 9   weekly                      526 non-null    float64       \n",
      " 10  weekly_lower                526 non-null    float64       \n",
      " 11  weekly_upper                526 non-null    float64       \n",
      " 12  yearly                      526 non-null    float64       \n",
      " 13  yearly_lower                526 non-null    float64       \n",
      " 14  yearly_upper                526 non-null    float64       \n",
      " 15  multiplicative_terms        526 non-null    float64       \n",
      " 16  multiplicative_terms_lower  526 non-null    float64       \n",
      " 17  multiplicative_terms_upper  526 non-null    float64       \n",
      " 18  yhat                        526 non-null    float64       \n",
      "dtypes: datetime64[ns](1), float64(18)\n",
      "memory usage: 78.2 KB\n"
     ]
    }
   ],
   "source": [
    "forecast.info()"
   ]
  },
  {
   "cell_type": "code",
   "execution_count": 53,
   "metadata": {},
   "outputs": [],
   "source": [
    "proph_pred=forecast['yhat']"
   ]
  },
  {
   "cell_type": "code",
   "execution_count": 54,
   "metadata": {},
   "outputs": [
    {
     "data": {
      "image/png": "[encoded data removed]",
      "text/plain": [
       "<Figure size 720x432 with 1 Axes>"
      ]
     },
     "metadata": {},
     "output_type": "display_data"
    }
   ],
   "source": [
    "prof_1.plot(forecast)\n",
    "plt.show()"
   ]
  },
  {
   "cell_type": "code",
   "execution_count": 55,
   "metadata": {
    "scrolled": true
   },
   "outputs": [
    {
     "name": "stderr",
     "output_type": "stream",
     "text": [
      "INFO:prophet:Making 99 forecasts with cutoffs between 2019-08-16 00:00:00 and 2021-07-02 00:00:00\n",
      "WARNING:prophet:Seasonality has period of 365.25 days which is larger than initial window. Consider increasing initial.\n"
     ]
    },
    {
     "data": {
      "application/vnd.jupyter.widget-view+json": {
       "model_id": "dc5435ac2b554978ac63c352381fea43",
       "version_major": 2,
       "version_minor": 0
      },
      "text/plain": [
       "  0%|          | 0/99 [00:00<?, ?it/s]"
      ]
     },
     "metadata": {},
     "output_type": "display_data"
    },
    {
     "name": "stderr",
     "output_type": "stream",
     "text": [
      "INFO:fbprophet:n_changepoints greater than number of observations. Using 17.\n",
      "INFO:fbprophet:n_changepoints greater than number of observations. Using 21.\n",
      "WARNING:fbprophet:Optimization terminated abnormally. Falling back to Newton.\n",
      "WARNING:fbprophet:Optimization terminated abnormally. Falling back to Newton.\n",
      "WARNING:fbprophet:Optimization terminated abnormally. Falling back to Newton.\n",
      "WARNING:fbprophet:Optimization terminated abnormally. Falling back to Newton.\n"
     ]
    }
   ],
   "source": [
    "df1_cv = cross_validation(prof_1, initial='30 days', period='7 days', horizon = '14 days')"
   ]
  },
  {
   "cell_type": "code",
   "execution_count": 56,
   "metadata": {},
   "outputs": [],
   "source": [
    "df1_pm = performance_metrics(df1_cv)"
   ]
  },
  {
   "cell_type": "code",
   "execution_count": 57,
   "metadata": {},
   "outputs": [],
   "source": [
    "trains=['30 days','60 days','180 days']\n",
    "tests=['7 days','14 days','21 days']"
   ]
  },
  {
   "cell_type": "code",
   "execution_count": 58,
   "metadata": {},
   "outputs": [
    {
     "data": {
      "text/html": [
       "<div>\n",
       "<style scoped>\n",
       "    .dataframe tbody tr th:only-of-type {\n",
       "        vertical-align: middle;\n",
       "    }\n",
       "\n",
       "    .dataframe tbody tr th {\n",
       "        vertical-align: top;\n",
       "    }\n",
       "\n",
       "    .dataframe thead th {\n",
       "        text-align: right;\n",
       "    }\n",
       "</style>\n",
       "<table border=\"1\" class=\"dataframe\">\n",
       "  <thead>\n",
       "    <tr style=\"text-align: right;\">\n",
       "      <th></th>\n",
       "      <th>horizon</th>\n",
       "      <th>mse</th>\n",
       "      <th>rmse</th>\n",
       "      <th>mae</th>\n",
       "      <th>mape</th>\n",
       "      <th>mdape</th>\n",
       "      <th>smape</th>\n",
       "      <th>coverage</th>\n",
       "    </tr>\n",
       "  </thead>\n",
       "  <tbody>\n",
       "    <tr>\n",
       "      <th>4</th>\n",
       "      <td>10 days</td>\n",
       "      <td>462.266008</td>\n",
       "      <td>21.500372</td>\n",
       "      <td>13.215665</td>\n",
       "      <td>0.224003</td>\n",
       "      <td>0.131071</td>\n",
       "      <td>0.225935</td>\n",
       "      <td>0.162486</td>\n",
       "    </tr>\n",
       "    <tr>\n",
       "      <th>5</th>\n",
       "      <td>11 days</td>\n",
       "      <td>814.790142</td>\n",
       "      <td>28.544529</td>\n",
       "      <td>16.399145</td>\n",
       "      <td>0.277409</td>\n",
       "      <td>0.160237</td>\n",
       "      <td>0.271908</td>\n",
       "      <td>0.111111</td>\n",
       "    </tr>\n",
       "    <tr>\n",
       "      <th>6</th>\n",
       "      <td>12 days</td>\n",
       "      <td>1236.533109</td>\n",
       "      <td>35.164373</td>\n",
       "      <td>19.374418</td>\n",
       "      <td>0.328088</td>\n",
       "      <td>0.171952</td>\n",
       "      <td>0.303072</td>\n",
       "      <td>0.092784</td>\n",
       "    </tr>\n",
       "    <tr>\n",
       "      <th>7</th>\n",
       "      <td>13 days</td>\n",
       "      <td>1777.974486</td>\n",
       "      <td>42.166035</td>\n",
       "      <td>21.558369</td>\n",
       "      <td>0.360251</td>\n",
       "      <td>0.150457</td>\n",
       "      <td>0.310805</td>\n",
       "      <td>0.113402</td>\n",
       "    </tr>\n",
       "    <tr>\n",
       "      <th>8</th>\n",
       "      <td>14 days</td>\n",
       "      <td>2624.991535</td>\n",
       "      <td>51.234671</td>\n",
       "      <td>25.013462</td>\n",
       "      <td>0.410445</td>\n",
       "      <td>0.172395</td>\n",
       "      <td>0.334157</td>\n",
       "      <td>0.095931</td>\n",
       "    </tr>\n",
       "  </tbody>\n",
       "</table>\n",
       "</div>"
      ],
      "text/plain": [
       "  horizon          mse       rmse        mae      mape     mdape     smape  \\\n",
       "4 10 days   462.266008  21.500372  13.215665  0.224003  0.131071  0.225935   \n",
       "5 11 days   814.790142  28.544529  16.399145  0.277409  0.160237  0.271908   \n",
       "6 12 days  1236.533109  35.164373  19.374418  0.328088  0.171952  0.303072   \n",
       "7 13 days  1777.974486  42.166035  21.558369  0.360251  0.150457  0.310805   \n",
       "8 14 days  2624.991535  51.234671  25.013462  0.410445  0.172395  0.334157   \n",
       "\n",
       "   coverage  \n",
       "4  0.162486  \n",
       "5  0.111111  \n",
       "6  0.092784  \n",
       "7  0.113402  \n",
       "8  0.095931  "
      ]
     },
     "execution_count": 58,
     "metadata": {},
     "output_type": "execute_result"
    }
   ],
   "source": [
    "df1_pm.tail()"
   ]
  },
  {
   "cell_type": "code",
   "execution_count": 59,
   "metadata": {},
   "outputs": [
    {
     "data": {
      "image/png": "[encoded data removed]",
      "text/plain": [
       "<Figure size 720x432 with 1 Axes>"
      ]
     },
     "metadata": {},
     "output_type": "display_data"
    }
   ],
   "source": [
    "fig = plot_cross_validation_metric(df1_cv, metric='mae')"
   ]
  },
  {
   "cell_type": "markdown",
   "metadata": {},
   "source": [
    "## STONKS (Again)!!!"
   ]
  },
  {
   "cell_type": "markdown",
   "metadata": {},
   "source": [
    "Just like in the ARIMA notebook, I want to test a number of train-test splits with Prophet. Since it works a little different from ARIMA, the code will be a little different, but still borrowing a lot. Here, we can import our stock symbols, and clean them up."
   ]
  },
  {
   "cell_type": "code",
   "execution_count": 60,
   "metadata": {},
   "outputs": [],
   "source": [
    "sp_500=pd.read_csv('Data/constituents_csv.csv')\n",
    "nsdq=pd.read_csv('Data/nasdaq1.csv')\n",
    "dow_30=pd.read_excel('Data/dow-jones-industrial-average-components.xls')"
   ]
  },
  {
   "cell_type": "code",
   "execution_count": 61,
   "metadata": {},
   "outputs": [],
   "source": [
    "new_cols=['Name','Symbol','Weight%']\n",
    "dow_30.columns=new_cols"
   ]
  },
  {
   "cell_type": "code",
   "execution_count": 62,
   "metadata": {
    "scrolled": true
   },
   "outputs": [
    {
     "data": {
      "text/html": [
       "<div>\n",
       "<style scoped>\n",
       "    .dataframe tbody tr th:only-of-type {\n",
       "        vertical-align: middle;\n",
       "    }\n",
       "\n",
       "    .dataframe tbody tr th {\n",
       "        vertical-align: top;\n",
       "    }\n",
       "\n",
       "    .dataframe thead th {\n",
       "        text-align: right;\n",
       "    }\n",
       "</style>\n",
       "<table border=\"1\" class=\"dataframe\">\n",
       "  <thead>\n",
       "    <tr style=\"text-align: right;\">\n",
       "      <th></th>\n",
       "      <th>Unnamed: 0</th>\n",
       "      <th>Symbol</th>\n",
       "      <th>Company Name</th>\n",
       "    </tr>\n",
       "  </thead>\n",
       "  <tbody>\n",
       "    <tr>\n",
       "      <th>0</th>\n",
       "      <td>0</td>\n",
       "      <td>AAIT</td>\n",
       "      <td>iShares MSCI All Country Asia Information Tech...</td>\n",
       "    </tr>\n",
       "    <tr>\n",
       "      <th>1</th>\n",
       "      <td>1</td>\n",
       "      <td>AAL</td>\n",
       "      <td>American Airlines Group, Inc.</td>\n",
       "    </tr>\n",
       "    <tr>\n",
       "      <th>2</th>\n",
       "      <td>2</td>\n",
       "      <td>AAME</td>\n",
       "      <td>Atlantic American Corporation</td>\n",
       "    </tr>\n",
       "    <tr>\n",
       "      <th>3</th>\n",
       "      <td>3</td>\n",
       "      <td>AAOI</td>\n",
       "      <td>Applied Optoelectronics, Inc.</td>\n",
       "    </tr>\n",
       "    <tr>\n",
       "      <th>4</th>\n",
       "      <td>4</td>\n",
       "      <td>AAON</td>\n",
       "      <td>AAON, Inc.</td>\n",
       "    </tr>\n",
       "  </tbody>\n",
       "</table>\n",
       "</div>"
      ],
      "text/plain": [
       "   Unnamed: 0 Symbol                                       Company Name\n",
       "0           0   AAIT  iShares MSCI All Country Asia Information Tech...\n",
       "1           1    AAL                      American Airlines Group, Inc.\n",
       "2           2   AAME                      Atlantic American Corporation\n",
       "3           3   AAOI                      Applied Optoelectronics, Inc.\n",
       "4           4   AAON                                         AAON, Inc."
      ]
     },
     "execution_count": 62,
     "metadata": {},
     "output_type": "execute_result"
    }
   ],
   "source": [
    "nsdq.head()"
   ]
  },
  {
   "cell_type": "code",
   "execution_count": 63,
   "metadata": {},
   "outputs": [],
   "source": [
    "nsdq.drop(columns='Unnamed: 0',inplace=True)"
   ]
  },
  {
   "cell_type": "code",
   "execution_count": 64,
   "metadata": {},
   "outputs": [
    {
     "data": {
      "text/plain": [
       "1734"
      ]
     },
     "execution_count": 64,
     "metadata": {},
     "output_type": "execute_result"
    }
   ],
   "source": [
    "len(nsdq)"
   ]
  },
  {
   "cell_type": "markdown",
   "metadata": {},
   "source": [
    "The following cells were necessary for cleaning the nasdaq stock list. But I saved it, and that's what I'm using."
   ]
  },
  {
   "cell_type": "code",
   "execution_count": 65,
   "metadata": {},
   "outputs": [],
   "source": [
    "#no_data=[]\n",
    "#for each in nsdq['Symbol']:\n",
    "#    x=yf.Ticker(each)\n",
    "#    df=x.history(period='1d')\n",
    "#    if len(df)==0:\n",
    "#        no_data.append(each)"
   ]
  },
  {
   "cell_type": "code",
   "execution_count": 66,
   "metadata": {},
   "outputs": [],
   "source": [
    "#len(no_data)"
   ]
  },
  {
   "cell_type": "code",
   "execution_count": 67,
   "metadata": {},
   "outputs": [],
   "source": [
    "#nd_index=[]\n",
    "#for each in no_data:\n",
    "#    y=nsdq.loc[nsdq['Symbol']==each].index\n",
    "#    nd_index.append(y[0])"
   ]
  },
  {
   "cell_type": "code",
   "execution_count": 68,
   "metadata": {},
   "outputs": [],
   "source": [
    "#nsdq = nsdq.drop(labels=nd_index,drop=True, axis=0)\n",
    "#nsdq.reset_index()"
   ]
  },
  {
   "cell_type": "code",
   "execution_count": 69,
   "metadata": {},
   "outputs": [],
   "source": [
    "#nsdq.to_csv(\"/Users/Daniel/Documents/Flatiron/Capstone/Project/nasdaq1.csv\")"
   ]
  },
  {
   "cell_type": "code",
   "execution_count": 70,
   "metadata": {},
   "outputs": [],
   "source": [
    "def tt_test_p (asset,train_val,test_val):\n",
    "    \"\"\"This function will take in a financial asset (stock, etf) as well as 2 lists of integers (training and testing days).\n",
    "    Then the asset will be looked up through yahoo finance and gather the price history. It will then run through the values\n",
    "    of the training and testing lists and run prophet models on all of them. It will record the metrics and return a\n",
    "    dataframe with all the results.\"\"\"\n",
    "    \n",
    "    stock = yf.Ticker(asset)\n",
    "    df1=stock.history(period='2y')\n",
    "    print(\"Processing: \",stock)\n",
    "    prof_1 = Prophet()\n",
    "    df1=df1['Close']\n",
    "    df1=df1.to_frame()\n",
    "    df1.index.names = ['ds']\n",
    "    df1.columns=['y']\n",
    "    df1.reset_index(level=0, inplace=True)\n",
    "    prof_1.fit(df1)\n",
    "    future = prof_1.make_future_dataframe(periods=21)\n",
    "    forecast = prof_1.predict(future)\n",
    "    for train_val in trains:\n",
    "        for test_val in tests:\n",
    "            df1_cv = cross_validation(prof_1, initial=train_val, period=test_val, horizon = '21 days')\n",
    "            df1_pm = performance_metrics(df1_cv)\n",
    "            print('Training: ', train_val)\n",
    "            print('Testing: ', test_val)\n",
    "            print (df1_pm.tail())             \n",
    "\n",
    "    return forecast"
   ]
  },
  {
   "cell_type": "code",
   "execution_count": 71,
   "metadata": {},
   "outputs": [
    {
     "data": {
      "text/html": [
       "<div>\n",
       "<style scoped>\n",
       "    .dataframe tbody tr th:only-of-type {\n",
       "        vertical-align: middle;\n",
       "    }\n",
       "\n",
       "    .dataframe tbody tr th {\n",
       "        vertical-align: top;\n",
       "    }\n",
       "\n",
       "    .dataframe thead th {\n",
       "        text-align: right;\n",
       "    }\n",
       "</style>\n",
       "<table border=\"1\" class=\"dataframe\">\n",
       "  <thead>\n",
       "    <tr style=\"text-align: right;\">\n",
       "      <th></th>\n",
       "      <th>index</th>\n",
       "      <th>Symbol</th>\n",
       "      <th>Train_Len</th>\n",
       "      <th>Test_Len</th>\n",
       "      <th>MAE</th>\n",
       "      <th>RMSE</th>\n",
       "    </tr>\n",
       "  </thead>\n",
       "  <tbody>\n",
       "  </tbody>\n",
       "</table>\n",
       "</div>"
      ],
      "text/plain": [
       "Empty DataFrame\n",
       "Columns: [index, Symbol, Train_Len, Test_Len, MAE, RMSE]\n",
       "Index: []"
      ]
     },
     "execution_count": 71,
     "metadata": {},
     "output_type": "execute_result"
    }
   ],
   "source": [
    "cols2=['Symbol','Train_Len','Test_Len','MAE','RMSE']\n",
    "reslts = pd.DataFrame(columns=cols2)\n",
    "reslts.reset_index()"
   ]
  },
  {
   "cell_type": "code",
   "execution_count": 72,
   "metadata": {
    "scrolled": false
   },
   "outputs": [
    {
     "name": "stderr",
     "output_type": "stream",
     "text": [
      "INFO:fbprophet:Disabling daily seasonality. Run prophet with daily_seasonality=True to override this.\n"
     ]
    },
    {
     "name": "stdout",
     "output_type": "stream",
     "text": [
      "Processing:  yfinance.Ticker object <CAT>\n"
     ]
    },
    {
     "name": "stderr",
     "output_type": "stream",
     "text": [
      "INFO:prophet:Making 98 forecasts with cutoffs between 2019-08-16 00:00:00 and 2021-06-25 00:00:00\n",
      "WARNING:prophet:Seasonality has period of 365.25 days which is larger than initial window. Consider increasing initial.\n"
     ]
    },
    {
     "data": {
      "application/vnd.jupyter.widget-view+json": {
       "model_id": "bc5d37cb34b3448d9a4eb28cd51a7c9c",
       "version_major": 2,
       "version_minor": 0
      },
      "text/plain": [
       "  0%|          | 0/98 [00:00<?, ?it/s]"
      ]
     },
     "metadata": {},
     "output_type": "display_data"
    },
    {
     "name": "stderr",
     "output_type": "stream",
     "text": [
      "INFO:fbprophet:n_changepoints greater than number of observations. Using 17.\n",
      "INFO:fbprophet:n_changepoints greater than number of observations. Using 21.\n",
      "WARNING:fbprophet:Optimization terminated abnormally. Falling back to Newton.\n",
      "WARNING:fbprophet:Optimization terminated abnormally. Falling back to Newton.\n",
      "WARNING:fbprophet:Optimization terminated abnormally. Falling back to Newton.\n",
      "INFO:prophet:Making 49 forecasts with cutoffs between 2019-08-23 00:00:00 and 2021-06-25 00:00:00\n",
      "WARNING:prophet:Seasonality has period of 365.25 days which is larger than initial window. Consider increasing initial.\n"
     ]
    },
    {
     "name": "stdout",
     "output_type": "stream",
     "text": [
      "Training:  30 days\n",
      "Testing:  7 days\n",
      "   horizon            mse        rmse         mae      mape     mdape  \\\n",
      "9  17 days   28891.650433  169.975441   67.785273  0.512688  0.147571   \n",
      "10 18 days   44742.635870  211.524551   83.430693  0.634614  0.122784   \n",
      "11 19 days   59091.557107  243.087550   95.165131  0.725074  0.127461   \n",
      "12 20 days   77139.146637  277.739350  107.107750  0.817530  0.121448   \n",
      "13 21 days  100268.751544  316.652414  121.498740  0.919880  0.124687   \n",
      "\n",
      "       smape  coverage  \n",
      "9   0.346770  0.144589  \n",
      "10  0.381358  0.140410  \n",
      "11  0.404467  0.137791  \n",
      "12  0.423638  0.114140  \n",
      "13  0.449563  0.085106  \n"
     ]
    },
    {
     "data": {
      "application/vnd.jupyter.widget-view+json": {
       "model_id": "0de67c0e9d24471b9b9520acb95539b2",
       "version_major": 2,
       "version_minor": 0
      },
      "text/plain": [
       "  0%|          | 0/49 [00:00<?, ?it/s]"
      ]
     },
     "metadata": {},
     "output_type": "display_data"
    },
    {
     "name": "stderr",
     "output_type": "stream",
     "text": [
      "INFO:fbprophet:n_changepoints greater than number of observations. Using 21.\n",
      "WARNING:fbprophet:Optimization terminated abnormally. Falling back to Newton.\n",
      "WARNING:fbprophet:Optimization terminated abnormally. Falling back to Newton.\n",
      "INFO:prophet:Making 33 forecasts with cutoffs between 2019-08-23 00:00:00 and 2021-06-25 00:00:00\n",
      "WARNING:prophet:Seasonality has period of 365.25 days which is larger than initial window. Consider increasing initial.\n"
     ]
    },
    {
     "name": "stdout",
     "output_type": "stream",
     "text": [
      "Training:  30 days\n",
      "Testing:  14 days\n",
      "   horizon           mse        rmse         mae      mape     mdape  \\\n",
      "9  17 days  20135.897895  141.901014   67.814899  0.517443  0.133912   \n",
      "10 18 days  30454.111940  174.511065   80.833292  0.613907  0.142222   \n",
      "11 19 days  40273.786515  200.683299   90.640234  0.684201  0.135955   \n",
      "12 20 days  51851.757006  227.709809  100.457982  0.756417  0.156703   \n",
      "13 21 days  68408.400259  261.549996  114.342157  0.851804  0.149690   \n",
      "\n",
      "       smape  coverage  \n",
      "9   0.403526  0.134852  \n",
      "10  0.425865  0.138148  \n",
      "11  0.441064  0.116700  \n",
      "12  0.456275  0.102700  \n",
      "13  0.483995  0.078183  \n"
     ]
    },
    {
     "data": {
      "application/vnd.jupyter.widget-view+json": {
       "model_id": "7b5fc3ecb19143c6bfa4143f96168491",
       "version_major": 2,
       "version_minor": 0
      },
      "text/plain": [
       "  0%|          | 0/33 [00:00<?, ?it/s]"
      ]
     },
     "metadata": {},
     "output_type": "display_data"
    },
    {
     "name": "stderr",
     "output_type": "stream",
     "text": [
      "INFO:fbprophet:n_changepoints greater than number of observations. Using 21.\n",
      "WARNING:fbprophet:Optimization terminated abnormally. Falling back to Newton.\n",
      "INFO:prophet:Making 93 forecasts with cutoffs between 2019-09-20 00:00:00 and 2021-06-25 00:00:00\n",
      "WARNING:prophet:Seasonality has period of 365.25 days which is larger than initial window. Consider increasing initial.\n"
     ]
    },
    {
     "name": "stdout",
     "output_type": "stream",
     "text": [
      "Training:  30 days\n",
      "Testing:  21 days\n",
      "   horizon           mse        rmse        mae      mape     mdape     smape  \\\n",
      "9  17 days   7137.941492   84.486339  46.573929  0.347437  0.122722  0.315388   \n",
      "10 18 days  10259.453287  101.288959  55.036959  0.411202  0.122722  0.342257   \n",
      "11 19 days  13189.003279  114.843386  62.036748  0.462232  0.137418  0.369027   \n",
      "12 20 days  16638.951838  128.992061  68.884027  0.518012  0.137994  0.396194   \n",
      "13 21 days  21372.094989  146.191980  77.645522  0.581319  0.162528  0.430792   \n",
      "\n",
      "    coverage  \n",
      "9   0.159574  \n",
      "10  0.123542  \n",
      "11  0.123791  \n",
      "12  0.125000  \n",
      "13  0.130319  \n"
     ]
    },
    {
     "data": {
      "application/vnd.jupyter.widget-view+json": {
       "model_id": "a81850f1f1384b9a840600105a3464ff",
       "version_major": 2,
       "version_minor": 0
      },
      "text/plain": [
       "  0%|          | 0/93 [00:00<?, ?it/s]"
      ]
     },
     "metadata": {},
     "output_type": "display_data"
    },
    {
     "name": "stderr",
     "output_type": "stream",
     "text": [
      "WARNING:fbprophet:Optimization terminated abnormally. Falling back to Newton.\n",
      "WARNING:fbprophet:Optimization terminated abnormally. Falling back to Newton.\n",
      "WARNING:fbprophet:Optimization terminated abnormally. Falling back to Newton.\n",
      "INFO:prophet:Making 47 forecasts with cutoffs between 2019-09-20 00:00:00 and 2021-06-25 00:00:00\n",
      "WARNING:prophet:Seasonality has period of 365.25 days which is larger than initial window. Consider increasing initial.\n"
     ]
    },
    {
     "name": "stdout",
     "output_type": "stream",
     "text": [
      "Training:  60 days\n",
      "Testing:  7 days\n",
      "   horizon           mse        rmse         mae      mape     mdape  \\\n",
      "9  17 days  25507.378782  159.710296   59.735094  0.445871  0.132742   \n",
      "10 18 days  38831.315734  197.056631   71.696652  0.535670  0.133729   \n",
      "11 19 days  51119.856983  226.097008   80.745788  0.602871  0.122387   \n",
      "12 20 days  67025.925550  258.893657   90.644153  0.678793  0.131322   \n",
      "13 21 days  87483.783596  295.776577  102.632189  0.760092  0.137177   \n",
      "\n",
      "       smape  coverage  \n",
      "9   0.307967  0.151883  \n",
      "10  0.336317  0.147673  \n",
      "11  0.354471  0.152784  \n",
      "12  0.370633  0.123995  \n",
      "13  0.392784  0.097425  \n"
     ]
    },
    {
     "data": {
      "application/vnd.jupyter.widget-view+json": {
       "model_id": "a982fd32bb96441ab519335f7d77f785",
       "version_major": 2,
       "version_minor": 0
      },
      "text/plain": [
       "  0%|          | 0/47 [00:00<?, ?it/s]"
      ]
     },
     "metadata": {},
     "output_type": "display_data"
    },
    {
     "name": "stderr",
     "output_type": "stream",
     "text": [
      "WARNING:fbprophet:Optimization terminated abnormally. Falling back to Newton.\n",
      "WARNING:fbprophet:Optimization terminated abnormally. Falling back to Newton.\n",
      "INFO:prophet:Making 31 forecasts with cutoffs between 2019-10-04 00:00:00 and 2021-06-25 00:00:00\n",
      "WARNING:prophet:Seasonality has period of 365.25 days which is larger than initial window. Consider increasing initial.\n"
     ]
    },
    {
     "name": "stdout",
     "output_type": "stream",
     "text": [
      "Training:  60 days\n",
      "Testing:  14 days\n",
      "   horizon           mse        rmse         mae      mape     mdape  \\\n",
      "9  17 days  19738.350948  140.493242   64.608356  0.488900  0.145206   \n",
      "10 18 days  29790.183786  172.598331   76.588844  0.577505  0.137400   \n",
      "11 19 days  39347.035701  198.360872   85.606561  0.642256  0.135151   \n",
      "12 20 days  50633.223858  225.018274   94.637173  0.707866  0.130896   \n",
      "13 21 days  66867.988985  258.588455  107.546942  0.795310  0.152299   \n",
      "\n",
      "       smape  coverage  \n",
      "9   0.369546  0.140850  \n",
      "10  0.392210  0.144118  \n",
      "11  0.407133  0.121715  \n",
      "12  0.422279  0.107097  \n",
      "13  0.448955  0.081665  \n"
     ]
    },
    {
     "data": {
      "application/vnd.jupyter.widget-view+json": {
       "model_id": "8bddc7afff244b8c88bd6539b295d68b",
       "version_major": 2,
       "version_minor": 0
      },
      "text/plain": [
       "  0%|          | 0/31 [00:00<?, ?it/s]"
      ]
     },
     "metadata": {},
     "output_type": "display_data"
    },
    {
     "name": "stderr",
     "output_type": "stream",
     "text": [
      "WARNING:fbprophet:Optimization terminated abnormally. Falling back to Newton.\n",
      "INFO:prophet:Making 76 forecasts with cutoffs between 2020-01-17 00:00:00 and 2021-06-25 00:00:00\n",
      "WARNING:prophet:Seasonality has period of 365.25 days which is larger than initial window. Consider increasing initial.\n"
     ]
    },
    {
     "name": "stdout",
     "output_type": "stream",
     "text": [
      "Training:  60 days\n",
      "Testing:  21 days\n",
      "   horizon           mse        rmse        mae      mape     mdape     smape  \\\n",
      "9  17 days   5553.717363   74.523267  39.506296  0.286039  0.110970  0.240353   \n",
      "10 18 days   7812.079721   88.385970  46.201863  0.336290  0.095279  0.263481   \n",
      "11 19 days   9876.906347   99.382626  51.854774  0.377349  0.096605  0.285853   \n",
      "12 20 days  12294.607628  110.881052  57.188922  0.420738  0.111415  0.307286   \n",
      "13 21 days  15596.756115  124.886973  63.940406  0.468325  0.129353  0.332675   \n",
      "\n",
      "    coverage  \n",
      "9   0.193182  \n",
      "10  0.141850  \n",
      "11  0.131965  \n",
      "12  0.133333  \n",
      "13  0.139394  \n"
     ]
    },
    {
     "data": {
      "application/vnd.jupyter.widget-view+json": {
       "model_id": "7c44b8222ce14f699bd0e35a077223b6",
       "version_major": 2,
       "version_minor": 0
      },
      "text/plain": [
       "  0%|          | 0/76 [00:00<?, ?it/s]"
      ]
     },
     "metadata": {},
     "output_type": "display_data"
    },
    {
     "name": "stderr",
     "output_type": "stream",
     "text": [
      "WARNING:fbprophet:Optimization terminated abnormally. Falling back to Newton.\n",
      "WARNING:fbprophet:Optimization terminated abnormally. Falling back to Newton.\n",
      "WARNING:fbprophet:Optimization terminated abnormally. Falling back to Newton.\n",
      "INFO:prophet:Making 38 forecasts with cutoffs between 2020-01-24 00:00:00 and 2021-06-25 00:00:00\n",
      "WARNING:prophet:Seasonality has period of 365.25 days which is larger than initial window. Consider increasing initial.\n"
     ]
    },
    {
     "name": "stdout",
     "output_type": "stream",
     "text": [
      "Training:  180 days\n",
      "Testing:  7 days\n",
      "   horizon          mse       rmse        mae      mape     mdape     smape  \\\n",
      "9  17 days  1618.375302  40.229036  25.752691  0.193847  0.087409  0.194740   \n",
      "10 18 days  2227.116509  47.192335  28.834391  0.218574  0.090810  0.218515   \n",
      "11 19 days  2704.000144  52.000001  31.182558  0.235315  0.113453  0.235358   \n",
      "12 20 days  3048.004734  55.208738  33.043712  0.249891  0.119090  0.249068   \n",
      "13 21 days  3538.074674  59.481717  35.455735  0.269309  0.107072  0.267164   \n",
      "\n",
      "    coverage  \n",
      "9   0.173496  \n",
      "10  0.167457  \n",
      "11  0.161962  \n",
      "12  0.141148  \n",
      "13  0.101818  \n"
     ]
    },
    {
     "data": {
      "application/vnd.jupyter.widget-view+json": {
       "model_id": "a1893fc547f540d1a61c4e40b92c5fcb",
       "version_major": 2,
       "version_minor": 0
      },
      "text/plain": [
       "  0%|          | 0/38 [00:00<?, ?it/s]"
      ]
     },
     "metadata": {},
     "output_type": "display_data"
    },
    {
     "name": "stderr",
     "output_type": "stream",
     "text": [
      "WARNING:fbprophet:Optimization terminated abnormally. Falling back to Newton.\n",
      "WARNING:fbprophet:Optimization terminated abnormally. Falling back to Newton.\n",
      "INFO:prophet:Making 26 forecasts with cutoffs between 2020-01-17 00:00:00 and 2021-06-25 00:00:00\n",
      "WARNING:prophet:Seasonality has period of 365.25 days which is larger than initial window. Consider increasing initial.\n"
     ]
    },
    {
     "name": "stdout",
     "output_type": "stream",
     "text": [
      "Training:  180 days\n",
      "Testing:  14 days\n",
      "   horizon          mse       rmse        mae      mape     mdape     smape  \\\n",
      "9  17 days  2148.708407  46.354163  29.752442  0.231327  0.122722  0.233293   \n",
      "10 18 days  2533.364531  50.332539  31.923330  0.246734  0.097319  0.253938   \n",
      "11 19 days  2778.281557  52.709407  33.195441  0.253848  0.120468  0.263259   \n",
      "12 20 days  3058.378215  55.302606  34.874836  0.266326  0.121448  0.277671   \n",
      "13 21 days  3577.480914  59.812047  37.477763  0.286279  0.127766  0.300052   \n",
      "\n",
      "    coverage  \n",
      "9   0.148485  \n",
      "10  0.152020  \n",
      "11  0.139713  \n",
      "12  0.131579  \n",
      "13  0.084211  \n"
     ]
    },
    {
     "data": {
      "application/vnd.jupyter.widget-view+json": {
       "model_id": "7ca6473ec1e24949ad9f41cf5805991e",
       "version_major": 2,
       "version_minor": 0
      },
      "text/plain": [
       "  0%|          | 0/26 [00:00<?, ?it/s]"
      ]
     },
     "metadata": {},
     "output_type": "display_data"
    },
    {
     "name": "stderr",
     "output_type": "stream",
     "text": [
      "WARNING:fbprophet:Optimization terminated abnormally. Falling back to Newton.\n"
     ]
    },
    {
     "name": "stdout",
     "output_type": "stream",
     "text": [
      "Training:  180 days\n",
      "Testing:  21 days\n",
      "   horizon          mse       rmse        mae      mape     mdape     smape  \\\n",
      "9  17 days   917.370122  30.288118  21.197555  0.148239  0.079745  0.138023   \n",
      "10 18 days  1130.526804  33.623307  23.698098  0.167871  0.093238  0.157000   \n",
      "11 19 days  1311.140284  36.209671  25.780871  0.182509  0.092079  0.173004   \n",
      "12 20 days  1567.911619  39.596864  27.975314  0.202473  0.097282  0.192589   \n",
      "13 21 days  1896.588242  43.549836  30.336997  0.221925  0.110518  0.213032   \n",
      "\n",
      "    coverage  \n",
      "9   0.233514  \n",
      "10  0.170045  \n",
      "11  0.153846  \n",
      "12  0.158004  \n",
      "13  0.168649  \n"
     ]
    }
   ],
   "source": [
    "results_CAT=tt_test_p('CAT',trains,tests)"
   ]
  },
  {
   "cell_type": "code",
   "execution_count": 73,
   "metadata": {},
   "outputs": [
    {
     "name": "stderr",
     "output_type": "stream",
     "text": [
      "INFO:fbprophet:Disabling daily seasonality. Run prophet with daily_seasonality=True to override this.\n"
     ]
    },
    {
     "name": "stdout",
     "output_type": "stream",
     "text": [
      "Processing:  yfinance.Ticker object <MMM>\n"
     ]
    },
    {
     "name": "stderr",
     "output_type": "stream",
     "text": [
      "INFO:prophet:Making 98 forecasts with cutoffs between 2019-08-16 00:00:00 and 2021-06-25 00:00:00\n",
      "WARNING:prophet:Seasonality has period of 365.25 days which is larger than initial window. Consider increasing initial.\n"
     ]
    },
    {
     "data": {
      "application/vnd.jupyter.widget-view+json": {
       "model_id": "604e500dcf2345f7a90d846069d49328",
       "version_major": 2,
       "version_minor": 0
      },
      "text/plain": [
       "  0%|          | 0/98 [00:00<?, ?it/s]"
      ]
     },
     "metadata": {},
     "output_type": "display_data"
    },
    {
     "name": "stderr",
     "output_type": "stream",
     "text": [
      "INFO:fbprophet:n_changepoints greater than number of observations. Using 17.\n",
      "INFO:fbprophet:n_changepoints greater than number of observations. Using 21.\n",
      "INFO:prophet:Making 49 forecasts with cutoffs between 2019-08-23 00:00:00 and 2021-06-25 00:00:00\n",
      "WARNING:prophet:Seasonality has period of 365.25 days which is larger than initial window. Consider increasing initial.\n"
     ]
    },
    {
     "name": "stdout",
     "output_type": "stream",
     "text": [
      "Training:  30 days\n",
      "Testing:  7 days\n",
      "   horizon            mse        rmse         mae      mape     mdape  \\\n",
      "9  17 days   44411.620226  210.740647   86.315315  0.550226  0.116660   \n",
      "10 18 days   70157.882568  264.873333  107.665764  0.685290  0.113403   \n",
      "11 19 days   93755.523249  306.195237  123.734568  0.788551  0.116644   \n",
      "12 20 days  112954.335999  336.086798  132.104624  0.843934  0.117332   \n",
      "13 21 days  156955.860242  396.176552  156.195967  0.991477  0.120737   \n",
      "\n",
      "       smape  coverage  \n",
      "9   0.344673  0.161900  \n",
      "10  0.371916  0.143597  \n",
      "11  0.393229  0.127442  \n",
      "12  0.396594  0.146277  \n",
      "13  0.419403  0.152482  \n"
     ]
    },
    {
     "data": {
      "application/vnd.jupyter.widget-view+json": {
       "model_id": "ddff9581720b4fa382b52ac451208c91",
       "version_major": 2,
       "version_minor": 0
      },
      "text/plain": [
       "  0%|          | 0/49 [00:00<?, ?it/s]"
      ]
     },
     "metadata": {},
     "output_type": "display_data"
    },
    {
     "name": "stderr",
     "output_type": "stream",
     "text": [
      "INFO:fbprophet:n_changepoints greater than number of observations. Using 21.\n",
      "INFO:prophet:Making 33 forecasts with cutoffs between 2019-08-23 00:00:00 and 2021-06-25 00:00:00\n",
      "WARNING:prophet:Seasonality has period of 365.25 days which is larger than initial window. Consider increasing initial.\n"
     ]
    },
    {
     "name": "stdout",
     "output_type": "stream",
     "text": [
      "Training:  30 days\n",
      "Testing:  14 days\n",
      "   horizon            mse        rmse         mae      mape     mdape  \\\n",
      "9  17 days   47540.288308  218.037355   92.834466  0.595793  0.120916   \n",
      "10 18 days   73911.866820  271.867370  113.381582  0.720980  0.113774   \n",
      "11 19 days   99523.707812  315.473783  129.013572  0.819596  0.113774   \n",
      "12 20 days  131067.833097  362.032917  145.337145  0.923352  0.135790   \n",
      "13 21 days  175675.614552  419.136749  168.006566  1.059921  0.131547   \n",
      "\n",
      "       smape  coverage  \n",
      "9   0.392807  0.163021  \n",
      "10  0.416773  0.165418  \n",
      "11  0.431410  0.179649  \n",
      "12  0.443963  0.184859  \n",
      "13  0.464580  0.191434  \n"
     ]
    },
    {
     "data": {
      "application/vnd.jupyter.widget-view+json": {
       "model_id": "c07ac7ac34d34bd7a75e6a823e663400",
       "version_major": 2,
       "version_minor": 0
      },
      "text/plain": [
       "  0%|          | 0/33 [00:00<?, ?it/s]"
      ]
     },
     "metadata": {},
     "output_type": "display_data"
    },
    {
     "name": "stderr",
     "output_type": "stream",
     "text": [
      "INFO:fbprophet:n_changepoints greater than number of observations. Using 21.\n",
      "INFO:prophet:Making 93 forecasts with cutoffs between 2019-09-20 00:00:00 and 2021-06-25 00:00:00\n",
      "WARNING:prophet:Seasonality has period of 365.25 days which is larger than initial window. Consider increasing initial.\n"
     ]
    },
    {
     "name": "stdout",
     "output_type": "stream",
     "text": [
      "Training:  30 days\n",
      "Testing:  21 days\n",
      "   horizon           mse        rmse         mae      mape     mdape  \\\n",
      "9  17 days  15733.989024  125.435199   57.266537  0.367628  0.105627   \n",
      "10 18 days  24292.129363  155.859326   70.493087  0.453330  0.109968   \n",
      "11 19 days  32800.412379  181.108841   82.108782  0.527609  0.111330   \n",
      "12 20 days  44149.038589  210.116726   95.055900  0.611669  0.118603   \n",
      "13 21 days  59727.249800  244.391591  110.100343  0.703867  0.130265   \n",
      "\n",
      "       smape  coverage  \n",
      "9   0.260880  0.180851  \n",
      "10  0.286205  0.121482  \n",
      "11  0.310084  0.071567  \n",
      "12  0.331466  0.105053  \n",
      "13  0.346638  0.130319  \n"
     ]
    },
    {
     "data": {
      "application/vnd.jupyter.widget-view+json": {
       "model_id": "88590c26e88b45b0b2145785bc0b113e",
       "version_major": 2,
       "version_minor": 0
      },
      "text/plain": [
       "  0%|          | 0/93 [00:00<?, ?it/s]"
      ]
     },
     "metadata": {},
     "output_type": "display_data"
    },
    {
     "name": "stderr",
     "output_type": "stream",
     "text": [
      "INFO:prophet:Making 47 forecasts with cutoffs between 2019-09-20 00:00:00 and 2021-06-25 00:00:00\n",
      "WARNING:prophet:Seasonality has period of 365.25 days which is larger than initial window. Consider increasing initial.\n"
     ]
    },
    {
     "name": "stdout",
     "output_type": "stream",
     "text": [
      "Training:  60 days\n",
      "Testing:  7 days\n",
      "   horizon            mse        rmse         mae      mape     mdape  \\\n",
      "9  17 days   37828.631886  194.495840   71.657373  0.456868  0.109144   \n",
      "10 18 days   58171.598948  241.187891   86.714077  0.549805  0.109666   \n",
      "11 19 days   77166.521046  277.788627   98.074614  0.621290  0.108850   \n",
      "12 20 days   91063.444593  301.767203  102.233408  0.650639  0.118992   \n",
      "13 21 days  129362.908413  359.670555  122.110384  0.771487  0.130213   \n",
      "\n",
      "       smape  coverage  \n",
      "9   0.301051  0.162653  \n",
      "10  0.321949  0.139947  \n",
      "11  0.338591  0.130958  \n",
      "12  0.339138  0.154256  \n",
      "13  0.359442  0.153600  \n"
     ]
    },
    {
     "data": {
      "application/vnd.jupyter.widget-view+json": {
       "model_id": "3bde5b1c6a6e4f00854b6745a282d703",
       "version_major": 2,
       "version_minor": 0
      },
      "text/plain": [
       "  0%|          | 0/47 [00:00<?, ?it/s]"
      ]
     },
     "metadata": {},
     "output_type": "display_data"
    },
    {
     "name": "stderr",
     "output_type": "stream",
     "text": [
      "INFO:prophet:Making 31 forecasts with cutoffs between 2019-10-04 00:00:00 and 2021-06-25 00:00:00\n",
      "WARNING:prophet:Seasonality has period of 365.25 days which is larger than initial window. Consider increasing initial.\n"
     ]
    },
    {
     "name": "stdout",
     "output_type": "stream",
     "text": [
      "Training:  60 days\n",
      "Testing:  14 days\n",
      "   horizon            mse        rmse         mae      mape     mdape  \\\n",
      "9  17 days   43291.266098  208.065533   82.288069  0.528227  0.124494   \n",
      "10 18 days   67373.589583  259.564230   99.837836  0.634984  0.111686   \n",
      "11 19 days   90880.419561  301.463795  113.160078  0.718817  0.119073   \n",
      "12 20 days  119845.609991  346.187247  127.065188  0.808099  0.127042   \n",
      "13 21 days  161094.597084  401.365914  146.555629  0.925382  0.132661   \n",
      "\n",
      "       smape  coverage  \n",
      "9   0.350837  0.170261  \n",
      "10  0.373657  0.157843  \n",
      "11  0.386879  0.180538  \n",
      "12  0.398454  0.178069  \n",
      "13  0.416602  0.192428  \n"
     ]
    },
    {
     "data": {
      "application/vnd.jupyter.widget-view+json": {
       "model_id": "e449cc98e70f459cb9a4d37eb4f90acf",
       "version_major": 2,
       "version_minor": 0
      },
      "text/plain": [
       "  0%|          | 0/31 [00:00<?, ?it/s]"
      ]
     },
     "metadata": {},
     "output_type": "display_data"
    },
    {
     "name": "stderr",
     "output_type": "stream",
     "text": [
      "INFO:prophet:Making 76 forecasts with cutoffs between 2020-01-17 00:00:00 and 2021-06-25 00:00:00\n",
      "WARNING:prophet:Seasonality has period of 365.25 days which is larger than initial window. Consider increasing initial.\n"
     ]
    },
    {
     "name": "stdout",
     "output_type": "stream",
     "text": [
      "Training:  60 days\n",
      "Testing:  21 days\n",
      "   horizon           mse        rmse        mae      mape     mdape     smape  \\\n",
      "9  17 days   4963.248543   70.450327  34.257950  0.219459  0.104235  0.177794   \n",
      "10 18 days   7979.540274   89.328273  41.938628  0.269331  0.104796  0.202766   \n",
      "11 19 days  11289.875145  106.253824  49.282980  0.314099  0.110176  0.225353   \n",
      "12 20 days  16160.157952  127.122610  57.450612  0.367957  0.117913  0.245124   \n",
      "13 21 days  23056.221711  151.842753  66.168099  0.420665  0.119334  0.255623   \n",
      "\n",
      "    coverage  \n",
      "9   0.193182  \n",
      "10  0.129310  \n",
      "11  0.076246  \n",
      "12  0.112121  \n",
      "13  0.139394  \n"
     ]
    },
    {
     "data": {
      "application/vnd.jupyter.widget-view+json": {
       "model_id": "3844c9c48ff1435fbd954c759e4954a2",
       "version_major": 2,
       "version_minor": 0
      },
      "text/plain": [
       "  0%|          | 0/76 [00:00<?, ?it/s]"
      ]
     },
     "metadata": {},
     "output_type": "display_data"
    },
    {
     "name": "stderr",
     "output_type": "stream",
     "text": [
      "INFO:prophet:Making 38 forecasts with cutoffs between 2020-01-24 00:00:00 and 2021-06-25 00:00:00\n",
      "WARNING:prophet:Seasonality has period of 365.25 days which is larger than initial window. Consider increasing initial.\n"
     ]
    },
    {
     "name": "stdout",
     "output_type": "stream",
     "text": [
      "Training:  180 days\n",
      "Testing:  7 days\n",
      "   horizon          mse       rmse        mae      mape     mdape     smape  \\\n",
      "9  17 days  1904.347017  43.638825  24.525507  0.164893  0.078772  0.172623   \n",
      "10 18 days  2359.466267  48.574338  26.839414  0.178654  0.097269  0.192223   \n",
      "11 19 days  2674.966976  51.720083  28.673532  0.189151  0.100414  0.206745   \n",
      "12 20 days  2916.840638  54.007783  29.594021  0.195940  0.109858  0.213802   \n",
      "13 21 days  3289.598726  57.355024  30.710796  0.203864  0.099523  0.220181   \n",
      "\n",
      "    coverage  \n",
      "9   0.209859  \n",
      "10  0.185375  \n",
      "11  0.161962  \n",
      "12  0.186603  \n",
      "13  0.198182  \n"
     ]
    },
    {
     "data": {
      "application/vnd.jupyter.widget-view+json": {
       "model_id": "5d152e1100964646a6b00ecf1b37ca7f",
       "version_major": 2,
       "version_minor": 0
      },
      "text/plain": [
       "  0%|          | 0/38 [00:00<?, ?it/s]"
      ]
     },
     "metadata": {},
     "output_type": "display_data"
    },
    {
     "name": "stderr",
     "output_type": "stream",
     "text": [
      "INFO:prophet:Making 26 forecasts with cutoffs between 2020-01-17 00:00:00 and 2021-06-25 00:00:00\n",
      "WARNING:prophet:Seasonality has period of 365.25 days which is larger than initial window. Consider increasing initial.\n"
     ]
    },
    {
     "name": "stdout",
     "output_type": "stream",
     "text": [
      "Training:  180 days\n",
      "Testing:  14 days\n",
      "   horizon          mse       rmse        mae      mape     mdape     smape  \\\n",
      "9  17 days  3190.006074  56.480139  31.481242  0.218153  0.104315  0.226356   \n",
      "10 18 days  3818.221398  61.791758  33.619703  0.228817  0.101590  0.239544   \n",
      "11 19 days  4211.727856  64.897826  35.046795  0.235683  0.101060  0.246335   \n",
      "12 20 days  4532.869624  67.326589  36.169038  0.244403  0.118603  0.251144   \n",
      "13 21 days  5250.962403  72.463525  38.307936  0.258636  0.107577  0.259149   \n",
      "\n",
      "    coverage  \n",
      "9   0.212626  \n",
      "10  0.195960  \n",
      "11  0.220574  \n",
      "12  0.218660  \n",
      "13  0.240191  \n"
     ]
    },
    {
     "data": {
      "application/vnd.jupyter.widget-view+json": {
       "model_id": "a17a089850514042835b81581e252a5f",
       "version_major": 2,
       "version_minor": 0
      },
      "text/plain": [
       "  0%|          | 0/26 [00:00<?, ?it/s]"
      ]
     },
     "metadata": {},
     "output_type": "display_data"
    },
    {
     "name": "stdout",
     "output_type": "stream",
     "text": [
      "Training:  180 days\n",
      "Testing:  21 days\n",
      "   horizon          mse       rmse        mae      mape     mdape     smape  \\\n",
      "9  17 days  1099.527924  33.159130  21.458755  0.140736  0.080496  0.137508   \n",
      "10 18 days  1306.972881  36.152080  23.427357  0.153627  0.092611  0.149269   \n",
      "11 19 days  1435.586721  37.889137  25.368975  0.164330  0.107731  0.160146   \n",
      "12 20 days  1561.755673  39.519055  26.427304  0.170915  0.112249  0.166293   \n",
      "13 21 days  1636.279799  40.450955  25.870957  0.169394  0.108204  0.160961   \n",
      "\n",
      "    coverage  \n",
      "9   0.232432  \n",
      "10  0.155405  \n",
      "11  0.088358  \n",
      "12  0.133056  \n",
      "13  0.168649  \n"
     ]
    }
   ],
   "source": [
    "results_MMM=tt_test_p('MMM',trains,tests)"
   ]
  },
  {
   "cell_type": "code",
   "execution_count": 74,
   "metadata": {},
   "outputs": [
    {
     "name": "stderr",
     "output_type": "stream",
     "text": [
      "INFO:fbprophet:Disabling daily seasonality. Run prophet with daily_seasonality=True to override this.\n"
     ]
    },
    {
     "name": "stdout",
     "output_type": "stream",
     "text": [
      "Processing:  yfinance.Ticker object <AXP>\n"
     ]
    },
    {
     "name": "stderr",
     "output_type": "stream",
     "text": [
      "INFO:prophet:Making 98 forecasts with cutoffs between 2019-08-16 00:00:00 and 2021-06-25 00:00:00\n",
      "WARNING:prophet:Seasonality has period of 365.25 days which is larger than initial window. Consider increasing initial.\n"
     ]
    },
    {
     "data": {
      "application/vnd.jupyter.widget-view+json": {
       "model_id": "e49b1ff00baa44d9932f9d341b9ff6e5",
       "version_major": 2,
       "version_minor": 0
      },
      "text/plain": [
       "  0%|          | 0/98 [00:00<?, ?it/s]"
      ]
     },
     "metadata": {},
     "output_type": "display_data"
    },
    {
     "name": "stderr",
     "output_type": "stream",
     "text": [
      "INFO:fbprophet:n_changepoints greater than number of observations. Using 17.\n",
      "INFO:fbprophet:n_changepoints greater than number of observations. Using 21.\n",
      "INFO:prophet:Making 49 forecasts with cutoffs between 2019-08-23 00:00:00 and 2021-06-25 00:00:00\n",
      "WARNING:prophet:Seasonality has period of 365.25 days which is larger than initial window. Consider increasing initial.\n"
     ]
    },
    {
     "name": "stdout",
     "output_type": "stream",
     "text": [
      "Training:  30 days\n",
      "Testing:  7 days\n",
      "   horizon           mse        rmse         mae      mape     mdape  \\\n",
      "9  17 days  23647.628226  153.777853   67.116660  0.602233  0.129498   \n",
      "10 18 days  40470.715190  201.173346   85.254857  0.760096  0.129388   \n",
      "11 19 days  56308.590407  237.294312   99.095647  0.879236  0.129791   \n",
      "12 20 days  72435.482001  269.138407  108.302539  0.955868  0.107653   \n",
      "13 21 days  98540.564146  313.911714  126.481259  1.109956  0.121722   \n",
      "\n",
      "       smape  coverage  \n",
      "9   0.378906  0.177763  \n",
      "10  0.406776  0.186150  \n",
      "11  0.424828  0.217904  \n",
      "12  0.421167  0.222074  \n",
      "13  0.436682  0.187943  \n"
     ]
    },
    {
     "data": {
      "application/vnd.jupyter.widget-view+json": {
       "model_id": "221606e5be4d463a8668d40cf43f67fe",
       "version_major": 2,
       "version_minor": 0
      },
      "text/plain": [
       "  0%|          | 0/49 [00:00<?, ?it/s]"
      ]
     },
     "metadata": {},
     "output_type": "display_data"
    },
    {
     "name": "stderr",
     "output_type": "stream",
     "text": [
      "INFO:fbprophet:n_changepoints greater than number of observations. Using 21.\n",
      "INFO:prophet:Making 33 forecasts with cutoffs between 2019-08-23 00:00:00 and 2021-06-25 00:00:00\n",
      "WARNING:prophet:Seasonality has period of 365.25 days which is larger than initial window. Consider increasing initial.\n"
     ]
    },
    {
     "name": "stdout",
     "output_type": "stream",
     "text": [
      "Training:  30 days\n",
      "Testing:  14 days\n",
      "   horizon            mse        rmse         mae      mape     mdape  \\\n",
      "9  17 days   35069.008483  187.267211   84.111900  0.768368  0.101171   \n",
      "10 18 days   53606.202627  231.530133  101.988162  0.921384  0.129388   \n",
      "11 19 days   71451.498940  267.304132  115.667042  1.033934  0.129388   \n",
      "12 20 days   93010.568281  304.976341  128.860973  1.142477  0.140180   \n",
      "13 21 days  123212.247577  351.016022  147.790952  1.302415  0.129961   \n",
      "\n",
      "       smape  coverage  \n",
      "9   0.439564  0.205574  \n",
      "10  0.451178  0.206773  \n",
      "11  0.460453  0.192872  \n",
      "12  0.460468  0.213028  \n",
      "13  0.467338  0.191722  \n"
     ]
    },
    {
     "data": {
      "application/vnd.jupyter.widget-view+json": {
       "model_id": "a334950881424ab0b4f45c26e8abb2f0",
       "version_major": 2,
       "version_minor": 0
      },
      "text/plain": [
       "  0%|          | 0/33 [00:00<?, ?it/s]"
      ]
     },
     "metadata": {},
     "output_type": "display_data"
    },
    {
     "name": "stderr",
     "output_type": "stream",
     "text": [
      "INFO:fbprophet:n_changepoints greater than number of observations. Using 21.\n",
      "INFO:prophet:Making 93 forecasts with cutoffs between 2019-09-20 00:00:00 and 2021-06-25 00:00:00\n",
      "WARNING:prophet:Seasonality has period of 365.25 days which is larger than initial window. Consider increasing initial.\n"
     ]
    },
    {
     "name": "stdout",
     "output_type": "stream",
     "text": [
      "Training:  30 days\n",
      "Testing:  21 days\n",
      "   horizon            mse        rmse         mae      mape     mdape  \\\n",
      "9  17 days   29001.232349  170.297482   71.603070  0.630234  0.115487   \n",
      "10 18 days   45540.588477  213.402410   86.992898  0.767071  0.120512   \n",
      "11 19 days   62367.827443  249.735515   98.995968  0.878453  0.123607   \n",
      "12 20 days   84409.318627  290.532819  112.548440  0.996471  0.097196   \n",
      "13 21 days  114901.288131  338.970925  128.818005  1.133720  0.118977   \n",
      "\n",
      "       smape  coverage  \n",
      "9   0.374987  0.212766  \n",
      "10  0.389584  0.249142  \n",
      "11  0.400398  0.278530  \n",
      "12  0.410194  0.259973  \n",
      "13  0.403366  0.196809  \n"
     ]
    },
    {
     "data": {
      "application/vnd.jupyter.widget-view+json": {
       "model_id": "2aa79d2ddabe4c5eae1d1dfa8eb9975a",
       "version_major": 2,
       "version_minor": 0
      },
      "text/plain": [
       "  0%|          | 0/93 [00:00<?, ?it/s]"
      ]
     },
     "metadata": {},
     "output_type": "display_data"
    },
    {
     "name": "stderr",
     "output_type": "stream",
     "text": [
      "INFO:prophet:Making 47 forecasts with cutoffs between 2019-09-20 00:00:00 and 2021-06-25 00:00:00\n",
      "WARNING:prophet:Seasonality has period of 365.25 days which is larger than initial window. Consider increasing initial.\n"
     ]
    },
    {
     "name": "stdout",
     "output_type": "stream",
     "text": [
      "Training:  60 days\n",
      "Testing:  7 days\n",
      "   horizon           mse        rmse        mae      mape     mdape     smape  \\\n",
      "9  17 days  16509.037731  128.487500  53.745239  0.487607  0.107762  0.339270   \n",
      "10 18 days  25381.021394  159.314222  64.755292  0.581636  0.127548  0.361445   \n",
      "11 19 days  33875.897100  184.054060  73.031875  0.652066  0.117767  0.374716   \n",
      "12 20 days  42326.810330  205.734806  77.914068  0.692984  0.115018  0.368487   \n",
      "13 21 days  58760.211914  242.405058  91.409200  0.807048  0.138302  0.381881   \n",
      "\n",
      "    coverage  \n",
      "9   0.183429  \n",
      "10  0.184723  \n",
      "11  0.211363  \n",
      "12  0.227243  \n",
      "13  0.198622  \n"
     ]
    },
    {
     "data": {
      "application/vnd.jupyter.widget-view+json": {
       "model_id": "c5d71adec39446c88cca94301eb6a40e",
       "version_major": 2,
       "version_minor": 0
      },
      "text/plain": [
       "  0%|          | 0/47 [00:00<?, ?it/s]"
      ]
     },
     "metadata": {},
     "output_type": "display_data"
    },
    {
     "name": "stderr",
     "output_type": "stream",
     "text": [
      "INFO:prophet:Making 31 forecasts with cutoffs between 2019-10-04 00:00:00 and 2021-06-25 00:00:00\n",
      "WARNING:prophet:Seasonality has period of 365.25 days which is larger than initial window. Consider increasing initial.\n"
     ]
    },
    {
     "name": "stdout",
     "output_type": "stream",
     "text": [
      "Training:  60 days\n",
      "Testing:  14 days\n",
      "   horizon           mse        rmse         mae      mape     mdape  \\\n",
      "9  17 days  22319.852738  149.398302   64.013856  0.596324  0.103725   \n",
      "10 18 days  33560.569666  183.195441   76.291928  0.698366  0.110714   \n",
      "11 19 days  44267.977118  210.399565   85.596950  0.772685  0.129984   \n",
      "12 20 days  57053.059524  238.857823   94.214742  0.842858  0.110219   \n",
      "13 21 days  75039.632900  273.933629  106.906699  0.949034  0.127952   \n",
      "\n",
      "       smape  coverage  \n",
      "9   0.386727  0.229739  \n",
      "10  0.397467  0.215686  \n",
      "11  0.405764  0.201189  \n",
      "12  0.404988  0.222187  \n",
      "13  0.409024  0.200250  \n"
     ]
    },
    {
     "data": {
      "application/vnd.jupyter.widget-view+json": {
       "model_id": "5217526dc9314225862c56799d881a60",
       "version_major": 2,
       "version_minor": 0
      },
      "text/plain": [
       "  0%|          | 0/31 [00:00<?, ?it/s]"
      ]
     },
     "metadata": {},
     "output_type": "display_data"
    },
    {
     "name": "stderr",
     "output_type": "stream",
     "text": [
      "INFO:prophet:Making 76 forecasts with cutoffs between 2020-01-17 00:00:00 and 2021-06-25 00:00:00\n",
      "WARNING:prophet:Seasonality has period of 365.25 days which is larger than initial window. Consider increasing initial.\n"
     ]
    },
    {
     "name": "stdout",
     "output_type": "stream",
     "text": [
      "Training:  60 days\n",
      "Testing:  21 days\n",
      "   horizon           mse        rmse        mae      mape     mdape     smape  \\\n",
      "9  17 days  14055.609824  118.556357  48.641594  0.433343  0.095412  0.306170   \n",
      "10 18 days  22610.958420  150.369407  58.493480  0.518197  0.117651  0.321137   \n",
      "11 19 days  31617.205921  177.812277  66.092385  0.589445  0.110714  0.330652   \n",
      "12 20 days  43726.974712  209.109958  74.761538  0.666607  0.091767  0.339123   \n",
      "13 21 days  60784.739630  246.545614  84.723719  0.750749  0.108314  0.328217   \n",
      "\n",
      "    coverage  \n",
      "9   0.227273  \n",
      "10  0.265674  \n",
      "11  0.296921  \n",
      "12  0.277273  \n",
      "13  0.210606  \n"
     ]
    },
    {
     "data": {
      "application/vnd.jupyter.widget-view+json": {
       "model_id": "a8e3a230eae445ac9a54394bf38c7bc0",
       "version_major": 2,
       "version_minor": 0
      },
      "text/plain": [
       "  0%|          | 0/76 [00:00<?, ?it/s]"
      ]
     },
     "metadata": {},
     "output_type": "display_data"
    },
    {
     "name": "stderr",
     "output_type": "stream",
     "text": [
      "INFO:prophet:Making 38 forecasts with cutoffs between 2020-01-24 00:00:00 and 2021-06-25 00:00:00\n",
      "WARNING:prophet:Seasonality has period of 365.25 days which is larger than initial window. Consider increasing initial.\n"
     ]
    },
    {
     "name": "stdout",
     "output_type": "stream",
     "text": [
      "Training:  180 days\n",
      "Testing:  7 days\n",
      "   horizon          mse       rmse        mae      mape     mdape     smape  \\\n",
      "9  17 days  1559.708657  39.493147  21.719578  0.217039  0.096089  0.213488   \n",
      "10 18 days  1779.352424  42.182371  23.383630  0.229288  0.107143  0.223398   \n",
      "11 19 days  1882.830547  43.391595  24.310855  0.235188  0.107877  0.230554   \n",
      "12 20 days  2069.922049  45.496396  25.092623  0.242762  0.120747  0.236067   \n",
      "13 21 days  2309.121741  48.053322  26.057356  0.253615  0.093330  0.239422   \n",
      "\n",
      "    coverage  \n",
      "9   0.230858  \n",
      "10  0.239921  \n",
      "11  0.268182  \n",
      "12  0.278828  \n",
      "13  0.244727  \n"
     ]
    },
    {
     "data": {
      "application/vnd.jupyter.widget-view+json": {
       "model_id": "02a56f824a134acbb8b8159b5532ade5",
       "version_major": 2,
       "version_minor": 0
      },
      "text/plain": [
       "  0%|          | 0/38 [00:00<?, ?it/s]"
      ]
     },
     "metadata": {},
     "output_type": "display_data"
    },
    {
     "name": "stderr",
     "output_type": "stream",
     "text": [
      "INFO:prophet:Making 26 forecasts with cutoffs between 2020-01-17 00:00:00 and 2021-06-25 00:00:00\n",
      "WARNING:prophet:Seasonality has period of 365.25 days which is larger than initial window. Consider increasing initial.\n"
     ]
    },
    {
     "name": "stdout",
     "output_type": "stream",
     "text": [
      "Training:  180 days\n",
      "Testing:  14 days\n",
      "   horizon          mse       rmse        mae      mape     mdape     smape  \\\n",
      "9  17 days  2311.967888  48.082927  25.133538  0.268730  0.082775  0.240851   \n",
      "10 18 days  2670.115634  51.673162  27.241892  0.279303  0.090059  0.252608   \n",
      "11 19 days  2862.145396  53.499022  28.331410  0.279324  0.098504  0.258605   \n",
      "12 20 days  3139.779358  56.033734  29.075794  0.283907  0.106548  0.261463   \n",
      "13 21 days  3620.674214  60.172038  30.621478  0.299758  0.118977  0.262502   \n",
      "\n",
      "    coverage  \n",
      "9   0.277778  \n",
      "10  0.267677  \n",
      "11  0.263158  \n",
      "12  0.263158  \n",
      "13  0.222967  \n"
     ]
    },
    {
     "data": {
      "application/vnd.jupyter.widget-view+json": {
       "model_id": "19a70fe98e85418c801138ca74c45626",
       "version_major": 2,
       "version_minor": 0
      },
      "text/plain": [
       "  0%|          | 0/26 [00:00<?, ?it/s]"
      ]
     },
     "metadata": {},
     "output_type": "display_data"
    },
    {
     "name": "stdout",
     "output_type": "stream",
     "text": [
      "Training:  180 days\n",
      "Testing:  21 days\n",
      "   horizon          mse       rmse        mae      mape     mdape     smape  \\\n",
      "9  17 days  1138.218701  33.737497  21.752819  0.206392  0.095667  0.242409   \n",
      "10 18 days  1274.146077  35.695183  23.391099  0.220941  0.111848  0.253064   \n",
      "11 19 days  1285.199181  35.849675  23.758505  0.227228  0.105041  0.256237   \n",
      "12 20 days  1415.303937  37.620525  24.848024  0.239406  0.108102  0.267497   \n",
      "13 21 days  1405.736339  37.493151  24.422652  0.237437  0.091206  0.254163   \n",
      "\n",
      "    coverage  \n",
      "9   0.274595  \n",
      "10  0.317568  \n",
      "11  0.319127  \n",
      "12  0.316008  \n",
      "13  0.256216  \n"
     ]
    }
   ],
   "source": [
    "results_AXP=tt_test_p('AXP',trains,tests)"
   ]
  },
  {
   "cell_type": "code",
   "execution_count": 75,
   "metadata": {},
   "outputs": [
    {
     "name": "stderr",
     "output_type": "stream",
     "text": [
      "INFO:fbprophet:Disabling daily seasonality. Run prophet with daily_seasonality=True to override this.\n"
     ]
    },
    {
     "name": "stdout",
     "output_type": "stream",
     "text": [
      "Processing:  yfinance.Ticker object <AAPL>\n"
     ]
    },
    {
     "name": "stderr",
     "output_type": "stream",
     "text": [
      "INFO:prophet:Making 98 forecasts with cutoffs between 2019-08-16 00:00:00 and 2021-06-25 00:00:00\n",
      "WARNING:prophet:Seasonality has period of 365.25 days which is larger than initial window. Consider increasing initial.\n"
     ]
    },
    {
     "data": {
      "application/vnd.jupyter.widget-view+json": {
       "model_id": "a0d97da02e504cac9d33faebfbd45610",
       "version_major": 2,
       "version_minor": 0
      },
      "text/plain": [
       "  0%|          | 0/98 [00:00<?, ?it/s]"
      ]
     },
     "metadata": {},
     "output_type": "display_data"
    },
    {
     "name": "stderr",
     "output_type": "stream",
     "text": [
      "INFO:fbprophet:n_changepoints greater than number of observations. Using 17.\n",
      "INFO:fbprophet:n_changepoints greater than number of observations. Using 21.\n",
      "WARNING:fbprophet:Optimization terminated abnormally. Falling back to Newton.\n",
      "INFO:prophet:Making 49 forecasts with cutoffs between 2019-08-23 00:00:00 and 2021-06-25 00:00:00\n",
      "WARNING:prophet:Seasonality has period of 365.25 days which is larger than initial window. Consider increasing initial.\n"
     ]
    },
    {
     "name": "stdout",
     "output_type": "stream",
     "text": [
      "Training:  30 days\n",
      "Testing:  7 days\n",
      "   horizon           mse        rmse        mae      mape     mdape     smape  \\\n",
      "9  17 days   3180.647762   56.397232  26.601987  0.388998  0.089306  0.319918   \n",
      "10 18 days   4858.382675   69.702100  32.224961  0.475098  0.089883  0.351012   \n",
      "11 19 days   6415.682239   80.097954  36.056118  0.534920  0.096299  0.364769   \n",
      "12 20 days   8382.397348   91.555433  39.824293  0.592064  0.084746  0.374656   \n",
      "13 21 days  11013.688621  104.946122  44.879785  0.667609  0.084277  0.389470   \n",
      "\n",
      "    coverage  \n",
      "9   0.166705  \n",
      "10  0.140171  \n",
      "11  0.162903  \n",
      "12  0.155807  \n",
      "13  0.141844  \n"
     ]
    },
    {
     "data": {
      "application/vnd.jupyter.widget-view+json": {
       "model_id": "609a0567dd5e45ab881d6fdab1d61b8d",
       "version_major": 2,
       "version_minor": 0
      },
      "text/plain": [
       "  0%|          | 0/49 [00:00<?, ?it/s]"
      ]
     },
     "metadata": {},
     "output_type": "display_data"
    },
    {
     "name": "stderr",
     "output_type": "stream",
     "text": [
      "INFO:fbprophet:n_changepoints greater than number of observations. Using 21.\n",
      "WARNING:fbprophet:Optimization terminated abnormally. Falling back to Newton.\n",
      "INFO:prophet:Making 33 forecasts with cutoffs between 2019-08-23 00:00:00 and 2021-06-25 00:00:00\n",
      "WARNING:prophet:Seasonality has period of 365.25 days which is larger than initial window. Consider increasing initial.\n"
     ]
    },
    {
     "name": "stdout",
     "output_type": "stream",
     "text": [
      "Training:  30 days\n",
      "Testing:  14 days\n",
      "   horizon          mse       rmse        mae      mape     mdape     smape  \\\n",
      "9  17 days  2382.914965  48.815110  24.290251  0.348099  0.073803  0.309545   \n",
      "10 18 days  3618.551655  60.154398  29.306883  0.418610  0.077406  0.342114   \n",
      "11 19 days  4880.680049  69.861864  32.833200  0.470078  0.097998  0.353387   \n",
      "12 20 days  6480.177496  80.499550  36.503611  0.526771  0.088310  0.366664   \n",
      "13 21 days  8816.421594  93.895802  41.552409  0.603265  0.102187  0.381546   \n",
      "\n",
      "    coverage  \n",
      "9   0.198681  \n",
      "10  0.143842  \n",
      "11  0.138258  \n",
      "12  0.157864  \n",
      "13  0.141995  \n"
     ]
    },
    {
     "data": {
      "application/vnd.jupyter.widget-view+json": {
       "model_id": "e7fca3e3b5654d58a58c67be45701dd7",
       "version_major": 2,
       "version_minor": 0
      },
      "text/plain": [
       "  0%|          | 0/33 [00:00<?, ?it/s]"
      ]
     },
     "metadata": {},
     "output_type": "display_data"
    },
    {
     "name": "stderr",
     "output_type": "stream",
     "text": [
      "INFO:fbprophet:n_changepoints greater than number of observations. Using 21.\n",
      "INFO:prophet:Making 93 forecasts with cutoffs between 2019-09-20 00:00:00 and 2021-06-25 00:00:00\n",
      "WARNING:prophet:Seasonality has period of 365.25 days which is larger than initial window. Consider increasing initial.\n"
     ]
    },
    {
     "name": "stdout",
     "output_type": "stream",
     "text": [
      "Training:  30 days\n",
      "Testing:  21 days\n",
      "   horizon          mse       rmse        mae      mape     mdape     smape  \\\n",
      "9  17 days   761.048560  27.587109  20.021382  0.277137  0.144631  0.349145   \n",
      "10 18 days  1094.802481  33.087800  23.218507  0.326905  0.113586  0.387399   \n",
      "11 19 days  1460.510716  38.216629  25.749807  0.364563  0.102658  0.397925   \n",
      "12 20 days  1936.406128  44.004615  28.527485  0.410408  0.104323  0.410783   \n",
      "13 21 days  2557.135848  50.568131  31.196376  0.454427  0.105418  0.411331   \n",
      "\n",
      "    coverage  \n",
      "9   0.085106  \n",
      "10  0.125601  \n",
      "11  0.176015  \n",
      "12  0.187500  \n",
      "13  0.195479  \n"
     ]
    },
    {
     "data": {
      "application/vnd.jupyter.widget-view+json": {
       "model_id": "7dd01c6827074e279be033259509c96e",
       "version_major": 2,
       "version_minor": 0
      },
      "text/plain": [
       "  0%|          | 0/93 [00:00<?, ?it/s]"
      ]
     },
     "metadata": {},
     "output_type": "display_data"
    },
    {
     "name": "stderr",
     "output_type": "stream",
     "text": [
      "WARNING:fbprophet:Optimization terminated abnormally. Falling back to Newton.\n",
      "INFO:prophet:Making 47 forecasts with cutoffs between 2019-09-20 00:00:00 and 2021-06-25 00:00:00\n",
      "WARNING:prophet:Seasonality has period of 365.25 days which is larger than initial window. Consider increasing initial.\n"
     ]
    },
    {
     "name": "stdout",
     "output_type": "stream",
     "text": [
      "Training:  60 days\n",
      "Testing:  7 days\n",
      "   horizon           mse        rmse        mae      mape     mdape     smape  \\\n",
      "9  17 days   3151.117791   56.134818  25.372060  0.360439  0.074252  0.288623   \n",
      "10 18 days   4796.442428   69.256353  30.427133  0.434599  0.084393  0.313697   \n",
      "11 19 days   6351.578334   79.696790  33.822629  0.485616  0.090147  0.320952   \n",
      "12 20 days   8363.816536   91.453904  37.402518  0.539083  0.086528  0.329198   \n",
      "13 21 days  11083.198844  105.276773  42.343988  0.611363  0.085892  0.342077   \n",
      "\n",
      "    coverage  \n",
      "9   0.167656  \n",
      "10  0.143810  \n",
      "11  0.171722  \n",
      "12  0.164425  \n",
      "13  0.157290  \n"
     ]
    },
    {
     "data": {
      "application/vnd.jupyter.widget-view+json": {
       "model_id": "84a7b2c8cb63473bad2bc04e80978c03",
       "version_major": 2,
       "version_minor": 0
      },
      "text/plain": [
       "  0%|          | 0/47 [00:00<?, ?it/s]"
      ]
     },
     "metadata": {},
     "output_type": "display_data"
    },
    {
     "name": "stderr",
     "output_type": "stream",
     "text": [
      "WARNING:fbprophet:Optimization terminated abnormally. Falling back to Newton.\n",
      "INFO:prophet:Making 31 forecasts with cutoffs between 2019-10-04 00:00:00 and 2021-06-25 00:00:00\n",
      "WARNING:prophet:Seasonality has period of 365.25 days which is larger than initial window. Consider increasing initial.\n"
     ]
    },
    {
     "name": "stdout",
     "output_type": "stream",
     "text": [
      "Training:  60 days\n",
      "Testing:  14 days\n",
      "   horizon          mse       rmse        mae      mape     mdape     smape  \\\n",
      "9  17 days  2391.471966  48.902679  23.898532  0.335665  0.081830  0.279246   \n",
      "10 18 days  3644.206997  60.367268  28.840792  0.404134  0.095369  0.312760   \n",
      "11 19 days  4927.949912  70.199358  32.272723  0.454105  0.091520  0.323674   \n",
      "12 20 days  6560.031072  80.994019  35.836764  0.508719  0.082477  0.336506   \n",
      "13 21 days  8962.200088  94.668897  40.798741  0.582099  0.091275  0.349382   \n",
      "\n",
      "    coverage  \n",
      "9   0.192810  \n",
      "10  0.143137  \n",
      "11  0.144243  \n",
      "12  0.164642  \n",
      "13  0.148310  \n"
     ]
    },
    {
     "data": {
      "application/vnd.jupyter.widget-view+json": {
       "model_id": "4ed13bff3b84467192fed458d4ea136b",
       "version_major": 2,
       "version_minor": 0
      },
      "text/plain": [
       "  0%|          | 0/31 [00:00<?, ?it/s]"
      ]
     },
     "metadata": {},
     "output_type": "display_data"
    },
    {
     "name": "stderr",
     "output_type": "stream",
     "text": [
      "INFO:prophet:Making 76 forecasts with cutoffs between 2020-01-17 00:00:00 and 2021-06-25 00:00:00\n",
      "WARNING:prophet:Seasonality has period of 365.25 days which is larger than initial window. Consider increasing initial.\n"
     ]
    },
    {
     "name": "stdout",
     "output_type": "stream",
     "text": [
      "Training:  60 days\n",
      "Testing:  21 days\n",
      "   horizon          mse       rmse        mae      mape     mdape     smape  \\\n",
      "9  17 days   613.335504  24.765611  17.904506  0.230924  0.104300  0.289125   \n",
      "10 18 days   874.347293  29.569364  20.446891  0.268819  0.099479  0.325823   \n",
      "11 19 days  1158.818626  34.041425  22.383486  0.295583  0.100328  0.333222   \n",
      "12 20 days  1539.293341  39.233829  24.538822  0.329994  0.101160  0.343093   \n",
      "13 21 days  2043.794062  45.208341  26.447523  0.359761  0.081847  0.338271   \n",
      "\n",
      "    coverage  \n",
      "9   0.113636  \n",
      "10  0.144201  \n",
      "11  0.187683  \n",
      "12  0.200000  \n",
      "13  0.209091  \n"
     ]
    },
    {
     "data": {
      "application/vnd.jupyter.widget-view+json": {
       "model_id": "822f159442ce4189b8fbdbf91dd2f07d",
       "version_major": 2,
       "version_minor": 0
      },
      "text/plain": [
       "  0%|          | 0/76 [00:00<?, ?it/s]"
      ]
     },
     "metadata": {},
     "output_type": "display_data"
    },
    {
     "name": "stderr",
     "output_type": "stream",
     "text": [
      "WARNING:fbprophet:Optimization terminated abnormally. Falling back to Newton.\n",
      "INFO:prophet:Making 38 forecasts with cutoffs between 2020-01-24 00:00:00 and 2021-06-25 00:00:00\n",
      "WARNING:prophet:Seasonality has period of 365.25 days which is larger than initial window. Consider increasing initial.\n"
     ]
    },
    {
     "name": "stdout",
     "output_type": "stream",
     "text": [
      "Training:  180 days\n",
      "Testing:  7 days\n",
      "   horizon         mse       rmse        mae      mape     mdape     smape  \\\n",
      "9  17 days  479.529478  21.898162  12.722186  0.152845  0.067945  0.149708   \n",
      "10 18 days  566.978376  23.811308  14.017526  0.165601  0.072572  0.165169   \n",
      "11 19 days  620.240826  24.904635  14.543545  0.170658  0.076509  0.171302   \n",
      "12 20 days  670.860720  25.900979  15.010507  0.176704  0.070012  0.178290   \n",
      "13 21 days  745.403962  27.302087  15.592589  0.183970  0.072025  0.182694   \n",
      "\n",
      "    coverage  \n",
      "9   0.193086  \n",
      "10  0.181028  \n",
      "11  0.211483  \n",
      "12  0.198445  \n",
      "13  0.193455  \n"
     ]
    },
    {
     "data": {
      "application/vnd.jupyter.widget-view+json": {
       "model_id": "6f33d68ca87f42ad9f755211a42b01a5",
       "version_major": 2,
       "version_minor": 0
      },
      "text/plain": [
       "  0%|          | 0/38 [00:00<?, ?it/s]"
      ]
     },
     "metadata": {},
     "output_type": "display_data"
    },
    {
     "name": "stderr",
     "output_type": "stream",
     "text": [
      "WARNING:fbprophet:Optimization terminated abnormally. Falling back to Newton.\n",
      "INFO:prophet:Making 26 forecasts with cutoffs between 2020-01-17 00:00:00 and 2021-06-25 00:00:00\n",
      "WARNING:prophet:Seasonality has period of 365.25 days which is larger than initial window. Consider increasing initial.\n"
     ]
    },
    {
     "name": "stdout",
     "output_type": "stream",
     "text": [
      "Training:  180 days\n",
      "Testing:  14 days\n",
      "   horizon          mse       rmse        mae      mape     mdape     smape  \\\n",
      "9  17 days   761.373238  27.592993  15.003122  0.191189  0.063541  0.173046   \n",
      "10 18 days   896.478167  29.941245  16.491272  0.204370  0.068270  0.190671   \n",
      "11 19 days   978.146079  31.275327  17.062039  0.208894  0.073041  0.197497   \n",
      "12 20 days  1048.517670  32.380823  17.354071  0.213812  0.073005  0.204177   \n",
      "13 21 days  1178.733212  34.332684  18.063160  0.222087  0.073399  0.206813   \n",
      "\n",
      "    coverage  \n",
      "9   0.213636  \n",
      "10  0.169192  \n",
      "11  0.176077  \n",
      "12  0.202392  \n",
      "13  0.185646  \n"
     ]
    },
    {
     "data": {
      "application/vnd.jupyter.widget-view+json": {
       "model_id": "0dc6e6f7c3b2418f845c6bd29da3fcf2",
       "version_major": 2,
       "version_minor": 0
      },
      "text/plain": [
       "  0%|          | 0/26 [00:00<?, ?it/s]"
      ]
     },
     "metadata": {},
     "output_type": "display_data"
    },
    {
     "name": "stdout",
     "output_type": "stream",
     "text": [
      "Training:  180 days\n",
      "Testing:  21 days\n",
      "   horizon         mse       rmse        mae      mape     mdape     smape  \\\n",
      "9  17 days  347.330732  18.636811  14.178326  0.165277  0.073517  0.185535   \n",
      "10 18 days  394.496230  19.861929  14.840365  0.172978  0.076735  0.195120   \n",
      "11 19 days  425.371512  20.624537  15.071820  0.174074  0.076735  0.196514   \n",
      "12 20 days  460.115313  21.450299  15.411337  0.180408  0.068006  0.202139   \n",
      "13 21 days  431.405406  20.770301  14.734707  0.171463  0.061433  0.184789   \n",
      "\n",
      "    coverage  \n",
      "9   0.137297  \n",
      "10  0.172297  \n",
      "11  0.219335  \n",
      "12  0.237006  \n",
      "13  0.225946  \n"
     ]
    }
   ],
   "source": [
    "results_AAPL=tt_test_p('AAPL',trains,tests)"
   ]
  },
  {
   "cell_type": "code",
   "execution_count": 76,
   "metadata": {},
   "outputs": [
    {
     "name": "stderr",
     "output_type": "stream",
     "text": [
      "INFO:fbprophet:Disabling daily seasonality. Run prophet with daily_seasonality=True to override this.\n"
     ]
    },
    {
     "name": "stdout",
     "output_type": "stream",
     "text": [
      "Processing:  yfinance.Ticker object <AMGN>\n"
     ]
    },
    {
     "name": "stderr",
     "output_type": "stream",
     "text": [
      "INFO:prophet:Making 98 forecasts with cutoffs between 2019-08-16 00:00:00 and 2021-06-25 00:00:00\n",
      "WARNING:prophet:Seasonality has period of 365.25 days which is larger than initial window. Consider increasing initial.\n"
     ]
    },
    {
     "data": {
      "application/vnd.jupyter.widget-view+json": {
       "model_id": "218c0f4c44064152942981ac04a1cda8",
       "version_major": 2,
       "version_minor": 0
      },
      "text/plain": [
       "  0%|          | 0/98 [00:00<?, ?it/s]"
      ]
     },
     "metadata": {},
     "output_type": "display_data"
    },
    {
     "name": "stderr",
     "output_type": "stream",
     "text": [
      "INFO:fbprophet:n_changepoints greater than number of observations. Using 17.\n",
      "INFO:fbprophet:n_changepoints greater than number of observations. Using 21.\n",
      "WARNING:fbprophet:Optimization terminated abnormally. Falling back to Newton.\n",
      "WARNING:fbprophet:Optimization terminated abnormally. Falling back to Newton.\n",
      "INFO:prophet:Making 49 forecasts with cutoffs between 2019-08-23 00:00:00 and 2021-06-25 00:00:00\n",
      "WARNING:prophet:Seasonality has period of 365.25 days which is larger than initial window. Consider increasing initial.\n"
     ]
    },
    {
     "name": "stdout",
     "output_type": "stream",
     "text": [
      "Training:  30 days\n",
      "Testing:  7 days\n",
      "   horizon            mse        rmse         mae      mape     mdape  \\\n",
      "9  17 days   64098.257893  253.176338  111.659629  0.548347  0.110828   \n",
      "10 18 days  118235.260607  343.853545  142.860291  0.704409  0.104111   \n",
      "11 19 days  166897.002698  408.530296  166.439565  0.824074  0.103895   \n",
      "12 20 days  214442.078517  463.078912  184.264056  0.914257  0.103126   \n",
      "13 21 days  278418.002877  527.653298  211.640247  1.045082  0.107109   \n",
      "\n",
      "       smape  coverage  \n",
      "9   0.343798  0.146877  \n",
      "10  0.356076  0.140171  \n",
      "11  0.368114  0.120350  \n",
      "12  0.365000  0.100399  \n",
      "13  0.386077  0.095745  \n"
     ]
    },
    {
     "data": {
      "application/vnd.jupyter.widget-view+json": {
       "model_id": "5200b018470b43fa8c1ee530fd5406aa",
       "version_major": 2,
       "version_minor": 0
      },
      "text/plain": [
       "  0%|          | 0/49 [00:00<?, ?it/s]"
      ]
     },
     "metadata": {},
     "output_type": "display_data"
    },
    {
     "name": "stderr",
     "output_type": "stream",
     "text": [
      "INFO:fbprophet:n_changepoints greater than number of observations. Using 21.\n",
      "WARNING:fbprophet:Optimization terminated abnormally. Falling back to Newton.\n",
      "INFO:prophet:Making 33 forecasts with cutoffs between 2019-08-23 00:00:00 and 2021-06-25 00:00:00\n",
      "WARNING:prophet:Seasonality has period of 365.25 days which is larger than initial window. Consider increasing initial.\n"
     ]
    },
    {
     "name": "stdout",
     "output_type": "stream",
     "text": [
      "Training:  30 days\n",
      "Testing:  14 days\n",
      "   horizon            mse        rmse         mae      mape     mdape  \\\n",
      "9  17 days   73587.626829  271.270394  119.878204  0.583550  0.113231   \n",
      "10 18 days  112711.689295  335.725616  145.160413  0.708576  0.103895   \n",
      "11 19 days  150050.599752  387.363653  164.514966  0.805626  0.099651   \n",
      "12 20 days  195034.784759  441.627428  184.053137  0.903355  0.108155   \n",
      "13 21 days  258246.894020  508.179982  212.201832  1.039720  0.112126   \n",
      "\n",
      "       smape  coverage  \n",
      "9   0.341310  0.141744  \n",
      "10  0.356699  0.130656  \n",
      "11  0.369305  0.110089  \n",
      "12  0.378645  0.102700  \n",
      "13  0.400347  0.120437  \n"
     ]
    },
    {
     "data": {
      "application/vnd.jupyter.widget-view+json": {
       "model_id": "b55aff8d3add4ac58a7560552e4678dd",
       "version_major": 2,
       "version_minor": 0
      },
      "text/plain": [
       "  0%|          | 0/33 [00:00<?, ?it/s]"
      ]
     },
     "metadata": {},
     "output_type": "display_data"
    },
    {
     "name": "stderr",
     "output_type": "stream",
     "text": [
      "INFO:fbprophet:n_changepoints greater than number of observations. Using 21.\n",
      "INFO:prophet:Making 93 forecasts with cutoffs between 2019-09-20 00:00:00 and 2021-06-25 00:00:00\n",
      "WARNING:prophet:Seasonality has period of 365.25 days which is larger than initial window. Consider increasing initial.\n"
     ]
    },
    {
     "name": "stdout",
     "output_type": "stream",
     "text": [
      "Training:  30 days\n",
      "Testing:  21 days\n",
      "   horizon            mse        rmse         mae      mape     mdape  \\\n",
      "9  17 days   81246.167289  285.037133  124.572357  0.619054  0.130232   \n",
      "10 18 days  125117.767210  353.719899  152.293271  0.760712  0.115185   \n",
      "11 19 days  167563.552151  409.345273  173.833070  0.874241  0.110646   \n",
      "12 20 days  221193.486492  470.312116  197.920756  0.998545  0.109003   \n",
      "13 21 days  294282.576753  542.478181  229.421821  1.155060  0.121614   \n",
      "\n",
      "       smape  coverage  \n",
      "9   0.288457  0.202128  \n",
      "10  0.310943  0.131091  \n",
      "11  0.324271  0.071567  \n",
      "12  0.337618  0.041223  \n",
      "13  0.354745  0.032580  \n"
     ]
    },
    {
     "data": {
      "application/vnd.jupyter.widget-view+json": {
       "model_id": "2f47d179dfb74dc6a69dd5ec56490c86",
       "version_major": 2,
       "version_minor": 0
      },
      "text/plain": [
       "  0%|          | 0/93 [00:00<?, ?it/s]"
      ]
     },
     "metadata": {},
     "output_type": "display_data"
    },
    {
     "name": "stderr",
     "output_type": "stream",
     "text": [
      "WARNING:fbprophet:Optimization terminated abnormally. Falling back to Newton.\n",
      "WARNING:fbprophet:Optimization terminated abnormally. Falling back to Newton.\n",
      "INFO:prophet:Making 47 forecasts with cutoffs between 2019-09-20 00:00:00 and 2021-06-25 00:00:00\n",
      "WARNING:prophet:Seasonality has period of 365.25 days which is larger than initial window. Consider increasing initial.\n"
     ]
    },
    {
     "name": "stdout",
     "output_type": "stream",
     "text": [
      "Training:  60 days\n",
      "Testing:  7 days\n",
      "   horizon            mse        rmse         mae      mape     mdape  \\\n",
      "9  17 days   46972.647891  216.731742   89.951945  0.431470  0.104597   \n",
      "10 18 days   71220.440478  266.871580  106.358237  0.509214  0.093325   \n",
      "11 19 days   93612.736564  305.961985  118.219445  0.566352  0.097375   \n",
      "12 20 days  120911.078711  347.722704  128.574365  0.617372  0.104121   \n",
      "13 21 days  160330.990142  400.413524  147.623229  0.705444  0.115290   \n",
      "\n",
      "       smape  coverage  \n",
      "9   0.298505  0.154342  \n",
      "10  0.302120  0.132485  \n",
      "11  0.306676  0.120045  \n",
      "12  0.300363  0.105954  \n",
      "13  0.318694  0.093653  \n"
     ]
    },
    {
     "data": {
      "application/vnd.jupyter.widget-view+json": {
       "model_id": "7df961d2d736487fa8789a27855cc080",
       "version_major": 2,
       "version_minor": 0
      },
      "text/plain": [
       "  0%|          | 0/47 [00:00<?, ?it/s]"
      ]
     },
     "metadata": {},
     "output_type": "display_data"
    },
    {
     "name": "stderr",
     "output_type": "stream",
     "text": [
      "WARNING:fbprophet:Optimization terminated abnormally. Falling back to Newton.\n",
      "INFO:prophet:Making 31 forecasts with cutoffs between 2019-10-04 00:00:00 and 2021-06-25 00:00:00\n",
      "WARNING:prophet:Seasonality has period of 365.25 days which is larger than initial window. Consider increasing initial.\n"
     ]
    },
    {
     "name": "stdout",
     "output_type": "stream",
     "text": [
      "Training:  60 days\n",
      "Testing:  14 days\n",
      "   horizon            mse        rmse         mae      mape     mdape  \\\n",
      "9  17 days   70743.305554  265.976137  112.545988  0.543967  0.117488   \n",
      "10 18 days  107490.455549  327.857371  134.308463  0.648493  0.093325   \n",
      "11 19 days  142489.627060  377.477982  150.955347  0.729847  0.105149   \n",
      "12 20 days  184485.418029  429.517657  167.560343  0.810664  0.108579   \n",
      "13 21 days  243877.912802  493.839967  192.083138  0.926917  0.111817   \n",
      "\n",
      "       smape  coverage  \n",
      "9   0.325462  0.148039  \n",
      "10  0.333954  0.150980  \n",
      "11  0.342526  0.121715  \n",
      "12  0.348221  0.092391  \n",
      "13  0.365868  0.103567  \n"
     ]
    },
    {
     "data": {
      "application/vnd.jupyter.widget-view+json": {
       "model_id": "6337a4f68419459e999d05a3088283ec",
       "version_major": 2,
       "version_minor": 0
      },
      "text/plain": [
       "  0%|          | 0/31 [00:00<?, ?it/s]"
      ]
     },
     "metadata": {},
     "output_type": "display_data"
    },
    {
     "name": "stderr",
     "output_type": "stream",
     "text": [
      "INFO:prophet:Making 76 forecasts with cutoffs between 2020-01-17 00:00:00 and 2021-06-25 00:00:00\n",
      "WARNING:prophet:Seasonality has period of 365.25 days which is larger than initial window. Consider increasing initial.\n"
     ]
    },
    {
     "name": "stdout",
     "output_type": "stream",
     "text": [
      "Training:  60 days\n",
      "Testing:  21 days\n",
      "   horizon            mse        rmse         mae      mape     mdape  \\\n",
      "9  17 days   58990.560486  242.879724   91.298838  0.439523  0.109956   \n",
      "10 18 days   90378.185510  300.629648  109.889155  0.529157  0.109973   \n",
      "11 19 days  120996.124388  347.844972  124.423339  0.600445  0.107271   \n",
      "12 20 days  160238.383976  400.297869  140.854445  0.682759  0.111156   \n",
      "13 21 days  214543.543267  463.188453  162.638640  0.789605  0.110335   \n",
      "\n",
      "       smape  coverage  \n",
      "9   0.225820  0.215909  \n",
      "10  0.242379  0.162226  \n",
      "11  0.251900  0.086510  \n",
      "12  0.261740  0.043939  \n",
      "13  0.273643  0.034848  \n"
     ]
    },
    {
     "data": {
      "application/vnd.jupyter.widget-view+json": {
       "model_id": "24034e108c28447dbc02419b99f5699e",
       "version_major": 2,
       "version_minor": 0
      },
      "text/plain": [
       "  0%|          | 0/76 [00:00<?, ?it/s]"
      ]
     },
     "metadata": {},
     "output_type": "display_data"
    },
    {
     "name": "stderr",
     "output_type": "stream",
     "text": [
      "WARNING:fbprophet:Optimization terminated abnormally. Falling back to Newton.\n",
      "WARNING:fbprophet:Optimization terminated abnormally. Falling back to Newton.\n",
      "INFO:prophet:Making 38 forecasts with cutoffs between 2020-01-24 00:00:00 and 2021-06-25 00:00:00\n",
      "WARNING:prophet:Seasonality has period of 365.25 days which is larger than initial window. Consider increasing initial.\n"
     ]
    },
    {
     "name": "stdout",
     "output_type": "stream",
     "text": [
      "Training:  180 days\n",
      "Testing:  7 days\n",
      "   horizon          mse       rmse        mae      mape     mdape     smape  \\\n",
      "9  17 days  1526.526926  39.070794  24.783503  0.112926  0.080629  0.111870   \n",
      "10 18 days  1734.027591  41.641657  26.059399  0.118041  0.082676  0.118515   \n",
      "11 19 days  1879.203484  43.349781  27.343044  0.123612  0.087812  0.124704   \n",
      "12 20 days  2036.871918  45.131717  27.962067  0.126921  0.086928  0.128426   \n",
      "13 21 days  2234.925907  47.275003  28.955857  0.131706  0.093459  0.133487   \n",
      "\n",
      "    coverage  \n",
      "9   0.190269  \n",
      "10  0.162714  \n",
      "11  0.144737  \n",
      "12  0.136962  \n",
      "13  0.129091  \n"
     ]
    },
    {
     "data": {
      "application/vnd.jupyter.widget-view+json": {
       "model_id": "eb60d175649743f79bd29cfdd3761577",
       "version_major": 2,
       "version_minor": 0
      },
      "text/plain": [
       "  0%|          | 0/38 [00:00<?, ?it/s]"
      ]
     },
     "metadata": {},
     "output_type": "display_data"
    },
    {
     "name": "stderr",
     "output_type": "stream",
     "text": [
      "WARNING:fbprophet:Optimization terminated abnormally. Falling back to Newton.\n",
      "INFO:prophet:Making 26 forecasts with cutoffs between 2020-01-17 00:00:00 and 2021-06-25 00:00:00\n",
      "WARNING:prophet:Seasonality has period of 365.25 days which is larger than initial window. Consider increasing initial.\n"
     ]
    },
    {
     "name": "stdout",
     "output_type": "stream",
     "text": [
      "Training:  180 days\n",
      "Testing:  14 days\n",
      "   horizon          mse       rmse        mae      mape     mdape     smape  \\\n",
      "9  17 days  2482.473069  49.824422  30.455093  0.141005  0.088607  0.137206   \n",
      "10 18 days  2833.974813  53.235090  31.631553  0.145406  0.091251  0.143987   \n",
      "11 19 days  3067.097019  55.381378  32.753936  0.150429  0.087248  0.150170   \n",
      "12 20 days  3305.382577  57.492457  33.308153  0.154065  0.091380  0.154272   \n",
      "13 21 days  3708.590145  60.898195  34.840637  0.161597  0.100184  0.162412   \n",
      "\n",
      "    coverage  \n",
      "9   0.184848  \n",
      "10  0.169192  \n",
      "11  0.139713  \n",
      "12  0.113397  \n",
      "13  0.129187  \n"
     ]
    },
    {
     "data": {
      "application/vnd.jupyter.widget-view+json": {
       "model_id": "540a728e5f494076ba1786e66cb97a75",
       "version_major": 2,
       "version_minor": 0
      },
      "text/plain": [
       "  0%|          | 0/26 [00:00<?, ?it/s]"
      ]
     },
     "metadata": {},
     "output_type": "display_data"
    },
    {
     "name": "stdout",
     "output_type": "stream",
     "text": [
      "Training:  180 days\n",
      "Testing:  21 days\n",
      "   horizon          mse       rmse        mae      mape     mdape     smape  \\\n",
      "9  17 days  1225.881195  35.012586  25.604414  0.114608  0.093486  0.110675   \n",
      "10 18 days  1431.289656  37.832389  26.820920  0.120800  0.103895  0.115512   \n",
      "11 19 days  1467.444634  38.307240  27.664843  0.123560  0.092276  0.118736   \n",
      "12 20 days  1564.082159  39.548479  27.761030  0.124998  0.098220  0.118721   \n",
      "13 21 days  1677.552613  40.957937  27.749654  0.126489  0.093989  0.116686   \n",
      "\n",
      "    coverage  \n",
      "9   0.259459  \n",
      "10  0.194820  \n",
      "11  0.099792  \n",
      "12  0.051975  \n",
      "13  0.042162  \n"
     ]
    }
   ],
   "source": [
    "results_AMGN=tt_test_p('AMGN',trains,tests)"
   ]
  },
  {
   "cell_type": "markdown",
   "metadata": {},
   "source": [
    "After looking over these results, it seems unlike ARIMA, Prophet likes the 180/7 split. Although it doesn't matter that much when using Prophet; it automatically takes all the data available and uses it. The train/test split is mainly used here for cross-validation."
   ]
  },
  {
   "cell_type": "markdown",
   "metadata": {},
   "source": [
    "### Putting it all together"
   ]
  },
  {
   "cell_type": "markdown",
   "metadata": {},
   "source": [
    "So let's make us a function! Ultimately, we'll want it to be able to select the best of 4 stocks input by the user. As always, let's start simple."
   ]
  },
  {
   "cell_type": "code",
   "execution_count": 77,
   "metadata": {
    "scrolled": true
   },
   "outputs": [
    {
     "data": {
      "text/html": [
       "<div>\n",
       "<style scoped>\n",
       "    .dataframe tbody tr th:only-of-type {\n",
       "        vertical-align: middle;\n",
       "    }\n",
       "\n",
       "    .dataframe tbody tr th {\n",
       "        vertical-align: top;\n",
       "    }\n",
       "\n",
       "    .dataframe thead th {\n",
       "        text-align: right;\n",
       "    }\n",
       "</style>\n",
       "<table border=\"1\" class=\"dataframe\">\n",
       "  <thead>\n",
       "    <tr style=\"text-align: right;\">\n",
       "      <th></th>\n",
       "      <th>ds</th>\n",
       "      <th>trend</th>\n",
       "      <th>yhat_lower</th>\n",
       "      <th>yhat_upper</th>\n",
       "      <th>trend_lower</th>\n",
       "      <th>trend_upper</th>\n",
       "      <th>additive_terms</th>\n",
       "      <th>additive_terms_lower</th>\n",
       "      <th>additive_terms_upper</th>\n",
       "      <th>weekly</th>\n",
       "      <th>weekly_lower</th>\n",
       "      <th>weekly_upper</th>\n",
       "      <th>yearly</th>\n",
       "      <th>yearly_lower</th>\n",
       "      <th>yearly_upper</th>\n",
       "      <th>multiplicative_terms</th>\n",
       "      <th>multiplicative_terms_lower</th>\n",
       "      <th>multiplicative_terms_upper</th>\n",
       "      <th>yhat</th>\n",
       "    </tr>\n",
       "  </thead>\n",
       "  <tbody>\n",
       "    <tr>\n",
       "      <th>521</th>\n",
       "      <td>2021-08-02</td>\n",
       "      <td>230.790146</td>\n",
       "      <td>230.582482</td>\n",
       "      <td>247.088852</td>\n",
       "      <td>230.256170</td>\n",
       "      <td>231.187307</td>\n",
       "      <td>8.397254</td>\n",
       "      <td>8.397254</td>\n",
       "      <td>8.397254</td>\n",
       "      <td>-2.333838</td>\n",
       "      <td>-2.333838</td>\n",
       "      <td>-2.333838</td>\n",
       "      <td>10.731092</td>\n",
       "      <td>10.731092</td>\n",
       "      <td>10.731092</td>\n",
       "      <td>0.0</td>\n",
       "      <td>0.0</td>\n",
       "      <td>0.0</td>\n",
       "      <td>239.187400</td>\n",
       "    </tr>\n",
       "    <tr>\n",
       "      <th>522</th>\n",
       "      <td>2021-08-03</td>\n",
       "      <td>230.700210</td>\n",
       "      <td>231.148335</td>\n",
       "      <td>247.208738</td>\n",
       "      <td>230.064731</td>\n",
       "      <td>231.172787</td>\n",
       "      <td>8.165393</td>\n",
       "      <td>8.165393</td>\n",
       "      <td>8.165393</td>\n",
       "      <td>-2.204839</td>\n",
       "      <td>-2.204839</td>\n",
       "      <td>-2.204839</td>\n",
       "      <td>10.370233</td>\n",
       "      <td>10.370233</td>\n",
       "      <td>10.370233</td>\n",
       "      <td>0.0</td>\n",
       "      <td>0.0</td>\n",
       "      <td>0.0</td>\n",
       "      <td>238.865603</td>\n",
       "    </tr>\n",
       "    <tr>\n",
       "      <th>523</th>\n",
       "      <td>2021-08-04</td>\n",
       "      <td>230.610274</td>\n",
       "      <td>231.183829</td>\n",
       "      <td>245.946000</td>\n",
       "      <td>229.858128</td>\n",
       "      <td>231.178774</td>\n",
       "      <td>7.763603</td>\n",
       "      <td>7.763603</td>\n",
       "      <td>7.763603</td>\n",
       "      <td>-2.327010</td>\n",
       "      <td>-2.327010</td>\n",
       "      <td>-2.327010</td>\n",
       "      <td>10.090613</td>\n",
       "      <td>10.090613</td>\n",
       "      <td>10.090613</td>\n",
       "      <td>0.0</td>\n",
       "      <td>0.0</td>\n",
       "      <td>0.0</td>\n",
       "      <td>238.373876</td>\n",
       "    </tr>\n",
       "    <tr>\n",
       "      <th>524</th>\n",
       "      <td>2021-08-05</td>\n",
       "      <td>230.520337</td>\n",
       "      <td>230.145614</td>\n",
       "      <td>246.112167</td>\n",
       "      <td>229.652098</td>\n",
       "      <td>231.128349</td>\n",
       "      <td>7.272688</td>\n",
       "      <td>7.272688</td>\n",
       "      <td>7.272688</td>\n",
       "      <td>-2.624283</td>\n",
       "      <td>-2.624283</td>\n",
       "      <td>-2.624283</td>\n",
       "      <td>9.896971</td>\n",
       "      <td>9.896971</td>\n",
       "      <td>9.896971</td>\n",
       "      <td>0.0</td>\n",
       "      <td>0.0</td>\n",
       "      <td>0.0</td>\n",
       "      <td>237.793025</td>\n",
       "    </tr>\n",
       "    <tr>\n",
       "      <th>525</th>\n",
       "      <td>2021-08-06</td>\n",
       "      <td>230.430401</td>\n",
       "      <td>229.796928</td>\n",
       "      <td>246.595564</td>\n",
       "      <td>229.437257</td>\n",
       "      <td>231.088590</td>\n",
       "      <td>7.578740</td>\n",
       "      <td>7.578740</td>\n",
       "      <td>7.578740</td>\n",
       "      <td>-2.213417</td>\n",
       "      <td>-2.213417</td>\n",
       "      <td>-2.213417</td>\n",
       "      <td>9.792158</td>\n",
       "      <td>9.792158</td>\n",
       "      <td>9.792158</td>\n",
       "      <td>0.0</td>\n",
       "      <td>0.0</td>\n",
       "      <td>0.0</td>\n",
       "      <td>238.009141</td>\n",
       "    </tr>\n",
       "  </tbody>\n",
       "</table>\n",
       "</div>"
      ],
      "text/plain": [
       "            ds       trend  yhat_lower  yhat_upper  trend_lower  trend_upper  \\\n",
       "521 2021-08-02  230.790146  230.582482  247.088852   230.256170   231.187307   \n",
       "522 2021-08-03  230.700210  231.148335  247.208738   230.064731   231.172787   \n",
       "523 2021-08-04  230.610274  231.183829  245.946000   229.858128   231.178774   \n",
       "524 2021-08-05  230.520337  230.145614  246.112167   229.652098   231.128349   \n",
       "525 2021-08-06  230.430401  229.796928  246.595564   229.437257   231.088590   \n",
       "\n",
       "     additive_terms  additive_terms_lower  additive_terms_upper    weekly  \\\n",
       "521        8.397254              8.397254              8.397254 -2.333838   \n",
       "522        8.165393              8.165393              8.165393 -2.204839   \n",
       "523        7.763603              7.763603              7.763603 -2.327010   \n",
       "524        7.272688              7.272688              7.272688 -2.624283   \n",
       "525        7.578740              7.578740              7.578740 -2.213417   \n",
       "\n",
       "     weekly_lower  weekly_upper     yearly  yearly_lower  yearly_upper  \\\n",
       "521     -2.333838     -2.333838  10.731092     10.731092     10.731092   \n",
       "522     -2.204839     -2.204839  10.370233     10.370233     10.370233   \n",
       "523     -2.327010     -2.327010  10.090613     10.090613     10.090613   \n",
       "524     -2.624283     -2.624283   9.896971      9.896971      9.896971   \n",
       "525     -2.213417     -2.213417   9.792158      9.792158      9.792158   \n",
       "\n",
       "     multiplicative_terms  multiplicative_terms_lower  \\\n",
       "521                   0.0                         0.0   \n",
       "522                   0.0                         0.0   \n",
       "523                   0.0                         0.0   \n",
       "524                   0.0                         0.0   \n",
       "525                   0.0                         0.0   \n",
       "\n",
       "     multiplicative_terms_upper        yhat  \n",
       "521                         0.0  239.187400  \n",
       "522                         0.0  238.865603  \n",
       "523                         0.0  238.373876  \n",
       "524                         0.0  237.793025  \n",
       "525                         0.0  238.009141  "
      ]
     },
     "execution_count": 77,
     "metadata": {},
     "output_type": "execute_result"
    }
   ],
   "source": [
    "results_AMGN.tail()"
   ]
  },
  {
   "cell_type": "code",
   "execution_count": 78,
   "metadata": {},
   "outputs": [],
   "source": [
    "pred_cols=['ds','yhat']"
   ]
  },
  {
   "cell_type": "code",
   "execution_count": 79,
   "metadata": {},
   "outputs": [],
   "source": [
    "AMGN_preds=results_AMGN[pred_cols]"
   ]
  },
  {
   "cell_type": "code",
   "execution_count": 80,
   "metadata": {},
   "outputs": [
    {
     "data": {
      "text/html": [
       "<div>\n",
       "<style scoped>\n",
       "    .dataframe tbody tr th:only-of-type {\n",
       "        vertical-align: middle;\n",
       "    }\n",
       "\n",
       "    .dataframe tbody tr th {\n",
       "        vertical-align: top;\n",
       "    }\n",
       "\n",
       "    .dataframe thead th {\n",
       "        text-align: right;\n",
       "    }\n",
       "</style>\n",
       "<table border=\"1\" class=\"dataframe\">\n",
       "  <thead>\n",
       "    <tr style=\"text-align: right;\">\n",
       "      <th></th>\n",
       "      <th>ds</th>\n",
       "      <th>yhat</th>\n",
       "    </tr>\n",
       "  </thead>\n",
       "  <tbody>\n",
       "    <tr>\n",
       "      <th>521</th>\n",
       "      <td>2021-08-02</td>\n",
       "      <td>239.187400</td>\n",
       "    </tr>\n",
       "    <tr>\n",
       "      <th>522</th>\n",
       "      <td>2021-08-03</td>\n",
       "      <td>238.865603</td>\n",
       "    </tr>\n",
       "    <tr>\n",
       "      <th>523</th>\n",
       "      <td>2021-08-04</td>\n",
       "      <td>238.373876</td>\n",
       "    </tr>\n",
       "    <tr>\n",
       "      <th>524</th>\n",
       "      <td>2021-08-05</td>\n",
       "      <td>237.793025</td>\n",
       "    </tr>\n",
       "    <tr>\n",
       "      <th>525</th>\n",
       "      <td>2021-08-06</td>\n",
       "      <td>238.009141</td>\n",
       "    </tr>\n",
       "  </tbody>\n",
       "</table>\n",
       "</div>"
      ],
      "text/plain": [
       "            ds        yhat\n",
       "521 2021-08-02  239.187400\n",
       "522 2021-08-03  238.865603\n",
       "523 2021-08-04  238.373876\n",
       "524 2021-08-05  237.793025\n",
       "525 2021-08-06  238.009141"
      ]
     },
     "execution_count": 80,
     "metadata": {},
     "output_type": "execute_result"
    }
   ],
   "source": [
    "AMGN_preds.tail()"
   ]
  },
  {
   "cell_type": "code",
   "execution_count": 81,
   "metadata": {},
   "outputs": [],
   "source": [
    "AMGN_preds=AMGN_preds.tail(21)"
   ]
  },
  {
   "cell_type": "code",
   "execution_count": 82,
   "metadata": {},
   "outputs": [
    {
     "data": {
      "text/html": [
       "<div>\n",
       "<style scoped>\n",
       "    .dataframe tbody tr th:only-of-type {\n",
       "        vertical-align: middle;\n",
       "    }\n",
       "\n",
       "    .dataframe tbody tr th {\n",
       "        vertical-align: top;\n",
       "    }\n",
       "\n",
       "    .dataframe thead th {\n",
       "        text-align: right;\n",
       "    }\n",
       "</style>\n",
       "<table border=\"1\" class=\"dataframe\">\n",
       "  <thead>\n",
       "    <tr style=\"text-align: right;\">\n",
       "      <th></th>\n",
       "      <th>ds</th>\n",
       "      <th>yhat</th>\n",
       "    </tr>\n",
       "  </thead>\n",
       "  <tbody>\n",
       "    <tr>\n",
       "      <th>505</th>\n",
       "      <td>2021-07-17</td>\n",
       "      <td>257.624808</td>\n",
       "    </tr>\n",
       "    <tr>\n",
       "      <th>506</th>\n",
       "      <td>2021-07-18</td>\n",
       "      <td>257.242865</td>\n",
       "    </tr>\n",
       "    <tr>\n",
       "      <th>507</th>\n",
       "      <td>2021-07-19</td>\n",
       "      <td>248.600497</td>\n",
       "    </tr>\n",
       "    <tr>\n",
       "      <th>508</th>\n",
       "      <td>2021-07-20</td>\n",
       "      <td>248.202988</td>\n",
       "    </tr>\n",
       "    <tr>\n",
       "      <th>509</th>\n",
       "      <td>2021-07-21</td>\n",
       "      <td>247.491226</td>\n",
       "    </tr>\n",
       "  </tbody>\n",
       "</table>\n",
       "</div>"
      ],
      "text/plain": [
       "            ds        yhat\n",
       "505 2021-07-17  257.624808\n",
       "506 2021-07-18  257.242865\n",
       "507 2021-07-19  248.600497\n",
       "508 2021-07-20  248.202988\n",
       "509 2021-07-21  247.491226"
      ]
     },
     "execution_count": 82,
     "metadata": {},
     "output_type": "execute_result"
    }
   ],
   "source": [
    "AMGN_preds.head()"
   ]
  },
  {
   "cell_type": "code",
   "execution_count": 83,
   "metadata": {},
   "outputs": [],
   "source": [
    "AMGN_preds.reset_index(level=0, drop=True,inplace=True)"
   ]
  },
  {
   "cell_type": "code",
   "execution_count": 84,
   "metadata": {},
   "outputs": [
    {
     "data": {
      "text/html": [
       "<div>\n",
       "<style scoped>\n",
       "    .dataframe tbody tr th:only-of-type {\n",
       "        vertical-align: middle;\n",
       "    }\n",
       "\n",
       "    .dataframe tbody tr th {\n",
       "        vertical-align: top;\n",
       "    }\n",
       "\n",
       "    .dataframe thead th {\n",
       "        text-align: right;\n",
       "    }\n",
       "</style>\n",
       "<table border=\"1\" class=\"dataframe\">\n",
       "  <thead>\n",
       "    <tr style=\"text-align: right;\">\n",
       "      <th></th>\n",
       "      <th>ds</th>\n",
       "      <th>yhat</th>\n",
       "    </tr>\n",
       "  </thead>\n",
       "  <tbody>\n",
       "    <tr>\n",
       "      <th>0</th>\n",
       "      <td>2021-07-17</td>\n",
       "      <td>257.624808</td>\n",
       "    </tr>\n",
       "    <tr>\n",
       "      <th>1</th>\n",
       "      <td>2021-07-18</td>\n",
       "      <td>257.242865</td>\n",
       "    </tr>\n",
       "    <tr>\n",
       "      <th>2</th>\n",
       "      <td>2021-07-19</td>\n",
       "      <td>248.600497</td>\n",
       "    </tr>\n",
       "    <tr>\n",
       "      <th>3</th>\n",
       "      <td>2021-07-20</td>\n",
       "      <td>248.202988</td>\n",
       "    </tr>\n",
       "    <tr>\n",
       "      <th>4</th>\n",
       "      <td>2021-07-21</td>\n",
       "      <td>247.491226</td>\n",
       "    </tr>\n",
       "  </tbody>\n",
       "</table>\n",
       "</div>"
      ],
      "text/plain": [
       "          ds        yhat\n",
       "0 2021-07-17  257.624808\n",
       "1 2021-07-18  257.242865\n",
       "2 2021-07-19  248.600497\n",
       "3 2021-07-20  248.202988\n",
       "4 2021-07-21  247.491226"
      ]
     },
     "execution_count": 84,
     "metadata": {},
     "output_type": "execute_result"
    }
   ],
   "source": [
    "AMGN_preds.head()"
   ]
  },
  {
   "cell_type": "code",
   "execution_count": 85,
   "metadata": {
    "scrolled": true
   },
   "outputs": [
    {
     "data": {
      "text/plain": [
       "238.00914089842448"
      ]
     },
     "execution_count": 85,
     "metadata": {},
     "output_type": "execute_result"
    }
   ],
   "source": [
    "AMGN_preds['yhat'][20]"
   ]
  },
  {
   "cell_type": "code",
   "execution_count": 86,
   "metadata": {},
   "outputs": [
    {
     "data": {
      "text/plain": [
       "257.6248084043115"
      ]
     },
     "execution_count": 86,
     "metadata": {},
     "output_type": "execute_result"
    }
   ],
   "source": [
    "AMGN_preds['yhat'][0]"
   ]
  },
  {
   "cell_type": "code",
   "execution_count": 87,
   "metadata": {},
   "outputs": [],
   "source": [
    "change_percent=((AMGN_preds['yhat'][20]-AMGN_preds['yhat'][0])/AMGN_preds['yhat'][0])*100"
   ]
  },
  {
   "cell_type": "code",
   "execution_count": 88,
   "metadata": {},
   "outputs": [],
   "source": [
    "change_percent=round(change_percent,2)"
   ]
  },
  {
   "cell_type": "code",
   "execution_count": 89,
   "metadata": {},
   "outputs": [
    {
     "data": {
      "text/plain": [
       "-7.61"
      ]
     },
     "execution_count": 89,
     "metadata": {},
     "output_type": "execute_result"
    }
   ],
   "source": [
    "change_percent"
   ]
  },
  {
   "cell_type": "code",
   "execution_count": 90,
   "metadata": {},
   "outputs": [],
   "source": [
    "def pct_change(df):\n",
    "    \"\"\"This function will quickly calculate the percentage change from the predictions dataframe.\n",
    "    One that has been produced from the earlier Prophet function\"\"\"\n",
    "    df1=df['yhat']\n",
    "    df1=df1.tail(21)\n",
    "    df1.reset_index(level=0, drop=True,inplace=True)\n",
    "    change=((df1[20]-df1[0])/df1[0])*100\n",
    "    change=round(change, 2)\n",
    "    if change >0:\n",
    "        print(f\"According to the model, you stand to gain {change}% over the next 21 days\")\n",
    "    else:\n",
    "        change_abs=abs(change)\n",
    "        print(f\"According to the model, you stand to lose {change_abs}% over the next 21 days\")\n",
    "    return None"
   ]
  },
  {
   "cell_type": "code",
   "execution_count": 91,
   "metadata": {
    "scrolled": true
   },
   "outputs": [
    {
     "name": "stdout",
     "output_type": "stream",
     "text": [
      "According to the model, you stand to gain 0.79% over the next 21 days\n"
     ]
    }
   ],
   "source": [
    "pct_change(results_AAPL)"
   ]
  },
  {
   "cell_type": "code",
   "execution_count": 92,
   "metadata": {},
   "outputs": [
    {
     "name": "stdout",
     "output_type": "stream",
     "text": [
      "According to the model, you stand to gain 2.74% over the next 21 days\n"
     ]
    }
   ],
   "source": [
    "pct_change(results_AXP)"
   ]
  },
  {
   "cell_type": "code",
   "execution_count": 93,
   "metadata": {},
   "outputs": [
    {
     "name": "stdout",
     "output_type": "stream",
     "text": [
      "According to the model, you stand to lose 1.93% over the next 21 days\n"
     ]
    }
   ],
   "source": [
    "pct_change(results_MMM)"
   ]
  },
  {
   "cell_type": "code",
   "execution_count": 94,
   "metadata": {},
   "outputs": [
    {
     "name": "stdout",
     "output_type": "stream",
     "text": [
      "According to the model, you stand to lose 2.84% over the next 21 days\n"
     ]
    }
   ],
   "source": [
    "pct_change(results_CAT)"
   ]
  },
  {
   "cell_type": "code",
   "execution_count": 99,
   "metadata": {},
   "outputs": [],
   "source": [
    "def fcast(stock):\n",
    "    \"\"\"This function will take a stock and perform Prophet modeling on it and return the forecast dataframe\"\"\"\n",
    "    stock=stock.upper() #make sure the symbol is in uppercase\n",
    "    prof=Prophet()\n",
    "    stonk = yf.Ticker(stock)\n",
    "    df1=stonk.history(period='1y')\n",
    "    df1=df1['Close']\n",
    "    df1=df1.to_frame()\n",
    "    df1.index.names = ['ds']\n",
    "    df1.columns=['y']\n",
    "    df1.reset_index(level=0, inplace=True)\n",
    "    prof.fit(df1)\n",
    "    future = prof.make_future_dataframe(periods=21)\n",
    "    forecast = prof.predict(future)\n",
    "    #The next 2 lines are disabled for the final function\n",
    "#    prof.plot(forecast)\n",
    " #   plt.show()\n",
    "    return forecast"
   ]
  },
  {
   "cell_type": "code",
   "execution_count": 100,
   "metadata": {
    "scrolled": true
   },
   "outputs": [
    {
     "name": "stderr",
     "output_type": "stream",
     "text": [
      "INFO:fbprophet:Disabling yearly seasonality. Run prophet with yearly_seasonality=True to override this.\n",
      "INFO:fbprophet:Disabling daily seasonality. Run prophet with daily_seasonality=True to override this.\n"
     ]
    },
    {
     "data": {
      "image/png": "[encoded data removed]",
      "text/plain": [
       "<Figure size 720x432 with 1 Axes>"
      ]
     },
     "metadata": {},
     "output_type": "display_data"
    }
   ],
   "source": [
    "HAL=fcast('HAL')"
   ]
  },
  {
   "cell_type": "code",
   "execution_count": 65,
   "metadata": {},
   "outputs": [
    {
     "data": {
      "text/html": [
       "<div>\n",
       "<style scoped>\n",
       "    .dataframe tbody tr th:only-of-type {\n",
       "        vertical-align: middle;\n",
       "    }\n",
       "\n",
       "    .dataframe tbody tr th {\n",
       "        vertical-align: top;\n",
       "    }\n",
       "\n",
       "    .dataframe thead th {\n",
       "        text-align: right;\n",
       "    }\n",
       "</style>\n",
       "<table border=\"1\" class=\"dataframe\">\n",
       "  <thead>\n",
       "    <tr style=\"text-align: right;\">\n",
       "      <th></th>\n",
       "      <th>ds</th>\n",
       "      <th>trend</th>\n",
       "      <th>yhat_lower</th>\n",
       "      <th>yhat_upper</th>\n",
       "      <th>trend_lower</th>\n",
       "      <th>trend_upper</th>\n",
       "      <th>additive_terms</th>\n",
       "      <th>additive_terms_lower</th>\n",
       "      <th>additive_terms_upper</th>\n",
       "      <th>weekly</th>\n",
       "      <th>weekly_lower</th>\n",
       "      <th>weekly_upper</th>\n",
       "      <th>multiplicative_terms</th>\n",
       "      <th>multiplicative_terms_lower</th>\n",
       "      <th>multiplicative_terms_upper</th>\n",
       "      <th>yhat</th>\n",
       "    </tr>\n",
       "  </thead>\n",
       "  <tbody>\n",
       "    <tr>\n",
       "      <th>0</th>\n",
       "      <td>2020-07-17</td>\n",
       "      <td>14.826683</td>\n",
       "      <td>13.538495</td>\n",
       "      <td>16.790201</td>\n",
       "      <td>14.826683</td>\n",
       "      <td>14.826683</td>\n",
       "      <td>0.283366</td>\n",
       "      <td>0.283366</td>\n",
       "      <td>0.283366</td>\n",
       "      <td>0.283366</td>\n",
       "      <td>0.283366</td>\n",
       "      <td>0.283366</td>\n",
       "      <td>0.0</td>\n",
       "      <td>0.0</td>\n",
       "      <td>0.0</td>\n",
       "      <td>15.110049</td>\n",
       "    </tr>\n",
       "    <tr>\n",
       "      <th>1</th>\n",
       "      <td>2020-07-20</td>\n",
       "      <td>14.764850</td>\n",
       "      <td>13.408790</td>\n",
       "      <td>17.040655</td>\n",
       "      <td>14.764850</td>\n",
       "      <td>14.764850</td>\n",
       "      <td>0.379569</td>\n",
       "      <td>0.379569</td>\n",
       "      <td>0.379569</td>\n",
       "      <td>0.379569</td>\n",
       "      <td>0.379569</td>\n",
       "      <td>0.379569</td>\n",
       "      <td>0.0</td>\n",
       "      <td>0.0</td>\n",
       "      <td>0.0</td>\n",
       "      <td>15.144419</td>\n",
       "    </tr>\n",
       "    <tr>\n",
       "      <th>2</th>\n",
       "      <td>2020-07-21</td>\n",
       "      <td>14.744239</td>\n",
       "      <td>13.261790</td>\n",
       "      <td>16.947497</td>\n",
       "      <td>14.744239</td>\n",
       "      <td>14.744239</td>\n",
       "      <td>0.414044</td>\n",
       "      <td>0.414044</td>\n",
       "      <td>0.414044</td>\n",
       "      <td>0.414044</td>\n",
       "      <td>0.414044</td>\n",
       "      <td>0.414044</td>\n",
       "      <td>0.0</td>\n",
       "      <td>0.0</td>\n",
       "      <td>0.0</td>\n",
       "      <td>15.158283</td>\n",
       "    </tr>\n",
       "    <tr>\n",
       "      <th>3</th>\n",
       "      <td>2020-07-22</td>\n",
       "      <td>14.723629</td>\n",
       "      <td>13.467913</td>\n",
       "      <td>17.097819</td>\n",
       "      <td>14.723629</td>\n",
       "      <td>14.723629</td>\n",
       "      <td>0.484004</td>\n",
       "      <td>0.484004</td>\n",
       "      <td>0.484004</td>\n",
       "      <td>0.484004</td>\n",
       "      <td>0.484004</td>\n",
       "      <td>0.484004</td>\n",
       "      <td>0.0</td>\n",
       "      <td>0.0</td>\n",
       "      <td>0.0</td>\n",
       "      <td>15.207633</td>\n",
       "    </tr>\n",
       "    <tr>\n",
       "      <th>4</th>\n",
       "      <td>2020-07-23</td>\n",
       "      <td>14.703018</td>\n",
       "      <td>13.181809</td>\n",
       "      <td>16.964910</td>\n",
       "      <td>14.703018</td>\n",
       "      <td>14.703018</td>\n",
       "      <td>0.341208</td>\n",
       "      <td>0.341208</td>\n",
       "      <td>0.341208</td>\n",
       "      <td>0.341208</td>\n",
       "      <td>0.341208</td>\n",
       "      <td>0.341208</td>\n",
       "      <td>0.0</td>\n",
       "      <td>0.0</td>\n",
       "      <td>0.0</td>\n",
       "      <td>15.044226</td>\n",
       "    </tr>\n",
       "  </tbody>\n",
       "</table>\n",
       "</div>"
      ],
      "text/plain": [
       "          ds      trend  yhat_lower  yhat_upper  trend_lower  trend_upper  \\\n",
       "0 2020-07-17  14.826683   13.538495   16.790201    14.826683    14.826683   \n",
       "1 2020-07-20  14.764850   13.408790   17.040655    14.764850    14.764850   \n",
       "2 2020-07-21  14.744239   13.261790   16.947497    14.744239    14.744239   \n",
       "3 2020-07-22  14.723629   13.467913   17.097819    14.723629    14.723629   \n",
       "4 2020-07-23  14.703018   13.181809   16.964910    14.703018    14.703018   \n",
       "\n",
       "   additive_terms  additive_terms_lower  additive_terms_upper    weekly  \\\n",
       "0        0.283366              0.283366              0.283366  0.283366   \n",
       "1        0.379569              0.379569              0.379569  0.379569   \n",
       "2        0.414044              0.414044              0.414044  0.414044   \n",
       "3        0.484004              0.484004              0.484004  0.484004   \n",
       "4        0.341208              0.341208              0.341208  0.341208   \n",
       "\n",
       "   weekly_lower  weekly_upper  multiplicative_terms  \\\n",
       "0      0.283366      0.283366                   0.0   \n",
       "1      0.379569      0.379569                   0.0   \n",
       "2      0.414044      0.414044                   0.0   \n",
       "3      0.484004      0.484004                   0.0   \n",
       "4      0.341208      0.341208                   0.0   \n",
       "\n",
       "   multiplicative_terms_lower  multiplicative_terms_upper       yhat  \n",
       "0                         0.0                         0.0  15.110049  \n",
       "1                         0.0                         0.0  15.144419  \n",
       "2                         0.0                         0.0  15.158283  \n",
       "3                         0.0                         0.0  15.207633  \n",
       "4                         0.0                         0.0  15.044226  "
      ]
     },
     "execution_count": 65,
     "metadata": {},
     "output_type": "execute_result"
    }
   ],
   "source": [
    "HAL.head()"
   ]
  },
  {
   "cell_type": "code",
   "execution_count": 101,
   "metadata": {},
   "outputs": [
    {
     "name": "stderr",
     "output_type": "stream",
     "text": [
      "INFO:fbprophet:Disabling yearly seasonality. Run prophet with yearly_seasonality=True to override this.\n",
      "INFO:fbprophet:Disabling daily seasonality. Run prophet with daily_seasonality=True to override this.\n"
     ]
    },
    {
     "data": {
      "image/png": "[encoded data removed]",
      "text/plain": [
       "<Figure size 720x432 with 1 Axes>"
      ]
     },
     "metadata": {},
     "output_type": "display_data"
    }
   ],
   "source": [
    "MMM=fcast('MMM')"
   ]
  },
  {
   "cell_type": "code",
   "execution_count": 102,
   "metadata": {},
   "outputs": [
    {
     "name": "stderr",
     "output_type": "stream",
     "text": [
      "INFO:fbprophet:Disabling yearly seasonality. Run prophet with yearly_seasonality=True to override this.\n",
      "INFO:fbprophet:Disabling daily seasonality. Run prophet with daily_seasonality=True to override this.\n"
     ]
    },
    {
     "data": {
      "image/png": "[encoded data removed]",
      "text/plain": [
       "<Figure size 720x432 with 1 Axes>"
      ]
     },
     "metadata": {},
     "output_type": "display_data"
    }
   ],
   "source": [
    "AXP=fcast('AXP')"
   ]
  },
  {
   "cell_type": "code",
   "execution_count": 66,
   "metadata": {},
   "outputs": [],
   "source": [
    "def pred_4():\n",
    "    \"\"\"This function will prompt the user to input 4 different stock/ETF symbols. It will then use Prophet \n",
    "    to forecast the next 21 days of the stock price, and return the values (in percent) of potential gain and loss.\"\"\"\n",
    "    stocks=[]\n",
    "    pcts=[]\n",
    "    stock1,stock2,stock3,stock4=input(\"Enter 4 stock symbols: \").split(\",\")\n",
    "    stocks=[stock1,stock2,stock3,stock4]\n",
    "    for stock in stocks:\n",
    "        stock=stock.upper()\n",
    "        df=fcast(stock)\n",
    "        df1=df['yhat']\n",
    "        df1=df1.tail(21)\n",
    "        df1.reset_index(level=0, drop=True,inplace=True)\n",
    "        change=((df1[20]-df1[0])/df1[0])*100\n",
    "        change=round(change, 2)\n",
    "        pcts.append(change)\n",
    "    for i in range(0,4):\n",
    "        print(f\"Stock: {stocks[i].upper()}\")\n",
    "        print(f\"Percent Change: {pcts[i]}\")\n",
    "    maxp=pcts.index(max(pcts))\n",
    "    print()\n",
    "    print(f'According to the model, {stocks[maxp].upper()} has the highest upside.')\n",
    "    print(\"\\n\" * 3)\n",
    "    print('FOR ENTERTAINMENT PURPOSES ONLY. This does not substitute for advise from a financial advisor.') \n",
    "    print('The creator and affiliates are not responsible for any potential losses. But totally responsible for any gains.')\n",
    "    return None\n",
    "    "
   ]
  },
  {
   "cell_type": "code",
   "execution_count": 67,
   "metadata": {
    "scrolled": false
   },
   "outputs": [
    {
     "name": "stdout",
     "output_type": "stream",
     "text": [
      "Enter 4 stock symbols: fb,msft,amzn,googl\n"
     ]
    },
    {
     "name": "stderr",
     "output_type": "stream",
     "text": [
      "INFO:fbprophet:Disabling yearly seasonality. Run prophet with yearly_seasonality=True to override this.\n",
      "INFO:fbprophet:Disabling daily seasonality. Run prophet with daily_seasonality=True to override this.\n",
      "INFO:fbprophet:Disabling yearly seasonality. Run prophet with yearly_seasonality=True to override this.\n",
      "INFO:fbprophet:Disabling daily seasonality. Run prophet with daily_seasonality=True to override this.\n",
      "INFO:fbprophet:Disabling yearly seasonality. Run prophet with yearly_seasonality=True to override this.\n",
      "INFO:fbprophet:Disabling daily seasonality. Run prophet with daily_seasonality=True to override this.\n",
      "INFO:fbprophet:Disabling yearly seasonality. Run prophet with yearly_seasonality=True to override this.\n",
      "INFO:fbprophet:Disabling daily seasonality. Run prophet with daily_seasonality=True to override this.\n"
     ]
    },
    {
     "name": "stdout",
     "output_type": "stream",
     "text": [
      "Stock: FB\n",
      "Percent Change: 3.17\n",
      "Stock: MSFT\n",
      "Percent Change: 3.51\n",
      "Stock: AMZN\n",
      "Percent Change: 4.83\n",
      "Stock: GOOGL\n",
      "Percent Change: 3.12\n",
      "\n",
      "According to the model, AMZN has the highest upside.\n",
      "\n",
      "\n",
      "\n",
      "\n",
      "FOR ENTERTAINMENT PURPOSES ONLY. This does not substitute for advise from a financial advisor.\n",
      "The creator and affiliates are not responsible for any potential losses. But totally responsible for any gains.\n"
     ]
    }
   ],
   "source": [
    "pred_4()"
   ]
  },
  {
   "cell_type": "code",
   "execution_count": null,
   "metadata": {},
   "outputs": [],
   "source": []
  },
  {
   "cell_type": "code",
   "execution_count": null,
   "metadata": {},
   "outputs": [],
   "source": []
  },
  {
   "cell_type": "code",
   "execution_count": null,
   "metadata": {},
   "outputs": [],
   "source": []
  },
  {
   "cell_type": "code",
   "execution_count": null,
   "metadata": {},
   "outputs": [],
   "source": []
  },
  {
   "cell_type": "code",
   "execution_count": null,
   "metadata": {},
   "outputs": [],
   "source": []
  },
  {
   "cell_type": "code",
   "execution_count": null,
   "metadata": {},
   "outputs": [],
   "source": []
  },
  {
   "cell_type": "code",
   "execution_count": null,
   "metadata": {},
   "outputs": [],
   "source": []
  },
  {
   "cell_type": "code",
   "execution_count": null,
   "metadata": {},
   "outputs": [],
   "source": []
  },
  {
   "cell_type": "code",
   "execution_count": null,
   "metadata": {},
   "outputs": [],
   "source": []
  },
  {
   "cell_type": "code",
   "execution_count": null,
   "metadata": {},
   "outputs": [],
   "source": []
  },
  {
   "cell_type": "code",
   "execution_count": null,
   "metadata": {},
   "outputs": [],
   "source": []
  },
  {
   "cell_type": "code",
   "execution_count": null,
   "metadata": {},
   "outputs": [],
   "source": []
  },
  {
   "cell_type": "code",
   "execution_count": null,
   "metadata": {},
   "outputs": [],
   "source": []
  },
  {
   "cell_type": "code",
   "execution_count": null,
   "metadata": {},
   "outputs": [],
   "source": []
  },
  {
   "cell_type": "code",
   "execution_count": null,
   "metadata": {},
   "outputs": [],
   "source": []
  },
  {
   "cell_type": "code",
   "execution_count": null,
   "metadata": {},
   "outputs": [],
   "source": []
  },
  {
   "cell_type": "code",
   "execution_count": null,
   "metadata": {},
   "outputs": [],
   "source": []
  },
  {
   "cell_type": "code",
   "execution_count": null,
   "metadata": {},
   "outputs": [],
   "source": []
  }
 ],
 "metadata": {
  "kernelspec": {
   "display_name": "Python 3",
   "language": "python",
   "name": "python3"
  },
  "language_info": {
   "codemirror_mode": {
    "name": "ipython",
    "version": 3
   },
   "file_extension": ".py",
   "mimetype": "text/x-python",
   "name": "python",
   "nbconvert_exporter": "python",
   "pygments_lexer": "ipython3",
   "version": "3.6.9"
  }
 },
 "nbformat": 4,
 "nbformat_minor": 4
}
