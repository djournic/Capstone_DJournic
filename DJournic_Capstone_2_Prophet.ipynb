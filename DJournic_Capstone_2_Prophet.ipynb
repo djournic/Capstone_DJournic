{
 "cells": [
  {
   "cell_type": "markdown",
   "metadata": {},
   "source": [
    "# Prophet modeling"
   ]
  },
  {
   "cell_type": "markdown",
   "metadata": {},
   "source": [
    "Here we'll try to mimic the same process of finding the best train-test split, but for Facebook's Prophet library. Let's import everything."
   ]
  },
  {
   "cell_type": "code",
   "execution_count": 1,
   "metadata": {},
   "outputs": [],
   "source": [
    "from fbprophet import Prophet\n",
    "from prophet.diagnostics import cross_validation\n",
    "from prophet.plot import plot_cross_validation_metric\n",
    "from prophet.diagnostics import performance_metrics\n",
    "from sklearn.linear_model import LinearRegression\n",
    "from iexfinance.stocks import Stock\n",
    "import random\n",
    "#from trafalgar import*\n",
    "import pandas as pd\n",
    "import pandas.tseries\n",
    "import numpy as np\n",
    "import seaborn as sb\n",
    "import matplotlib.pyplot as plt\n",
    "import statsmodels.api as sm\n",
    "import matplotlib\n",
    "import pmdarima as pm\n",
    "import datetime as dt\n",
    "from datetime import date\n",
    "from datetime import timedelta \n",
    "import yfinance as yf\n",
    "import requests\n",
    "from sklearn.model_selection import TimeSeriesSplit\n",
    "from sktime.forecasting.model_selection import temporal_train_test_split\n",
    "from pandas.plotting import lag_plot\n",
    "from pandas import datetime\n",
    "import re\n",
    "from tiingo import TiingoClient\n",
    "import json\n",
    "from pandas_datareader import data as pdr"
   ]
  },
  {
   "cell_type": "code",
   "execution_count": 2,
   "metadata": {},
   "outputs": [
    {
     "data": {
      "text/plain": [
       "'0.1.63'"
      ]
     },
     "execution_count": 2,
     "metadata": {},
     "output_type": "execute_result"
    }
   ],
   "source": [
    "yf.__version__"
   ]
  },
  {
   "cell_type": "markdown",
   "metadata": {},
   "source": [
    "### The test case: C\n",
    "Just like the previous notebook, we'll try to run through a simple test case and expand it to other stocks. We'll use Citicgroup again."
   ]
  },
  {
   "cell_type": "markdown",
   "metadata": {},
   "source": [
    "Quick note: I encountered a bug with my earlier library, yfinance, so I've had to switch to tiingo, so a lot of code will be hashed out from earlier. And in case I can get the bugs worked out."
   ]
  },
  {
   "cell_type": "code",
   "execution_count": 3,
   "metadata": {},
   "outputs": [],
   "source": [
    "c = yf.Ticker(\"C\")"
   ]
  },
  {
   "cell_type": "code",
   "execution_count": 4,
   "metadata": {
    "scrolled": true
   },
   "outputs": [],
   "source": [
    "df=c.history(period=\"2y\")"
   ]
  },
  {
   "cell_type": "code",
   "execution_count": 5,
   "metadata": {},
   "outputs": [
    {
     "data": {
      "text/html": [
       "<div>\n",
       "<style scoped>\n",
       "    .dataframe tbody tr th:only-of-type {\n",
       "        vertical-align: middle;\n",
       "    }\n",
       "\n",
       "    .dataframe tbody tr th {\n",
       "        vertical-align: top;\n",
       "    }\n",
       "\n",
       "    .dataframe thead th {\n",
       "        text-align: right;\n",
       "    }\n",
       "</style>\n",
       "<table border=\"1\" class=\"dataframe\">\n",
       "  <thead>\n",
       "    <tr style=\"text-align: right;\">\n",
       "      <th></th>\n",
       "      <th>Open</th>\n",
       "      <th>High</th>\n",
       "      <th>Low</th>\n",
       "      <th>Close</th>\n",
       "      <th>Volume</th>\n",
       "      <th>Dividends</th>\n",
       "      <th>Stock Splits</th>\n",
       "    </tr>\n",
       "    <tr>\n",
       "      <th>Date</th>\n",
       "      <th></th>\n",
       "      <th></th>\n",
       "      <th></th>\n",
       "      <th></th>\n",
       "      <th></th>\n",
       "      <th></th>\n",
       "      <th></th>\n",
       "    </tr>\n",
       "  </thead>\n",
       "  <tbody>\n",
       "    <tr>\n",
       "      <th>2019-07-29</th>\n",
       "      <td>67.075884</td>\n",
       "      <td>67.476971</td>\n",
       "      <td>66.907984</td>\n",
       "      <td>66.935966</td>\n",
       "      <td>8561200</td>\n",
       "      <td>0.00</td>\n",
       "      <td>0</td>\n",
       "    </tr>\n",
       "    <tr>\n",
       "      <th>2019-07-30</th>\n",
       "      <td>66.255033</td>\n",
       "      <td>66.889320</td>\n",
       "      <td>65.835287</td>\n",
       "      <td>66.889320</td>\n",
       "      <td>9208300</td>\n",
       "      <td>0.00</td>\n",
       "      <td>0</td>\n",
       "    </tr>\n",
       "    <tr>\n",
       "      <th>2019-07-31</th>\n",
       "      <td>66.600161</td>\n",
       "      <td>66.842685</td>\n",
       "      <td>66.049820</td>\n",
       "      <td>66.376297</td>\n",
       "      <td>13617300</td>\n",
       "      <td>0.00</td>\n",
       "      <td>0</td>\n",
       "    </tr>\n",
       "    <tr>\n",
       "      <th>2019-08-01</th>\n",
       "      <td>65.919222</td>\n",
       "      <td>66.310986</td>\n",
       "      <td>63.055603</td>\n",
       "      <td>63.755184</td>\n",
       "      <td>22571000</td>\n",
       "      <td>0.00</td>\n",
       "      <td>0</td>\n",
       "    </tr>\n",
       "    <tr>\n",
       "      <th>2019-08-02</th>\n",
       "      <td>63.539043</td>\n",
       "      <td>63.961945</td>\n",
       "      <td>62.618048</td>\n",
       "      <td>63.539043</td>\n",
       "      <td>14771400</td>\n",
       "      <td>0.51</td>\n",
       "      <td>0</td>\n",
       "    </tr>\n",
       "  </tbody>\n",
       "</table>\n",
       "</div>"
      ],
      "text/plain": [
       "                 Open       High        Low      Close    Volume  Dividends  \\\n",
       "Date                                                                          \n",
       "2019-07-29  67.075884  67.476971  66.907984  66.935966   8561200       0.00   \n",
       "2019-07-30  66.255033  66.889320  65.835287  66.889320   9208300       0.00   \n",
       "2019-07-31  66.600161  66.842685  66.049820  66.376297  13617300       0.00   \n",
       "2019-08-01  65.919222  66.310986  63.055603  63.755184  22571000       0.00   \n",
       "2019-08-02  63.539043  63.961945  62.618048  63.539043  14771400       0.51   \n",
       "\n",
       "            Stock Splits  \n",
       "Date                      \n",
       "2019-07-29             0  \n",
       "2019-07-30             0  \n",
       "2019-07-31             0  \n",
       "2019-08-01             0  \n",
       "2019-08-02             0  "
      ]
     },
     "execution_count": 5,
     "metadata": {},
     "output_type": "execute_result"
    }
   ],
   "source": [
    "df.head()"
   ]
  },
  {
   "cell_type": "code",
   "execution_count": 6,
   "metadata": {},
   "outputs": [
    {
     "data": {
      "text/html": [
       "<div>\n",
       "<style scoped>\n",
       "    .dataframe tbody tr th:only-of-type {\n",
       "        vertical-align: middle;\n",
       "    }\n",
       "\n",
       "    .dataframe tbody tr th {\n",
       "        vertical-align: top;\n",
       "    }\n",
       "\n",
       "    .dataframe thead th {\n",
       "        text-align: right;\n",
       "    }\n",
       "</style>\n",
       "<table border=\"1\" class=\"dataframe\">\n",
       "  <thead>\n",
       "    <tr style=\"text-align: right;\">\n",
       "      <th></th>\n",
       "      <th>Open</th>\n",
       "      <th>High</th>\n",
       "      <th>Low</th>\n",
       "      <th>Close</th>\n",
       "      <th>Volume</th>\n",
       "      <th>Dividends</th>\n",
       "      <th>Stock Splits</th>\n",
       "    </tr>\n",
       "    <tr>\n",
       "      <th>Date</th>\n",
       "      <th></th>\n",
       "      <th></th>\n",
       "      <th></th>\n",
       "      <th></th>\n",
       "      <th></th>\n",
       "      <th></th>\n",
       "      <th></th>\n",
       "    </tr>\n",
       "  </thead>\n",
       "  <tbody>\n",
       "    <tr>\n",
       "      <th>2019-07-29</th>\n",
       "      <td>67.075884</td>\n",
       "      <td>67.476971</td>\n",
       "      <td>66.907984</td>\n",
       "      <td>66.935966</td>\n",
       "      <td>8561200</td>\n",
       "      <td>0.00</td>\n",
       "      <td>0</td>\n",
       "    </tr>\n",
       "    <tr>\n",
       "      <th>2019-07-30</th>\n",
       "      <td>66.255033</td>\n",
       "      <td>66.889320</td>\n",
       "      <td>65.835287</td>\n",
       "      <td>66.889320</td>\n",
       "      <td>9208300</td>\n",
       "      <td>0.00</td>\n",
       "      <td>0</td>\n",
       "    </tr>\n",
       "    <tr>\n",
       "      <th>2019-07-31</th>\n",
       "      <td>66.600161</td>\n",
       "      <td>66.842685</td>\n",
       "      <td>66.049820</td>\n",
       "      <td>66.376297</td>\n",
       "      <td>13617300</td>\n",
       "      <td>0.00</td>\n",
       "      <td>0</td>\n",
       "    </tr>\n",
       "    <tr>\n",
       "      <th>2019-08-01</th>\n",
       "      <td>65.919222</td>\n",
       "      <td>66.310986</td>\n",
       "      <td>63.055603</td>\n",
       "      <td>63.755184</td>\n",
       "      <td>22571000</td>\n",
       "      <td>0.00</td>\n",
       "      <td>0</td>\n",
       "    </tr>\n",
       "    <tr>\n",
       "      <th>2019-08-02</th>\n",
       "      <td>63.539043</td>\n",
       "      <td>63.961945</td>\n",
       "      <td>62.618048</td>\n",
       "      <td>63.539043</td>\n",
       "      <td>14771400</td>\n",
       "      <td>0.51</td>\n",
       "      <td>0</td>\n",
       "    </tr>\n",
       "  </tbody>\n",
       "</table>\n",
       "</div>"
      ],
      "text/plain": [
       "                 Open       High        Low      Close    Volume  Dividends  \\\n",
       "Date                                                                          \n",
       "2019-07-29  67.075884  67.476971  66.907984  66.935966   8561200       0.00   \n",
       "2019-07-30  66.255033  66.889320  65.835287  66.889320   9208300       0.00   \n",
       "2019-07-31  66.600161  66.842685  66.049820  66.376297  13617300       0.00   \n",
       "2019-08-01  65.919222  66.310986  63.055603  63.755184  22571000       0.00   \n",
       "2019-08-02  63.539043  63.961945  62.618048  63.539043  14771400       0.51   \n",
       "\n",
       "            Stock Splits  \n",
       "Date                      \n",
       "2019-07-29             0  \n",
       "2019-07-30             0  \n",
       "2019-07-31             0  \n",
       "2019-08-01             0  \n",
       "2019-08-02             0  "
      ]
     },
     "execution_count": 6,
     "metadata": {},
     "output_type": "execute_result"
    }
   ],
   "source": [
    "df.head()"
   ]
  },
  {
   "cell_type": "code",
   "execution_count": 7,
   "metadata": {},
   "outputs": [],
   "source": [
    "deltas=['d','m','y']\n",
    "att='200d'"
   ]
  },
  {
   "cell_type": "code",
   "execution_count": 8,
   "metadata": {},
   "outputs": [
    {
     "data": {
      "text/plain": [
       "'d'"
      ]
     },
     "execution_count": 8,
     "metadata": {},
     "output_type": "execute_result"
    }
   ],
   "source": [
    "att[-1]"
   ]
  },
  {
   "cell_type": "code",
   "execution_count": 9,
   "metadata": {},
   "outputs": [
    {
     "data": {
      "text/plain": [
       "'200'"
      ]
     },
     "execution_count": 9,
     "metadata": {},
     "output_type": "execute_result"
    }
   ],
   "source": [
    "spl=len(att)-1\n",
    "att[:spl]"
   ]
  },
  {
   "cell_type": "code",
   "execution_count": 10,
   "metadata": {},
   "outputs": [
    {
     "data": {
      "text/plain": [
       "'200 days'"
      ]
     },
     "execution_count": 10,
     "metadata": {},
     "output_type": "execute_result"
    }
   ],
   "source": [
    "end=att[:spl] + ' days'\n",
    "end"
   ]
  },
  {
   "cell_type": "code",
   "execution_count": 11,
   "metadata": {},
   "outputs": [],
   "source": [
    "df1=df['Close']"
   ]
  },
  {
   "cell_type": "code",
   "execution_count": 12,
   "metadata": {},
   "outputs": [
    {
     "data": {
      "text/plain": [
       "Date\n",
       "2019-07-29    66.935966\n",
       "2019-07-30    66.889320\n",
       "2019-07-31    66.376297\n",
       "2019-08-01    63.755184\n",
       "2019-08-02    63.539043\n",
       "Name: Close, dtype: float64"
      ]
     },
     "execution_count": 12,
     "metadata": {},
     "output_type": "execute_result"
    }
   ],
   "source": [
    "df1.head()"
   ]
  },
  {
   "cell_type": "code",
   "execution_count": 13,
   "metadata": {},
   "outputs": [],
   "source": [
    "df1=df1.to_frame()"
   ]
  },
  {
   "cell_type": "code",
   "execution_count": 14,
   "metadata": {},
   "outputs": [],
   "source": [
    "# instantiate Prophet\n",
    "prof_1 = Prophet()"
   ]
  },
  {
   "cell_type": "code",
   "execution_count": 15,
   "metadata": {},
   "outputs": [
    {
     "data": {
      "text/html": [
       "<div>\n",
       "<style scoped>\n",
       "    .dataframe tbody tr th:only-of-type {\n",
       "        vertical-align: middle;\n",
       "    }\n",
       "\n",
       "    .dataframe tbody tr th {\n",
       "        vertical-align: top;\n",
       "    }\n",
       "\n",
       "    .dataframe thead th {\n",
       "        text-align: right;\n",
       "    }\n",
       "</style>\n",
       "<table border=\"1\" class=\"dataframe\">\n",
       "  <thead>\n",
       "    <tr style=\"text-align: right;\">\n",
       "      <th></th>\n",
       "      <th>Close</th>\n",
       "    </tr>\n",
       "    <tr>\n",
       "      <th>Date</th>\n",
       "      <th></th>\n",
       "    </tr>\n",
       "  </thead>\n",
       "  <tbody>\n",
       "    <tr>\n",
       "      <th>2019-07-29</th>\n",
       "      <td>66.935966</td>\n",
       "    </tr>\n",
       "    <tr>\n",
       "      <th>2019-07-30</th>\n",
       "      <td>66.889320</td>\n",
       "    </tr>\n",
       "    <tr>\n",
       "      <th>2019-07-31</th>\n",
       "      <td>66.376297</td>\n",
       "    </tr>\n",
       "    <tr>\n",
       "      <th>2019-08-01</th>\n",
       "      <td>63.755184</td>\n",
       "    </tr>\n",
       "    <tr>\n",
       "      <th>2019-08-02</th>\n",
       "      <td>63.539043</td>\n",
       "    </tr>\n",
       "  </tbody>\n",
       "</table>\n",
       "</div>"
      ],
      "text/plain": [
       "                Close\n",
       "Date                 \n",
       "2019-07-29  66.935966\n",
       "2019-07-30  66.889320\n",
       "2019-07-31  66.376297\n",
       "2019-08-01  63.755184\n",
       "2019-08-02  63.539043"
      ]
     },
     "execution_count": 15,
     "metadata": {},
     "output_type": "execute_result"
    }
   ],
   "source": [
    "df1.head()"
   ]
  },
  {
   "cell_type": "code",
   "execution_count": 16,
   "metadata": {},
   "outputs": [],
   "source": [
    "df1.index.names = ['ds']\n",
    "df1.columns=['y']"
   ]
  },
  {
   "cell_type": "code",
   "execution_count": 17,
   "metadata": {},
   "outputs": [],
   "source": [
    "df1.reset_index(level=0, inplace=True)"
   ]
  },
  {
   "cell_type": "code",
   "execution_count": 18,
   "metadata": {},
   "outputs": [
    {
     "data": {
      "text/html": [
       "<div>\n",
       "<style scoped>\n",
       "    .dataframe tbody tr th:only-of-type {\n",
       "        vertical-align: middle;\n",
       "    }\n",
       "\n",
       "    .dataframe tbody tr th {\n",
       "        vertical-align: top;\n",
       "    }\n",
       "\n",
       "    .dataframe thead th {\n",
       "        text-align: right;\n",
       "    }\n",
       "</style>\n",
       "<table border=\"1\" class=\"dataframe\">\n",
       "  <thead>\n",
       "    <tr style=\"text-align: right;\">\n",
       "      <th></th>\n",
       "      <th>ds</th>\n",
       "      <th>y</th>\n",
       "    </tr>\n",
       "  </thead>\n",
       "  <tbody>\n",
       "    <tr>\n",
       "      <th>0</th>\n",
       "      <td>2019-07-29</td>\n",
       "      <td>66.935966</td>\n",
       "    </tr>\n",
       "    <tr>\n",
       "      <th>1</th>\n",
       "      <td>2019-07-30</td>\n",
       "      <td>66.889320</td>\n",
       "    </tr>\n",
       "    <tr>\n",
       "      <th>2</th>\n",
       "      <td>2019-07-31</td>\n",
       "      <td>66.376297</td>\n",
       "    </tr>\n",
       "    <tr>\n",
       "      <th>3</th>\n",
       "      <td>2019-08-01</td>\n",
       "      <td>63.755184</td>\n",
       "    </tr>\n",
       "    <tr>\n",
       "      <th>4</th>\n",
       "      <td>2019-08-02</td>\n",
       "      <td>63.539043</td>\n",
       "    </tr>\n",
       "  </tbody>\n",
       "</table>\n",
       "</div>"
      ],
      "text/plain": [
       "          ds          y\n",
       "0 2019-07-29  66.935966\n",
       "1 2019-07-30  66.889320\n",
       "2 2019-07-31  66.376297\n",
       "3 2019-08-01  63.755184\n",
       "4 2019-08-02  63.539043"
      ]
     },
     "execution_count": 18,
     "metadata": {},
     "output_type": "execute_result"
    }
   ],
   "source": [
    "df1.head()"
   ]
  },
  {
   "cell_type": "code",
   "execution_count": 19,
   "metadata": {},
   "outputs": [
    {
     "name": "stdout",
     "output_type": "stream",
     "text": [
      "<class 'pandas.core.frame.DataFrame'>\n",
      "RangeIndex: 503 entries, 0 to 502\n",
      "Data columns (total 2 columns):\n",
      " #   Column  Non-Null Count  Dtype         \n",
      "---  ------  --------------  -----         \n",
      " 0   ds      503 non-null    datetime64[ns]\n",
      " 1   y       503 non-null    float64       \n",
      "dtypes: datetime64[ns](1), float64(1)\n",
      "memory usage: 8.0 KB\n"
     ]
    }
   ],
   "source": [
    "df1.info()"
   ]
  },
  {
   "cell_type": "code",
   "execution_count": 20,
   "metadata": {},
   "outputs": [
    {
     "name": "stderr",
     "output_type": "stream",
     "text": [
      "INFO:fbprophet:Disabling yearly seasonality. Run prophet with yearly_seasonality=True to override this.\n",
      "INFO:fbprophet:Disabling daily seasonality. Run prophet with daily_seasonality=True to override this.\n"
     ]
    },
    {
     "data": {
      "text/plain": [
       "<fbprophet.forecaster.Prophet at 0x22efe5a5b00>"
      ]
     },
     "execution_count": 20,
     "metadata": {},
     "output_type": "execute_result"
    }
   ],
   "source": [
    "prof_1.fit(df1)"
   ]
  },
  {
   "cell_type": "code",
   "execution_count": 21,
   "metadata": {},
   "outputs": [],
   "source": [
    "#Create a new dataframe for the predictions, 3 weeks out\n",
    "future = prof_1.make_future_dataframe(periods=21)"
   ]
  },
  {
   "cell_type": "code",
   "execution_count": 22,
   "metadata": {},
   "outputs": [],
   "source": [
    "forecast = prof_1.predict(future)"
   ]
  },
  {
   "cell_type": "code",
   "execution_count": 23,
   "metadata": {},
   "outputs": [
    {
     "data": {
      "text/html": [
       "<div>\n",
       "<style scoped>\n",
       "    .dataframe tbody tr th:only-of-type {\n",
       "        vertical-align: middle;\n",
       "    }\n",
       "\n",
       "    .dataframe tbody tr th {\n",
       "        vertical-align: top;\n",
       "    }\n",
       "\n",
       "    .dataframe thead th {\n",
       "        text-align: right;\n",
       "    }\n",
       "</style>\n",
       "<table border=\"1\" class=\"dataframe\">\n",
       "  <thead>\n",
       "    <tr style=\"text-align: right;\">\n",
       "      <th></th>\n",
       "      <th>ds</th>\n",
       "      <th>trend</th>\n",
       "      <th>yhat_lower</th>\n",
       "      <th>yhat_upper</th>\n",
       "      <th>trend_lower</th>\n",
       "      <th>trend_upper</th>\n",
       "      <th>additive_terms</th>\n",
       "      <th>additive_terms_lower</th>\n",
       "      <th>additive_terms_upper</th>\n",
       "      <th>weekly</th>\n",
       "      <th>weekly_lower</th>\n",
       "      <th>weekly_upper</th>\n",
       "      <th>multiplicative_terms</th>\n",
       "      <th>multiplicative_terms_lower</th>\n",
       "      <th>multiplicative_terms_upper</th>\n",
       "      <th>yhat</th>\n",
       "    </tr>\n",
       "  </thead>\n",
       "  <tbody>\n",
       "    <tr>\n",
       "      <th>519</th>\n",
       "      <td>2021-08-12</td>\n",
       "      <td>76.903740</td>\n",
       "      <td>69.819677</td>\n",
       "      <td>81.958577</td>\n",
       "      <td>76.646745</td>\n",
       "      <td>77.112426</td>\n",
       "      <td>-0.972526</td>\n",
       "      <td>-0.972526</td>\n",
       "      <td>-0.972526</td>\n",
       "      <td>-0.972526</td>\n",
       "      <td>-0.972526</td>\n",
       "      <td>-0.972526</td>\n",
       "      <td>0.0</td>\n",
       "      <td>0.0</td>\n",
       "      <td>0.0</td>\n",
       "      <td>75.931215</td>\n",
       "    </tr>\n",
       "    <tr>\n",
       "      <th>520</th>\n",
       "      <td>2021-08-13</td>\n",
       "      <td>76.951879</td>\n",
       "      <td>69.572250</td>\n",
       "      <td>82.305244</td>\n",
       "      <td>76.669904</td>\n",
       "      <td>77.212222</td>\n",
       "      <td>-0.981443</td>\n",
       "      <td>-0.981443</td>\n",
       "      <td>-0.981443</td>\n",
       "      <td>-0.981443</td>\n",
       "      <td>-0.981443</td>\n",
       "      <td>-0.981443</td>\n",
       "      <td>0.0</td>\n",
       "      <td>0.0</td>\n",
       "      <td>0.0</td>\n",
       "      <td>75.970436</td>\n",
       "    </tr>\n",
       "    <tr>\n",
       "      <th>521</th>\n",
       "      <td>2021-08-14</td>\n",
       "      <td>77.000018</td>\n",
       "      <td>73.411625</td>\n",
       "      <td>85.927658</td>\n",
       "      <td>76.691431</td>\n",
       "      <td>77.307015</td>\n",
       "      <td>2.491078</td>\n",
       "      <td>2.491078</td>\n",
       "      <td>2.491078</td>\n",
       "      <td>2.491078</td>\n",
       "      <td>2.491078</td>\n",
       "      <td>2.491078</td>\n",
       "      <td>0.0</td>\n",
       "      <td>0.0</td>\n",
       "      <td>0.0</td>\n",
       "      <td>79.491095</td>\n",
       "    </tr>\n",
       "    <tr>\n",
       "      <th>522</th>\n",
       "      <td>2021-08-15</td>\n",
       "      <td>77.048156</td>\n",
       "      <td>73.271870</td>\n",
       "      <td>85.761768</td>\n",
       "      <td>76.701266</td>\n",
       "      <td>77.394474</td>\n",
       "      <td>2.491078</td>\n",
       "      <td>2.491078</td>\n",
       "      <td>2.491078</td>\n",
       "      <td>2.491078</td>\n",
       "      <td>2.491078</td>\n",
       "      <td>2.491078</td>\n",
       "      <td>0.0</td>\n",
       "      <td>0.0</td>\n",
       "      <td>0.0</td>\n",
       "      <td>79.539234</td>\n",
       "    </tr>\n",
       "    <tr>\n",
       "      <th>523</th>\n",
       "      <td>2021-08-16</td>\n",
       "      <td>77.096295</td>\n",
       "      <td>69.244465</td>\n",
       "      <td>82.237461</td>\n",
       "      <td>76.709998</td>\n",
       "      <td>77.470911</td>\n",
       "      <td>-1.062413</td>\n",
       "      <td>-1.062413</td>\n",
       "      <td>-1.062413</td>\n",
       "      <td>-1.062413</td>\n",
       "      <td>-1.062413</td>\n",
       "      <td>-1.062413</td>\n",
       "      <td>0.0</td>\n",
       "      <td>0.0</td>\n",
       "      <td>0.0</td>\n",
       "      <td>76.033882</td>\n",
       "    </tr>\n",
       "  </tbody>\n",
       "</table>\n",
       "</div>"
      ],
      "text/plain": [
       "            ds      trend  yhat_lower  yhat_upper  trend_lower  trend_upper  \\\n",
       "519 2021-08-12  76.903740   69.819677   81.958577    76.646745    77.112426   \n",
       "520 2021-08-13  76.951879   69.572250   82.305244    76.669904    77.212222   \n",
       "521 2021-08-14  77.000018   73.411625   85.927658    76.691431    77.307015   \n",
       "522 2021-08-15  77.048156   73.271870   85.761768    76.701266    77.394474   \n",
       "523 2021-08-16  77.096295   69.244465   82.237461    76.709998    77.470911   \n",
       "\n",
       "     additive_terms  additive_terms_lower  additive_terms_upper    weekly  \\\n",
       "519       -0.972526             -0.972526             -0.972526 -0.972526   \n",
       "520       -0.981443             -0.981443             -0.981443 -0.981443   \n",
       "521        2.491078              2.491078              2.491078  2.491078   \n",
       "522        2.491078              2.491078              2.491078  2.491078   \n",
       "523       -1.062413             -1.062413             -1.062413 -1.062413   \n",
       "\n",
       "     weekly_lower  weekly_upper  multiplicative_terms  \\\n",
       "519     -0.972526     -0.972526                   0.0   \n",
       "520     -0.981443     -0.981443                   0.0   \n",
       "521      2.491078      2.491078                   0.0   \n",
       "522      2.491078      2.491078                   0.0   \n",
       "523     -1.062413     -1.062413                   0.0   \n",
       "\n",
       "     multiplicative_terms_lower  multiplicative_terms_upper       yhat  \n",
       "519                         0.0                         0.0  75.931215  \n",
       "520                         0.0                         0.0  75.970436  \n",
       "521                         0.0                         0.0  79.491095  \n",
       "522                         0.0                         0.0  79.539234  \n",
       "523                         0.0                         0.0  76.033882  "
      ]
     },
     "execution_count": 23,
     "metadata": {},
     "output_type": "execute_result"
    }
   ],
   "source": [
    "forecast.tail()"
   ]
  },
  {
   "cell_type": "code",
   "execution_count": 24,
   "metadata": {},
   "outputs": [
    {
     "name": "stdout",
     "output_type": "stream",
     "text": [
      "<class 'pandas.core.frame.DataFrame'>\n",
      "RangeIndex: 524 entries, 0 to 523\n",
      "Data columns (total 16 columns):\n",
      " #   Column                      Non-Null Count  Dtype         \n",
      "---  ------                      --------------  -----         \n",
      " 0   ds                          524 non-null    datetime64[ns]\n",
      " 1   trend                       524 non-null    float64       \n",
      " 2   yhat_lower                  524 non-null    float64       \n",
      " 3   yhat_upper                  524 non-null    float64       \n",
      " 4   trend_lower                 524 non-null    float64       \n",
      " 5   trend_upper                 524 non-null    float64       \n",
      " 6   additive_terms              524 non-null    float64       \n",
      " 7   additive_terms_lower        524 non-null    float64       \n",
      " 8   additive_terms_upper        524 non-null    float64       \n",
      " 9   weekly                      524 non-null    float64       \n",
      " 10  weekly_lower                524 non-null    float64       \n",
      " 11  weekly_upper                524 non-null    float64       \n",
      " 12  multiplicative_terms        524 non-null    float64       \n",
      " 13  multiplicative_terms_lower  524 non-null    float64       \n",
      " 14  multiplicative_terms_upper  524 non-null    float64       \n",
      " 15  yhat                        524 non-null    float64       \n",
      "dtypes: datetime64[ns](1), float64(15)\n",
      "memory usage: 65.6 KB\n"
     ]
    }
   ],
   "source": [
    "forecast.info()"
   ]
  },
  {
   "cell_type": "code",
   "execution_count": 25,
   "metadata": {},
   "outputs": [],
   "source": [
    "proph_pred=forecast['yhat']"
   ]
  },
  {
   "cell_type": "code",
   "execution_count": 26,
   "metadata": {},
   "outputs": [
    {
     "data": {
      "image/png": "[encoded data removed]",
      "text/plain": [
       "<Figure size 720x432 with 1 Axes>"
      ]
     },
     "metadata": {},
     "output_type": "display_data"
    }
   ],
   "source": [
    "prof_1.plot(forecast)\n",
    "plt.show()"
   ]
  },
  {
   "cell_type": "code",
   "execution_count": 27,
   "metadata": {
    "scrolled": true
   },
   "outputs": [
    {
     "name": "stderr",
     "output_type": "stream",
     "text": [
      "INFO:prophet:Making 98 forecasts with cutoffs between 2019-09-02 00:00:00 and 2021-07-12 00:00:00\n"
     ]
    },
    {
     "data": {
      "application/vnd.jupyter.widget-view+json": {
       "model_id": "11139a06d28b4da8b2e69b43618273e1",
       "version_major": 2,
       "version_minor": 0
      },
      "text/plain": [
       "  0%|          | 0/98 [00:00<?, ?it/s]"
      ]
     },
     "metadata": {},
     "output_type": "display_data"
    },
    {
     "name": "stderr",
     "output_type": "stream",
     "text": [
      "INFO:fbprophet:n_changepoints greater than number of observations. Using 19.\n",
      "INFO:fbprophet:n_changepoints greater than number of observations. Using 23.\n"
     ]
    }
   ],
   "source": [
    "df1_cv = cross_validation(prof_1, initial='30 days', period='7 days', horizon = '14 days')"
   ]
  },
  {
   "cell_type": "code",
   "execution_count": 28,
   "metadata": {},
   "outputs": [],
   "source": [
    "df1_pm = performance_metrics(df1_cv)"
   ]
  },
  {
   "cell_type": "code",
   "execution_count": 29,
   "metadata": {},
   "outputs": [],
   "source": [
    "trains=['30 days','60 days','180 days']\n",
    "tests=['7 days','14 days','21 days']"
   ]
  },
  {
   "cell_type": "code",
   "execution_count": 30,
   "metadata": {},
   "outputs": [
    {
     "data": {
      "text/html": [
       "<div>\n",
       "<style scoped>\n",
       "    .dataframe tbody tr th:only-of-type {\n",
       "        vertical-align: middle;\n",
       "    }\n",
       "\n",
       "    .dataframe tbody tr th {\n",
       "        vertical-align: top;\n",
       "    }\n",
       "\n",
       "    .dataframe thead th {\n",
       "        text-align: right;\n",
       "    }\n",
       "</style>\n",
       "<table border=\"1\" class=\"dataframe\">\n",
       "  <thead>\n",
       "    <tr style=\"text-align: right;\">\n",
       "      <th></th>\n",
       "      <th>horizon</th>\n",
       "      <th>mse</th>\n",
       "      <th>rmse</th>\n",
       "      <th>mae</th>\n",
       "      <th>mape</th>\n",
       "      <th>mdape</th>\n",
       "      <th>smape</th>\n",
       "      <th>coverage</th>\n",
       "    </tr>\n",
       "  </thead>\n",
       "  <tbody>\n",
       "    <tr>\n",
       "      <th>5</th>\n",
       "      <td>8 days</td>\n",
       "      <td>56.798665</td>\n",
       "      <td>7.536489</td>\n",
       "      <td>5.675017</td>\n",
       "      <td>0.107800</td>\n",
       "      <td>0.066421</td>\n",
       "      <td>0.110591</td>\n",
       "      <td>0.479592</td>\n",
       "    </tr>\n",
       "    <tr>\n",
       "      <th>6</th>\n",
       "      <td>9 days</td>\n",
       "      <td>65.597044</td>\n",
       "      <td>8.099200</td>\n",
       "      <td>6.023453</td>\n",
       "      <td>0.115201</td>\n",
       "      <td>0.065023</td>\n",
       "      <td>0.118581</td>\n",
       "      <td>0.510417</td>\n",
       "    </tr>\n",
       "    <tr>\n",
       "      <th>7</th>\n",
       "      <td>10 days</td>\n",
       "      <td>68.186069</td>\n",
       "      <td>8.257486</td>\n",
       "      <td>5.992518</td>\n",
       "      <td>0.114085</td>\n",
       "      <td>0.062379</td>\n",
       "      <td>0.116996</td>\n",
       "      <td>0.510417</td>\n",
       "    </tr>\n",
       "    <tr>\n",
       "      <th>8</th>\n",
       "      <td>11 days</td>\n",
       "      <td>68.642071</td>\n",
       "      <td>8.285051</td>\n",
       "      <td>6.078169</td>\n",
       "      <td>0.114816</td>\n",
       "      <td>0.066957</td>\n",
       "      <td>0.118065</td>\n",
       "      <td>0.473515</td>\n",
       "    </tr>\n",
       "    <tr>\n",
       "      <th>9</th>\n",
       "      <td>14 days</td>\n",
       "      <td>89.278276</td>\n",
       "      <td>9.448718</td>\n",
       "      <td>7.004400</td>\n",
       "      <td>0.135089</td>\n",
       "      <td>0.078113</td>\n",
       "      <td>0.139062</td>\n",
       "      <td>0.392473</td>\n",
       "    </tr>\n",
       "  </tbody>\n",
       "</table>\n",
       "</div>"
      ],
      "text/plain": [
       "  horizon        mse      rmse       mae      mape     mdape     smape  \\\n",
       "5  8 days  56.798665  7.536489  5.675017  0.107800  0.066421  0.110591   \n",
       "6  9 days  65.597044  8.099200  6.023453  0.115201  0.065023  0.118581   \n",
       "7 10 days  68.186069  8.257486  5.992518  0.114085  0.062379  0.116996   \n",
       "8 11 days  68.642071  8.285051  6.078169  0.114816  0.066957  0.118065   \n",
       "9 14 days  89.278276  9.448718  7.004400  0.135089  0.078113  0.139062   \n",
       "\n",
       "   coverage  \n",
       "5  0.479592  \n",
       "6  0.510417  \n",
       "7  0.510417  \n",
       "8  0.473515  \n",
       "9  0.392473  "
      ]
     },
     "execution_count": 30,
     "metadata": {},
     "output_type": "execute_result"
    }
   ],
   "source": [
    "df1_pm.tail()"
   ]
  },
  {
   "cell_type": "code",
   "execution_count": 31,
   "metadata": {},
   "outputs": [
    {
     "data": {
      "image/png": "[encoded data removed]",
      "text/plain": [
       "<Figure size 720x432 with 1 Axes>"
      ]
     },
     "metadata": {},
     "output_type": "display_data"
    }
   ],
   "source": [
    "fig = plot_cross_validation_metric(df1_cv, metric='mae')"
   ]
  },
  {
   "cell_type": "markdown",
   "metadata": {},
   "source": [
    "## STONKS (Again)!!!"
   ]
  },
  {
   "cell_type": "markdown",
   "metadata": {},
   "source": [
    "Just like in the ARIMA notebook, I want to test a number of train-test splits with Prophet. Since it works a little different from ARIMA, the code will be a little different, but still borrowing a lot. Here, we can import our stock symbols, and clean them up."
   ]
  },
  {
   "cell_type": "code",
   "execution_count": 32,
   "metadata": {},
   "outputs": [],
   "source": [
    "sp_500=pd.read_csv('Data/constituents_csv.csv')\n",
    "nsdq=pd.read_csv('Data/nasdaq1.csv')\n",
    "dow_30=pd.read_excel('Data/dow-jones-industrial-average-components.xls')"
   ]
  },
  {
   "cell_type": "code",
   "execution_count": 33,
   "metadata": {},
   "outputs": [],
   "source": [
    "new_cols=['Name','Symbol','Weight%']\n",
    "dow_30.columns=new_cols"
   ]
  },
  {
   "cell_type": "code",
   "execution_count": 34,
   "metadata": {
    "scrolled": true
   },
   "outputs": [
    {
     "data": {
      "text/html": [
       "<div>\n",
       "<style scoped>\n",
       "    .dataframe tbody tr th:only-of-type {\n",
       "        vertical-align: middle;\n",
       "    }\n",
       "\n",
       "    .dataframe tbody tr th {\n",
       "        vertical-align: top;\n",
       "    }\n",
       "\n",
       "    .dataframe thead th {\n",
       "        text-align: right;\n",
       "    }\n",
       "</style>\n",
       "<table border=\"1\" class=\"dataframe\">\n",
       "  <thead>\n",
       "    <tr style=\"text-align: right;\">\n",
       "      <th></th>\n",
       "      <th>Unnamed: 0</th>\n",
       "      <th>Symbol</th>\n",
       "      <th>Company Name</th>\n",
       "    </tr>\n",
       "  </thead>\n",
       "  <tbody>\n",
       "    <tr>\n",
       "      <th>0</th>\n",
       "      <td>0</td>\n",
       "      <td>AAIT</td>\n",
       "      <td>iShares MSCI All Country Asia Information Tech...</td>\n",
       "    </tr>\n",
       "    <tr>\n",
       "      <th>1</th>\n",
       "      <td>1</td>\n",
       "      <td>AAL</td>\n",
       "      <td>American Airlines Group, Inc.</td>\n",
       "    </tr>\n",
       "    <tr>\n",
       "      <th>2</th>\n",
       "      <td>2</td>\n",
       "      <td>AAME</td>\n",
       "      <td>Atlantic American Corporation</td>\n",
       "    </tr>\n",
       "    <tr>\n",
       "      <th>3</th>\n",
       "      <td>3</td>\n",
       "      <td>AAOI</td>\n",
       "      <td>Applied Optoelectronics, Inc.</td>\n",
       "    </tr>\n",
       "    <tr>\n",
       "      <th>4</th>\n",
       "      <td>4</td>\n",
       "      <td>AAON</td>\n",
       "      <td>AAON, Inc.</td>\n",
       "    </tr>\n",
       "  </tbody>\n",
       "</table>\n",
       "</div>"
      ],
      "text/plain": [
       "   Unnamed: 0 Symbol                                       Company Name\n",
       "0           0   AAIT  iShares MSCI All Country Asia Information Tech...\n",
       "1           1    AAL                      American Airlines Group, Inc.\n",
       "2           2   AAME                      Atlantic American Corporation\n",
       "3           3   AAOI                      Applied Optoelectronics, Inc.\n",
       "4           4   AAON                                         AAON, Inc."
      ]
     },
     "execution_count": 34,
     "metadata": {},
     "output_type": "execute_result"
    }
   ],
   "source": [
    "nsdq.head()"
   ]
  },
  {
   "cell_type": "code",
   "execution_count": 35,
   "metadata": {},
   "outputs": [],
   "source": [
    "nsdq.drop(columns='Unnamed: 0',inplace=True)"
   ]
  },
  {
   "cell_type": "code",
   "execution_count": 36,
   "metadata": {},
   "outputs": [
    {
     "data": {
      "text/plain": [
       "1734"
      ]
     },
     "execution_count": 36,
     "metadata": {},
     "output_type": "execute_result"
    }
   ],
   "source": [
    "len(nsdq)"
   ]
  },
  {
   "cell_type": "markdown",
   "metadata": {},
   "source": [
    "The following cells were necessary for cleaning the nasdaq stock list. But I saved it, and that's what I'm using."
   ]
  },
  {
   "cell_type": "code",
   "execution_count": 37,
   "metadata": {},
   "outputs": [],
   "source": [
    "#no_data=[]\n",
    "#for each in nsdq['Symbol']:\n",
    "#    x=yf.Ticker(each)\n",
    "#    df=x.history(period='1d')\n",
    "#    if len(df)==0:\n",
    "#        no_data.append(each)"
   ]
  },
  {
   "cell_type": "code",
   "execution_count": 38,
   "metadata": {},
   "outputs": [],
   "source": [
    "#len(no_data)"
   ]
  },
  {
   "cell_type": "code",
   "execution_count": 39,
   "metadata": {},
   "outputs": [],
   "source": [
    "#nd_index=[]\n",
    "#for each in no_data:\n",
    "#    y=nsdq.loc[nsdq['Symbol']==each].index\n",
    "#    nd_index.append(y[0])"
   ]
  },
  {
   "cell_type": "code",
   "execution_count": 40,
   "metadata": {},
   "outputs": [],
   "source": [
    "#nsdq = nsdq.drop(labels=nd_index,drop=True, axis=0)\n",
    "#nsdq.reset_index()"
   ]
  },
  {
   "cell_type": "code",
   "execution_count": 41,
   "metadata": {},
   "outputs": [],
   "source": [
    "#nsdq.to_csv(\"/Users/Daniel/Documents/Flatiron/Capstone/Project/nasdaq1.csv\")"
   ]
  },
  {
   "cell_type": "code",
   "execution_count": 42,
   "metadata": {},
   "outputs": [],
   "source": [
    "def tt_test_p (asset,train_val,test_val):\n",
    "    \"\"\"This function will take in a financial asset (stock, etf) as well as 2 lists of integers (training and testing days).\n",
    "    Then the asset will be looked up through yahoo finance and gather the price history. It will then run through the values\n",
    "    of the training and testing lists and run prophet models on all of them. It will record the metrics and return a\n",
    "    dataframe with all the results.\"\"\"\n",
    "    \n",
    "    stock = yf.Ticker(asset)\n",
    "    df1=stock.history(period='2y')\n",
    "    print(\"Processing: \",stock)\n",
    "    prof_1 = Prophet()\n",
    "    df1=df1['Close']\n",
    "    df1=df1.to_frame()\n",
    "    df1.index.names = ['ds']\n",
    "    df1.columns=['y']\n",
    "    df1.reset_index(level=0, inplace=True)\n",
    "    prof_1.fit(df1)\n",
    "    future = prof_1.make_future_dataframe(periods=21)\n",
    "    forecast = prof_1.predict(future)\n",
    "    for train_val in trains:\n",
    "        for test_val in tests:\n",
    "            df1_cv = cross_validation(prof_1, initial=train_val, period=test_val, horizon = '21 days')\n",
    "            df1_pm = performance_metrics(df1_cv)\n",
    "            print('Training: ', train_val)\n",
    "            print('Testing: ', test_val)\n",
    "            print (df1_pm.tail())             \n",
    "\n",
    "    return forecast"
   ]
  },
  {
   "cell_type": "code",
   "execution_count": 43,
   "metadata": {},
   "outputs": [
    {
     "data": {
      "text/html": [
       "<div>\n",
       "<style scoped>\n",
       "    .dataframe tbody tr th:only-of-type {\n",
       "        vertical-align: middle;\n",
       "    }\n",
       "\n",
       "    .dataframe tbody tr th {\n",
       "        vertical-align: top;\n",
       "    }\n",
       "\n",
       "    .dataframe thead th {\n",
       "        text-align: right;\n",
       "    }\n",
       "</style>\n",
       "<table border=\"1\" class=\"dataframe\">\n",
       "  <thead>\n",
       "    <tr style=\"text-align: right;\">\n",
       "      <th></th>\n",
       "      <th>index</th>\n",
       "      <th>Symbol</th>\n",
       "      <th>Train_Len</th>\n",
       "      <th>Test_Len</th>\n",
       "      <th>MAE</th>\n",
       "      <th>RMSE</th>\n",
       "    </tr>\n",
       "  </thead>\n",
       "  <tbody>\n",
       "  </tbody>\n",
       "</table>\n",
       "</div>"
      ],
      "text/plain": [
       "Empty DataFrame\n",
       "Columns: [index, Symbol, Train_Len, Test_Len, MAE, RMSE]\n",
       "Index: []"
      ]
     },
     "execution_count": 43,
     "metadata": {},
     "output_type": "execute_result"
    }
   ],
   "source": [
    "cols2=['Symbol','Train_Len','Test_Len','MAE','RMSE']\n",
    "reslts = pd.DataFrame(columns=cols2)\n",
    "reslts.reset_index()"
   ]
  },
  {
   "cell_type": "code",
   "execution_count": 44,
   "metadata": {
    "scrolled": false
   },
   "outputs": [
    {
     "name": "stderr",
     "output_type": "stream",
     "text": [
      "INFO:fbprophet:Disabling yearly seasonality. Run prophet with yearly_seasonality=True to override this.\n",
      "INFO:fbprophet:Disabling daily seasonality. Run prophet with daily_seasonality=True to override this.\n"
     ]
    },
    {
     "name": "stdout",
     "output_type": "stream",
     "text": [
      "Processing:  yfinance.Ticker object <CAT>\n"
     ]
    },
    {
     "name": "stderr",
     "output_type": "stream",
     "text": [
      "INFO:prophet:Making 97 forecasts with cutoffs between 2019-09-02 00:00:00 and 2021-07-05 00:00:00\n"
     ]
    },
    {
     "data": {
      "application/vnd.jupyter.widget-view+json": {
       "model_id": "38cf112c597b4c23b5554d54b1f9b8f5",
       "version_major": 2,
       "version_minor": 0
      },
      "text/plain": [
       "  0%|          | 0/97 [00:00<?, ?it/s]"
      ]
     },
     "metadata": {},
     "output_type": "display_data"
    },
    {
     "name": "stderr",
     "output_type": "stream",
     "text": [
      "INFO:fbprophet:n_changepoints greater than number of observations. Using 19.\n",
      "INFO:fbprophet:n_changepoints greater than number of observations. Using 23.\n",
      "INFO:prophet:Making 49 forecasts with cutoffs between 2019-09-02 00:00:00 and 2021-07-05 00:00:00\n"
     ]
    },
    {
     "name": "stdout",
     "output_type": "stream",
     "text": [
      "Training:  30 days\n",
      "Testing:  7 days\n",
      "   horizon         mse       rmse        mae      mape     mdape     smape  \\\n",
      "9  15 days  218.289636  14.774628  11.044398  0.075452  0.048079  0.075291   \n",
      "10 16 days  230.346149  15.177159  11.344151  0.076742  0.048230  0.076755   \n",
      "11 17 days  240.167915  15.497352  11.425325  0.077534  0.045453  0.077295   \n",
      "12 18 days  259.039415  16.094701  11.899763  0.080329  0.045840  0.079834   \n",
      "13 21 days  291.574721  17.075559  12.714797  0.087312  0.051852  0.086787   \n",
      "\n",
      "    coverage  \n",
      "9   0.470064  \n",
      "10  0.473859  \n",
      "11  0.445113  \n",
      "12  0.412256  \n",
      "13  0.425078  \n"
     ]
    },
    {
     "data": {
      "application/vnd.jupyter.widget-view+json": {
       "model_id": "afa36fdce28347ddbdd5453ee1961636",
       "version_major": 2,
       "version_minor": 0
      },
      "text/plain": [
       "  0%|          | 0/49 [00:00<?, ?it/s]"
      ]
     },
     "metadata": {},
     "output_type": "display_data"
    },
    {
     "name": "stderr",
     "output_type": "stream",
     "text": [
      "INFO:fbprophet:n_changepoints greater than number of observations. Using 19.\n",
      "INFO:prophet:Making 33 forecasts with cutoffs between 2019-09-02 00:00:00 and 2021-07-05 00:00:00\n"
     ]
    },
    {
     "name": "stdout",
     "output_type": "stream",
     "text": [
      "Training:  30 days\n",
      "Testing:  14 days\n",
      "   horizon         mse       rmse        mae      mape     mdape     smape  \\\n",
      "9  15 days  229.943309  15.163882  11.141900  0.075656  0.048181  0.075435   \n",
      "10 16 days  232.299538  15.241376  11.187911  0.074944  0.045665  0.074729   \n",
      "11 17 days  228.868767  15.128409  11.066080  0.074211  0.043531  0.073893   \n",
      "12 18 days  251.263481  15.851293  11.688075  0.079194  0.040366  0.078547   \n",
      "13 21 days  300.353143  17.330699  12.946871  0.089745  0.053892  0.088598   \n",
      "\n",
      "    coverage  \n",
      "9   0.489355  \n",
      "10  0.524863  \n",
      "11  0.507042  \n",
      "12  0.461193  \n",
      "13  0.432724  \n"
     ]
    },
    {
     "data": {
      "application/vnd.jupyter.widget-view+json": {
       "model_id": "f1da944d05ac44b5a3c2ab41f0992114",
       "version_major": 2,
       "version_minor": 0
      },
      "text/plain": [
       "  0%|          | 0/33 [00:00<?, ?it/s]"
      ]
     },
     "metadata": {},
     "output_type": "display_data"
    },
    {
     "name": "stderr",
     "output_type": "stream",
     "text": [
      "INFO:fbprophet:n_changepoints greater than number of observations. Using 19.\n",
      "INFO:prophet:Making 93 forecasts with cutoffs between 2019-09-30 00:00:00 and 2021-07-05 00:00:00\n"
     ]
    },
    {
     "name": "stdout",
     "output_type": "stream",
     "text": [
      "Training:  30 days\n",
      "Testing:  21 days\n",
      "   horizon         mse       rmse        mae      mape     mdape     smape  \\\n",
      "9  15 days  229.774068  15.158300  11.819291  0.078904  0.058921  0.079131   \n",
      "10 16 days  222.134427  14.904175  11.832079  0.077670  0.061964  0.078457   \n",
      "11 17 days  223.517096  14.950488  11.894005  0.076575  0.049084  0.077341   \n",
      "12 18 days  244.642206  15.641042  12.322506  0.079644  0.065716  0.080669   \n",
      "13 21 days  248.814387  15.773851  12.113769  0.081166  0.058998  0.082237   \n",
      "\n",
      "    coverage  \n",
      "9   0.405674  \n",
      "10  0.381044  \n",
      "11  0.345745  \n",
      "12  0.319149  \n",
      "13  0.389628  \n"
     ]
    },
    {
     "data": {
      "application/vnd.jupyter.widget-view+json": {
       "model_id": "b98dff5a7b1f47df84b38921268d9c9e",
       "version_major": 2,
       "version_minor": 0
      },
      "text/plain": [
       "  0%|          | 0/93 [00:00<?, ?it/s]"
      ]
     },
     "metadata": {},
     "output_type": "display_data"
    },
    {
     "name": "stderr",
     "output_type": "stream",
     "text": [
      "INFO:prophet:Making 47 forecasts with cutoffs between 2019-09-30 00:00:00 and 2021-07-05 00:00:00\n"
     ]
    },
    {
     "name": "stdout",
     "output_type": "stream",
     "text": [
      "Training:  60 days\n",
      "Testing:  7 days\n",
      "   horizon         mse       rmse        mae      mape     mdape     smape  \\\n",
      "9  15 days  211.664004  14.548677  10.761600  0.072264  0.046812  0.072447   \n",
      "10 16 days  221.646943  14.887812  11.033988  0.073189  0.047426  0.073670   \n",
      "11 17 days  231.123604  15.202750  11.117745  0.074003  0.043171  0.074265   \n",
      "12 18 days  251.999099  15.874479  11.669091  0.077415  0.049861  0.077386   \n",
      "13 21 days  283.424225  16.835208  12.479690  0.084327  0.050299  0.084359   \n",
      "\n",
      "    coverage  \n",
      "9   0.490869  \n",
      "10  0.494543  \n",
      "11  0.457192  \n",
      "12  0.427013  \n",
      "13  0.452256  \n"
     ]
    },
    {
     "data": {
      "application/vnd.jupyter.widget-view+json": {
       "model_id": "14663006daae4b918e3914ec1b5507aa",
       "version_major": 2,
       "version_minor": 0
      },
      "text/plain": [
       "  0%|          | 0/47 [00:00<?, ?it/s]"
      ]
     },
     "metadata": {},
     "output_type": "display_data"
    },
    {
     "name": "stderr",
     "output_type": "stream",
     "text": [
      "INFO:prophet:Making 31 forecasts with cutoffs between 2019-10-14 00:00:00 and 2021-07-05 00:00:00\n"
     ]
    },
    {
     "name": "stdout",
     "output_type": "stream",
     "text": [
      "Training:  60 days\n",
      "Testing:  14 days\n",
      "   horizon         mse       rmse        mae      mape     mdape     smape  \\\n",
      "9  15 days  214.681340  14.652008  10.620241  0.070548  0.047165  0.070760   \n",
      "10 16 days  212.405573  14.574141  10.612031  0.069161  0.042421  0.069602   \n",
      "11 17 days  206.023032  14.353502  10.451250  0.068013  0.042686  0.068485   \n",
      "12 18 days  229.723433  15.156630  11.117851  0.073356  0.045743  0.073504   \n",
      "13 21 days  276.678207  16.633647  12.379136  0.083885  0.045296  0.083652   \n",
      "\n",
      "    coverage  \n",
      "9   0.518651  \n",
      "10  0.562265  \n",
      "11  0.551471  \n",
      "12  0.489216  \n",
      "13  0.451961  \n"
     ]
    },
    {
     "data": {
      "application/vnd.jupyter.widget-view+json": {
       "model_id": "76d0833f0964417686941ff16bd7c916",
       "version_major": 2,
       "version_minor": 0
      },
      "text/plain": [
       "  0%|          | 0/31 [00:00<?, ?it/s]"
      ]
     },
     "metadata": {},
     "output_type": "display_data"
    },
    {
     "name": "stderr",
     "output_type": "stream",
     "text": [
      "INFO:prophet:Making 76 forecasts with cutoffs between 2020-01-27 00:00:00 and 2021-07-05 00:00:00\n"
     ]
    },
    {
     "name": "stdout",
     "output_type": "stream",
     "text": [
      "Training:  60 days\n",
      "Testing:  21 days\n",
      "   horizon         mse       rmse        mae      mape     mdape     smape  \\\n",
      "9  15 days  227.855180  15.094873  11.537939  0.075162  0.060808  0.075432   \n",
      "10 16 days  220.892801  14.862463  11.589932  0.074145  0.055190  0.075038   \n",
      "11 17 days  225.576488  15.019204  11.768395  0.074020  0.051142  0.074834   \n",
      "12 18 days  252.568788  15.892413  12.422774  0.079008  0.054479  0.080002   \n",
      "13 21 days  258.474705  16.077149  12.248187  0.080988  0.054479  0.082002   \n",
      "\n",
      "    coverage  \n",
      "9   0.443182  \n",
      "10  0.406158  \n",
      "11  0.390909  \n",
      "12  0.350440  \n",
      "13  0.416667  \n"
     ]
    },
    {
     "data": {
      "application/vnd.jupyter.widget-view+json": {
       "model_id": "dfbbf1ac45164cd7983583dfa29b9bc9",
       "version_major": 2,
       "version_minor": 0
      },
      "text/plain": [
       "  0%|          | 0/76 [00:00<?, ?it/s]"
      ]
     },
     "metadata": {},
     "output_type": "display_data"
    },
    {
     "name": "stderr",
     "output_type": "stream",
     "text": [
      "INFO:prophet:Making 38 forecasts with cutoffs between 2020-02-03 00:00:00 and 2021-07-05 00:00:00\n"
     ]
    },
    {
     "name": "stdout",
     "output_type": "stream",
     "text": [
      "Training:  180 days\n",
      "Testing:  7 days\n",
      "   horizon         mse       rmse        mae      mape     mdape     smape  \\\n",
      "9  15 days  218.241198  14.772989  10.618077  0.069419  0.039057  0.069499   \n",
      "10 16 days  225.919300  15.030612  10.809982  0.069674  0.039337  0.070064   \n",
      "11 17 days  241.338877  15.535085  11.060267  0.071726  0.045961  0.071783   \n",
      "12 18 days  258.211061  16.068947  11.496599  0.074058  0.036824  0.073733   \n",
      "13 21 days  282.302513  16.801860  12.085926  0.079521  0.041846  0.079322   \n",
      "\n",
      "    coverage  \n",
      "9   0.538472  \n",
      "10  0.548565  \n",
      "11  0.503110  \n",
      "12  0.461091  \n",
      "13  0.495262  \n"
     ]
    },
    {
     "data": {
      "application/vnd.jupyter.widget-view+json": {
       "model_id": "6c4afc2e91fc40f0a37af1223f5ff019",
       "version_major": 2,
       "version_minor": 0
      },
      "text/plain": [
       "  0%|          | 0/38 [00:00<?, ?it/s]"
      ]
     },
     "metadata": {},
     "output_type": "display_data"
    },
    {
     "name": "stderr",
     "output_type": "stream",
     "text": [
      "INFO:prophet:Making 26 forecasts with cutoffs between 2020-01-27 00:00:00 and 2021-07-05 00:00:00\n"
     ]
    },
    {
     "name": "stdout",
     "output_type": "stream",
     "text": [
      "Training:  180 days\n",
      "Testing:  14 days\n",
      "   horizon         mse       rmse        mae      mape     mdape     smape  \\\n",
      "9  15 days  225.311498  15.010380  10.593740  0.068275  0.038209  0.068433   \n",
      "10 16 days  222.086938  14.902582  10.578986  0.066774  0.036225  0.067122   \n",
      "11 17 days  221.701941  14.889659  10.685332  0.067582  0.034540  0.067837   \n",
      "12 18 days  240.657146  15.513128  11.140105  0.071309  0.042560  0.071243   \n",
      "13 21 days  282.381820  16.804220  12.246034  0.080928  0.038121  0.080536   \n",
      "\n",
      "    coverage  \n",
      "9   0.550413  \n",
      "10  0.607177  \n",
      "11  0.588517  \n",
      "12  0.523342  \n",
      "13  0.481818  \n"
     ]
    },
    {
     "data": {
      "application/vnd.jupyter.widget-view+json": {
       "model_id": "331eac075be84c6cacebcdfc6a1b6775",
       "version_major": 2,
       "version_minor": 0
      },
      "text/plain": [
       "  0%|          | 0/26 [00:00<?, ?it/s]"
      ]
     },
     "metadata": {},
     "output_type": "display_data"
    },
    {
     "name": "stdout",
     "output_type": "stream",
     "text": [
      "Training:  180 days\n",
      "Testing:  21 days\n",
      "   horizon         mse       rmse        mae      mape     mdape     smape  \\\n",
      "9  15 days  230.272989  15.174748  11.436223  0.072651  0.042030  0.072677   \n",
      "10 16 days  215.961202  14.695618  11.213672  0.069488  0.043115  0.070278   \n",
      "11 17 days  229.240461  15.140689  11.600104  0.070510  0.061964  0.071259   \n",
      "12 18 days  254.036155  15.938512  12.240935  0.075429  0.065716  0.076275   \n",
      "13 21 days  247.329089  15.726700  11.654565  0.075012  0.043040  0.075841   \n",
      "\n",
      "    coverage  \n",
      "9   0.421171  \n",
      "10  0.423077  \n",
      "11  0.396050  \n",
      "12  0.367983  \n",
      "13  0.460541  \n"
     ]
    }
   ],
   "source": [
    "results_CAT=tt_test_p('CAT',trains,tests)"
   ]
  },
  {
   "cell_type": "code",
   "execution_count": 45,
   "metadata": {},
   "outputs": [
    {
     "name": "stderr",
     "output_type": "stream",
     "text": [
      "INFO:fbprophet:Disabling yearly seasonality. Run prophet with yearly_seasonality=True to override this.\n",
      "INFO:fbprophet:Disabling daily seasonality. Run prophet with daily_seasonality=True to override this.\n"
     ]
    },
    {
     "name": "stdout",
     "output_type": "stream",
     "text": [
      "Processing:  yfinance.Ticker object <MMM>\n"
     ]
    },
    {
     "name": "stderr",
     "output_type": "stream",
     "text": [
      "INFO:prophet:Making 97 forecasts with cutoffs between 2019-09-02 00:00:00 and 2021-07-05 00:00:00\n"
     ]
    },
    {
     "data": {
      "application/vnd.jupyter.widget-view+json": {
       "model_id": "58c359a7b72f487891065cdcd42fc3e8",
       "version_major": 2,
       "version_minor": 0
      },
      "text/plain": [
       "  0%|          | 0/97 [00:00<?, ?it/s]"
      ]
     },
     "metadata": {},
     "output_type": "display_data"
    },
    {
     "name": "stderr",
     "output_type": "stream",
     "text": [
      "INFO:fbprophet:n_changepoints greater than number of observations. Using 19.\n",
      "INFO:fbprophet:n_changepoints greater than number of observations. Using 23.\n",
      "INFO:prophet:Making 49 forecasts with cutoffs between 2019-09-02 00:00:00 and 2021-07-05 00:00:00\n"
     ]
    },
    {
     "name": "stdout",
     "output_type": "stream",
     "text": [
      "Training:  30 days\n",
      "Testing:  7 days\n",
      "   horizon         mse       rmse       mae      mape     mdape     smape  \\\n",
      "9  15 days  118.471230  10.884449  8.439592  0.053141  0.044468  0.053503   \n",
      "10 16 days  121.333133  11.015132  8.463251  0.053016  0.044468  0.053505   \n",
      "11 17 days  122.762516  11.079825  8.681469  0.054342  0.038575  0.054731   \n",
      "12 18 days  130.268654  11.413529  8.947026  0.055980  0.044697  0.056208   \n",
      "13 21 days  155.063041  12.452431  9.664070  0.060906  0.050669  0.061321   \n",
      "\n",
      "    coverage  \n",
      "9   0.456019  \n",
      "10  0.456259  \n",
      "11  0.466917  \n",
      "12  0.455263  \n",
      "13  0.426630  \n"
     ]
    },
    {
     "data": {
      "application/vnd.jupyter.widget-view+json": {
       "model_id": "34e451d1cbfc46ea83b1494dfd1ad8d1",
       "version_major": 2,
       "version_minor": 0
      },
      "text/plain": [
       "  0%|          | 0/49 [00:00<?, ?it/s]"
      ]
     },
     "metadata": {},
     "output_type": "display_data"
    },
    {
     "name": "stderr",
     "output_type": "stream",
     "text": [
      "INFO:fbprophet:n_changepoints greater than number of observations. Using 19.\n",
      "INFO:prophet:Making 33 forecasts with cutoffs between 2019-09-02 00:00:00 and 2021-07-05 00:00:00\n"
     ]
    },
    {
     "name": "stdout",
     "output_type": "stream",
     "text": [
      "Training:  30 days\n",
      "Testing:  14 days\n",
      "   horizon         mse       rmse       mae      mape     mdape     smape  \\\n",
      "9  15 days  132.638100  11.516862  8.704179  0.054475  0.045053  0.054958   \n",
      "10 16 days  127.519805  11.292467  8.396987  0.052438  0.045041  0.052875   \n",
      "11 17 days  122.731639  11.078431  8.458148  0.052721  0.037709  0.053017   \n",
      "12 18 days  129.875465  11.396292  8.846456  0.055717  0.045160  0.055730   \n",
      "13 21 days  157.401815  12.545988  9.833561  0.062595  0.048021  0.062484   \n",
      "\n",
      "    coverage  \n",
      "9   0.439895  \n",
      "10  0.448692  \n",
      "11  0.492958  \n",
      "12  0.468385  \n",
      "13  0.404555  \n"
     ]
    },
    {
     "data": {
      "application/vnd.jupyter.widget-view+json": {
       "model_id": "4597fde3832a4703935af6eb8d39668c",
       "version_major": 2,
       "version_minor": 0
      },
      "text/plain": [
       "  0%|          | 0/33 [00:00<?, ?it/s]"
      ]
     },
     "metadata": {},
     "output_type": "display_data"
    },
    {
     "name": "stderr",
     "output_type": "stream",
     "text": [
      "INFO:fbprophet:n_changepoints greater than number of observations. Using 19.\n",
      "INFO:prophet:Making 93 forecasts with cutoffs between 2019-09-30 00:00:00 and 2021-07-05 00:00:00\n"
     ]
    },
    {
     "name": "stdout",
     "output_type": "stream",
     "text": [
      "Training:  30 days\n",
      "Testing:  21 days\n",
      "   horizon         mse       rmse       mae      mape     mdape     smape  \\\n",
      "9  15 days  123.175267  11.098435  8.568936  0.054324  0.045053  0.054753   \n",
      "10 16 days  113.822977  10.668785  8.157719  0.051553  0.045126  0.052157   \n",
      "11 17 days  117.486252  10.839108  8.552730  0.053749  0.034853  0.054232   \n",
      "12 18 days  126.315405  11.239013  8.900328  0.055698  0.047370  0.056362   \n",
      "13 21 days  125.105359  11.185051  8.569562  0.053658  0.037996  0.054838   \n",
      "\n",
      "    coverage  \n",
      "9   0.448227  \n",
      "10  0.442940  \n",
      "11  0.449468  \n",
      "12  0.442940  \n",
      "13  0.456117  \n"
     ]
    },
    {
     "data": {
      "application/vnd.jupyter.widget-view+json": {
       "model_id": "f65a919d499f4a56b62a29db57d71894",
       "version_major": 2,
       "version_minor": 0
      },
      "text/plain": [
       "  0%|          | 0/93 [00:00<?, ?it/s]"
      ]
     },
     "metadata": {},
     "output_type": "display_data"
    },
    {
     "name": "stderr",
     "output_type": "stream",
     "text": [
      "INFO:prophet:Making 47 forecasts with cutoffs between 2019-09-30 00:00:00 and 2021-07-05 00:00:00\n"
     ]
    },
    {
     "name": "stdout",
     "output_type": "stream",
     "text": [
      "Training:  60 days\n",
      "Testing:  7 days\n",
      "   horizon         mse       rmse       mae      mape     mdape     smape  \\\n",
      "9  15 days  112.976577  10.629044  8.181924  0.051292  0.040446  0.051831   \n",
      "10 16 days  113.873891  10.671171  8.155846  0.050771  0.045084  0.051495   \n",
      "11 17 days  113.927046  10.673661  8.351350  0.051927  0.038575  0.052583   \n",
      "12 18 days  122.286195  11.058309  8.656108  0.053855  0.040816  0.054332   \n",
      "13 21 days  146.826553  12.117201  9.392643  0.058913  0.047223  0.059611   \n",
      "\n",
      "    coverage  \n",
      "9   0.472344  \n",
      "10  0.465254  \n",
      "11  0.483927  \n",
      "12  0.483188  \n",
      "13  0.435719  \n"
     ]
    },
    {
     "data": {
      "application/vnd.jupyter.widget-view+json": {
       "model_id": "7c14fa2613484caea19f2e6b25b16c6f",
       "version_major": 2,
       "version_minor": 0
      },
      "text/plain": [
       "  0%|          | 0/47 [00:00<?, ?it/s]"
      ]
     },
     "metadata": {},
     "output_type": "display_data"
    },
    {
     "name": "stderr",
     "output_type": "stream",
     "text": [
      "INFO:prophet:Making 31 forecasts with cutoffs between 2019-10-14 00:00:00 and 2021-07-05 00:00:00\n"
     ]
    },
    {
     "name": "stdout",
     "output_type": "stream",
     "text": [
      "Training:  60 days\n",
      "Testing:  14 days\n",
      "   horizon         mse       rmse       mae      mape     mdape     smape  \\\n",
      "9  15 days  123.866573  11.129536  8.323433  0.051889  0.041766  0.052558   \n",
      "10 16 days  114.903406  10.719301  7.935488  0.049219  0.041582  0.049936   \n",
      "11 17 days  107.036584  10.345849  7.948966  0.049132  0.040027  0.049774   \n",
      "12 18 days  113.613978  10.658986  8.341753  0.052173  0.044152  0.052543   \n",
      "13 21 days  138.687332  11.776559  9.304766  0.058855  0.046149  0.059163   \n",
      "\n",
      "    coverage  \n",
      "9   0.459469  \n",
      "10  0.482791  \n",
      "11  0.507353  \n",
      "12  0.466993  \n",
      "13  0.400327  \n"
     ]
    },
    {
     "data": {
      "application/vnd.jupyter.widget-view+json": {
       "model_id": "a5198db967a24370a71348182a865f4f",
       "version_major": 2,
       "version_minor": 0
      },
      "text/plain": [
       "  0%|          | 0/31 [00:00<?, ?it/s]"
      ]
     },
     "metadata": {},
     "output_type": "display_data"
    },
    {
     "name": "stderr",
     "output_type": "stream",
     "text": [
      "INFO:prophet:Making 76 forecasts with cutoffs between 2020-01-27 00:00:00 and 2021-07-05 00:00:00\n"
     ]
    },
    {
     "name": "stdout",
     "output_type": "stream",
     "text": [
      "Training:  60 days\n",
      "Testing:  21 days\n",
      "   horizon         mse       rmse       mae      mape     mdape     smape  \\\n",
      "9  15 days  117.399119  10.835087  8.187891  0.051556  0.045824  0.052121   \n",
      "10 16 days  107.677308  10.376768  7.761311  0.048644  0.038990  0.049408   \n",
      "11 17 days  112.533556  10.608183  8.219773  0.051255  0.046193  0.051881   \n",
      "12 18 days  125.547430  11.204795  8.723264  0.054319  0.040077  0.055064   \n",
      "13 21 days  126.361746  11.241074  8.453962  0.052765  0.036434  0.053991   \n",
      "\n",
      "    coverage  \n",
      "9   0.467532  \n",
      "10  0.472141  \n",
      "11  0.456061  \n",
      "12  0.461877  \n",
      "13  0.465152  \n"
     ]
    },
    {
     "data": {
      "application/vnd.jupyter.widget-view+json": {
       "model_id": "57f2cd86f13b42edb43a1d003362796e",
       "version_major": 2,
       "version_minor": 0
      },
      "text/plain": [
       "  0%|          | 0/76 [00:00<?, ?it/s]"
      ]
     },
     "metadata": {},
     "output_type": "display_data"
    },
    {
     "name": "stderr",
     "output_type": "stream",
     "text": [
      "INFO:prophet:Making 38 forecasts with cutoffs between 2020-02-03 00:00:00 and 2021-07-05 00:00:00\n"
     ]
    },
    {
     "name": "stdout",
     "output_type": "stream",
     "text": [
      "Training:  180 days\n",
      "Testing:  7 days\n",
      "   horizon         mse       rmse       mae      mape     mdape     smape  \\\n",
      "9  15 days   97.061294   9.851969  7.470586  0.046793  0.036561  0.047422   \n",
      "10 16 days   95.964075   9.796126  7.384814  0.045801  0.035601  0.046594   \n",
      "11 17 days   98.829012   9.941278  7.637651  0.047297  0.035192  0.048025   \n",
      "12 18 days  104.474413  10.221273  7.908115  0.049009  0.034305  0.049573   \n",
      "13 21 days  120.706763  10.986663  8.463242  0.053049  0.042175  0.053868   \n",
      "\n",
      "    coverage  \n",
      "9   0.529381  \n",
      "10  0.499043  \n",
      "11  0.536722  \n",
      "12  0.534909  \n",
      "13  0.512420  \n"
     ]
    },
    {
     "data": {
      "application/vnd.jupyter.widget-view+json": {
       "model_id": "0daa6e14fe994c97a413bebaa13dcba6",
       "version_major": 2,
       "version_minor": 0
      },
      "text/plain": [
       "  0%|          | 0/38 [00:00<?, ?it/s]"
      ]
     },
     "metadata": {},
     "output_type": "display_data"
    },
    {
     "name": "stderr",
     "output_type": "stream",
     "text": [
      "INFO:prophet:Making 26 forecasts with cutoffs between 2020-01-27 00:00:00 and 2021-07-05 00:00:00\n"
     ]
    },
    {
     "name": "stdout",
     "output_type": "stream",
     "text": [
      "Training:  180 days\n",
      "Testing:  14 days\n",
      "   horizon         mse       rmse       mae      mape     mdape     smape  \\\n",
      "9  15 days  106.235293  10.307051  7.621592  0.047221  0.038675  0.048214   \n",
      "10 16 days   99.925011   9.996250  7.287977  0.044940  0.041162  0.045837   \n",
      "11 17 days   94.911785   9.742268  7.385587  0.045408  0.037709  0.046131   \n",
      "12 18 days   95.668845   9.781045  7.615250  0.047578  0.045270  0.048043   \n",
      "13 21 days  111.272198  10.548564  8.345758  0.053056  0.040783  0.053447   \n",
      "\n",
      "    coverage  \n",
      "9   0.495868  \n",
      "10  0.510048  \n",
      "11  0.535885  \n",
      "12  0.514005  \n",
      "13  0.463636  \n"
     ]
    },
    {
     "data": {
      "application/vnd.jupyter.widget-view+json": {
       "model_id": "c4628c7699fb4abaa022c84fbe5db13b",
       "version_major": 2,
       "version_minor": 0
      },
      "text/plain": [
       "  0%|          | 0/26 [00:00<?, ?it/s]"
      ]
     },
     "metadata": {},
     "output_type": "display_data"
    },
    {
     "name": "stdout",
     "output_type": "stream",
     "text": [
      "Training:  180 days\n",
      "Testing:  21 days\n",
      "   horizon         mse       rmse       mae      mape     mdape     smape  \\\n",
      "9  15 days  106.948632  10.341597  7.699360  0.048621  0.038675  0.048912   \n",
      "10 16 days   92.048836   9.594208  7.187669  0.045025  0.031477  0.045554   \n",
      "11 17 days   98.530864   9.926271  7.623483  0.047451  0.031477  0.047887   \n",
      "12 18 days  110.230724  10.499082  8.091080  0.050412  0.033079  0.050916   \n",
      "13 21 days   99.104652   9.955132  7.477914  0.047015  0.034872  0.047863   \n",
      "\n",
      "    coverage  \n",
      "9   0.539414  \n",
      "10  0.511435  \n",
      "11  0.500000  \n",
      "12  0.513514  \n",
      "13  0.548108  \n"
     ]
    }
   ],
   "source": [
    "results_MMM=tt_test_p('MMM',trains,tests)"
   ]
  },
  {
   "cell_type": "code",
   "execution_count": 46,
   "metadata": {},
   "outputs": [
    {
     "name": "stderr",
     "output_type": "stream",
     "text": [
      "INFO:fbprophet:Disabling yearly seasonality. Run prophet with yearly_seasonality=True to override this.\n",
      "INFO:fbprophet:Disabling daily seasonality. Run prophet with daily_seasonality=True to override this.\n"
     ]
    },
    {
     "name": "stdout",
     "output_type": "stream",
     "text": [
      "Processing:  yfinance.Ticker object <AXP>\n"
     ]
    },
    {
     "name": "stderr",
     "output_type": "stream",
     "text": [
      "INFO:prophet:Making 97 forecasts with cutoffs between 2019-09-02 00:00:00 and 2021-07-05 00:00:00\n"
     ]
    },
    {
     "data": {
      "application/vnd.jupyter.widget-view+json": {
       "model_id": "c76b6f9456b74902834eec04fc772b95",
       "version_major": 2,
       "version_minor": 0
      },
      "text/plain": [
       "  0%|          | 0/97 [00:00<?, ?it/s]"
      ]
     },
     "metadata": {},
     "output_type": "display_data"
    },
    {
     "name": "stderr",
     "output_type": "stream",
     "text": [
      "INFO:fbprophet:n_changepoints greater than number of observations. Using 19.\n",
      "INFO:fbprophet:n_changepoints greater than number of observations. Using 23.\n",
      "INFO:prophet:Making 49 forecasts with cutoffs between 2019-09-02 00:00:00 and 2021-07-05 00:00:00\n"
     ]
    },
    {
     "name": "stdout",
     "output_type": "stream",
     "text": [
      "Training:  30 days\n",
      "Testing:  7 days\n",
      "   horizon         mse       rmse       mae      mape     mdape     smape  \\\n",
      "9  15 days  144.369362  12.015380  7.937559  0.079267  0.032190  0.080859   \n",
      "10 16 days  161.329044  12.701537  8.255916  0.083080  0.034841  0.084797   \n",
      "11 17 days  177.940652  13.339440  8.402717  0.085702  0.034841  0.086759   \n",
      "12 18 days  181.562300  13.474506  8.633099  0.087426  0.039523  0.088499   \n",
      "13 21 days  212.133464  14.564802  9.379787  0.095073  0.042663  0.096332   \n",
      "\n",
      "    coverage  \n",
      "9   0.523034  \n",
      "10  0.547570  \n",
      "11  0.550752  \n",
      "12  0.537669  \n",
      "13  0.522593  \n"
     ]
    },
    {
     "data": {
      "application/vnd.jupyter.widget-view+json": {
       "model_id": "5f98a60101b34f53aa800e29b4cadbff",
       "version_major": 2,
       "version_minor": 0
      },
      "text/plain": [
       "  0%|          | 0/49 [00:00<?, ?it/s]"
      ]
     },
     "metadata": {},
     "output_type": "display_data"
    },
    {
     "name": "stderr",
     "output_type": "stream",
     "text": [
      "INFO:fbprophet:n_changepoints greater than number of observations. Using 19.\n",
      "INFO:prophet:Making 33 forecasts with cutoffs between 2019-09-02 00:00:00 and 2021-07-05 00:00:00\n"
     ]
    },
    {
     "name": "stdout",
     "output_type": "stream",
     "text": [
      "Training:  30 days\n",
      "Testing:  14 days\n",
      "   horizon         mse       rmse       mae      mape     mdape     smape  \\\n",
      "9  15 days  148.135507  12.171093  7.872756  0.077844  0.042252  0.079839   \n",
      "10 16 days  172.556799  13.136088  8.174087  0.083591  0.033080  0.084600   \n",
      "11 17 days  175.458554  13.246077  8.112177  0.084446  0.034546  0.084765   \n",
      "12 18 days  184.756423  13.592513  8.528508  0.089081  0.037090  0.089016   \n",
      "13 21 days  218.316969  14.775553  9.257935  0.096572  0.038644  0.096523   \n",
      "\n",
      "    coverage  \n",
      "9   0.552899  \n",
      "10  0.579477  \n",
      "11  0.577465  \n",
      "12  0.546299  \n",
      "13  0.531915  \n"
     ]
    },
    {
     "data": {
      "application/vnd.jupyter.widget-view+json": {
       "model_id": "d22fd33de5d0417b97cbefcf711882a8",
       "version_major": 2,
       "version_minor": 0
      },
      "text/plain": [
       "  0%|          | 0/33 [00:00<?, ?it/s]"
      ]
     },
     "metadata": {},
     "output_type": "display_data"
    },
    {
     "name": "stderr",
     "output_type": "stream",
     "text": [
      "INFO:fbprophet:n_changepoints greater than number of observations. Using 19.\n",
      "INFO:prophet:Making 93 forecasts with cutoffs between 2019-09-30 00:00:00 and 2021-07-05 00:00:00\n"
     ]
    },
    {
     "name": "stdout",
     "output_type": "stream",
     "text": [
      "Training:  30 days\n",
      "Testing:  21 days\n",
      "   horizon         mse       rmse       mae      mape     mdape     smape  \\\n",
      "9  15 days  152.882592  12.364570  8.505111  0.084849  0.046267  0.086016   \n",
      "10 16 days  141.638309  11.901189  8.264933  0.080857  0.045835  0.084386   \n",
      "11 17 days  135.183930  11.626862  7.808986  0.076689  0.038036  0.080377   \n",
      "12 18 days  151.097924  12.292190  8.121638  0.080683  0.038036  0.084503   \n",
      "13 21 days  185.208784  13.609143  9.075167  0.091176  0.041363  0.095391   \n",
      "\n",
      "    coverage  \n",
      "9   0.500709  \n",
      "10  0.568665  \n",
      "11  0.581117  \n",
      "12  0.545455  \n",
      "13  0.532580  \n"
     ]
    },
    {
     "data": {
      "application/vnd.jupyter.widget-view+json": {
       "model_id": "799a8f88ce5b40008f99037965fb1acc",
       "version_major": 2,
       "version_minor": 0
      },
      "text/plain": [
       "  0%|          | 0/93 [00:00<?, ?it/s]"
      ]
     },
     "metadata": {},
     "output_type": "display_data"
    },
    {
     "name": "stderr",
     "output_type": "stream",
     "text": [
      "INFO:prophet:Making 47 forecasts with cutoffs between 2019-09-30 00:00:00 and 2021-07-05 00:00:00\n"
     ]
    },
    {
     "name": "stdout",
     "output_type": "stream",
     "text": [
      "Training:  60 days\n",
      "Testing:  7 days\n",
      "   horizon         mse       rmse       mae      mape     mdape     smape  \\\n",
      "9  15 days  150.391556  12.263424  8.186059  0.081869  0.049688  0.083524   \n",
      "10 16 days  167.932397  12.958873  8.496005  0.085647  0.033589  0.087428   \n",
      "11 17 days  185.368517  13.615011  8.659401  0.088470  0.035517  0.089569   \n",
      "12 18 days  189.470868  13.764842  8.933823  0.090581  0.040094  0.091698   \n",
      "13 21 days  221.524957  14.883714  9.709794  0.098557  0.047357  0.099860   \n",
      "\n",
      "    coverage  \n",
      "9   0.527656  \n",
      "10  0.557134  \n",
      "11  0.556503  \n",
      "12  0.539364  \n",
      "13  0.516197  \n"
     ]
    },
    {
     "data": {
      "application/vnd.jupyter.widget-view+json": {
       "model_id": "e1678fd333874f9eb6864e059db0cd22",
       "version_major": 2,
       "version_minor": 0
      },
      "text/plain": [
       "  0%|          | 0/47 [00:00<?, ?it/s]"
      ]
     },
     "metadata": {},
     "output_type": "display_data"
    },
    {
     "name": "stderr",
     "output_type": "stream",
     "text": [
      "INFO:prophet:Making 31 forecasts with cutoffs between 2019-10-14 00:00:00 and 2021-07-05 00:00:00\n"
     ]
    },
    {
     "name": "stdout",
     "output_type": "stream",
     "text": [
      "Training:  60 days\n",
      "Testing:  14 days\n",
      "   horizon         mse       rmse       mae      mape     mdape     smape  \\\n",
      "9  15 days  154.158486  12.416058  8.089631  0.080146  0.038473  0.082208   \n",
      "10 16 days  179.251938  13.388500  8.361250  0.085744  0.038787  0.086776   \n",
      "11 17 days  182.458644  13.507725  8.293369  0.086600  0.033078  0.086924   \n",
      "12 18 days  192.497646  13.874352  8.771851  0.091833  0.044563  0.091758   \n",
      "13 21 days  227.252998  15.074913  9.513218  0.099489  0.033902  0.099412   \n",
      "\n",
      "    coverage  \n",
      "9   0.555237  \n",
      "10  0.597622  \n",
      "11  0.602941  \n",
      "12  0.555882  \n",
      "13  0.518627  \n"
     ]
    },
    {
     "data": {
      "application/vnd.jupyter.widget-view+json": {
       "model_id": "53f6c107fa764dbcbf6bf4fd73b3dea9",
       "version_major": 2,
       "version_minor": 0
      },
      "text/plain": [
       "  0%|          | 0/31 [00:00<?, ?it/s]"
      ]
     },
     "metadata": {},
     "output_type": "display_data"
    },
    {
     "name": "stderr",
     "output_type": "stream",
     "text": [
      "INFO:prophet:Making 76 forecasts with cutoffs between 2020-01-27 00:00:00 and 2021-07-05 00:00:00\n"
     ]
    },
    {
     "name": "stdout",
     "output_type": "stream",
     "text": [
      "Training:  60 days\n",
      "Testing:  21 days\n",
      "   horizon         mse       rmse       mae      mape     mdape     smape  \\\n",
      "9  15 days  162.022589  12.728809  8.824706  0.088317  0.048394  0.089545   \n",
      "10 16 days  149.849616  12.241308  8.570642  0.084087  0.046863  0.087818   \n",
      "11 17 days  143.228218  11.967799  8.132377  0.080061  0.037563  0.083961   \n",
      "12 18 days  160.589820  12.672404  8.504751  0.084663  0.039700  0.088716   \n",
      "13 21 days  196.940193  14.033538  9.479702  0.095531  0.028937  0.099996   \n",
      "\n",
      "    coverage  \n",
      "9   0.534091  \n",
      "10  0.583578  \n",
      "11  0.563636  \n",
      "12  0.538123  \n",
      "13  0.534848  \n"
     ]
    },
    {
     "data": {
      "application/vnd.jupyter.widget-view+json": {
       "model_id": "78709d3f773a4a6b9e4a080dcb81d295",
       "version_major": 2,
       "version_minor": 0
      },
      "text/plain": [
       "  0%|          | 0/76 [00:00<?, ?it/s]"
      ]
     },
     "metadata": {},
     "output_type": "display_data"
    },
    {
     "name": "stderr",
     "output_type": "stream",
     "text": [
      "INFO:prophet:Making 38 forecasts with cutoffs between 2020-02-03 00:00:00 and 2021-07-05 00:00:00\n"
     ]
    },
    {
     "name": "stdout",
     "output_type": "stream",
     "text": [
      "Training:  180 days\n",
      "Testing:  7 days\n",
      "   horizon         mse       rmse        mae      mape     mdape     smape  \\\n",
      "9  15 days  181.423698  13.469361   9.399852  0.095019  0.052589  0.096981   \n",
      "10 16 days  200.257935  14.151252   9.675323  0.098503  0.067175  0.100596   \n",
      "11 17 days  221.355948  14.878036   9.835307  0.101658  0.055360  0.102919   \n",
      "12 18 days  229.541938  15.150642  10.231556  0.105146  0.041140  0.106427   \n",
      "13 21 days  268.983031  16.400702  11.195044  0.115007  0.051363  0.116529   \n",
      "\n",
      "    coverage  \n",
      "9   0.543083  \n",
      "10  0.570813  \n",
      "11  0.584211  \n",
      "12  0.580727  \n",
      "13  0.542510  \n"
     ]
    },
    {
     "data": {
      "application/vnd.jupyter.widget-view+json": {
       "model_id": "a63224d2285342528e3ffaebed442ef8",
       "version_major": 2,
       "version_minor": 0
      },
      "text/plain": [
       "  0%|          | 0/38 [00:00<?, ?it/s]"
      ]
     },
     "metadata": {},
     "output_type": "display_data"
    },
    {
     "name": "stderr",
     "output_type": "stream",
     "text": [
      "INFO:prophet:Making 26 forecasts with cutoffs between 2020-01-27 00:00:00 and 2021-07-05 00:00:00\n"
     ]
    },
    {
     "name": "stdout",
     "output_type": "stream",
     "text": [
      "Training:  180 days\n",
      "Testing:  14 days\n",
      "   horizon         mse       rmse        mae      mape     mdape     smape  \\\n",
      "9  15 days  188.504648  13.729699   9.461738  0.094571  0.037106  0.097059   \n",
      "10 16 days  216.980745  14.730266   9.706716  0.100497  0.041013  0.101682   \n",
      "11 17 days  219.137797  14.803304   9.549325  0.100825  0.053373  0.101140   \n",
      "12 18 days  234.815239  15.323682  10.144251  0.107814  0.043962  0.107621   \n",
      "13 21 days  279.228843  16.710142  11.028881  0.117149  0.036950  0.116974   \n",
      "\n",
      "    coverage  \n",
      "9   0.559229  \n",
      "10  0.597129  \n",
      "11  0.634450  \n",
      "12  0.587715  \n",
      "13  0.573737  \n"
     ]
    },
    {
     "data": {
      "application/vnd.jupyter.widget-view+json": {
       "model_id": "0cd5726a42b049cd8d1de71c3c712d9c",
       "version_major": 2,
       "version_minor": 0
      },
      "text/plain": [
       "  0%|          | 0/26 [00:00<?, ?it/s]"
      ]
     },
     "metadata": {},
     "output_type": "display_data"
    },
    {
     "name": "stdout",
     "output_type": "stream",
     "text": [
      "Training:  180 days\n",
      "Testing:  21 days\n",
      "   horizon         mse       rmse        mae      mape     mdape     smape  \\\n",
      "9  15 days  190.092640  13.787409   9.967261  0.100499  0.058849  0.101911   \n",
      "10 16 days  172.447831  13.131939   9.505450  0.093900  0.047891  0.098211   \n",
      "11 17 days  167.058279  12.925103   9.077842  0.090139  0.044952  0.094680   \n",
      "12 18 days  188.991149  13.747405   9.496460  0.095695  0.041363  0.100449   \n",
      "13 21 days  234.672015  15.319008  10.840796  0.110316  0.074291  0.115607   \n",
      "\n",
      "    coverage  \n",
      "9   0.554054  \n",
      "10  0.603950  \n",
      "11  0.642412  \n",
      "12  0.617464  \n",
      "13  0.551351  \n"
     ]
    }
   ],
   "source": [
    "results_AXP=tt_test_p('AXP',trains,tests)"
   ]
  },
  {
   "cell_type": "code",
   "execution_count": 47,
   "metadata": {},
   "outputs": [
    {
     "name": "stderr",
     "output_type": "stream",
     "text": [
      "INFO:fbprophet:Disabling yearly seasonality. Run prophet with yearly_seasonality=True to override this.\n",
      "INFO:fbprophet:Disabling daily seasonality. Run prophet with daily_seasonality=True to override this.\n"
     ]
    },
    {
     "name": "stdout",
     "output_type": "stream",
     "text": [
      "Processing:  yfinance.Ticker object <AAPL>\n"
     ]
    },
    {
     "name": "stderr",
     "output_type": "stream",
     "text": [
      "INFO:prophet:Making 97 forecasts with cutoffs between 2019-09-02 00:00:00 and 2021-07-05 00:00:00\n"
     ]
    },
    {
     "data": {
      "application/vnd.jupyter.widget-view+json": {
       "model_id": "82550470beef4497a1132d38202fc6de",
       "version_major": 2,
       "version_minor": 0
      },
      "text/plain": [
       "  0%|          | 0/97 [00:00<?, ?it/s]"
      ]
     },
     "metadata": {},
     "output_type": "display_data"
    },
    {
     "name": "stderr",
     "output_type": "stream",
     "text": [
      "INFO:fbprophet:n_changepoints greater than number of observations. Using 19.\n",
      "INFO:fbprophet:n_changepoints greater than number of observations. Using 23.\n",
      "INFO:prophet:Making 49 forecasts with cutoffs between 2019-09-02 00:00:00 and 2021-07-05 00:00:00\n"
     ]
    },
    {
     "name": "stdout",
     "output_type": "stream",
     "text": [
      "Training:  30 days\n",
      "Testing:  7 days\n",
      "   horizon         mse       rmse       mae      mape     mdape     smape  \\\n",
      "9  15 days   91.161242   9.547840  7.533231  0.076999  0.062010  0.077448   \n",
      "10 16 days   97.392013   9.868739  7.739889  0.078440  0.067427  0.078868   \n",
      "11 17 days  104.926664  10.243372  8.048825  0.082479  0.053479  0.082713   \n",
      "12 18 days  110.730730  10.522867  8.185084  0.084839  0.066646  0.084962   \n",
      "13 21 days  121.565221  11.025662  8.633828  0.090164  0.066205  0.090282   \n",
      "\n",
      "    coverage  \n",
      "9   0.303531  \n",
      "10  0.335641  \n",
      "11  0.315038  \n",
      "12  0.301053  \n",
      "13  0.303727  \n"
     ]
    },
    {
     "data": {
      "application/vnd.jupyter.widget-view+json": {
       "model_id": "ee266348eafe45529ca4da924985b0b9",
       "version_major": 2,
       "version_minor": 0
      },
      "text/plain": [
       "  0%|          | 0/49 [00:00<?, ?it/s]"
      ]
     },
     "metadata": {},
     "output_type": "display_data"
    },
    {
     "name": "stderr",
     "output_type": "stream",
     "text": [
      "INFO:fbprophet:n_changepoints greater than number of observations. Using 19.\n",
      "INFO:prophet:Making 33 forecasts with cutoffs between 2019-09-02 00:00:00 and 2021-07-05 00:00:00\n"
     ]
    },
    {
     "name": "stdout",
     "output_type": "stream",
     "text": [
      "Training:  30 days\n",
      "Testing:  14 days\n",
      "   horizon         mse       rmse       mae      mape     mdape     smape  \\\n",
      "9  15 days   84.052630   9.168022  7.284547  0.074702  0.061041  0.075690   \n",
      "10 16 days   90.813322   9.529602  7.522705  0.076741  0.057568  0.077518   \n",
      "11 17 days   99.980688   9.999034  8.063382  0.082353  0.064846  0.083133   \n",
      "12 18 days  113.804634  10.667925  8.438426  0.087604  0.065909  0.087892   \n",
      "13 21 days  135.036355  11.620514  9.148186  0.095586  0.066190  0.095515   \n",
      "\n",
      "    coverage  \n",
      "9   0.276777  \n",
      "10  0.297212  \n",
      "11  0.246479  \n",
      "12  0.240935  \n",
      "13  0.241235  \n"
     ]
    },
    {
     "data": {
      "application/vnd.jupyter.widget-view+json": {
       "model_id": "dcc8664cd80947f7bf6952c921270183",
       "version_major": 2,
       "version_minor": 0
      },
      "text/plain": [
       "  0%|          | 0/33 [00:00<?, ?it/s]"
      ]
     },
     "metadata": {},
     "output_type": "display_data"
    },
    {
     "name": "stderr",
     "output_type": "stream",
     "text": [
      "INFO:fbprophet:n_changepoints greater than number of observations. Using 19.\n",
      "INFO:prophet:Making 93 forecasts with cutoffs between 2019-09-30 00:00:00 and 2021-07-05 00:00:00\n"
     ]
    },
    {
     "name": "stdout",
     "output_type": "stream",
     "text": [
      "Training:  30 days\n",
      "Testing:  21 days\n",
      "   horizon         mse       rmse       mae      mape     mdape     smape  \\\n",
      "9  15 days   80.304315   8.961268  7.307248  0.075624  0.065872  0.076113   \n",
      "10 16 days   79.684421   8.926613  7.222763  0.073578  0.058486  0.074504   \n",
      "11 17 days   88.077203   9.384946  7.481041  0.075664  0.062142  0.076783   \n",
      "12 18 days  103.954272  10.195797  7.855620  0.080186  0.055380  0.081320   \n",
      "13 21 days  115.724432  10.757529  8.319556  0.085444  0.067186  0.087007   \n",
      "\n",
      "    coverage  \n",
      "9   0.290780  \n",
      "10  0.299807  \n",
      "11  0.284574  \n",
      "12  0.299807  \n",
      "13  0.283245  \n"
     ]
    },
    {
     "data": {
      "application/vnd.jupyter.widget-view+json": {
       "model_id": "df8df3ab3d244b568d815ad19ac125ac",
       "version_major": 2,
       "version_minor": 0
      },
      "text/plain": [
       "  0%|          | 0/93 [00:00<?, ?it/s]"
      ]
     },
     "metadata": {},
     "output_type": "display_data"
    },
    {
     "name": "stderr",
     "output_type": "stream",
     "text": [
      "INFO:prophet:Making 47 forecasts with cutoffs between 2019-09-30 00:00:00 and 2021-07-05 00:00:00\n"
     ]
    },
    {
     "name": "stdout",
     "output_type": "stream",
     "text": [
      "Training:  60 days\n",
      "Testing:  7 days\n",
      "   horizon         mse       rmse       mae      mape     mdape     smape  \\\n",
      "9  15 days   94.959375   9.744710  7.782065  0.078861  0.062010  0.079317   \n",
      "10 16 days  101.286972  10.064143  7.971594  0.079920  0.058027  0.080371   \n",
      "11 17 days  109.168280  10.448363  8.299680  0.084219  0.062217  0.084476   \n",
      "12 18 days  115.455790  10.745036  8.467386  0.087094  0.065141  0.087220   \n",
      "13 21 days  126.941645  11.266838  8.939798  0.092630  0.069225  0.092738   \n",
      "\n",
      "    coverage  \n",
      "9   0.302283  \n",
      "10  0.317044  \n",
      "11  0.299820  \n",
      "12  0.284648  \n",
      "13  0.290451  \n"
     ]
    },
    {
     "data": {
      "application/vnd.jupyter.widget-view+json": {
       "model_id": "d81b86c4e5a949809264b49b1900d9ae",
       "version_major": 2,
       "version_minor": 0
      },
      "text/plain": [
       "  0%|          | 0/47 [00:00<?, ?it/s]"
      ]
     },
     "metadata": {},
     "output_type": "display_data"
    },
    {
     "name": "stderr",
     "output_type": "stream",
     "text": [
      "INFO:prophet:Making 31 forecasts with cutoffs between 2019-10-14 00:00:00 and 2021-07-05 00:00:00\n"
     ]
    },
    {
     "name": "stdout",
     "output_type": "stream",
     "text": [
      "Training:  60 days\n",
      "Testing:  14 days\n",
      "   horizon         mse       rmse       mae      mape     mdape     smape  \\\n",
      "9  15 days   87.357575   9.346527  7.473080  0.075549  0.056806  0.076548   \n",
      "10 16 days   94.075775   9.699267  7.681068  0.076997  0.058760  0.077811   \n",
      "11 17 days  103.670181  10.181855  8.242024  0.082730  0.062134  0.083568   \n",
      "12 18 days  118.388648  10.880655  8.671761  0.088899  0.067910  0.089197   \n",
      "13 21 days  140.582276  11.856740  9.414480  0.097272  0.066631  0.097175   \n",
      "\n",
      "    coverage  \n",
      "9   0.289096  \n",
      "10  0.310075  \n",
      "11  0.257353  \n",
      "12  0.251634  \n",
      "13  0.251961  \n"
     ]
    },
    {
     "data": {
      "application/vnd.jupyter.widget-view+json": {
       "model_id": "39a914eadb76486eb56037267d0793bc",
       "version_major": 2,
       "version_minor": 0
      },
      "text/plain": [
       "  0%|          | 0/31 [00:00<?, ?it/s]"
      ]
     },
     "metadata": {},
     "output_type": "display_data"
    },
    {
     "name": "stderr",
     "output_type": "stream",
     "text": [
      "INFO:prophet:Making 76 forecasts with cutoffs between 2020-01-27 00:00:00 and 2021-07-05 00:00:00\n"
     ]
    },
    {
     "name": "stdout",
     "output_type": "stream",
     "text": [
      "Training:  60 days\n",
      "Testing:  21 days\n",
      "   horizon         mse       rmse       mae      mape     mdape     smape  \\\n",
      "9  15 days   85.150392   9.227697  7.631006  0.077670  0.066400  0.078124   \n",
      "10 16 days   84.379420   9.185827  7.523253  0.075234  0.067944  0.076150   \n",
      "11 17 days   93.393758   9.664045  7.818838  0.077863  0.057028  0.078990   \n",
      "12 18 days  110.457649  10.509883  8.233022  0.082903  0.065219  0.084048   \n",
      "13 21 days  123.316756  11.104808  8.745368  0.088583  0.062909  0.090172   \n",
      "\n",
      "    coverage  \n",
      "9   0.299513  \n",
      "10  0.296921  \n",
      "11  0.270455  \n",
      "12  0.286657  \n",
      "13  0.268182  \n"
     ]
    },
    {
     "data": {
      "application/vnd.jupyter.widget-view+json": {
       "model_id": "e188a401de7846ee8e394854bcc75a65",
       "version_major": 2,
       "version_minor": 0
      },
      "text/plain": [
       "  0%|          | 0/76 [00:00<?, ?it/s]"
      ]
     },
     "metadata": {},
     "output_type": "display_data"
    },
    {
     "name": "stderr",
     "output_type": "stream",
     "text": [
      "INFO:prophet:Making 38 forecasts with cutoffs between 2020-02-03 00:00:00 and 2021-07-05 00:00:00\n"
     ]
    },
    {
     "name": "stdout",
     "output_type": "stream",
     "text": [
      "Training:  180 days\n",
      "Testing:  7 days\n",
      "   horizon         mse       rmse        mae      mape     mdape     smape  \\\n",
      "9  15 days  114.138463  10.683560   8.915720  0.087632  0.066061  0.088185   \n",
      "10 16 days  120.489949  10.976791   9.117296  0.089181  0.076239  0.089740   \n",
      "11 17 days  129.836141  11.394566   9.473221  0.093833  0.075321  0.094092   \n",
      "12 18 days  139.037676  11.791424   9.688341  0.096781  0.089967  0.096846   \n",
      "13 21 days  152.930507  12.366507  10.208396  0.102552  0.087239  0.102624   \n",
      "\n",
      "    coverage  \n",
      "9   0.343742  \n",
      "10  0.310766  \n",
      "11  0.296292  \n",
      "12  0.313091  \n",
      "13  0.320743  \n"
     ]
    },
    {
     "data": {
      "application/vnd.jupyter.widget-view+json": {
       "model_id": "1c572f6b57be4a2d9f2c7856243836c5",
       "version_major": 2,
       "version_minor": 0
      },
      "text/plain": [
       "  0%|          | 0/38 [00:00<?, ?it/s]"
      ]
     },
     "metadata": {},
     "output_type": "display_data"
    },
    {
     "name": "stderr",
     "output_type": "stream",
     "text": [
      "INFO:prophet:Making 26 forecasts with cutoffs between 2020-01-27 00:00:00 and 2021-07-05 00:00:00\n"
     ]
    },
    {
     "name": "stdout",
     "output_type": "stream",
     "text": [
      "Training:  180 days\n",
      "Testing:  14 days\n",
      "   horizon         mse       rmse        mae      mape     mdape     smape  \\\n",
      "9  15 days  105.915841  10.291542   8.591393  0.083924  0.061428  0.085192   \n",
      "10 16 days  113.100673  10.634880   8.833780  0.086296  0.064846  0.087310   \n",
      "11 17 days  124.020052  11.136429   9.451284  0.092582  0.064846  0.093556   \n",
      "12 18 days  143.684568  11.986850  10.002018  0.099639  0.081322  0.099915   \n",
      "13 21 days  171.606097  13.099851  10.873775  0.108951  0.068349  0.108726   \n",
      "\n",
      "    coverage  \n",
      "9   0.330579  \n",
      "10  0.315789  \n",
      "11  0.248804  \n",
      "12  0.256511  \n",
      "13  0.277778  \n"
     ]
    },
    {
     "data": {
      "application/vnd.jupyter.widget-view+json": {
       "model_id": "8f8dfc1d197c48549222b6aa49a580a4",
       "version_major": 2,
       "version_minor": 0
      },
      "text/plain": [
       "  0%|          | 0/26 [00:00<?, ?it/s]"
      ]
     },
     "metadata": {},
     "output_type": "display_data"
    },
    {
     "name": "stdout",
     "output_type": "stream",
     "text": [
      "Training:  180 days\n",
      "Testing:  21 days\n",
      "   horizon         mse       rmse       mae      mape     mdape     smape  \\\n",
      "9  15 days   99.373294   9.968615  8.588606  0.085364  0.076971  0.085874   \n",
      "10 16 days   97.336710   9.865937  8.433699  0.082773  0.064846  0.083865   \n",
      "11 17 days  108.691985  10.425545  8.756846  0.085020  0.065909  0.086309   \n",
      "12 18 days  130.045188  11.403736  9.275773  0.090768  0.081322  0.092026   \n",
      "13 21 days  146.837301  12.117644  9.948414  0.098008  0.075448  0.099771   \n",
      "\n",
      "    coverage  \n",
      "9   0.315315  \n",
      "10  0.334719  \n",
      "11  0.319127  \n",
      "12  0.316008  \n",
      "13  0.310270  \n"
     ]
    }
   ],
   "source": [
    "results_AAPL=tt_test_p('AAPL',trains,tests)"
   ]
  },
  {
   "cell_type": "code",
   "execution_count": 48,
   "metadata": {},
   "outputs": [
    {
     "name": "stderr",
     "output_type": "stream",
     "text": [
      "INFO:fbprophet:Disabling yearly seasonality. Run prophet with yearly_seasonality=True to override this.\n",
      "INFO:fbprophet:Disabling daily seasonality. Run prophet with daily_seasonality=True to override this.\n"
     ]
    },
    {
     "name": "stdout",
     "output_type": "stream",
     "text": [
      "Processing:  yfinance.Ticker object <AMGN>\n"
     ]
    },
    {
     "name": "stderr",
     "output_type": "stream",
     "text": [
      "INFO:prophet:Making 97 forecasts with cutoffs between 2019-09-03 00:00:00 and 2021-07-06 00:00:00\n"
     ]
    },
    {
     "data": {
      "application/vnd.jupyter.widget-view+json": {
       "model_id": "f0484c2c504343aa82aa3acacb88b6b5",
       "version_major": 2,
       "version_minor": 0
      },
      "text/plain": [
       "  0%|          | 0/97 [00:00<?, ?it/s]"
      ]
     },
     "metadata": {},
     "output_type": "display_data"
    },
    {
     "name": "stderr",
     "output_type": "stream",
     "text": [
      "INFO:fbprophet:n_changepoints greater than number of observations. Using 19.\n",
      "INFO:fbprophet:n_changepoints greater than number of observations. Using 23.\n",
      "INFO:prophet:Making 49 forecasts with cutoffs between 2019-09-03 00:00:00 and 2021-07-06 00:00:00\n"
     ]
    },
    {
     "name": "stdout",
     "output_type": "stream",
     "text": [
      "Training:  30 days\n",
      "Testing:  7 days\n",
      "   horizon         mse       rmse        mae      mape     mdape     smape  \\\n",
      "9  15 days  210.381650  14.504539  11.316671  0.050237  0.040550  0.050593   \n",
      "10 16 days  238.651279  15.448342  12.148064  0.054184  0.044371  0.054582   \n",
      "11 17 days  252.587655  15.893006  12.580768  0.056119  0.047504  0.056418   \n",
      "12 20 days  290.460392  17.042899  13.335359  0.059548  0.049239  0.060138   \n",
      "13 21 days  295.261254  17.183168  13.443803  0.059742  0.048664  0.060451   \n",
      "\n",
      "    coverage  \n",
      "9   0.452430  \n",
      "10  0.392105  \n",
      "11  0.390602  \n",
      "12  0.403649  \n",
      "13  0.424238  \n"
     ]
    },
    {
     "data": {
      "application/vnd.jupyter.widget-view+json": {
       "model_id": "76cb4572e27349f6ac48a0406a961502",
       "version_major": 2,
       "version_minor": 0
      },
      "text/plain": [
       "  0%|          | 0/49 [00:00<?, ?it/s]"
      ]
     },
     "metadata": {},
     "output_type": "display_data"
    },
    {
     "name": "stderr",
     "output_type": "stream",
     "text": [
      "INFO:fbprophet:n_changepoints greater than number of observations. Using 19.\n",
      "INFO:prophet:Making 33 forecasts with cutoffs between 2019-09-03 00:00:00 and 2021-07-06 00:00:00\n"
     ]
    },
    {
     "name": "stdout",
     "output_type": "stream",
     "text": [
      "Training:  30 days\n",
      "Testing:  14 days\n",
      "   horizon         mse       rmse        mae      mape     mdape     smape  \\\n",
      "9  15 days  212.053531  14.562058  11.393647  0.050676  0.037737  0.050930   \n",
      "10 16 days  245.621697  15.672323  12.143010  0.054065  0.044120  0.054470   \n",
      "11 17 days  268.074251  16.372973  12.781424  0.057227  0.045092  0.057553   \n",
      "12 20 days  303.129319  17.410609  13.607157  0.061125  0.051073  0.061538   \n",
      "13 21 days  300.835415  17.344608  13.536050  0.060405  0.045296  0.060888   \n",
      "\n",
      "    coverage  \n",
      "9   0.489221  \n",
      "10  0.401408  \n",
      "11  0.375787  \n",
      "12  0.382979  \n",
      "13  0.428529  \n"
     ]
    },
    {
     "data": {
      "application/vnd.jupyter.widget-view+json": {
       "model_id": "b03962c668d740709c4cf2f70e108ebc",
       "version_major": 2,
       "version_minor": 0
      },
      "text/plain": [
       "  0%|          | 0/33 [00:00<?, ?it/s]"
      ]
     },
     "metadata": {},
     "output_type": "display_data"
    },
    {
     "name": "stderr",
     "output_type": "stream",
     "text": [
      "INFO:fbprophet:n_changepoints greater than number of observations. Using 19.\n",
      "INFO:prophet:Making 93 forecasts with cutoffs between 2019-10-01 00:00:00 and 2021-07-06 00:00:00\n"
     ]
    },
    {
     "name": "stdout",
     "output_type": "stream",
     "text": [
      "Training:  30 days\n",
      "Testing:  21 days\n",
      "   horizon         mse       rmse        mae      mape     mdape     smape  \\\n",
      "9  15 days  181.224012  13.461947  10.388174  0.046598  0.037465  0.046696   \n",
      "10 16 days  197.927933  14.068686  10.701296  0.047879  0.039918  0.048155   \n",
      "11 17 days  230.434798  15.180079  11.554360  0.051412  0.040680  0.051858   \n",
      "12 20 days  277.772493  16.666508  12.566933  0.056274  0.048274  0.056835   \n",
      "13 21 days  276.153799  16.617876  12.865214  0.057570  0.044564  0.058026   \n",
      "\n",
      "    coverage  \n",
      "9   0.485493  \n",
      "10  0.446809  \n",
      "11  0.475822  \n",
      "12  0.436170  \n",
      "13  0.480851  \n"
     ]
    },
    {
     "data": {
      "application/vnd.jupyter.widget-view+json": {
       "model_id": "f3d34ad7e9344910981ab8e2d994aac5",
       "version_major": 2,
       "version_minor": 0
      },
      "text/plain": [
       "  0%|          | 0/93 [00:00<?, ?it/s]"
      ]
     },
     "metadata": {},
     "output_type": "display_data"
    },
    {
     "name": "stderr",
     "output_type": "stream",
     "text": [
      "INFO:prophet:Making 47 forecasts with cutoffs between 2019-10-01 00:00:00 and 2021-07-06 00:00:00\n"
     ]
    },
    {
     "name": "stdout",
     "output_type": "stream",
     "text": [
      "Training:  60 days\n",
      "Testing:  7 days\n",
      "   horizon         mse       rmse        mae      mape     mdape     smape  \\\n",
      "9  15 days  213.479132  14.610925  11.353894  0.049974  0.039947  0.050387   \n",
      "10 16 days  241.973805  15.555507  12.166098  0.053797  0.044782  0.054243   \n",
      "11 17 days  255.284342  15.977620  12.553776  0.055482  0.042986  0.055818   \n",
      "12 20 days  292.679030  17.107865  13.260209  0.058633  0.049879  0.059250   \n",
      "13 21 days  295.921922  17.202381  13.329741  0.058637  0.046164  0.059353   \n",
      "\n",
      "    coverage  \n",
      "9   0.446317  \n",
      "10  0.421109  \n",
      "11  0.412006  \n",
      "12  0.418250  \n",
      "13  0.443020  \n"
     ]
    },
    {
     "data": {
      "application/vnd.jupyter.widget-view+json": {
       "model_id": "02e0ce58d43447518923dbbda77ba5a6",
       "version_major": 2,
       "version_minor": 0
      },
      "text/plain": [
       "  0%|          | 0/47 [00:00<?, ?it/s]"
      ]
     },
     "metadata": {},
     "output_type": "display_data"
    },
    {
     "name": "stderr",
     "output_type": "stream",
     "text": [
      "INFO:prophet:Making 31 forecasts with cutoffs between 2019-10-15 00:00:00 and 2021-07-06 00:00:00\n"
     ]
    },
    {
     "name": "stdout",
     "output_type": "stream",
     "text": [
      "Training:  60 days\n",
      "Testing:  14 days\n",
      "   horizon         mse       rmse        mae      mape     mdape     smape  \\\n",
      "9  15 days  212.277768  14.569755  11.339742  0.049917  0.042191  0.050282   \n",
      "10 16 days  246.516185  15.700834  12.072528  0.053178  0.038828  0.053695   \n",
      "11 17 days  268.644271  16.390371  12.671269  0.056136  0.046833  0.056559   \n",
      "12 20 days  302.982623  17.406396  13.449693  0.059785  0.049879  0.060274   \n",
      "13 21 days  299.471758  17.305252  13.341738  0.058859  0.043882  0.059411   \n",
      "\n",
      "    coverage  \n",
      "9   0.488736  \n",
      "10  0.441176  \n",
      "11  0.422222  \n",
      "12  0.407516  \n",
      "13  0.432353  \n"
     ]
    },
    {
     "data": {
      "application/vnd.jupyter.widget-view+json": {
       "model_id": "9a1ed5c7f20b45bb9e63b483ba12b893",
       "version_major": 2,
       "version_minor": 0
      },
      "text/plain": [
       "  0%|          | 0/31 [00:00<?, ?it/s]"
      ]
     },
     "metadata": {},
     "output_type": "display_data"
    },
    {
     "name": "stderr",
     "output_type": "stream",
     "text": [
      "INFO:prophet:Making 76 forecasts with cutoffs between 2020-01-28 00:00:00 and 2021-07-06 00:00:00\n"
     ]
    },
    {
     "name": "stdout",
     "output_type": "stream",
     "text": [
      "Training:  60 days\n",
      "Testing:  21 days\n",
      "   horizon         mse       rmse        mae      mape     mdape     smape  \\\n",
      "9  15 days  177.439347  13.320636  10.105360  0.044485  0.037855  0.044712   \n",
      "10 16 days  193.481025  13.909746  10.363979  0.045471  0.040640  0.045865   \n",
      "11 17 days  226.428664  15.047547  11.210858  0.048940  0.032130  0.049507   \n",
      "12 20 days  273.096693  16.525637  12.159529  0.053449  0.043563  0.054108   \n",
      "13 21 days  267.435067  16.353442  12.380942  0.054380  0.040147  0.054879   \n",
      "\n",
      "    coverage  \n",
      "9   0.494868  \n",
      "10  0.511364  \n",
      "11  0.505132  \n",
      "12  0.454545  \n",
      "13  0.490260  \n"
     ]
    },
    {
     "data": {
      "application/vnd.jupyter.widget-view+json": {
       "model_id": "d5fa0cbae0754abba09559911b0a1e08",
       "version_major": 2,
       "version_minor": 0
      },
      "text/plain": [
       "  0%|          | 0/76 [00:00<?, ?it/s]"
      ]
     },
     "metadata": {},
     "output_type": "display_data"
    },
    {
     "name": "stderr",
     "output_type": "stream",
     "text": [
      "INFO:prophet:Making 38 forecasts with cutoffs between 2020-02-04 00:00:00 and 2021-07-06 00:00:00\n"
     ]
    },
    {
     "name": "stdout",
     "output_type": "stream",
     "text": [
      "Training:  180 days\n",
      "Testing:  7 days\n",
      "   horizon         mse       rmse        mae      mape     mdape     smape  \\\n",
      "9  15 days  236.847121  15.389838  11.892068  0.051854  0.044047  0.052354   \n",
      "10 16 days  270.876830  16.458336  12.780375  0.056071  0.050680  0.056610   \n",
      "11 17 days  279.347687  16.713698  12.947991  0.056669  0.045017  0.057208   \n",
      "12 20 days  317.880647  17.829208  13.621484  0.059576  0.048427  0.060509   \n",
      "13 21 days  319.547118  17.875881  13.586512  0.059113  0.044984  0.060104   \n",
      "\n",
      "    coverage  \n",
      "9   0.508134  \n",
      "10  0.477273  \n",
      "11  0.474545  \n",
      "12  0.451216  \n",
      "13  0.488933  \n"
     ]
    },
    {
     "data": {
      "application/vnd.jupyter.widget-view+json": {
       "model_id": "b1ff309ec02b4d56b1ae2572ae4dd0b4",
       "version_major": 2,
       "version_minor": 0
      },
      "text/plain": [
       "  0%|          | 0/38 [00:00<?, ?it/s]"
      ]
     },
     "metadata": {},
     "output_type": "display_data"
    },
    {
     "name": "stderr",
     "output_type": "stream",
     "text": [
      "INFO:prophet:Making 26 forecasts with cutoffs between 2020-01-28 00:00:00 and 2021-07-06 00:00:00\n"
     ]
    },
    {
     "name": "stdout",
     "output_type": "stream",
     "text": [
      "Training:  180 days\n",
      "Testing:  14 days\n",
      "   horizon         mse       rmse        mae      mape     mdape     smape  \\\n",
      "9  15 days  234.214454  15.304067  11.697205  0.050925  0.040879  0.051364   \n",
      "10 16 days  275.508988  16.598463  12.516005  0.054590  0.043303  0.055198   \n",
      "11 17 days  295.706906  17.196131  12.982092  0.056947  0.042561  0.057560   \n",
      "12 20 days  332.412504  18.232183  13.874050  0.061056  0.049914  0.061845   \n",
      "13 21 days  326.346411  18.065061  13.683571  0.059681  0.044673  0.060486   \n",
      "\n",
      "    coverage  \n",
      "9   0.560766  \n",
      "10  0.526316  \n",
      "11  0.486486  \n",
      "12  0.435859  \n",
      "13  0.474242  \n"
     ]
    },
    {
     "data": {
      "application/vnd.jupyter.widget-view+json": {
       "model_id": "7833c7c396d44d6e81744be3d78422de",
       "version_major": 2,
       "version_minor": 0
      },
      "text/plain": [
       "  0%|          | 0/26 [00:00<?, ?it/s]"
      ]
     },
     "metadata": {},
     "output_type": "display_data"
    },
    {
     "name": "stdout",
     "output_type": "stream",
     "text": [
      "Training:  180 days\n",
      "Testing:  21 days\n",
      "   horizon         mse       rmse        mae      mape     mdape     smape  \\\n",
      "9  15 days  196.813477  14.029023  10.543567  0.046226  0.035674  0.046530   \n",
      "10 16 days  214.173353  14.634663  10.671314  0.046578  0.041362  0.047096   \n",
      "11 17 days  239.258672  15.467989  11.113101  0.048088  0.029545  0.048940   \n",
      "12 20 days  288.837238  16.995212  12.104710  0.052765  0.041185  0.053820   \n",
      "13 21 days  281.839450  16.788075  12.384649  0.054004  0.040655  0.054860   \n",
      "\n",
      "    coverage  \n",
      "9   0.565489  \n",
      "10  0.603950  \n",
      "11  0.632017  \n",
      "12  0.566486  \n",
      "13  0.560517  \n"
     ]
    }
   ],
   "source": [
    "results_AMGN=tt_test_p('AMGN',trains,tests)"
   ]
  },
  {
   "cell_type": "markdown",
   "metadata": {},
   "source": [
    "After looking over these results, it seems unlike ARIMA, Prophet likes the 180/7 split. Although it doesn't matter that much when using Prophet; it automatically takes all the data available and uses it. The train/test split is mainly used here for cross-validation."
   ]
  },
  {
   "cell_type": "markdown",
   "metadata": {},
   "source": [
    "### Putting it all together"
   ]
  },
  {
   "cell_type": "markdown",
   "metadata": {},
   "source": [
    "So let's make us a function! Ultimately, we'll want it to be able to select the best of 4 stocks input by the user. As always, let's start simple."
   ]
  },
  {
   "cell_type": "code",
   "execution_count": 49,
   "metadata": {
    "scrolled": true
   },
   "outputs": [
    {
     "data": {
      "text/html": [
       "<div>\n",
       "<style scoped>\n",
       "    .dataframe tbody tr th:only-of-type {\n",
       "        vertical-align: middle;\n",
       "    }\n",
       "\n",
       "    .dataframe tbody tr th {\n",
       "        vertical-align: top;\n",
       "    }\n",
       "\n",
       "    .dataframe thead th {\n",
       "        text-align: right;\n",
       "    }\n",
       "</style>\n",
       "<table border=\"1\" class=\"dataframe\">\n",
       "  <thead>\n",
       "    <tr style=\"text-align: right;\">\n",
       "      <th></th>\n",
       "      <th>ds</th>\n",
       "      <th>trend</th>\n",
       "      <th>yhat_lower</th>\n",
       "      <th>yhat_upper</th>\n",
       "      <th>trend_lower</th>\n",
       "      <th>trend_upper</th>\n",
       "      <th>additive_terms</th>\n",
       "      <th>additive_terms_lower</th>\n",
       "      <th>additive_terms_upper</th>\n",
       "      <th>weekly</th>\n",
       "      <th>weekly_lower</th>\n",
       "      <th>weekly_upper</th>\n",
       "      <th>multiplicative_terms</th>\n",
       "      <th>multiplicative_terms_lower</th>\n",
       "      <th>multiplicative_terms_upper</th>\n",
       "      <th>yhat</th>\n",
       "    </tr>\n",
       "  </thead>\n",
       "  <tbody>\n",
       "    <tr>\n",
       "      <th>520</th>\n",
       "      <td>2021-08-13</td>\n",
       "      <td>248.486135</td>\n",
       "      <td>238.649420</td>\n",
       "      <td>261.246141</td>\n",
       "      <td>248.076161</td>\n",
       "      <td>248.865551</td>\n",
       "      <td>1.974628</td>\n",
       "      <td>1.974628</td>\n",
       "      <td>1.974628</td>\n",
       "      <td>1.974628</td>\n",
       "      <td>1.974628</td>\n",
       "      <td>1.974628</td>\n",
       "      <td>0.0</td>\n",
       "      <td>0.0</td>\n",
       "      <td>0.0</td>\n",
       "      <td>250.460762</td>\n",
       "    </tr>\n",
       "    <tr>\n",
       "      <th>521</th>\n",
       "      <td>2021-08-14</td>\n",
       "      <td>248.569661</td>\n",
       "      <td>232.082666</td>\n",
       "      <td>255.521140</td>\n",
       "      <td>248.087700</td>\n",
       "      <td>249.042352</td>\n",
       "      <td>-4.464480</td>\n",
       "      <td>-4.464480</td>\n",
       "      <td>-4.464480</td>\n",
       "      <td>-4.464480</td>\n",
       "      <td>-4.464480</td>\n",
       "      <td>-4.464480</td>\n",
       "      <td>0.0</td>\n",
       "      <td>0.0</td>\n",
       "      <td>0.0</td>\n",
       "      <td>244.105181</td>\n",
       "    </tr>\n",
       "    <tr>\n",
       "      <th>522</th>\n",
       "      <td>2021-08-15</td>\n",
       "      <td>248.653187</td>\n",
       "      <td>232.641652</td>\n",
       "      <td>255.285831</td>\n",
       "      <td>248.117977</td>\n",
       "      <td>249.173462</td>\n",
       "      <td>-4.464480</td>\n",
       "      <td>-4.464480</td>\n",
       "      <td>-4.464480</td>\n",
       "      <td>-4.464480</td>\n",
       "      <td>-4.464480</td>\n",
       "      <td>-4.464480</td>\n",
       "      <td>0.0</td>\n",
       "      <td>0.0</td>\n",
       "      <td>0.0</td>\n",
       "      <td>244.188707</td>\n",
       "    </tr>\n",
       "    <tr>\n",
       "      <th>523</th>\n",
       "      <td>2021-08-16</td>\n",
       "      <td>248.736714</td>\n",
       "      <td>239.067346</td>\n",
       "      <td>261.492681</td>\n",
       "      <td>248.119817</td>\n",
       "      <td>249.314164</td>\n",
       "      <td>1.658290</td>\n",
       "      <td>1.658290</td>\n",
       "      <td>1.658290</td>\n",
       "      <td>1.658290</td>\n",
       "      <td>1.658290</td>\n",
       "      <td>1.658290</td>\n",
       "      <td>0.0</td>\n",
       "      <td>0.0</td>\n",
       "      <td>0.0</td>\n",
       "      <td>250.395004</td>\n",
       "    </tr>\n",
       "    <tr>\n",
       "      <th>524</th>\n",
       "      <td>2021-08-17</td>\n",
       "      <td>248.820240</td>\n",
       "      <td>239.033445</td>\n",
       "      <td>261.719468</td>\n",
       "      <td>248.143942</td>\n",
       "      <td>249.457807</td>\n",
       "      <td>1.932887</td>\n",
       "      <td>1.932887</td>\n",
       "      <td>1.932887</td>\n",
       "      <td>1.932887</td>\n",
       "      <td>1.932887</td>\n",
       "      <td>1.932887</td>\n",
       "      <td>0.0</td>\n",
       "      <td>0.0</td>\n",
       "      <td>0.0</td>\n",
       "      <td>250.753127</td>\n",
       "    </tr>\n",
       "  </tbody>\n",
       "</table>\n",
       "</div>"
      ],
      "text/plain": [
       "            ds       trend  yhat_lower  yhat_upper  trend_lower  trend_upper  \\\n",
       "520 2021-08-13  248.486135  238.649420  261.246141   248.076161   248.865551   \n",
       "521 2021-08-14  248.569661  232.082666  255.521140   248.087700   249.042352   \n",
       "522 2021-08-15  248.653187  232.641652  255.285831   248.117977   249.173462   \n",
       "523 2021-08-16  248.736714  239.067346  261.492681   248.119817   249.314164   \n",
       "524 2021-08-17  248.820240  239.033445  261.719468   248.143942   249.457807   \n",
       "\n",
       "     additive_terms  additive_terms_lower  additive_terms_upper    weekly  \\\n",
       "520        1.974628              1.974628              1.974628  1.974628   \n",
       "521       -4.464480             -4.464480             -4.464480 -4.464480   \n",
       "522       -4.464480             -4.464480             -4.464480 -4.464480   \n",
       "523        1.658290              1.658290              1.658290  1.658290   \n",
       "524        1.932887              1.932887              1.932887  1.932887   \n",
       "\n",
       "     weekly_lower  weekly_upper  multiplicative_terms  \\\n",
       "520      1.974628      1.974628                   0.0   \n",
       "521     -4.464480     -4.464480                   0.0   \n",
       "522     -4.464480     -4.464480                   0.0   \n",
       "523      1.658290      1.658290                   0.0   \n",
       "524      1.932887      1.932887                   0.0   \n",
       "\n",
       "     multiplicative_terms_lower  multiplicative_terms_upper        yhat  \n",
       "520                         0.0                         0.0  250.460762  \n",
       "521                         0.0                         0.0  244.105181  \n",
       "522                         0.0                         0.0  244.188707  \n",
       "523                         0.0                         0.0  250.395004  \n",
       "524                         0.0                         0.0  250.753127  "
      ]
     },
     "execution_count": 49,
     "metadata": {},
     "output_type": "execute_result"
    }
   ],
   "source": [
    "results_AMGN.tail()"
   ]
  },
  {
   "cell_type": "code",
   "execution_count": 50,
   "metadata": {},
   "outputs": [],
   "source": [
    "pred_cols=['ds','yhat']"
   ]
  },
  {
   "cell_type": "code",
   "execution_count": 51,
   "metadata": {},
   "outputs": [],
   "source": [
    "AMGN_preds=results_AMGN[pred_cols]"
   ]
  },
  {
   "cell_type": "code",
   "execution_count": 52,
   "metadata": {},
   "outputs": [
    {
     "data": {
      "text/html": [
       "<div>\n",
       "<style scoped>\n",
       "    .dataframe tbody tr th:only-of-type {\n",
       "        vertical-align: middle;\n",
       "    }\n",
       "\n",
       "    .dataframe tbody tr th {\n",
       "        vertical-align: top;\n",
       "    }\n",
       "\n",
       "    .dataframe thead th {\n",
       "        text-align: right;\n",
       "    }\n",
       "</style>\n",
       "<table border=\"1\" class=\"dataframe\">\n",
       "  <thead>\n",
       "    <tr style=\"text-align: right;\">\n",
       "      <th></th>\n",
       "      <th>ds</th>\n",
       "      <th>yhat</th>\n",
       "    </tr>\n",
       "  </thead>\n",
       "  <tbody>\n",
       "    <tr>\n",
       "      <th>520</th>\n",
       "      <td>2021-08-13</td>\n",
       "      <td>250.460762</td>\n",
       "    </tr>\n",
       "    <tr>\n",
       "      <th>521</th>\n",
       "      <td>2021-08-14</td>\n",
       "      <td>244.105181</td>\n",
       "    </tr>\n",
       "    <tr>\n",
       "      <th>522</th>\n",
       "      <td>2021-08-15</td>\n",
       "      <td>244.188707</td>\n",
       "    </tr>\n",
       "    <tr>\n",
       "      <th>523</th>\n",
       "      <td>2021-08-16</td>\n",
       "      <td>250.395004</td>\n",
       "    </tr>\n",
       "    <tr>\n",
       "      <th>524</th>\n",
       "      <td>2021-08-17</td>\n",
       "      <td>250.753127</td>\n",
       "    </tr>\n",
       "  </tbody>\n",
       "</table>\n",
       "</div>"
      ],
      "text/plain": [
       "            ds        yhat\n",
       "520 2021-08-13  250.460762\n",
       "521 2021-08-14  244.105181\n",
       "522 2021-08-15  244.188707\n",
       "523 2021-08-16  250.395004\n",
       "524 2021-08-17  250.753127"
      ]
     },
     "execution_count": 52,
     "metadata": {},
     "output_type": "execute_result"
    }
   ],
   "source": [
    "AMGN_preds.tail()"
   ]
  },
  {
   "cell_type": "code",
   "execution_count": 53,
   "metadata": {},
   "outputs": [],
   "source": [
    "AMGN_preds=AMGN_preds.tail(21)"
   ]
  },
  {
   "cell_type": "code",
   "execution_count": 54,
   "metadata": {},
   "outputs": [
    {
     "data": {
      "text/html": [
       "<div>\n",
       "<style scoped>\n",
       "    .dataframe tbody tr th:only-of-type {\n",
       "        vertical-align: middle;\n",
       "    }\n",
       "\n",
       "    .dataframe tbody tr th {\n",
       "        vertical-align: top;\n",
       "    }\n",
       "\n",
       "    .dataframe thead th {\n",
       "        text-align: right;\n",
       "    }\n",
       "</style>\n",
       "<table border=\"1\" class=\"dataframe\">\n",
       "  <thead>\n",
       "    <tr style=\"text-align: right;\">\n",
       "      <th></th>\n",
       "      <th>ds</th>\n",
       "      <th>yhat</th>\n",
       "    </tr>\n",
       "  </thead>\n",
       "  <tbody>\n",
       "    <tr>\n",
       "      <th>504</th>\n",
       "      <td>2021-07-28</td>\n",
       "      <td>248.929450</td>\n",
       "    </tr>\n",
       "    <tr>\n",
       "      <th>505</th>\n",
       "      <td>2021-07-29</td>\n",
       "      <td>248.816662</td>\n",
       "    </tr>\n",
       "    <tr>\n",
       "      <th>506</th>\n",
       "      <td>2021-07-30</td>\n",
       "      <td>249.291396</td>\n",
       "    </tr>\n",
       "    <tr>\n",
       "      <th>507</th>\n",
       "      <td>2021-07-31</td>\n",
       "      <td>242.935814</td>\n",
       "    </tr>\n",
       "    <tr>\n",
       "      <th>508</th>\n",
       "      <td>2021-08-01</td>\n",
       "      <td>243.019341</td>\n",
       "    </tr>\n",
       "  </tbody>\n",
       "</table>\n",
       "</div>"
      ],
      "text/plain": [
       "            ds        yhat\n",
       "504 2021-07-28  248.929450\n",
       "505 2021-07-29  248.816662\n",
       "506 2021-07-30  249.291396\n",
       "507 2021-07-31  242.935814\n",
       "508 2021-08-01  243.019341"
      ]
     },
     "execution_count": 54,
     "metadata": {},
     "output_type": "execute_result"
    }
   ],
   "source": [
    "AMGN_preds.head()"
   ]
  },
  {
   "cell_type": "code",
   "execution_count": 55,
   "metadata": {},
   "outputs": [],
   "source": [
    "AMGN_preds.reset_index(level=0, drop=True,inplace=True)"
   ]
  },
  {
   "cell_type": "code",
   "execution_count": 56,
   "metadata": {},
   "outputs": [
    {
     "data": {
      "text/html": [
       "<div>\n",
       "<style scoped>\n",
       "    .dataframe tbody tr th:only-of-type {\n",
       "        vertical-align: middle;\n",
       "    }\n",
       "\n",
       "    .dataframe tbody tr th {\n",
       "        vertical-align: top;\n",
       "    }\n",
       "\n",
       "    .dataframe thead th {\n",
       "        text-align: right;\n",
       "    }\n",
       "</style>\n",
       "<table border=\"1\" class=\"dataframe\">\n",
       "  <thead>\n",
       "    <tr style=\"text-align: right;\">\n",
       "      <th></th>\n",
       "      <th>ds</th>\n",
       "      <th>yhat</th>\n",
       "    </tr>\n",
       "  </thead>\n",
       "  <tbody>\n",
       "    <tr>\n",
       "      <th>0</th>\n",
       "      <td>2021-07-28</td>\n",
       "      <td>248.929450</td>\n",
       "    </tr>\n",
       "    <tr>\n",
       "      <th>1</th>\n",
       "      <td>2021-07-29</td>\n",
       "      <td>248.816662</td>\n",
       "    </tr>\n",
       "    <tr>\n",
       "      <th>2</th>\n",
       "      <td>2021-07-30</td>\n",
       "      <td>249.291396</td>\n",
       "    </tr>\n",
       "    <tr>\n",
       "      <th>3</th>\n",
       "      <td>2021-07-31</td>\n",
       "      <td>242.935814</td>\n",
       "    </tr>\n",
       "    <tr>\n",
       "      <th>4</th>\n",
       "      <td>2021-08-01</td>\n",
       "      <td>243.019341</td>\n",
       "    </tr>\n",
       "  </tbody>\n",
       "</table>\n",
       "</div>"
      ],
      "text/plain": [
       "          ds        yhat\n",
       "0 2021-07-28  248.929450\n",
       "1 2021-07-29  248.816662\n",
       "2 2021-07-30  249.291396\n",
       "3 2021-07-31  242.935814\n",
       "4 2021-08-01  243.019341"
      ]
     },
     "execution_count": 56,
     "metadata": {},
     "output_type": "execute_result"
    }
   ],
   "source": [
    "AMGN_preds.head()"
   ]
  },
  {
   "cell_type": "code",
   "execution_count": 57,
   "metadata": {
    "scrolled": true
   },
   "outputs": [
    {
     "data": {
      "text/plain": [
       "250.75312667813517"
      ]
     },
     "execution_count": 57,
     "metadata": {},
     "output_type": "execute_result"
    }
   ],
   "source": [
    "AMGN_preds['yhat'][20]"
   ]
  },
  {
   "cell_type": "code",
   "execution_count": 58,
   "metadata": {},
   "outputs": [
    {
     "data": {
      "text/plain": [
       "248.9294504828349"
      ]
     },
     "execution_count": 58,
     "metadata": {},
     "output_type": "execute_result"
    }
   ],
   "source": [
    "AMGN_preds['yhat'][0]"
   ]
  },
  {
   "cell_type": "code",
   "execution_count": 59,
   "metadata": {},
   "outputs": [],
   "source": [
    "change_percent=((AMGN_preds['yhat'][20]-AMGN_preds['yhat'][0])/AMGN_preds['yhat'][0])*100"
   ]
  },
  {
   "cell_type": "code",
   "execution_count": 60,
   "metadata": {},
   "outputs": [],
   "source": [
    "change_percent=round(change_percent,2)"
   ]
  },
  {
   "cell_type": "code",
   "execution_count": 61,
   "metadata": {},
   "outputs": [
    {
     "data": {
      "text/plain": [
       "0.73"
      ]
     },
     "execution_count": 61,
     "metadata": {},
     "output_type": "execute_result"
    }
   ],
   "source": [
    "change_percent"
   ]
  },
  {
   "cell_type": "code",
   "execution_count": 62,
   "metadata": {},
   "outputs": [],
   "source": [
    "def pct_change(df):\n",
    "    \"\"\"This function will quickly calculate the percentage change from the predictions dataframe.\n",
    "    One that has been produced from the earlier Prophet function\"\"\"\n",
    "    df1=df['yhat']\n",
    "    df1=df1.tail(21)\n",
    "    df1.reset_index(level=0, drop=True,inplace=True)\n",
    "    change=((df1[20]-df1[0])/df1[0])*100\n",
    "    change=round(change, 2)\n",
    "    if change >0:\n",
    "        print(f\"According to the model, you stand to gain {change}% over the next 21 days\")\n",
    "    else:\n",
    "        change_abs=abs(change)\n",
    "        print(f\"According to the model, you stand to lose {change_abs}% over the next 21 days\")\n",
    "    return None"
   ]
  },
  {
   "cell_type": "code",
   "execution_count": 63,
   "metadata": {
    "scrolled": true
   },
   "outputs": [
    {
     "name": "stdout",
     "output_type": "stream",
     "text": [
      "According to the model, you stand to gain 0.72% over the next 21 days\n"
     ]
    }
   ],
   "source": [
    "pct_change(results_AAPL)"
   ]
  },
  {
   "cell_type": "code",
   "execution_count": 64,
   "metadata": {},
   "outputs": [
    {
     "name": "stdout",
     "output_type": "stream",
     "text": [
      "According to the model, you stand to gain 2.97% over the next 21 days\n"
     ]
    }
   ],
   "source": [
    "pct_change(results_AXP)"
   ]
  },
  {
   "cell_type": "code",
   "execution_count": 65,
   "metadata": {},
   "outputs": [
    {
     "name": "stdout",
     "output_type": "stream",
     "text": [
      "According to the model, you stand to gain 1.77% over the next 21 days\n"
     ]
    }
   ],
   "source": [
    "pct_change(results_MMM)"
   ]
  },
  {
   "cell_type": "code",
   "execution_count": 66,
   "metadata": {},
   "outputs": [
    {
     "name": "stdout",
     "output_type": "stream",
     "text": [
      "According to the model, you stand to gain 0.48% over the next 21 days\n"
     ]
    }
   ],
   "source": [
    "pct_change(results_CAT)"
   ]
  },
  {
   "cell_type": "code",
   "execution_count": 67,
   "metadata": {},
   "outputs": [],
   "source": [
    "def fcast(stock):\n",
    "    \"\"\"This function will take a stock and perform Prophet modeling on it and return the forecast dataframe\"\"\"\n",
    "    stock=stock.upper() #make sure the symbol is in uppercase\n",
    "    prof=Prophet()\n",
    "    stonk = yf.Ticker(stock)\n",
    "    df1=stonk.history(period='1y')\n",
    "    df1=df1['Close']\n",
    "    df1=df1.to_frame()\n",
    "    df1.index.names = ['ds']\n",
    "    df1.columns=['y']\n",
    "    df1.reset_index(level=0, inplace=True)\n",
    "    prof.fit(df1)\n",
    "    future = prof.make_future_dataframe(periods=21)\n",
    "    forecast = prof.predict(future)\n",
    "    #The next 2 lines are disabled for the final function\n",
    "#    prof.plot(forecast)\n",
    " #   plt.show()\n",
    "    return forecast"
   ]
  },
  {
   "cell_type": "code",
   "execution_count": 68,
   "metadata": {
    "scrolled": true
   },
   "outputs": [
    {
     "name": "stderr",
     "output_type": "stream",
     "text": [
      "INFO:fbprophet:Disabling yearly seasonality. Run prophet with yearly_seasonality=True to override this.\n",
      "INFO:fbprophet:Disabling daily seasonality. Run prophet with daily_seasonality=True to override this.\n"
     ]
    }
   ],
   "source": [
    "HAL=fcast('HAL')"
   ]
  },
  {
   "cell_type": "code",
   "execution_count": 69,
   "metadata": {},
   "outputs": [
    {
     "data": {
      "text/html": [
       "<div>\n",
       "<style scoped>\n",
       "    .dataframe tbody tr th:only-of-type {\n",
       "        vertical-align: middle;\n",
       "    }\n",
       "\n",
       "    .dataframe tbody tr th {\n",
       "        vertical-align: top;\n",
       "    }\n",
       "\n",
       "    .dataframe thead th {\n",
       "        text-align: right;\n",
       "    }\n",
       "</style>\n",
       "<table border=\"1\" class=\"dataframe\">\n",
       "  <thead>\n",
       "    <tr style=\"text-align: right;\">\n",
       "      <th></th>\n",
       "      <th>ds</th>\n",
       "      <th>trend</th>\n",
       "      <th>yhat_lower</th>\n",
       "      <th>yhat_upper</th>\n",
       "      <th>trend_lower</th>\n",
       "      <th>trend_upper</th>\n",
       "      <th>additive_terms</th>\n",
       "      <th>additive_terms_lower</th>\n",
       "      <th>additive_terms_upper</th>\n",
       "      <th>weekly</th>\n",
       "      <th>weekly_lower</th>\n",
       "      <th>weekly_upper</th>\n",
       "      <th>multiplicative_terms</th>\n",
       "      <th>multiplicative_terms_lower</th>\n",
       "      <th>multiplicative_terms_upper</th>\n",
       "      <th>yhat</th>\n",
       "    </tr>\n",
       "  </thead>\n",
       "  <tbody>\n",
       "    <tr>\n",
       "      <th>0</th>\n",
       "      <td>2020-07-27</td>\n",
       "      <td>15.561352</td>\n",
       "      <td>13.984150</td>\n",
       "      <td>17.510735</td>\n",
       "      <td>15.561352</td>\n",
       "      <td>15.561352</td>\n",
       "      <td>0.124212</td>\n",
       "      <td>0.124212</td>\n",
       "      <td>0.124212</td>\n",
       "      <td>0.124212</td>\n",
       "      <td>0.124212</td>\n",
       "      <td>0.124212</td>\n",
       "      <td>0.0</td>\n",
       "      <td>0.0</td>\n",
       "      <td>0.0</td>\n",
       "      <td>15.685564</td>\n",
       "    </tr>\n",
       "    <tr>\n",
       "      <th>1</th>\n",
       "      <td>2020-07-28</td>\n",
       "      <td>15.526206</td>\n",
       "      <td>13.984599</td>\n",
       "      <td>17.547330</td>\n",
       "      <td>15.526206</td>\n",
       "      <td>15.526206</td>\n",
       "      <td>0.172389</td>\n",
       "      <td>0.172389</td>\n",
       "      <td>0.172389</td>\n",
       "      <td>0.172389</td>\n",
       "      <td>0.172389</td>\n",
       "      <td>0.172389</td>\n",
       "      <td>0.0</td>\n",
       "      <td>0.0</td>\n",
       "      <td>0.0</td>\n",
       "      <td>15.698595</td>\n",
       "    </tr>\n",
       "    <tr>\n",
       "      <th>2</th>\n",
       "      <td>2020-07-29</td>\n",
       "      <td>15.491059</td>\n",
       "      <td>13.946429</td>\n",
       "      <td>17.635205</td>\n",
       "      <td>15.491059</td>\n",
       "      <td>15.491059</td>\n",
       "      <td>0.299438</td>\n",
       "      <td>0.299438</td>\n",
       "      <td>0.299438</td>\n",
       "      <td>0.299438</td>\n",
       "      <td>0.299438</td>\n",
       "      <td>0.299438</td>\n",
       "      <td>0.0</td>\n",
       "      <td>0.0</td>\n",
       "      <td>0.0</td>\n",
       "      <td>15.790497</td>\n",
       "    </tr>\n",
       "    <tr>\n",
       "      <th>3</th>\n",
       "      <td>2020-07-30</td>\n",
       "      <td>15.455913</td>\n",
       "      <td>13.770879</td>\n",
       "      <td>17.314650</td>\n",
       "      <td>15.455913</td>\n",
       "      <td>15.455913</td>\n",
       "      <td>0.140359</td>\n",
       "      <td>0.140359</td>\n",
       "      <td>0.140359</td>\n",
       "      <td>0.140359</td>\n",
       "      <td>0.140359</td>\n",
       "      <td>0.140359</td>\n",
       "      <td>0.0</td>\n",
       "      <td>0.0</td>\n",
       "      <td>0.0</td>\n",
       "      <td>15.596272</td>\n",
       "    </tr>\n",
       "    <tr>\n",
       "      <th>4</th>\n",
       "      <td>2020-07-31</td>\n",
       "      <td>15.420767</td>\n",
       "      <td>13.805283</td>\n",
       "      <td>17.336513</td>\n",
       "      <td>15.420767</td>\n",
       "      <td>15.420767</td>\n",
       "      <td>0.129428</td>\n",
       "      <td>0.129428</td>\n",
       "      <td>0.129428</td>\n",
       "      <td>0.129428</td>\n",
       "      <td>0.129428</td>\n",
       "      <td>0.129428</td>\n",
       "      <td>0.0</td>\n",
       "      <td>0.0</td>\n",
       "      <td>0.0</td>\n",
       "      <td>15.550195</td>\n",
       "    </tr>\n",
       "  </tbody>\n",
       "</table>\n",
       "</div>"
      ],
      "text/plain": [
       "          ds      trend  yhat_lower  yhat_upper  trend_lower  trend_upper  \\\n",
       "0 2020-07-27  15.561352   13.984150   17.510735    15.561352    15.561352   \n",
       "1 2020-07-28  15.526206   13.984599   17.547330    15.526206    15.526206   \n",
       "2 2020-07-29  15.491059   13.946429   17.635205    15.491059    15.491059   \n",
       "3 2020-07-30  15.455913   13.770879   17.314650    15.455913    15.455913   \n",
       "4 2020-07-31  15.420767   13.805283   17.336513    15.420767    15.420767   \n",
       "\n",
       "   additive_terms  additive_terms_lower  additive_terms_upper    weekly  \\\n",
       "0        0.124212              0.124212              0.124212  0.124212   \n",
       "1        0.172389              0.172389              0.172389  0.172389   \n",
       "2        0.299438              0.299438              0.299438  0.299438   \n",
       "3        0.140359              0.140359              0.140359  0.140359   \n",
       "4        0.129428              0.129428              0.129428  0.129428   \n",
       "\n",
       "   weekly_lower  weekly_upper  multiplicative_terms  \\\n",
       "0      0.124212      0.124212                   0.0   \n",
       "1      0.172389      0.172389                   0.0   \n",
       "2      0.299438      0.299438                   0.0   \n",
       "3      0.140359      0.140359                   0.0   \n",
       "4      0.129428      0.129428                   0.0   \n",
       "\n",
       "   multiplicative_terms_lower  multiplicative_terms_upper       yhat  \n",
       "0                         0.0                         0.0  15.685564  \n",
       "1                         0.0                         0.0  15.698595  \n",
       "2                         0.0                         0.0  15.790497  \n",
       "3                         0.0                         0.0  15.596272  \n",
       "4                         0.0                         0.0  15.550195  "
      ]
     },
     "execution_count": 69,
     "metadata": {},
     "output_type": "execute_result"
    }
   ],
   "source": [
    "HAL.head()"
   ]
  },
  {
   "cell_type": "code",
   "execution_count": 70,
   "metadata": {},
   "outputs": [
    {
     "name": "stderr",
     "output_type": "stream",
     "text": [
      "INFO:fbprophet:Disabling yearly seasonality. Run prophet with yearly_seasonality=True to override this.\n",
      "INFO:fbprophet:Disabling daily seasonality. Run prophet with daily_seasonality=True to override this.\n"
     ]
    }
   ],
   "source": [
    "MMM=fcast('MMM')"
   ]
  },
  {
   "cell_type": "code",
   "execution_count": 71,
   "metadata": {},
   "outputs": [
    {
     "name": "stderr",
     "output_type": "stream",
     "text": [
      "INFO:fbprophet:Disabling yearly seasonality. Run prophet with yearly_seasonality=True to override this.\n",
      "INFO:fbprophet:Disabling daily seasonality. Run prophet with daily_seasonality=True to override this.\n"
     ]
    }
   ],
   "source": [
    "AXP=fcast('AXP')"
   ]
  },
  {
   "cell_type": "code",
   "execution_count": 72,
   "metadata": {},
   "outputs": [],
   "source": [
    "def pred_4():\n",
    "    \"\"\"This function will prompt the user to input 4 different stock/ETF symbols. It will then use Prophet \n",
    "    to forecast the next 21 days of the stock price, and return the values (in percent) of potential gain and loss.\"\"\"\n",
    "    stocks=[]\n",
    "    pcts=[]\n",
    "    stock1,stock2,stock3,stock4=input(\"Enter 4 stock symbols: \").split(\",\")\n",
    "    stocks=[stock1,stock2,stock3,stock4]\n",
    "    for stock in stocks:\n",
    "        stock=stock.upper()\n",
    "        df=fcast(stock)\n",
    "        df1=df['yhat']\n",
    "        df1=df1.tail(21)\n",
    "        df1.reset_index(level=0, drop=True,inplace=True)\n",
    "        change=((df1[20]-df1[0])/df1[0])*100\n",
    "        change=round(change, 2)\n",
    "        pcts.append(change)\n",
    "    for i in range(0,4):\n",
    "        print(f\"Stock: {stocks[i].upper()}\")\n",
    "        print(f\"Percent Change: {pcts[i]}\")\n",
    "    maxp=pcts.index(max(pcts))\n",
    "    print()\n",
    "    print(f'According to the model, {stocks[maxp].upper()} has the highest upside.')\n",
    "    print(\"\\n\" * 3)\n",
    "    print('FOR ENTERTAINMENT PURPOSES ONLY. This does not substitute for advise from a financial advisor.') \n",
    "    print('The creator and affiliates are not responsible for any potential losses. But totally responsible for any gains.')\n",
    "    return None\n",
    "    "
   ]
  },
  {
   "cell_type": "code",
   "execution_count": 73,
   "metadata": {
    "scrolled": false
   },
   "outputs": [
    {
     "name": "stdout",
     "output_type": "stream",
     "text": [
      "Enter 4 stock symbols: msft,amzn,tsla,spy\n"
     ]
    },
    {
     "name": "stderr",
     "output_type": "stream",
     "text": [
      "INFO:fbprophet:Disabling yearly seasonality. Run prophet with yearly_seasonality=True to override this.\n",
      "INFO:fbprophet:Disabling daily seasonality. Run prophet with daily_seasonality=True to override this.\n",
      "INFO:fbprophet:Disabling yearly seasonality. Run prophet with yearly_seasonality=True to override this.\n",
      "INFO:fbprophet:Disabling daily seasonality. Run prophet with daily_seasonality=True to override this.\n",
      "INFO:fbprophet:Disabling yearly seasonality. Run prophet with yearly_seasonality=True to override this.\n",
      "INFO:fbprophet:Disabling daily seasonality. Run prophet with daily_seasonality=True to override this.\n",
      "INFO:fbprophet:Disabling yearly seasonality. Run prophet with yearly_seasonality=True to override this.\n",
      "INFO:fbprophet:Disabling daily seasonality. Run prophet with daily_seasonality=True to override this.\n"
     ]
    },
    {
     "name": "stdout",
     "output_type": "stream",
     "text": [
      "Stock: MSFT\n",
      "Percent Change: 2.94\n",
      "Stock: AMZN\n",
      "Percent Change: 2.28\n",
      "Stock: TSLA\n",
      "Percent Change: -0.37\n",
      "Stock: SPY\n",
      "Percent Change: 1.25\n",
      "\n",
      "According to the model, MSFT has the highest upside.\n",
      "\n",
      "\n",
      "\n",
      "\n",
      "FOR ENTERTAINMENT PURPOSES ONLY. This does not substitute for advise from a financial advisor.\n",
      "The creator and affiliates are not responsible for any potential losses. But totally responsible for any gains.\n"
     ]
    }
   ],
   "source": [
    "pred_4()"
   ]
  },
  {
   "cell_type": "markdown",
   "metadata": {},
   "source": [
    "# Conclusion:"
   ]
  },
  {
   "cell_type": "markdown",
   "metadata": {},
   "source": [
    "I like to call this the KISSSS (the Keep it Simple Stock Selector-The Last 'S' is a typo), and it's true to its name. It's simple, it provides an answer that investors can use to make their decisions. Now as the disclaimer states, this should not be the only factor used in making any investment decision; but for someone that doesn't want to do a lot of research into their stock purchases, this will fit them just fine."
   ]
  },
  {
   "cell_type": "code",
   "execution_count": null,
   "metadata": {},
   "outputs": [],
   "source": []
  }
 ],
 "metadata": {
  "kernelspec": {
   "display_name": "Python 3",
   "language": "python",
   "name": "python3"
  },
  "language_info": {
   "codemirror_mode": {
    "name": "ipython",
    "version": 3
   },
   "file_extension": ".py",
   "mimetype": "text/x-python",
   "name": "python",
   "nbconvert_exporter": "python",
   "pygments_lexer": "ipython3",
   "version": "3.6.9"
  }
 },
 "nbformat": 4,
 "nbformat_minor": 4
}
