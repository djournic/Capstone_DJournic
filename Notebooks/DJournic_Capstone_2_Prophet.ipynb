{
 "cells": [
  {
   "cell_type": "markdown",
   "metadata": {},
   "source": [
    "# Prophet modeling"
   ]
  },
  {
   "cell_type": "markdown",
   "metadata": {},
   "source": [
    "Here we'll try to mimic the same process of finding the best train-test split, but for Facebook's Prophet library. Let's import everything."
   ]
  },
  {
   "cell_type": "code",
   "execution_count": 30,
   "metadata": {},
   "outputs": [],
   "source": [
    "from fbprophet import Prophet\n",
    "from prophet.diagnostics import cross_validation\n",
    "from prophet.plot import plot_cross_validation_metric\n",
    "from prophet.diagnostics import performance_metrics\n",
    "from sklearn.linear_model import LinearRegression\n",
    "from iexfinance.stocks import Stock\n",
    "import random\n",
    "import pandas as pd\n",
    "import matplotlib.pyplot as plt\n",
    "import pandas.tseries\n",
    "import datetime as dt\n",
    "from datetime import date\n",
    "from datetime import timedelta \n",
    "import yfinance as yf\n",
    "import requests\n",
    "from pandas.plotting import lag_plot\n",
    "from pandas import datetime\n",
    "import re\n",
    "from tiingo import TiingoClient\n",
    "import json\n",
    "from pandas_datareader import data as pdr"
   ]
  },
  {
   "cell_type": "code",
   "execution_count": 31,
   "metadata": {},
   "outputs": [
    {
     "data": {
      "text/plain": [
       "'0.1.63'"
      ]
     },
     "execution_count": 31,
     "metadata": {},
     "output_type": "execute_result"
    }
   ],
   "source": [
    "yf.__version__"
   ]
  },
  {
   "cell_type": "markdown",
   "metadata": {},
   "source": [
    "### The test case: C\n",
    "Just like the previous notebook, we'll try to run through a simple test case and expand it to other stocks. We'll use Citicgroup again."
   ]
  },
  {
   "cell_type": "markdown",
   "metadata": {},
   "source": [
    "Quick note: I encountered a bug with my earlier library, yfinance, so I've had to switch to tiingo, so a lot of code will be hashed out from earlier. And in case I can get the bugs worked out."
   ]
  },
  {
   "cell_type": "code",
   "execution_count": 32,
   "metadata": {},
   "outputs": [],
   "source": [
    "c = yf.Ticker(\"C\")"
   ]
  },
  {
   "cell_type": "code",
   "execution_count": 33,
   "metadata": {
    "scrolled": true
   },
   "outputs": [],
   "source": [
    "df=c.history(period=\"2y\")"
   ]
  },
  {
   "cell_type": "code",
   "execution_count": 34,
   "metadata": {},
   "outputs": [
    {
     "data": {
      "text/html": [
       "<div>\n",
       "<style scoped>\n",
       "    .dataframe tbody tr th:only-of-type {\n",
       "        vertical-align: middle;\n",
       "    }\n",
       "\n",
       "    .dataframe tbody tr th {\n",
       "        vertical-align: top;\n",
       "    }\n",
       "\n",
       "    .dataframe thead th {\n",
       "        text-align: right;\n",
       "    }\n",
       "</style>\n",
       "<table border=\"1\" class=\"dataframe\">\n",
       "  <thead>\n",
       "    <tr style=\"text-align: right;\">\n",
       "      <th></th>\n",
       "      <th>Open</th>\n",
       "      <th>High</th>\n",
       "      <th>Low</th>\n",
       "      <th>Close</th>\n",
       "      <th>Volume</th>\n",
       "      <th>Dividends</th>\n",
       "      <th>Stock Splits</th>\n",
       "    </tr>\n",
       "    <tr>\n",
       "      <th>Date</th>\n",
       "      <th></th>\n",
       "      <th></th>\n",
       "      <th></th>\n",
       "      <th></th>\n",
       "      <th></th>\n",
       "      <th></th>\n",
       "      <th></th>\n",
       "    </tr>\n",
       "  </thead>\n",
       "  <tbody>\n",
       "    <tr>\n",
       "      <th>2019-10-07</th>\n",
       "      <td>63.310645</td>\n",
       "      <td>64.215477</td>\n",
       "      <td>63.301315</td>\n",
       "      <td>63.571835</td>\n",
       "      <td>7835500</td>\n",
       "      <td>0.0</td>\n",
       "      <td>0</td>\n",
       "    </tr>\n",
       "    <tr>\n",
       "      <th>2019-10-08</th>\n",
       "      <td>62.527079</td>\n",
       "      <td>62.667004</td>\n",
       "      <td>61.594257</td>\n",
       "      <td>61.939404</td>\n",
       "      <td>13500700</td>\n",
       "      <td>0.0</td>\n",
       "      <td>0</td>\n",
       "    </tr>\n",
       "    <tr>\n",
       "      <th>2019-10-09</th>\n",
       "      <td>62.499086</td>\n",
       "      <td>63.217356</td>\n",
       "      <td>62.303194</td>\n",
       "      <td>62.900200</td>\n",
       "      <td>8357800</td>\n",
       "      <td>0.0</td>\n",
       "      <td>0</td>\n",
       "    </tr>\n",
       "    <tr>\n",
       "      <th>2019-10-10</th>\n",
       "      <td>63.217372</td>\n",
       "      <td>64.635266</td>\n",
       "      <td>63.012157</td>\n",
       "      <td>64.010277</td>\n",
       "      <td>9817000</td>\n",
       "      <td>0.0</td>\n",
       "      <td>0</td>\n",
       "    </tr>\n",
       "    <tr>\n",
       "      <th>2019-10-11</th>\n",
       "      <td>65.288228</td>\n",
       "      <td>66.165083</td>\n",
       "      <td>65.288228</td>\n",
       "      <td>65.390839</td>\n",
       "      <td>14921700</td>\n",
       "      <td>0.0</td>\n",
       "      <td>0</td>\n",
       "    </tr>\n",
       "  </tbody>\n",
       "</table>\n",
       "</div>"
      ],
      "text/plain": [
       "                 Open       High        Low      Close    Volume  Dividends  \\\n",
       "Date                                                                          \n",
       "2019-10-07  63.310645  64.215477  63.301315  63.571835   7835500        0.0   \n",
       "2019-10-08  62.527079  62.667004  61.594257  61.939404  13500700        0.0   \n",
       "2019-10-09  62.499086  63.217356  62.303194  62.900200   8357800        0.0   \n",
       "2019-10-10  63.217372  64.635266  63.012157  64.010277   9817000        0.0   \n",
       "2019-10-11  65.288228  66.165083  65.288228  65.390839  14921700        0.0   \n",
       "\n",
       "            Stock Splits  \n",
       "Date                      \n",
       "2019-10-07             0  \n",
       "2019-10-08             0  \n",
       "2019-10-09             0  \n",
       "2019-10-10             0  \n",
       "2019-10-11             0  "
      ]
     },
     "execution_count": 34,
     "metadata": {},
     "output_type": "execute_result"
    }
   ],
   "source": [
    "df.head()"
   ]
  },
  {
   "cell_type": "code",
   "execution_count": 35,
   "metadata": {},
   "outputs": [
    {
     "data": {
      "text/html": [
       "<div>\n",
       "<style scoped>\n",
       "    .dataframe tbody tr th:only-of-type {\n",
       "        vertical-align: middle;\n",
       "    }\n",
       "\n",
       "    .dataframe tbody tr th {\n",
       "        vertical-align: top;\n",
       "    }\n",
       "\n",
       "    .dataframe thead th {\n",
       "        text-align: right;\n",
       "    }\n",
       "</style>\n",
       "<table border=\"1\" class=\"dataframe\">\n",
       "  <thead>\n",
       "    <tr style=\"text-align: right;\">\n",
       "      <th></th>\n",
       "      <th>Open</th>\n",
       "      <th>High</th>\n",
       "      <th>Low</th>\n",
       "      <th>Close</th>\n",
       "      <th>Volume</th>\n",
       "      <th>Dividends</th>\n",
       "      <th>Stock Splits</th>\n",
       "    </tr>\n",
       "    <tr>\n",
       "      <th>Date</th>\n",
       "      <th></th>\n",
       "      <th></th>\n",
       "      <th></th>\n",
       "      <th></th>\n",
       "      <th></th>\n",
       "      <th></th>\n",
       "      <th></th>\n",
       "    </tr>\n",
       "  </thead>\n",
       "  <tbody>\n",
       "    <tr>\n",
       "      <th>2019-10-07</th>\n",
       "      <td>63.310645</td>\n",
       "      <td>64.215477</td>\n",
       "      <td>63.301315</td>\n",
       "      <td>63.571835</td>\n",
       "      <td>7835500</td>\n",
       "      <td>0.0</td>\n",
       "      <td>0</td>\n",
       "    </tr>\n",
       "    <tr>\n",
       "      <th>2019-10-08</th>\n",
       "      <td>62.527079</td>\n",
       "      <td>62.667004</td>\n",
       "      <td>61.594257</td>\n",
       "      <td>61.939404</td>\n",
       "      <td>13500700</td>\n",
       "      <td>0.0</td>\n",
       "      <td>0</td>\n",
       "    </tr>\n",
       "    <tr>\n",
       "      <th>2019-10-09</th>\n",
       "      <td>62.499086</td>\n",
       "      <td>63.217356</td>\n",
       "      <td>62.303194</td>\n",
       "      <td>62.900200</td>\n",
       "      <td>8357800</td>\n",
       "      <td>0.0</td>\n",
       "      <td>0</td>\n",
       "    </tr>\n",
       "    <tr>\n",
       "      <th>2019-10-10</th>\n",
       "      <td>63.217372</td>\n",
       "      <td>64.635266</td>\n",
       "      <td>63.012157</td>\n",
       "      <td>64.010277</td>\n",
       "      <td>9817000</td>\n",
       "      <td>0.0</td>\n",
       "      <td>0</td>\n",
       "    </tr>\n",
       "    <tr>\n",
       "      <th>2019-10-11</th>\n",
       "      <td>65.288228</td>\n",
       "      <td>66.165083</td>\n",
       "      <td>65.288228</td>\n",
       "      <td>65.390839</td>\n",
       "      <td>14921700</td>\n",
       "      <td>0.0</td>\n",
       "      <td>0</td>\n",
       "    </tr>\n",
       "  </tbody>\n",
       "</table>\n",
       "</div>"
      ],
      "text/plain": [
       "                 Open       High        Low      Close    Volume  Dividends  \\\n",
       "Date                                                                          \n",
       "2019-10-07  63.310645  64.215477  63.301315  63.571835   7835500        0.0   \n",
       "2019-10-08  62.527079  62.667004  61.594257  61.939404  13500700        0.0   \n",
       "2019-10-09  62.499086  63.217356  62.303194  62.900200   8357800        0.0   \n",
       "2019-10-10  63.217372  64.635266  63.012157  64.010277   9817000        0.0   \n",
       "2019-10-11  65.288228  66.165083  65.288228  65.390839  14921700        0.0   \n",
       "\n",
       "            Stock Splits  \n",
       "Date                      \n",
       "2019-10-07             0  \n",
       "2019-10-08             0  \n",
       "2019-10-09             0  \n",
       "2019-10-10             0  \n",
       "2019-10-11             0  "
      ]
     },
     "execution_count": 35,
     "metadata": {},
     "output_type": "execute_result"
    }
   ],
   "source": [
    "df.head()"
   ]
  },
  {
   "cell_type": "markdown",
   "metadata": {},
   "source": [
    "One of the data cleaning aspects of Prophet is that it requires the time periods to be in strings. I want to make this as simple as possible (i.e. just input a number), so here I'll look to transform some potential inputs into Prophet format."
   ]
  },
  {
   "cell_type": "code",
   "execution_count": 36,
   "metadata": {},
   "outputs": [],
   "source": [
    "deltas=['d','m','y']\n",
    "att='200d'"
   ]
  },
  {
   "cell_type": "code",
   "execution_count": 37,
   "metadata": {},
   "outputs": [
    {
     "data": {
      "text/plain": [
       "'d'"
      ]
     },
     "execution_count": 37,
     "metadata": {},
     "output_type": "execute_result"
    }
   ],
   "source": [
    "att[-1]"
   ]
  },
  {
   "cell_type": "code",
   "execution_count": 38,
   "metadata": {},
   "outputs": [
    {
     "data": {
      "text/plain": [
       "'200'"
      ]
     },
     "execution_count": 38,
     "metadata": {},
     "output_type": "execute_result"
    }
   ],
   "source": [
    "spl=len(att)-1\n",
    "att[:spl]"
   ]
  },
  {
   "cell_type": "code",
   "execution_count": 39,
   "metadata": {},
   "outputs": [
    {
     "data": {
      "text/plain": [
       "'200 days'"
      ]
     },
     "execution_count": 39,
     "metadata": {},
     "output_type": "execute_result"
    }
   ],
   "source": [
    "end=att[:spl] + ' days'\n",
    "end"
   ]
  },
  {
   "cell_type": "markdown",
   "metadata": {},
   "source": [
    "So let's get a dataframe with our close price so we can test modeling it."
   ]
  },
  {
   "cell_type": "code",
   "execution_count": 40,
   "metadata": {},
   "outputs": [],
   "source": [
    "df1=df['Close']"
   ]
  },
  {
   "cell_type": "code",
   "execution_count": 41,
   "metadata": {},
   "outputs": [
    {
     "data": {
      "text/plain": [
       "Date\n",
       "2019-10-07    63.571835\n",
       "2019-10-08    61.939404\n",
       "2019-10-09    62.900200\n",
       "2019-10-10    64.010277\n",
       "2019-10-11    65.390839\n",
       "Name: Close, dtype: float64"
      ]
     },
     "execution_count": 41,
     "metadata": {},
     "output_type": "execute_result"
    }
   ],
   "source": [
    "df1.head()"
   ]
  },
  {
   "cell_type": "code",
   "execution_count": 42,
   "metadata": {},
   "outputs": [],
   "source": [
    "df1=df1.to_frame()"
   ]
  },
  {
   "cell_type": "code",
   "execution_count": 43,
   "metadata": {},
   "outputs": [],
   "source": [
    "# instantiate Prophet\n",
    "prof_1 = Prophet(daily_seasonality=True, yearly_seasonality=True)"
   ]
  },
  {
   "cell_type": "code",
   "execution_count": 44,
   "metadata": {},
   "outputs": [
    {
     "data": {
      "text/html": [
       "<div>\n",
       "<style scoped>\n",
       "    .dataframe tbody tr th:only-of-type {\n",
       "        vertical-align: middle;\n",
       "    }\n",
       "\n",
       "    .dataframe tbody tr th {\n",
       "        vertical-align: top;\n",
       "    }\n",
       "\n",
       "    .dataframe thead th {\n",
       "        text-align: right;\n",
       "    }\n",
       "</style>\n",
       "<table border=\"1\" class=\"dataframe\">\n",
       "  <thead>\n",
       "    <tr style=\"text-align: right;\">\n",
       "      <th></th>\n",
       "      <th>Close</th>\n",
       "    </tr>\n",
       "    <tr>\n",
       "      <th>Date</th>\n",
       "      <th></th>\n",
       "    </tr>\n",
       "  </thead>\n",
       "  <tbody>\n",
       "    <tr>\n",
       "      <th>2019-10-07</th>\n",
       "      <td>63.571835</td>\n",
       "    </tr>\n",
       "    <tr>\n",
       "      <th>2019-10-08</th>\n",
       "      <td>61.939404</td>\n",
       "    </tr>\n",
       "    <tr>\n",
       "      <th>2019-10-09</th>\n",
       "      <td>62.900200</td>\n",
       "    </tr>\n",
       "    <tr>\n",
       "      <th>2019-10-10</th>\n",
       "      <td>64.010277</td>\n",
       "    </tr>\n",
       "    <tr>\n",
       "      <th>2019-10-11</th>\n",
       "      <td>65.390839</td>\n",
       "    </tr>\n",
       "  </tbody>\n",
       "</table>\n",
       "</div>"
      ],
      "text/plain": [
       "                Close\n",
       "Date                 \n",
       "2019-10-07  63.571835\n",
       "2019-10-08  61.939404\n",
       "2019-10-09  62.900200\n",
       "2019-10-10  64.010277\n",
       "2019-10-11  65.390839"
      ]
     },
     "execution_count": 44,
     "metadata": {},
     "output_type": "execute_result"
    }
   ],
   "source": [
    "df1.head()"
   ]
  },
  {
   "cell_type": "markdown",
   "metadata": {},
   "source": [
    "Prophet requires the dataframe to be in a certain format, let's get it that way now."
   ]
  },
  {
   "cell_type": "code",
   "execution_count": 45,
   "metadata": {},
   "outputs": [],
   "source": [
    "df1.index.names = ['ds']\n",
    "df1.columns=['y']"
   ]
  },
  {
   "cell_type": "code",
   "execution_count": 46,
   "metadata": {},
   "outputs": [],
   "source": [
    "df1.reset_index(level=0, inplace=True)"
   ]
  },
  {
   "cell_type": "code",
   "execution_count": 47,
   "metadata": {},
   "outputs": [
    {
     "data": {
      "text/html": [
       "<div>\n",
       "<style scoped>\n",
       "    .dataframe tbody tr th:only-of-type {\n",
       "        vertical-align: middle;\n",
       "    }\n",
       "\n",
       "    .dataframe tbody tr th {\n",
       "        vertical-align: top;\n",
       "    }\n",
       "\n",
       "    .dataframe thead th {\n",
       "        text-align: right;\n",
       "    }\n",
       "</style>\n",
       "<table border=\"1\" class=\"dataframe\">\n",
       "  <thead>\n",
       "    <tr style=\"text-align: right;\">\n",
       "      <th></th>\n",
       "      <th>ds</th>\n",
       "      <th>y</th>\n",
       "    </tr>\n",
       "  </thead>\n",
       "  <tbody>\n",
       "    <tr>\n",
       "      <th>0</th>\n",
       "      <td>2019-10-07</td>\n",
       "      <td>63.571835</td>\n",
       "    </tr>\n",
       "    <tr>\n",
       "      <th>1</th>\n",
       "      <td>2019-10-08</td>\n",
       "      <td>61.939404</td>\n",
       "    </tr>\n",
       "    <tr>\n",
       "      <th>2</th>\n",
       "      <td>2019-10-09</td>\n",
       "      <td>62.900200</td>\n",
       "    </tr>\n",
       "    <tr>\n",
       "      <th>3</th>\n",
       "      <td>2019-10-10</td>\n",
       "      <td>64.010277</td>\n",
       "    </tr>\n",
       "    <tr>\n",
       "      <th>4</th>\n",
       "      <td>2019-10-11</td>\n",
       "      <td>65.390839</td>\n",
       "    </tr>\n",
       "  </tbody>\n",
       "</table>\n",
       "</div>"
      ],
      "text/plain": [
       "          ds          y\n",
       "0 2019-10-07  63.571835\n",
       "1 2019-10-08  61.939404\n",
       "2 2019-10-09  62.900200\n",
       "3 2019-10-10  64.010277\n",
       "4 2019-10-11  65.390839"
      ]
     },
     "execution_count": 47,
     "metadata": {},
     "output_type": "execute_result"
    }
   ],
   "source": [
    "df1.head()"
   ]
  },
  {
   "cell_type": "code",
   "execution_count": 48,
   "metadata": {},
   "outputs": [
    {
     "name": "stdout",
     "output_type": "stream",
     "text": [
      "<class 'pandas.core.frame.DataFrame'>\n",
      "RangeIndex: 503 entries, 0 to 502\n",
      "Data columns (total 2 columns):\n",
      " #   Column  Non-Null Count  Dtype         \n",
      "---  ------  --------------  -----         \n",
      " 0   ds      503 non-null    datetime64[ns]\n",
      " 1   y       503 non-null    float64       \n",
      "dtypes: datetime64[ns](1), float64(1)\n",
      "memory usage: 8.0 KB\n"
     ]
    }
   ],
   "source": [
    "df1.info()"
   ]
  },
  {
   "cell_type": "code",
   "execution_count": 49,
   "metadata": {
    "scrolled": true
   },
   "outputs": [
    {
     "data": {
      "text/plain": [
       "<fbprophet.forecaster.Prophet at 0x1a9f198aac8>"
      ]
     },
     "execution_count": 49,
     "metadata": {},
     "output_type": "execute_result"
    }
   ],
   "source": [
    "prof_1.fit(df1)"
   ]
  },
  {
   "cell_type": "code",
   "execution_count": 50,
   "metadata": {},
   "outputs": [],
   "source": [
    "#Create a new dataframe for the predictions, 3 weeks out\n",
    "future = prof_1.make_future_dataframe(periods=21)"
   ]
  },
  {
   "cell_type": "code",
   "execution_count": 51,
   "metadata": {},
   "outputs": [],
   "source": [
    "forecast = prof_1.predict(future)"
   ]
  },
  {
   "cell_type": "code",
   "execution_count": 52,
   "metadata": {},
   "outputs": [
    {
     "data": {
      "text/html": [
       "<div>\n",
       "<style scoped>\n",
       "    .dataframe tbody tr th:only-of-type {\n",
       "        vertical-align: middle;\n",
       "    }\n",
       "\n",
       "    .dataframe tbody tr th {\n",
       "        vertical-align: top;\n",
       "    }\n",
       "\n",
       "    .dataframe thead th {\n",
       "        text-align: right;\n",
       "    }\n",
       "</style>\n",
       "<table border=\"1\" class=\"dataframe\">\n",
       "  <thead>\n",
       "    <tr style=\"text-align: right;\">\n",
       "      <th></th>\n",
       "      <th>ds</th>\n",
       "      <th>trend</th>\n",
       "      <th>yhat_lower</th>\n",
       "      <th>yhat_upper</th>\n",
       "      <th>trend_lower</th>\n",
       "      <th>trend_upper</th>\n",
       "      <th>additive_terms</th>\n",
       "      <th>additive_terms_lower</th>\n",
       "      <th>additive_terms_upper</th>\n",
       "      <th>daily</th>\n",
       "      <th>...</th>\n",
       "      <th>weekly</th>\n",
       "      <th>weekly_lower</th>\n",
       "      <th>weekly_upper</th>\n",
       "      <th>yearly</th>\n",
       "      <th>yearly_lower</th>\n",
       "      <th>yearly_upper</th>\n",
       "      <th>multiplicative_terms</th>\n",
       "      <th>multiplicative_terms_lower</th>\n",
       "      <th>multiplicative_terms_upper</th>\n",
       "      <th>yhat</th>\n",
       "    </tr>\n",
       "  </thead>\n",
       "  <tbody>\n",
       "    <tr>\n",
       "      <th>519</th>\n",
       "      <td>2021-10-21</td>\n",
       "      <td>59.461057</td>\n",
       "      <td>56.948438</td>\n",
       "      <td>66.511711</td>\n",
       "      <td>59.316771</td>\n",
       "      <td>59.656709</td>\n",
       "      <td>2.498144</td>\n",
       "      <td>2.498144</td>\n",
       "      <td>2.498144</td>\n",
       "      <td>13.230798</td>\n",
       "      <td>...</td>\n",
       "      <td>0.677424</td>\n",
       "      <td>0.677424</td>\n",
       "      <td>0.677424</td>\n",
       "      <td>-11.410078</td>\n",
       "      <td>-11.410078</td>\n",
       "      <td>-11.410078</td>\n",
       "      <td>0.0</td>\n",
       "      <td>0.0</td>\n",
       "      <td>0.0</td>\n",
       "      <td>61.959200</td>\n",
       "    </tr>\n",
       "    <tr>\n",
       "      <th>520</th>\n",
       "      <td>2021-10-22</td>\n",
       "      <td>59.469337</td>\n",
       "      <td>56.913448</td>\n",
       "      <td>66.703871</td>\n",
       "      <td>59.316937</td>\n",
       "      <td>59.687457</td>\n",
       "      <td>2.637995</td>\n",
       "      <td>2.637995</td>\n",
       "      <td>2.637995</td>\n",
       "      <td>13.230798</td>\n",
       "      <td>...</td>\n",
       "      <td>0.662443</td>\n",
       "      <td>0.662443</td>\n",
       "      <td>0.662443</td>\n",
       "      <td>-11.255246</td>\n",
       "      <td>-11.255246</td>\n",
       "      <td>-11.255246</td>\n",
       "      <td>0.0</td>\n",
       "      <td>0.0</td>\n",
       "      <td>0.0</td>\n",
       "      <td>62.107332</td>\n",
       "    </tr>\n",
       "    <tr>\n",
       "      <th>521</th>\n",
       "      <td>2021-10-23</td>\n",
       "      <td>59.477617</td>\n",
       "      <td>55.225950</td>\n",
       "      <td>64.716189</td>\n",
       "      <td>59.286640</td>\n",
       "      <td>59.725816</td>\n",
       "      <td>0.502847</td>\n",
       "      <td>0.502847</td>\n",
       "      <td>0.502847</td>\n",
       "      <td>13.230798</td>\n",
       "      <td>...</td>\n",
       "      <td>-1.653850</td>\n",
       "      <td>-1.653850</td>\n",
       "      <td>-1.653850</td>\n",
       "      <td>-11.074101</td>\n",
       "      <td>-11.074101</td>\n",
       "      <td>-11.074101</td>\n",
       "      <td>0.0</td>\n",
       "      <td>0.0</td>\n",
       "      <td>0.0</td>\n",
       "      <td>59.980464</td>\n",
       "    </tr>\n",
       "    <tr>\n",
       "      <th>522</th>\n",
       "      <td>2021-10-24</td>\n",
       "      <td>59.485896</td>\n",
       "      <td>55.299108</td>\n",
       "      <td>64.682220</td>\n",
       "      <td>59.256407</td>\n",
       "      <td>59.763926</td>\n",
       "      <td>0.707716</td>\n",
       "      <td>0.707716</td>\n",
       "      <td>0.707716</td>\n",
       "      <td>13.230798</td>\n",
       "      <td>...</td>\n",
       "      <td>-1.653850</td>\n",
       "      <td>-1.653850</td>\n",
       "      <td>-1.653850</td>\n",
       "      <td>-10.869232</td>\n",
       "      <td>-10.869232</td>\n",
       "      <td>-10.869232</td>\n",
       "      <td>0.0</td>\n",
       "      <td>0.0</td>\n",
       "      <td>0.0</td>\n",
       "      <td>60.193613</td>\n",
       "    </tr>\n",
       "    <tr>\n",
       "      <th>523</th>\n",
       "      <td>2021-10-25</td>\n",
       "      <td>59.494176</td>\n",
       "      <td>57.945915</td>\n",
       "      <td>67.203642</td>\n",
       "      <td>59.237222</td>\n",
       "      <td>59.803267</td>\n",
       "      <td>3.320529</td>\n",
       "      <td>3.320529</td>\n",
       "      <td>3.320529</td>\n",
       "      <td>13.230798</td>\n",
       "      <td>...</td>\n",
       "      <td>0.733062</td>\n",
       "      <td>0.733062</td>\n",
       "      <td>0.733062</td>\n",
       "      <td>-10.643331</td>\n",
       "      <td>-10.643331</td>\n",
       "      <td>-10.643331</td>\n",
       "      <td>0.0</td>\n",
       "      <td>0.0</td>\n",
       "      <td>0.0</td>\n",
       "      <td>62.814705</td>\n",
       "    </tr>\n",
       "  </tbody>\n",
       "</table>\n",
       "<p>5 rows × 22 columns</p>\n",
       "</div>"
      ],
      "text/plain": [
       "            ds      trend  yhat_lower  yhat_upper  trend_lower  trend_upper  \\\n",
       "519 2021-10-21  59.461057   56.948438   66.511711    59.316771    59.656709   \n",
       "520 2021-10-22  59.469337   56.913448   66.703871    59.316937    59.687457   \n",
       "521 2021-10-23  59.477617   55.225950   64.716189    59.286640    59.725816   \n",
       "522 2021-10-24  59.485896   55.299108   64.682220    59.256407    59.763926   \n",
       "523 2021-10-25  59.494176   57.945915   67.203642    59.237222    59.803267   \n",
       "\n",
       "     additive_terms  additive_terms_lower  additive_terms_upper      daily  \\\n",
       "519        2.498144              2.498144              2.498144  13.230798   \n",
       "520        2.637995              2.637995              2.637995  13.230798   \n",
       "521        0.502847              0.502847              0.502847  13.230798   \n",
       "522        0.707716              0.707716              0.707716  13.230798   \n",
       "523        3.320529              3.320529              3.320529  13.230798   \n",
       "\n",
       "     ...    weekly  weekly_lower  weekly_upper     yearly  yearly_lower  \\\n",
       "519  ...  0.677424      0.677424      0.677424 -11.410078    -11.410078   \n",
       "520  ...  0.662443      0.662443      0.662443 -11.255246    -11.255246   \n",
       "521  ... -1.653850     -1.653850     -1.653850 -11.074101    -11.074101   \n",
       "522  ... -1.653850     -1.653850     -1.653850 -10.869232    -10.869232   \n",
       "523  ...  0.733062      0.733062      0.733062 -10.643331    -10.643331   \n",
       "\n",
       "     yearly_upper  multiplicative_terms  multiplicative_terms_lower  \\\n",
       "519    -11.410078                   0.0                         0.0   \n",
       "520    -11.255246                   0.0                         0.0   \n",
       "521    -11.074101                   0.0                         0.0   \n",
       "522    -10.869232                   0.0                         0.0   \n",
       "523    -10.643331                   0.0                         0.0   \n",
       "\n",
       "     multiplicative_terms_upper       yhat  \n",
       "519                         0.0  61.959200  \n",
       "520                         0.0  62.107332  \n",
       "521                         0.0  59.980464  \n",
       "522                         0.0  60.193613  \n",
       "523                         0.0  62.814705  \n",
       "\n",
       "[5 rows x 22 columns]"
      ]
     },
     "execution_count": 52,
     "metadata": {},
     "output_type": "execute_result"
    }
   ],
   "source": [
    "forecast.tail()"
   ]
  },
  {
   "cell_type": "code",
   "execution_count": 53,
   "metadata": {},
   "outputs": [
    {
     "name": "stdout",
     "output_type": "stream",
     "text": [
      "<class 'pandas.core.frame.DataFrame'>\n",
      "RangeIndex: 524 entries, 0 to 523\n",
      "Data columns (total 22 columns):\n",
      " #   Column                      Non-Null Count  Dtype         \n",
      "---  ------                      --------------  -----         \n",
      " 0   ds                          524 non-null    datetime64[ns]\n",
      " 1   trend                       524 non-null    float64       \n",
      " 2   yhat_lower                  524 non-null    float64       \n",
      " 3   yhat_upper                  524 non-null    float64       \n",
      " 4   trend_lower                 524 non-null    float64       \n",
      " 5   trend_upper                 524 non-null    float64       \n",
      " 6   additive_terms              524 non-null    float64       \n",
      " 7   additive_terms_lower        524 non-null    float64       \n",
      " 8   additive_terms_upper        524 non-null    float64       \n",
      " 9   daily                       524 non-null    float64       \n",
      " 10  daily_lower                 524 non-null    float64       \n",
      " 11  daily_upper                 524 non-null    float64       \n",
      " 12  weekly                      524 non-null    float64       \n",
      " 13  weekly_lower                524 non-null    float64       \n",
      " 14  weekly_upper                524 non-null    float64       \n",
      " 15  yearly                      524 non-null    float64       \n",
      " 16  yearly_lower                524 non-null    float64       \n",
      " 17  yearly_upper                524 non-null    float64       \n",
      " 18  multiplicative_terms        524 non-null    float64       \n",
      " 19  multiplicative_terms_lower  524 non-null    float64       \n",
      " 20  multiplicative_terms_upper  524 non-null    float64       \n",
      " 21  yhat                        524 non-null    float64       \n",
      "dtypes: datetime64[ns](1), float64(21)\n",
      "memory usage: 90.2 KB\n"
     ]
    }
   ],
   "source": [
    "forecast.info()"
   ]
  },
  {
   "cell_type": "code",
   "execution_count": 54,
   "metadata": {},
   "outputs": [],
   "source": [
    "proph_pred=forecast['yhat']"
   ]
  },
  {
   "cell_type": "code",
   "execution_count": 80,
   "metadata": {},
   "outputs": [
    {
     "data": {
      "image/png": "[encoded data removed]",
      "text/plain": [
       "<Figure size 720x432 with 1 Axes>"
      ]
     },
     "metadata": {},
     "output_type": "display_data"
    }
   ],
   "source": [
    "fig = prof_1.plot(forecast, xlabel='Date', ylabel='Pred Value')\n",
    "ax = fig.gca()\n",
    "ax.set_title(\"Prophet Forecast: C\", size=20)\n",
    "ax.set_xlabel(\"Date\", size=20)\n",
    "ax.set_ylabel(\"Price\", size=20)\n",
    "ax.tick_params(axis=\"x\", labelsize=12)\n",
    "ax.tick_params(axis=\"y\", labelsize=12)"
   ]
  },
  {
   "cell_type": "markdown",
   "metadata": {},
   "source": []
  },
  {
   "cell_type": "code",
   "execution_count": 55,
   "metadata": {
    "scrolled": true
   },
   "outputs": [
    {
     "data": {
      "image/png": "[encoded data removed]",
      "text/plain": [
       "<Figure size 720x432 with 1 Axes>"
      ]
     },
     "metadata": {},
     "output_type": "display_data"
    }
   ],
   "source": [
    "prof_1.plot(forecast)\n",
    "plt.show()"
   ]
  },
  {
   "cell_type": "markdown",
   "metadata": {},
   "source": [
    "Thankfully, Prophet has its own cross validation and performance metrics functions to see how well the model performed."
   ]
  },
  {
   "cell_type": "code",
   "execution_count": 56,
   "metadata": {
    "scrolled": false
   },
   "outputs": [
    {
     "name": "stderr",
     "output_type": "stream",
     "text": [
      "INFO:prophet:Making 685 forecasts with cutoffs between 2019-11-06 00:00:00 and 2021-09-20 00:00:00\n",
      "WARNING:prophet:Seasonality has period of 365.25 days which is larger than initial window. Consider increasing initial.\n"
     ]
    },
    {
     "data": {
      "application/vnd.jupyter.widget-view+json": {
       "model_id": "c3b3a01f87714fa28f5d3f437049dbc0",
       "version_major": 2,
       "version_minor": 0
      },
      "text/plain": [
       "  0%|          | 0/685 [00:00<?, ?it/s]"
      ]
     },
     "metadata": {},
     "output_type": "display_data"
    },
    {
     "name": "stderr",
     "output_type": "stream",
     "text": [
      "INFO:fbprophet:n_changepoints greater than number of observations. Using 17.\n",
      "INFO:fbprophet:n_changepoints greater than number of observations. Using 18.\n",
      "INFO:fbprophet:n_changepoints greater than number of observations. Using 19.\n",
      "INFO:fbprophet:n_changepoints greater than number of observations. Using 19.\n",
      "INFO:fbprophet:n_changepoints greater than number of observations. Using 19.\n",
      "INFO:fbprophet:n_changepoints greater than number of observations. Using 19.\n",
      "INFO:fbprophet:n_changepoints greater than number of observations. Using 20.\n",
      "INFO:fbprophet:n_changepoints greater than number of observations. Using 21.\n",
      "INFO:fbprophet:n_changepoints greater than number of observations. Using 22.\n",
      "INFO:fbprophet:n_changepoints greater than number of observations. Using 23.\n",
      "INFO:fbprophet:n_changepoints greater than number of observations. Using 23.\n",
      "INFO:fbprophet:n_changepoints greater than number of observations. Using 23.\n",
      "INFO:fbprophet:n_changepoints greater than number of observations. Using 23.\n",
      "INFO:fbprophet:n_changepoints greater than number of observations. Using 24.\n",
      "WARNING:fbprophet:Optimization terminated abnormally. Falling back to Newton.\n"
     ]
    }
   ],
   "source": [
    "df1_cv = cross_validation(prof_1, initial='30 days', period='1 days', horizon = '14 days')"
   ]
  },
  {
   "cell_type": "code",
   "execution_count": 57,
   "metadata": {},
   "outputs": [],
   "source": [
    "df1_pm = performance_metrics(df1_cv)"
   ]
  },
  {
   "cell_type": "code",
   "execution_count": 58,
   "metadata": {},
   "outputs": [],
   "source": [
    "trains=['30 days','60 days','180 days']\n",
    "tests=['7 days','14 days']"
   ]
  },
  {
   "cell_type": "code",
   "execution_count": 59,
   "metadata": {},
   "outputs": [
    {
     "data": {
      "text/html": [
       "<div>\n",
       "<style scoped>\n",
       "    .dataframe tbody tr th:only-of-type {\n",
       "        vertical-align: middle;\n",
       "    }\n",
       "\n",
       "    .dataframe tbody tr th {\n",
       "        vertical-align: top;\n",
       "    }\n",
       "\n",
       "    .dataframe thead th {\n",
       "        text-align: right;\n",
       "    }\n",
       "</style>\n",
       "<table border=\"1\" class=\"dataframe\">\n",
       "  <thead>\n",
       "    <tr style=\"text-align: right;\">\n",
       "      <th></th>\n",
       "      <th>horizon</th>\n",
       "      <th>mse</th>\n",
       "      <th>rmse</th>\n",
       "      <th>mae</th>\n",
       "      <th>mape</th>\n",
       "      <th>mdape</th>\n",
       "      <th>smape</th>\n",
       "      <th>coverage</th>\n",
       "    </tr>\n",
       "  </thead>\n",
       "  <tbody>\n",
       "    <tr>\n",
       "      <th>8</th>\n",
       "      <td>10 days</td>\n",
       "      <td>880.000420</td>\n",
       "      <td>29.664801</td>\n",
       "      <td>16.054364</td>\n",
       "      <td>0.259822</td>\n",
       "      <td>0.134407</td>\n",
       "      <td>0.269758</td>\n",
       "      <td>0.162564</td>\n",
       "    </tr>\n",
       "    <tr>\n",
       "      <th>9</th>\n",
       "      <td>11 days</td>\n",
       "      <td>1362.079199</td>\n",
       "      <td>36.906357</td>\n",
       "      <td>18.723737</td>\n",
       "      <td>0.302054</td>\n",
       "      <td>0.136998</td>\n",
       "      <td>0.301172</td>\n",
       "      <td>0.159909</td>\n",
       "    </tr>\n",
       "    <tr>\n",
       "      <th>10</th>\n",
       "      <td>12 days</td>\n",
       "      <td>2035.874931</td>\n",
       "      <td>45.120671</td>\n",
       "      <td>21.635956</td>\n",
       "      <td>0.348034</td>\n",
       "      <td>0.149033</td>\n",
       "      <td>0.322646</td>\n",
       "      <td>0.157982</td>\n",
       "    </tr>\n",
       "    <tr>\n",
       "      <th>11</th>\n",
       "      <td>13 days</td>\n",
       "      <td>2617.258088</td>\n",
       "      <td>51.159145</td>\n",
       "      <td>24.189050</td>\n",
       "      <td>0.387398</td>\n",
       "      <td>0.150341</td>\n",
       "      <td>0.338857</td>\n",
       "      <td>0.158535</td>\n",
       "    </tr>\n",
       "    <tr>\n",
       "      <th>12</th>\n",
       "      <td>14 days</td>\n",
       "      <td>3476.654823</td>\n",
       "      <td>58.963165</td>\n",
       "      <td>26.983881</td>\n",
       "      <td>0.430317</td>\n",
       "      <td>0.170637</td>\n",
       "      <td>0.349337</td>\n",
       "      <td>0.153166</td>\n",
       "    </tr>\n",
       "  </tbody>\n",
       "</table>\n",
       "</div>"
      ],
      "text/plain": [
       "   horizon          mse       rmse        mae      mape     mdape     smape  \\\n",
       "8  10 days   880.000420  29.664801  16.054364  0.259822  0.134407  0.269758   \n",
       "9  11 days  1362.079199  36.906357  18.723737  0.302054  0.136998  0.301172   \n",
       "10 12 days  2035.874931  45.120671  21.635956  0.348034  0.149033  0.322646   \n",
       "11 13 days  2617.258088  51.159145  24.189050  0.387398  0.150341  0.338857   \n",
       "12 14 days  3476.654823  58.963165  26.983881  0.430317  0.170637  0.349337   \n",
       "\n",
       "    coverage  \n",
       "8   0.162564  \n",
       "9   0.159909  \n",
       "10  0.157982  \n",
       "11  0.158535  \n",
       "12  0.153166  "
      ]
     },
     "execution_count": 59,
     "metadata": {},
     "output_type": "execute_result"
    }
   ],
   "source": [
    "df1_pm.tail()"
   ]
  },
  {
   "cell_type": "code",
   "execution_count": 60,
   "metadata": {},
   "outputs": [
    {
     "data": {
      "image/png": "[encoded data removed]",
      "text/plain": [
       "<Figure size 720x432 with 1 Axes>"
      ]
     },
     "metadata": {},
     "output_type": "display_data"
    }
   ],
   "source": [
    "fig = plot_cross_validation_metric(df1_cv, metric='mae')"
   ]
  },
  {
   "cell_type": "markdown",
   "metadata": {},
   "source": [
    "## STONKS (Again)!!!"
   ]
  },
  {
   "cell_type": "markdown",
   "metadata": {},
   "source": [
    "Just like in the ARIMA notebook, I want to test a number of train-test splits with Prophet. Since it works a little different from ARIMA, the code will be a little different, but still borrowing a lot. Here, we can import our stock symbols, and clean them up."
   ]
  },
  {
   "cell_type": "code",
   "execution_count": 61,
   "metadata": {},
   "outputs": [],
   "source": [
    "sp_500=pd.read_csv('Data/constituents_csv.csv')\n",
    "nsdq=pd.read_csv('Data/nasdaq.csv')\n",
    "dow_30=pd.read_excel('Data/dow-jones-industrial-average-components.xls')"
   ]
  },
  {
   "cell_type": "markdown",
   "metadata": {},
   "source": [
    "Again, we'll be doing the same things we did in the ARIMA notebook to make the data model-friendly. Like changing the names of the columns in the Dow dataframe."
   ]
  },
  {
   "cell_type": "code",
   "execution_count": 62,
   "metadata": {},
   "outputs": [],
   "source": [
    "new_cols=['Name','Symbol','Weight%']\n",
    "dow_30.columns=new_cols"
   ]
  },
  {
   "cell_type": "code",
   "execution_count": 63,
   "metadata": {
    "scrolled": true
   },
   "outputs": [
    {
     "data": {
      "text/html": [
       "<div>\n",
       "<style scoped>\n",
       "    .dataframe tbody tr th:only-of-type {\n",
       "        vertical-align: middle;\n",
       "    }\n",
       "\n",
       "    .dataframe tbody tr th {\n",
       "        vertical-align: top;\n",
       "    }\n",
       "\n",
       "    .dataframe thead th {\n",
       "        text-align: right;\n",
       "    }\n",
       "</style>\n",
       "<table border=\"1\" class=\"dataframe\">\n",
       "  <thead>\n",
       "    <tr style=\"text-align: right;\">\n",
       "      <th></th>\n",
       "      <th>Unnamed: 0</th>\n",
       "      <th>Symbol</th>\n",
       "      <th>Company Name</th>\n",
       "    </tr>\n",
       "  </thead>\n",
       "  <tbody>\n",
       "    <tr>\n",
       "      <th>0</th>\n",
       "      <td>1</td>\n",
       "      <td>AAL</td>\n",
       "      <td>American Airlines Group, Inc.</td>\n",
       "    </tr>\n",
       "    <tr>\n",
       "      <th>1</th>\n",
       "      <td>2</td>\n",
       "      <td>AAME</td>\n",
       "      <td>Atlantic American Corporation</td>\n",
       "    </tr>\n",
       "    <tr>\n",
       "      <th>2</th>\n",
       "      <td>3</td>\n",
       "      <td>AAOI</td>\n",
       "      <td>Applied Optoelectronics, Inc.</td>\n",
       "    </tr>\n",
       "    <tr>\n",
       "      <th>3</th>\n",
       "      <td>4</td>\n",
       "      <td>AAON</td>\n",
       "      <td>AAON, Inc.</td>\n",
       "    </tr>\n",
       "    <tr>\n",
       "      <th>4</th>\n",
       "      <td>5</td>\n",
       "      <td>AAPL</td>\n",
       "      <td>Apple Inc.</td>\n",
       "    </tr>\n",
       "  </tbody>\n",
       "</table>\n",
       "</div>"
      ],
      "text/plain": [
       "   Unnamed: 0 Symbol                   Company Name\n",
       "0           1    AAL  American Airlines Group, Inc.\n",
       "1           2   AAME  Atlantic American Corporation\n",
       "2           3   AAOI  Applied Optoelectronics, Inc.\n",
       "3           4   AAON                     AAON, Inc.\n",
       "4           5   AAPL                     Apple Inc."
      ]
     },
     "execution_count": 63,
     "metadata": {},
     "output_type": "execute_result"
    }
   ],
   "source": [
    "nsdq.head()"
   ]
  },
  {
   "cell_type": "code",
   "execution_count": 64,
   "metadata": {},
   "outputs": [],
   "source": [
    "nsdq.drop(columns='Unnamed: 0',inplace=True)"
   ]
  },
  {
   "cell_type": "code",
   "execution_count": 65,
   "metadata": {},
   "outputs": [
    {
     "data": {
      "text/plain": [
       "1701"
      ]
     },
     "execution_count": 65,
     "metadata": {},
     "output_type": "execute_result"
    }
   ],
   "source": [
    "len(nsdq)"
   ]
  },
  {
   "cell_type": "markdown",
   "metadata": {},
   "source": [
    "Again, like the ARIMA notebook, this code is to find all the bad stocks (delisted) in the NASDAQ csv file. I've hashed it out because I saved the csv, so it should work just fine. But I kept the code in case I run this in the future and it doesn't work."
   ]
  },
  {
   "cell_type": "code",
   "execution_count": 66,
   "metadata": {},
   "outputs": [],
   "source": [
    "#no_data=[]\n",
    "#for each in nsdq['Symbol']:\n",
    "#    x=yf.Ticker(each)\n",
    "#    df=x.history(period='1d')\n",
    "#    if len(df)==0:\n",
    "#        no_data.append(each)"
   ]
  },
  {
   "cell_type": "code",
   "execution_count": 67,
   "metadata": {},
   "outputs": [],
   "source": [
    "#len(no_data)"
   ]
  },
  {
   "cell_type": "code",
   "execution_count": 68,
   "metadata": {},
   "outputs": [],
   "source": [
    "#nd_index=[]\n",
    "#for each in no_data:\n",
    "#    y=nsdq.loc[nsdq['Symbol']==each].index\n",
    "#    nd_index.append(y[0])"
   ]
  },
  {
   "cell_type": "code",
   "execution_count": 69,
   "metadata": {},
   "outputs": [],
   "source": [
    "#nsdq = nsdq.drop(labels=nd_index,drop=True, axis=0)\n",
    "#nsdq.reset_index()"
   ]
  },
  {
   "cell_type": "code",
   "execution_count": 70,
   "metadata": {},
   "outputs": [],
   "source": [
    "#nsdq.to_csv(\"/Users/Daniel/Documents/Flatiron/Capstone/Project/nasdaq.csv\")"
   ]
  },
  {
   "cell_type": "code",
   "execution_count": 71,
   "metadata": {},
   "outputs": [],
   "source": [
    "def tt_test_p (asset,train_val,test_val):\n",
    "    \"\"\"This function will take in a financial asset (stock, etf, as a string) as well as 2 lists of integers (training and testing days).\n",
    "    Then the asset will be looked up through yahoo finance and gather the price history. It will then run through the values\n",
    "    of the training and testing lists and run prophet models on all of them. It will record the metrics and return a\n",
    "    dataframe with all the results.\"\"\"\n",
    "    \n",
    "    stock = yf.Ticker(asset)\n",
    "    df1=stock.history(period='1y')\n",
    "    print(\"Processing: \",stock)\n",
    "    prof_1 = Prophet(daily_seasonality=True, yearly_seasonality=True)\n",
    "    df1=df1['Close']\n",
    "    df1=df1.to_frame()\n",
    "    df1.index.names = ['ds']\n",
    "    df1.columns=['y']\n",
    "    df1.reset_index(level=0, inplace=True)\n",
    "    prof_1.fit(df1)\n",
    "    future = prof_1.make_future_dataframe(periods=14)\n",
    "    forecast = prof_1.predict(future)\n",
    "    for train_val in trains:\n",
    "        for test_val in tests:\n",
    "            df1_cv = cross_validation(prof_1, initial=train_val, period='1 days', horizon = test_val)\n",
    "            df1_pm = performance_metrics(df1_cv)\n",
    "            print('Training: ', train_val)\n",
    "            print('Testing: ', test_val)\n",
    "            print (df1_pm.tail())             \n",
    "\n",
    "    return forecast"
   ]
  },
  {
   "cell_type": "code",
   "execution_count": 72,
   "metadata": {},
   "outputs": [
    {
     "data": {
      "text/html": [
       "<div>\n",
       "<style scoped>\n",
       "    .dataframe tbody tr th:only-of-type {\n",
       "        vertical-align: middle;\n",
       "    }\n",
       "\n",
       "    .dataframe tbody tr th {\n",
       "        vertical-align: top;\n",
       "    }\n",
       "\n",
       "    .dataframe thead th {\n",
       "        text-align: right;\n",
       "    }\n",
       "</style>\n",
       "<table border=\"1\" class=\"dataframe\">\n",
       "  <thead>\n",
       "    <tr style=\"text-align: right;\">\n",
       "      <th></th>\n",
       "      <th>index</th>\n",
       "      <th>Symbol</th>\n",
       "      <th>Train_Len</th>\n",
       "      <th>Test_Len</th>\n",
       "      <th>MAE</th>\n",
       "      <th>RMSE</th>\n",
       "    </tr>\n",
       "  </thead>\n",
       "  <tbody>\n",
       "  </tbody>\n",
       "</table>\n",
       "</div>"
      ],
      "text/plain": [
       "Empty DataFrame\n",
       "Columns: [index, Symbol, Train_Len, Test_Len, MAE, RMSE]\n",
       "Index: []"
      ]
     },
     "execution_count": 72,
     "metadata": {},
     "output_type": "execute_result"
    }
   ],
   "source": [
    "cols2=['Symbol','Train_Len','Test_Len','MAE','RMSE']\n",
    "reslts = pd.DataFrame(columns=cols2)\n",
    "reslts.reset_index()"
   ]
  },
  {
   "cell_type": "code",
   "execution_count": 73,
   "metadata": {
    "scrolled": false
   },
   "outputs": [
    {
     "name": "stdout",
     "output_type": "stream",
     "text": [
      "Processing:  yfinance.Ticker object <CAT>\n"
     ]
    },
    {
     "name": "stderr",
     "output_type": "stream",
     "text": [
      "INFO:prophet:Making 328 forecasts with cutoffs between 2020-11-04 00:00:00 and 2021-09-27 00:00:00\n",
      "WARNING:prophet:Seasonality has period of 365.25 days which is larger than initial window. Consider increasing initial.\n"
     ]
    },
    {
     "data": {
      "application/vnd.jupyter.widget-view+json": {
       "model_id": "4599aabd29ba49d1b1e599670a8e0dd5",
       "version_major": 2,
       "version_minor": 0
      },
      "text/plain": [
       "  0%|          | 0/328 [00:00<?, ?it/s]"
      ]
     },
     "metadata": {},
     "output_type": "display_data"
    },
    {
     "name": "stderr",
     "output_type": "stream",
     "text": [
      "INFO:fbprophet:n_changepoints greater than number of observations. Using 17.\n",
      "INFO:fbprophet:n_changepoints greater than number of observations. Using 18.\n",
      "INFO:fbprophet:n_changepoints greater than number of observations. Using 19.\n",
      "INFO:fbprophet:n_changepoints greater than number of observations. Using 19.\n",
      "INFO:fbprophet:n_changepoints greater than number of observations. Using 19.\n",
      "INFO:fbprophet:n_changepoints greater than number of observations. Using 19.\n",
      "INFO:fbprophet:n_changepoints greater than number of observations. Using 20.\n",
      "INFO:fbprophet:n_changepoints greater than number of observations. Using 21.\n",
      "INFO:fbprophet:n_changepoints greater than number of observations. Using 22.\n",
      "INFO:fbprophet:n_changepoints greater than number of observations. Using 23.\n",
      "INFO:fbprophet:n_changepoints greater than number of observations. Using 23.\n",
      "INFO:fbprophet:n_changepoints greater than number of observations. Using 23.\n",
      "INFO:fbprophet:n_changepoints greater than number of observations. Using 23.\n",
      "INFO:fbprophet:n_changepoints greater than number of observations. Using 24.\n"
     ]
    },
    {
     "name": "stdout",
     "output_type": "stream",
     "text": [
      "Training:  30 days\n",
      "Testing:  7 days\n",
      "  horizon          mse       rmse        mae      mape     mdape     smape  \\\n",
      "2  3 days   393.826729  19.845068  13.733669  0.068111  0.048071  0.069902   \n",
      "3  4 days   767.807019  27.709331  18.848090  0.094330  0.065925  0.099290   \n",
      "4  5 days  1415.363300  37.621314  24.821818  0.125585  0.077906  0.131668   \n",
      "5  6 days  1682.460553  41.017808  28.591246  0.144428  0.091724  0.151010   \n",
      "6  7 days  2326.310147  48.231837  34.364351  0.173686  0.106167  0.186614   \n",
      "\n",
      "   coverage  \n",
      "2  0.244444  \n",
      "3  0.172566  \n",
      "4  0.141593  \n",
      "5  0.106667  \n",
      "6  0.111111  \n"
     ]
    },
    {
     "name": "stderr",
     "output_type": "stream",
     "text": [
      "INFO:prophet:Making 321 forecasts with cutoffs between 2020-11-04 00:00:00 and 2021-09-20 00:00:00\n",
      "WARNING:prophet:Seasonality has period of 365.25 days which is larger than initial window. Consider increasing initial.\n"
     ]
    },
    {
     "data": {
      "application/vnd.jupyter.widget-view+json": {
       "model_id": "1ebc5a29cf9c4330bdd7f654cf492d31",
       "version_major": 2,
       "version_minor": 0
      },
      "text/plain": [
       "  0%|          | 0/321 [00:00<?, ?it/s]"
      ]
     },
     "metadata": {},
     "output_type": "display_data"
    },
    {
     "name": "stderr",
     "output_type": "stream",
     "text": [
      "INFO:fbprophet:n_changepoints greater than number of observations. Using 17.\n",
      "INFO:fbprophet:n_changepoints greater than number of observations. Using 18.\n",
      "INFO:fbprophet:n_changepoints greater than number of observations. Using 19.\n",
      "INFO:fbprophet:n_changepoints greater than number of observations. Using 19.\n",
      "INFO:fbprophet:n_changepoints greater than number of observations. Using 19.\n",
      "INFO:fbprophet:n_changepoints greater than number of observations. Using 19.\n",
      "INFO:fbprophet:n_changepoints greater than number of observations. Using 20.\n",
      "INFO:fbprophet:n_changepoints greater than number of observations. Using 21.\n",
      "INFO:fbprophet:n_changepoints greater than number of observations. Using 22.\n",
      "INFO:fbprophet:n_changepoints greater than number of observations. Using 23.\n",
      "INFO:fbprophet:n_changepoints greater than number of observations. Using 23.\n",
      "INFO:fbprophet:n_changepoints greater than number of observations. Using 23.\n",
      "INFO:fbprophet:n_changepoints greater than number of observations. Using 23.\n",
      "INFO:fbprophet:n_changepoints greater than number of observations. Using 24.\n"
     ]
    },
    {
     "name": "stdout",
     "output_type": "stream",
     "text": [
      "Training:  30 days\n",
      "Testing:  14 days\n",
      "   horizon           mse        rmse         mae      mape     mdape  \\\n",
      "8  10 days  16252.421719  127.484986   76.756961  0.395059  0.193733   \n",
      "9  11 days  25085.168620  158.382981   91.568774  0.474437  0.222377   \n",
      "10 12 days  39082.096101  197.691922  112.253242  0.585944  0.251555   \n",
      "11 13 days  46846.177625  216.439778  127.318503  0.663573  0.291393   \n",
      "12 14 days  54281.676575  232.984284  142.188001  0.739643  0.299076   \n",
      "\n",
      "       smape  coverage  \n",
      "8   0.372786  0.035714  \n",
      "9   0.414708  0.044702  \n",
      "10  0.464379  0.043280  \n",
      "11  0.516029  0.037609  \n",
      "12  0.566326  0.042857  \n"
     ]
    },
    {
     "name": "stderr",
     "output_type": "stream",
     "text": [
      "INFO:prophet:Making 298 forecasts with cutoffs between 2020-12-04 00:00:00 and 2021-09-27 00:00:00\n",
      "WARNING:prophet:Seasonality has period of 365.25 days which is larger than initial window. Consider increasing initial.\n"
     ]
    },
    {
     "data": {
      "application/vnd.jupyter.widget-view+json": {
       "model_id": "05c91dcaa9c94e86b9fda2de6feb2ccd",
       "version_major": 2,
       "version_minor": 0
      },
      "text/plain": [
       "  0%|          | 0/298 [00:00<?, ?it/s]"
      ]
     },
     "metadata": {},
     "output_type": "display_data"
    },
    {
     "name": "stderr",
     "output_type": "stream",
     "text": [
      "INFO:prophet:Making 291 forecasts with cutoffs between 2020-12-04 00:00:00 and 2021-09-20 00:00:00\n"
     ]
    },
    {
     "name": "stdout",
     "output_type": "stream",
     "text": [
      "Training:  60 days\n",
      "Testing:  7 days\n",
      "  horizon          mse       rmse        mae      mape     mdape     smape  \\\n",
      "2  3 days   304.681679  17.455133  12.812169  0.061514  0.047855  0.060599   \n",
      "3  4 days   561.412826  23.694152  17.121930  0.082541  0.061004  0.080628   \n",
      "4  5 days   949.662921  30.816601  21.766964  0.105595  0.073292  0.100379   \n",
      "5  6 days  1151.540000  33.934348  24.968818  0.120894  0.083125  0.115903   \n",
      "6  7 days  1662.396787  40.772500  30.062087  0.145822  0.098633  0.145217   \n",
      "\n",
      "   coverage  \n",
      "2  0.252427  \n",
      "3  0.169903  \n",
      "4  0.146341  \n",
      "5  0.112745  \n",
      "6  0.122549  \n"
     ]
    },
    {
     "name": "stderr",
     "output_type": "stream",
     "text": [
      "WARNING:prophet:Seasonality has period of 365.25 days which is larger than initial window. Consider increasing initial.\n"
     ]
    },
    {
     "data": {
      "application/vnd.jupyter.widget-view+json": {
       "model_id": "50513eab4d664f13b8a6fd0025def838",
       "version_major": 2,
       "version_minor": 0
      },
      "text/plain": [
       "  0%|          | 0/291 [00:00<?, ?it/s]"
      ]
     },
     "metadata": {},
     "output_type": "display_data"
    },
    {
     "name": "stderr",
     "output_type": "stream",
     "text": [
      "INFO:prophet:Making 178 forecasts with cutoffs between 2021-04-03 00:00:00 and 2021-09-27 00:00:00\n",
      "WARNING:prophet:Seasonality has period of 365.25 days which is larger than initial window. Consider increasing initial.\n"
     ]
    },
    {
     "name": "stdout",
     "output_type": "stream",
     "text": [
      "Training:  60 days\n",
      "Testing:  14 days\n",
      "   horizon           mse        rmse         mae      mape     mdape  \\\n",
      "8  10 days   9951.075632   99.755078   63.265007  0.312077  0.179171   \n",
      "9  11 days  14458.766186  120.244610   72.704981  0.359765  0.213200   \n",
      "10 12 days  20950.876568  144.744176   85.022364  0.421395  0.225430   \n",
      "11 13 days  25232.008963  158.845865   96.175320  0.475322  0.243257   \n",
      "12 14 days  29964.801622  173.103442  108.229903  0.534614  0.272342   \n",
      "\n",
      "       smape  coverage  \n",
      "8   0.299238  0.039068  \n",
      "9   0.331877  0.045579  \n",
      "10  0.371832  0.049930  \n",
      "11  0.419230  0.043011  \n",
      "12  0.469650  0.047369  \n"
     ]
    },
    {
     "data": {
      "application/vnd.jupyter.widget-view+json": {
       "model_id": "a879e62cc9a5496cae9c6a1e3355dd1d",
       "version_major": 2,
       "version_minor": 0
      },
      "text/plain": [
       "  0%|          | 0/178 [00:00<?, ?it/s]"
      ]
     },
     "metadata": {},
     "output_type": "display_data"
    },
    {
     "name": "stderr",
     "output_type": "stream",
     "text": [
      "INFO:prophet:Making 171 forecasts with cutoffs between 2021-04-03 00:00:00 and 2021-09-20 00:00:00\n",
      "WARNING:prophet:Seasonality has period of 365.25 days which is larger than initial window. Consider increasing initial.\n"
     ]
    },
    {
     "name": "stdout",
     "output_type": "stream",
     "text": [
      "Training:  180 days\n",
      "Testing:  7 days\n",
      "  horizon         mse       rmse        mae      mape     mdape     smape  \\\n",
      "2  3 days  199.061817  14.108927  11.113313  0.050898  0.047677  0.050483   \n",
      "3  4 days  312.710640  17.683626  14.049975  0.064337  0.056516  0.063733   \n",
      "4  5 days  442.397327  21.033243  16.541338  0.075889  0.061725  0.074854   \n",
      "5  6 days  477.761631  21.857759  17.884031  0.082206  0.071555  0.081288   \n",
      "6  7 days  553.844891  23.533909  19.999659  0.092134  0.087262  0.091518   \n",
      "\n",
      "   coverage  \n",
      "2  0.240000  \n",
      "3  0.176000  \n",
      "4  0.137097  \n",
      "5  0.146341  \n",
      "6  0.130081  \n"
     ]
    },
    {
     "data": {
      "application/vnd.jupyter.widget-view+json": {
       "model_id": "0104419a00fa421abb72a1867a2e7cfd",
       "version_major": 2,
       "version_minor": 0
      },
      "text/plain": [
       "  0%|          | 0/171 [00:00<?, ?it/s]"
      ]
     },
     "metadata": {},
     "output_type": "display_data"
    },
    {
     "name": "stdout",
     "output_type": "stream",
     "text": [
      "Training:  180 days\n",
      "Testing:  14 days\n",
      "   horizon          mse       rmse        mae      mape     mdape     smape  \\\n",
      "8  10 days  1838.743281  42.880570  34.876979  0.160688  0.135200  0.156204   \n",
      "9  11 days  2339.584987  48.369257  38.940542  0.179484  0.160117  0.174298   \n",
      "10 12 days  3024.958230  54.999620  44.216598  0.203546  0.174913  0.198676   \n",
      "11 13 days  3254.479445  57.048045  47.296610  0.217899  0.193601  0.214791   \n",
      "12 14 days  3352.189766  57.898098  49.487344  0.228566  0.216339  0.228108   \n",
      "\n",
      "    coverage  \n",
      "8   0.040261  \n",
      "9   0.051406  \n",
      "10  0.046637  \n",
      "11  0.030222  \n",
      "12  0.037472  \n"
     ]
    }
   ],
   "source": [
    "results_CAT=tt_test_p('CAT',trains,tests)"
   ]
  },
  {
   "cell_type": "code",
   "execution_count": 74,
   "metadata": {},
   "outputs": [
    {
     "name": "stdout",
     "output_type": "stream",
     "text": [
      "Processing:  yfinance.Ticker object <MMM>\n"
     ]
    },
    {
     "name": "stderr",
     "output_type": "stream",
     "text": [
      "INFO:prophet:Making 328 forecasts with cutoffs between 2020-11-04 00:00:00 and 2021-09-27 00:00:00\n",
      "WARNING:prophet:Seasonality has period of 365.25 days which is larger than initial window. Consider increasing initial.\n"
     ]
    },
    {
     "data": {
      "application/vnd.jupyter.widget-view+json": {
       "model_id": "88a8793ced034901b5c814afdfe9010a",
       "version_major": 2,
       "version_minor": 0
      },
      "text/plain": [
       "  0%|          | 0/328 [00:00<?, ?it/s]"
      ]
     },
     "metadata": {},
     "output_type": "display_data"
    },
    {
     "name": "stderr",
     "output_type": "stream",
     "text": [
      "INFO:fbprophet:n_changepoints greater than number of observations. Using 17.\n",
      "INFO:fbprophet:n_changepoints greater than number of observations. Using 18.\n",
      "INFO:fbprophet:n_changepoints greater than number of observations. Using 19.\n",
      "INFO:fbprophet:n_changepoints greater than number of observations. Using 19.\n",
      "INFO:fbprophet:n_changepoints greater than number of observations. Using 19.\n",
      "INFO:fbprophet:n_changepoints greater than number of observations. Using 19.\n",
      "INFO:fbprophet:n_changepoints greater than number of observations. Using 20.\n",
      "INFO:fbprophet:n_changepoints greater than number of observations. Using 21.\n",
      "INFO:fbprophet:n_changepoints greater than number of observations. Using 22.\n",
      "INFO:fbprophet:n_changepoints greater than number of observations. Using 23.\n",
      "INFO:fbprophet:n_changepoints greater than number of observations. Using 23.\n",
      "INFO:fbprophet:n_changepoints greater than number of observations. Using 23.\n",
      "INFO:fbprophet:n_changepoints greater than number of observations. Using 23.\n",
      "INFO:fbprophet:n_changepoints greater than number of observations. Using 24.\n"
     ]
    },
    {
     "name": "stdout",
     "output_type": "stream",
     "text": [
      "Training:  30 days\n",
      "Testing:  7 days\n",
      "  horizon          mse       rmse        mae      mape     mdape     smape  \\\n",
      "2  3 days   184.835762  13.595432   8.881825  0.050038  0.029606  0.051369   \n",
      "3  4 days   389.264461  19.729786  12.381405  0.070130  0.038446  0.073487   \n",
      "4  5 days   802.462423  28.327768  16.980404  0.096780  0.049249  0.104213   \n",
      "5  6 days  1052.953965  32.449252  20.120609  0.114742  0.054587  0.122210   \n",
      "6  7 days  1674.344863  40.918759  25.782843  0.147112  0.067477  0.156554   \n",
      "\n",
      "   coverage  \n",
      "2  0.231111  \n",
      "3  0.176991  \n",
      "4  0.168142  \n",
      "5  0.137778  \n",
      "6  0.084444  \n"
     ]
    },
    {
     "name": "stderr",
     "output_type": "stream",
     "text": [
      "INFO:prophet:Making 321 forecasts with cutoffs between 2020-11-04 00:00:00 and 2021-09-20 00:00:00\n",
      "WARNING:prophet:Seasonality has period of 365.25 days which is larger than initial window. Consider increasing initial.\n"
     ]
    },
    {
     "data": {
      "application/vnd.jupyter.widget-view+json": {
       "model_id": "1529f8f7c1e645559896c3faa20078d6",
       "version_major": 2,
       "version_minor": 0
      },
      "text/plain": [
       "  0%|          | 0/321 [00:00<?, ?it/s]"
      ]
     },
     "metadata": {},
     "output_type": "display_data"
    },
    {
     "name": "stderr",
     "output_type": "stream",
     "text": [
      "INFO:fbprophet:n_changepoints greater than number of observations. Using 17.\n",
      "INFO:fbprophet:n_changepoints greater than number of observations. Using 18.\n",
      "INFO:fbprophet:n_changepoints greater than number of observations. Using 19.\n",
      "INFO:fbprophet:n_changepoints greater than number of observations. Using 19.\n",
      "INFO:fbprophet:n_changepoints greater than number of observations. Using 19.\n",
      "INFO:fbprophet:n_changepoints greater than number of observations. Using 19.\n",
      "INFO:fbprophet:n_changepoints greater than number of observations. Using 20.\n",
      "INFO:fbprophet:n_changepoints greater than number of observations. Using 21.\n",
      "INFO:fbprophet:n_changepoints greater than number of observations. Using 22.\n",
      "INFO:fbprophet:n_changepoints greater than number of observations. Using 23.\n",
      "INFO:fbprophet:n_changepoints greater than number of observations. Using 23.\n",
      "INFO:fbprophet:n_changepoints greater than number of observations. Using 23.\n",
      "INFO:fbprophet:n_changepoints greater than number of observations. Using 23.\n",
      "INFO:fbprophet:n_changepoints greater than number of observations. Using 24.\n"
     ]
    },
    {
     "name": "stdout",
     "output_type": "stream",
     "text": [
      "Training:  30 days\n",
      "Testing:  14 days\n",
      "   horizon           mse        rmse         mae      mape     mdape  \\\n",
      "8  10 days  12858.819590  113.396735   63.918872  0.367010  0.123288   \n",
      "9  11 days  20190.626745  142.093725   79.338902  0.456230  0.116180   \n",
      "10 12 days  32810.168794  181.135774   98.985288  0.570031  0.117441   \n",
      "11 13 days  41314.934111  203.260754  110.643264  0.636884  0.175492   \n",
      "12 14 days  51024.965989  225.887065  122.347801  0.704040  0.169529   \n",
      "\n",
      "       smape  coverage  \n",
      "8   0.392567  0.065584  \n",
      "9   0.457860  0.045912  \n",
      "10  0.494753  0.043971  \n",
      "11  0.501545  0.048643  \n",
      "12  0.511070  0.046753  \n"
     ]
    },
    {
     "name": "stderr",
     "output_type": "stream",
     "text": [
      "INFO:prophet:Making 298 forecasts with cutoffs between 2020-12-04 00:00:00 and 2021-09-27 00:00:00\n",
      "WARNING:prophet:Seasonality has period of 365.25 days which is larger than initial window. Consider increasing initial.\n"
     ]
    },
    {
     "data": {
      "application/vnd.jupyter.widget-view+json": {
       "model_id": "f16587cf575c45b9bae91ff8bc11ec10",
       "version_major": 2,
       "version_minor": 0
      },
      "text/plain": [
       "  0%|          | 0/298 [00:00<?, ?it/s]"
      ]
     },
     "metadata": {},
     "output_type": "display_data"
    },
    {
     "name": "stdout",
     "output_type": "stream",
     "text": [
      "Training:  60 days\n",
      "Testing:  7 days\n",
      "  horizon          mse       rmse        mae      mape     mdape     smape  \\\n",
      "2  3 days   121.681996  11.030956   7.596895  0.041977  0.025474  0.041998   \n",
      "3  4 days   246.689309  15.706346  10.354444  0.057440  0.035933  0.057419   \n",
      "4  5 days   481.510943  21.943358  13.864142  0.077443  0.043174  0.077222   \n",
      "5  6 days   655.446637  25.601692  16.377068  0.091667  0.051152  0.091689   \n",
      "6  7 days  1091.871759  33.043483  20.919872  0.117276  0.061049  0.118719   \n",
      "\n",
      "   coverage  \n",
      "2  0.257282  \n",
      "3  0.194175  \n",
      "4  0.185366  \n",
      "5  0.147059  \n",
      "6  0.098039  \n"
     ]
    },
    {
     "name": "stderr",
     "output_type": "stream",
     "text": [
      "INFO:prophet:Making 291 forecasts with cutoffs between 2020-12-04 00:00:00 and 2021-09-20 00:00:00\n",
      "WARNING:prophet:Seasonality has period of 365.25 days which is larger than initial window. Consider increasing initial.\n"
     ]
    },
    {
     "data": {
      "application/vnd.jupyter.widget-view+json": {
       "model_id": "53e4b484cb154369a34c4252e8133a8f",
       "version_major": 2,
       "version_minor": 0
      },
      "text/plain": [
       "  0%|          | 0/291 [00:00<?, ?it/s]"
      ]
     },
     "metadata": {},
     "output_type": "display_data"
    },
    {
     "name": "stderr",
     "output_type": "stream",
     "text": [
      "INFO:prophet:Making 178 forecasts with cutoffs between 2021-04-03 00:00:00 and 2021-09-27 00:00:00\n",
      "WARNING:prophet:Seasonality has period of 365.25 days which is larger than initial window. Consider increasing initial.\n"
     ]
    },
    {
     "name": "stdout",
     "output_type": "stream",
     "text": [
      "Training:  60 days\n",
      "Testing:  14 days\n",
      "   horizon           mse        rmse        mae      mape     mdape     smape  \\\n",
      "8  10 days   7589.454591   87.117476  48.967707  0.277328  0.092981  0.301330   \n",
      "9  11 days  11458.792418  107.045749  59.366433  0.336604  0.100877  0.354143   \n",
      "10 12 days  17394.797983  131.889340  71.406979  0.405331  0.122417  0.384975   \n",
      "11 13 days  21678.242967  147.235332  78.857254  0.447474  0.142268  0.385971   \n",
      "12 14 days  28084.421836  167.584074  88.545484  0.502882  0.164758  0.394607   \n",
      "\n",
      "    coverage  \n",
      "8   0.078136  \n",
      "9   0.048146  \n",
      "10  0.050696  \n",
      "11  0.051613  \n",
      "12  0.050251  \n"
     ]
    },
    {
     "data": {
      "application/vnd.jupyter.widget-view+json": {
       "model_id": "ce4075c799e84ee0805f5ee5aa4f52f8",
       "version_major": 2,
       "version_minor": 0
      },
      "text/plain": [
       "  0%|          | 0/178 [00:00<?, ?it/s]"
      ]
     },
     "metadata": {},
     "output_type": "display_data"
    },
    {
     "name": "stderr",
     "output_type": "stream",
     "text": [
      "INFO:prophet:Making 171 forecasts with cutoffs between 2021-04-03 00:00:00 and 2021-09-20 00:00:00\n",
      "WARNING:prophet:Seasonality has period of 365.25 days which is larger than initial window. Consider increasing initial.\n"
     ]
    },
    {
     "name": "stdout",
     "output_type": "stream",
     "text": [
      "Training:  180 days\n",
      "Testing:  7 days\n",
      "  horizon         mse       rmse        mae      mape     mdape     smape  \\\n",
      "2  3 days   42.414092   6.512610   5.111257  0.026289  0.019866  0.026091   \n",
      "3  4 days   65.655138   8.102786   6.536079  0.033598  0.029739  0.033358   \n",
      "4  5 days   87.776113   9.368891   7.768848  0.039869  0.037282  0.039694   \n",
      "5  6 days  108.000944  10.392350   8.535606  0.043743  0.037283  0.043556   \n",
      "6  7 days  157.422495  12.546812  10.106888  0.051778  0.042028  0.051427   \n",
      "\n",
      "   coverage  \n",
      "2  0.312000  \n",
      "3  0.224000  \n",
      "4  0.209677  \n",
      "5  0.186992  \n",
      "6  0.138211  \n"
     ]
    },
    {
     "data": {
      "application/vnd.jupyter.widget-view+json": {
       "model_id": "ef7b5bd11ecf4730a81c31d9286565f1",
       "version_major": 2,
       "version_minor": 0
      },
      "text/plain": [
       "  0%|          | 0/171 [00:00<?, ?it/s]"
      ]
     },
     "metadata": {},
     "output_type": "display_data"
    },
    {
     "name": "stdout",
     "output_type": "stream",
     "text": [
      "Training:  180 days\n",
      "Testing:  14 days\n",
      "   horizon          mse       rmse        mae      mape     mdape     smape  \\\n",
      "8  10 days   435.199986  20.861447  16.805210  0.085815  0.071838  0.084276   \n",
      "9  11 days   546.413098  23.375481  19.057961  0.097457  0.080143  0.095462   \n",
      "10 12 days   682.094012  26.116930  21.123520  0.107903  0.088445  0.106322   \n",
      "11 13 days   833.566638  28.871554  22.918357  0.116880  0.094840  0.116004   \n",
      "12 14 days  1010.052368  31.781321  24.778388  0.126505  0.099861  0.125402   \n",
      "\n",
      "    coverage  \n",
      "8   0.092570  \n",
      "9   0.059237  \n",
      "10  0.062349  \n",
      "11  0.067632  \n",
      "12  0.073821  \n"
     ]
    }
   ],
   "source": [
    "results_MMM=tt_test_p('MMM',trains,tests)"
   ]
  },
  {
   "cell_type": "code",
   "execution_count": 76,
   "metadata": {},
   "outputs": [
    {
     "name": "stdout",
     "output_type": "stream",
     "text": [
      "Processing:  yfinance.Ticker object <AXP>\n"
     ]
    },
    {
     "name": "stderr",
     "output_type": "stream",
     "text": [
      "INFO:prophet:Making 328 forecasts with cutoffs between 2020-11-04 00:00:00 and 2021-09-27 00:00:00\n",
      "WARNING:prophet:Seasonality has period of 365.25 days which is larger than initial window. Consider increasing initial.\n"
     ]
    },
    {
     "data": {
      "application/vnd.jupyter.widget-view+json": {
       "model_id": "b020bee1957c488da01e54a4f2f21beb",
       "version_major": 2,
       "version_minor": 0
      },
      "text/plain": [
       "  0%|          | 0/328 [00:00<?, ?it/s]"
      ]
     },
     "metadata": {},
     "output_type": "display_data"
    },
    {
     "name": "stderr",
     "output_type": "stream",
     "text": [
      "INFO:fbprophet:n_changepoints greater than number of observations. Using 17.\n",
      "INFO:fbprophet:n_changepoints greater than number of observations. Using 18.\n",
      "INFO:fbprophet:n_changepoints greater than number of observations. Using 19.\n",
      "INFO:fbprophet:n_changepoints greater than number of observations. Using 19.\n",
      "INFO:fbprophet:n_changepoints greater than number of observations. Using 19.\n",
      "INFO:fbprophet:n_changepoints greater than number of observations. Using 19.\n",
      "INFO:fbprophet:n_changepoints greater than number of observations. Using 20.\n",
      "INFO:fbprophet:n_changepoints greater than number of observations. Using 21.\n",
      "INFO:fbprophet:n_changepoints greater than number of observations. Using 22.\n",
      "INFO:fbprophet:n_changepoints greater than number of observations. Using 23.\n",
      "INFO:fbprophet:n_changepoints greater than number of observations. Using 23.\n",
      "INFO:fbprophet:n_changepoints greater than number of observations. Using 23.\n",
      "INFO:fbprophet:n_changepoints greater than number of observations. Using 23.\n",
      "INFO:fbprophet:n_changepoints greater than number of observations. Using 24.\n"
     ]
    },
    {
     "name": "stdout",
     "output_type": "stream",
     "text": [
      "Training:  30 days\n",
      "Testing:  7 days\n",
      "  horizon          mse       rmse        mae      mape     mdape     smape  \\\n",
      "2  3 days   291.640148  17.077475  11.862746  0.089245  0.056592  0.093292   \n",
      "3  4 days   597.917419  24.452350  16.530760  0.125809  0.074312  0.136203   \n",
      "4  5 days  1107.158797  33.273996  22.572213  0.174103  0.098510  0.190793   \n",
      "5  6 days  1676.606156  40.946381  27.550240  0.213372  0.114940  0.237096   \n",
      "6  7 days  3035.878854  55.098810  35.628477  0.276204  0.138693  0.304665   \n",
      "\n",
      "   coverage  \n",
      "2  0.204444  \n",
      "3  0.172566  \n",
      "4  0.154867  \n",
      "5  0.151111  \n",
      "6  0.128889  \n"
     ]
    },
    {
     "name": "stderr",
     "output_type": "stream",
     "text": [
      "INFO:prophet:Making 321 forecasts with cutoffs between 2020-11-04 00:00:00 and 2021-09-20 00:00:00\n",
      "WARNING:prophet:Seasonality has period of 365.25 days which is larger than initial window. Consider increasing initial.\n"
     ]
    },
    {
     "data": {
      "application/vnd.jupyter.widget-view+json": {
       "model_id": "59e1e46cece14bc4b565352954e6fbbc",
       "version_major": 2,
       "version_minor": 0
      },
      "text/plain": [
       "  0%|          | 0/321 [00:00<?, ?it/s]"
      ]
     },
     "metadata": {},
     "output_type": "display_data"
    },
    {
     "name": "stderr",
     "output_type": "stream",
     "text": [
      "INFO:fbprophet:n_changepoints greater than number of observations. Using 17.\n",
      "INFO:fbprophet:n_changepoints greater than number of observations. Using 18.\n",
      "INFO:fbprophet:n_changepoints greater than number of observations. Using 19.\n",
      "INFO:fbprophet:n_changepoints greater than number of observations. Using 19.\n",
      "INFO:fbprophet:n_changepoints greater than number of observations. Using 19.\n",
      "INFO:fbprophet:n_changepoints greater than number of observations. Using 19.\n",
      "INFO:fbprophet:n_changepoints greater than number of observations. Using 20.\n",
      "INFO:fbprophet:n_changepoints greater than number of observations. Using 21.\n",
      "INFO:fbprophet:n_changepoints greater than number of observations. Using 22.\n",
      "INFO:fbprophet:n_changepoints greater than number of observations. Using 23.\n",
      "INFO:fbprophet:n_changepoints greater than number of observations. Using 23.\n",
      "INFO:fbprophet:n_changepoints greater than number of observations. Using 23.\n",
      "INFO:fbprophet:n_changepoints greater than number of observations. Using 23.\n",
      "INFO:fbprophet:n_changepoints greater than number of observations. Using 24.\n"
     ]
    },
    {
     "name": "stdout",
     "output_type": "stream",
     "text": [
      "Training:  30 days\n",
      "Testing:  14 days\n",
      "   horizon           mse        rmse         mae      mape     mdape  \\\n",
      "8  10 days  16220.734560  127.360648   77.712882  0.608281  0.230335   \n",
      "9  11 days  24341.757870  156.018454   94.193805  0.739740  0.251692   \n",
      "10 12 days  35487.560485  188.381423  113.922623  0.897458  0.272199   \n",
      "11 13 days  47341.237550  217.580416  131.427402  1.034631  0.298860   \n",
      "12 14 days  65188.417189  255.320225  150.981503  1.185082  0.328717   \n",
      "\n",
      "       smape  coverage  \n",
      "8   0.511174  0.057792  \n",
      "9   0.548477  0.059578  \n",
      "10  0.592631  0.063348  \n",
      "11  0.625959  0.057061  \n",
      "12  0.651470  0.044805  \n"
     ]
    },
    {
     "name": "stderr",
     "output_type": "stream",
     "text": [
      "INFO:prophet:Making 298 forecasts with cutoffs between 2020-12-04 00:00:00 and 2021-09-27 00:00:00\n",
      "WARNING:prophet:Seasonality has period of 365.25 days which is larger than initial window. Consider increasing initial.\n"
     ]
    },
    {
     "data": {
      "application/vnd.jupyter.widget-view+json": {
       "model_id": "c22b472742e24b8faa5da644001a207a",
       "version_major": 2,
       "version_minor": 0
      },
      "text/plain": [
       "  0%|          | 0/298 [00:00<?, ?it/s]"
      ]
     },
     "metadata": {},
     "output_type": "display_data"
    },
    {
     "name": "stdout",
     "output_type": "stream",
     "text": [
      "Training:  60 days\n",
      "Testing:  7 days\n",
      "  horizon          mse       rmse        mae      mape     mdape     smape  \\\n",
      "2  3 days   221.927513  14.897232  10.455852  0.075964  0.052047  0.076775   \n",
      "3  4 days   446.148282  21.122222  14.283972  0.104782  0.068526  0.107176   \n",
      "4  5 days   795.735212  28.208779  18.992941  0.141147  0.083958  0.142015   \n",
      "5  6 days  1195.882149  34.581529  23.078776  0.172818  0.104140  0.177615   \n",
      "6  7 days  2166.796589  46.548862  29.838985  0.224413  0.117400  0.242674   \n",
      "\n",
      "   coverage  \n",
      "2  0.228155  \n",
      "3  0.189320  \n",
      "4  0.170732  \n",
      "5  0.166667  \n",
      "6  0.142157  \n"
     ]
    },
    {
     "name": "stderr",
     "output_type": "stream",
     "text": [
      "INFO:prophet:Making 291 forecasts with cutoffs between 2020-12-04 00:00:00 and 2021-09-20 00:00:00\n",
      "WARNING:prophet:Seasonality has period of 365.25 days which is larger than initial window. Consider increasing initial.\n"
     ]
    },
    {
     "data": {
      "application/vnd.jupyter.widget-view+json": {
       "model_id": "31469c975a2e45a790b620fb1b751def",
       "version_major": 2,
       "version_minor": 0
      },
      "text/plain": [
       "  0%|          | 0/291 [00:00<?, ?it/s]"
      ]
     },
     "metadata": {},
     "output_type": "display_data"
    },
    {
     "name": "stderr",
     "output_type": "stream",
     "text": [
      "INFO:prophet:Making 178 forecasts with cutoffs between 2021-04-03 00:00:00 and 2021-09-27 00:00:00\n",
      "WARNING:prophet:Seasonality has period of 365.25 days which is larger than initial window. Consider increasing initial.\n"
     ]
    },
    {
     "name": "stdout",
     "output_type": "stream",
     "text": [
      "Training:  60 days\n",
      "Testing:  14 days\n",
      "   horizon           mse        rmse         mae      mape     mdape  \\\n",
      "8  10 days  10643.978243  103.169658   61.979058  0.471005  0.215881   \n",
      "9  11 days  15633.355594  125.033418   74.228663  0.564731  0.215881   \n",
      "10 12 days  22767.452833  150.888876   89.182021  0.679643  0.234566   \n",
      "11 13 days  31367.737875  177.109395  104.067819  0.793900  0.274723   \n",
      "12 14 days  46211.316072  214.968175  122.852571  0.936931  0.254622   \n",
      "\n",
      "       smape  coverage  \n",
      "8   0.422960  0.070358  \n",
      "9   0.455652  0.068261  \n",
      "10  0.495269  0.069901  \n",
      "11  0.532984  0.063082  \n",
      "12  0.566781  0.049549  \n"
     ]
    },
    {
     "data": {
      "application/vnd.jupyter.widget-view+json": {
       "model_id": "f942cace20cd416dbef1b27e79d8f18a",
       "version_major": 2,
       "version_minor": 0
      },
      "text/plain": [
       "  0%|          | 0/178 [00:00<?, ?it/s]"
      ]
     },
     "metadata": {},
     "output_type": "display_data"
    },
    {
     "name": "stderr",
     "output_type": "stream",
     "text": [
      "INFO:prophet:Making 171 forecasts with cutoffs between 2021-04-03 00:00:00 and 2021-09-20 00:00:00\n",
      "WARNING:prophet:Seasonality has period of 365.25 days which is larger than initial window. Consider increasing initial.\n"
     ]
    },
    {
     "name": "stdout",
     "output_type": "stream",
     "text": [
      "Training:  180 days\n",
      "Testing:  7 days\n",
      "  horizon         mse       rmse        mae      mape     mdape     smape  \\\n",
      "2  3 days   77.646198   8.811708   7.194170  0.045245  0.039817  0.045254   \n",
      "3  4 days  118.592358  10.890012   8.793331  0.055309  0.044146  0.055501   \n",
      "4  5 days  164.529157  12.826892  10.230107  0.064450  0.049038  0.064965   \n",
      "5  6 days  195.046767  13.965914  11.048415  0.069567  0.054344  0.070323   \n",
      "6  7 days  247.227281  15.723463  12.505834  0.078525  0.071719  0.079639   \n",
      "\n",
      "   coverage  \n",
      "2  0.280000  \n",
      "3  0.264000  \n",
      "4  0.258065  \n",
      "5  0.252033  \n",
      "6  0.219512  \n"
     ]
    },
    {
     "data": {
      "application/vnd.jupyter.widget-view+json": {
       "model_id": "09e97a8298db4bba8915cc05a295d678",
       "version_major": 2,
       "version_minor": 0
      },
      "text/plain": [
       "  0%|          | 0/171 [00:00<?, ?it/s]"
      ]
     },
     "metadata": {},
     "output_type": "display_data"
    },
    {
     "name": "stdout",
     "output_type": "stream",
     "text": [
      "Training:  180 days\n",
      "Testing:  14 days\n",
      "   horizon          mse       rmse        mae      mape     mdape     smape  \\\n",
      "8  10 days   669.153279  25.867997  20.850291  0.131336  0.099295  0.133422   \n",
      "9  11 days   867.990682  29.461682  23.273433  0.146251  0.111331  0.150371   \n",
      "10 12 days  1091.288709  33.034659  25.632195  0.160864  0.109396  0.168036   \n",
      "11 13 days  1263.582871  35.546911  27.459407  0.172160  0.112949  0.181478   \n",
      "12 14 days  1415.232748  37.619579  29.056122  0.181877  0.139318  0.192545   \n",
      "\n",
      "    coverage  \n",
      "8   0.105522  \n",
      "9   0.109739  \n",
      "10  0.117369  \n",
      "11  0.112332  \n",
      "12  0.086073  \n"
     ]
    }
   ],
   "source": [
    "results_AXP=tt_test_p('AXP',trains,tests)"
   ]
  },
  {
   "cell_type": "code",
   "execution_count": null,
   "metadata": {},
   "outputs": [],
   "source": [
    "results_AAPL=tt_test_p('AAPL',trains,tests)"
   ]
  },
  {
   "cell_type": "code",
   "execution_count": null,
   "metadata": {},
   "outputs": [],
   "source": [
    "results_AMGN=tt_test_p('AMGN',trains,tests)"
   ]
  },
  {
   "cell_type": "markdown",
   "metadata": {},
   "source": [
    "After looking over these results, it seems unlike ARIMA, Prophet likes the 180/7 split. "
   ]
  },
  {
   "cell_type": "code",
   "execution_count": null,
   "metadata": {},
   "outputs": [],
   "source": [
    "stocks=['MMM','AXP','AMGN','AAPL','CAT']\n",
    "cv_cols=['horizon','mse','rmse','mae','mape','mdape','smape','coverage']"
   ]
  },
  {
   "cell_type": "code",
   "execution_count": null,
   "metadata": {
    "scrolled": true
   },
   "outputs": [],
   "source": [
    "df_y=pd.DataFrame(columns=cv_cols)\n",
    "for each in stocks:\n",
    "    stock = yf.Ticker(each)\n",
    "    df1=stock.history(period='1y')\n",
    "    print(\"Processing: \",each)\n",
    "    prof_1 = Prophet(daily_seasonality=True, yearly_seasonality=True)\n",
    "    df1=df1['Close']\n",
    "    df1=df1.to_frame()\n",
    "    df1.index.names = ['ds']\n",
    "    df1.columns=['y']\n",
    "    df1.reset_index(level=0, inplace=True)\n",
    "    prof_1.fit(df1)\n",
    "    df1_cv = cross_validation(prof_1, initial='30 days', period='1 days', horizon = '14 days')\n",
    "    df1_pm = performance_metrics(df1_cv)\n",
    "    df_ph=df1_pm.sort_values(by=['mae']).head(2)\n",
    "    df_y=pd.concat([df_y,df_ph])"
   ]
  },
  {
   "cell_type": "code",
   "execution_count": null,
   "metadata": {},
   "outputs": [],
   "source": [
    "df_y"
   ]
  },
  {
   "cell_type": "markdown",
   "metadata": {},
   "source": [
    "### Putting it all together"
   ]
  },
  {
   "cell_type": "markdown",
   "metadata": {},
   "source": [
    "So let's make us a function! Ultimately, we'll want it to be able to select the best of 4 stocks input by the user. As always, let's start simple."
   ]
  },
  {
   "cell_type": "code",
   "execution_count": null,
   "metadata": {
    "scrolled": false
   },
   "outputs": [],
   "source": [
    "results_AMGN.tail()"
   ]
  },
  {
   "cell_type": "code",
   "execution_count": null,
   "metadata": {},
   "outputs": [],
   "source": [
    "pred_cols=['ds','yhat']"
   ]
  },
  {
   "cell_type": "code",
   "execution_count": null,
   "metadata": {},
   "outputs": [],
   "source": [
    "AMGN_preds=results_AMGN[pred_cols]"
   ]
  },
  {
   "cell_type": "code",
   "execution_count": null,
   "metadata": {},
   "outputs": [],
   "source": [
    "AMGN_preds.tail()"
   ]
  },
  {
   "cell_type": "code",
   "execution_count": null,
   "metadata": {},
   "outputs": [],
   "source": [
    "AMGN_preds=AMGN_preds.tail(21)"
   ]
  },
  {
   "cell_type": "code",
   "execution_count": null,
   "metadata": {},
   "outputs": [],
   "source": [
    "AMGN_preds.head()"
   ]
  },
  {
   "cell_type": "code",
   "execution_count": null,
   "metadata": {},
   "outputs": [],
   "source": [
    "AMGN_preds.reset_index(level=0, drop=True,inplace=True)"
   ]
  },
  {
   "cell_type": "code",
   "execution_count": null,
   "metadata": {},
   "outputs": [],
   "source": [
    "AMGN_preds.head()"
   ]
  },
  {
   "cell_type": "code",
   "execution_count": null,
   "metadata": {
    "scrolled": true
   },
   "outputs": [],
   "source": [
    "AMGN_preds['yhat'][20]"
   ]
  },
  {
   "cell_type": "code",
   "execution_count": null,
   "metadata": {},
   "outputs": [],
   "source": [
    "AMGN_preds['yhat'][0]"
   ]
  },
  {
   "cell_type": "code",
   "execution_count": null,
   "metadata": {},
   "outputs": [],
   "source": [
    "change_percent=((AMGN_preds['yhat'][20]-AMGN_preds['yhat'][0])/AMGN_preds['yhat'][0])*100"
   ]
  },
  {
   "cell_type": "code",
   "execution_count": null,
   "metadata": {},
   "outputs": [],
   "source": [
    "change_percent=round(change_percent,3)"
   ]
  },
  {
   "cell_type": "code",
   "execution_count": null,
   "metadata": {},
   "outputs": [],
   "source": [
    "change_percent"
   ]
  },
  {
   "cell_type": "markdown",
   "metadata": {},
   "source": [
    "Now let's put this together into a simple function. It will take the yhat predictions and calculate the percentage return."
   ]
  },
  {
   "cell_type": "code",
   "execution_count": null,
   "metadata": {},
   "outputs": [],
   "source": [
    "def pct_change(df):\n",
    "    \"\"\"This function will take a Prophet forecast dataframe and quickly calculate the percentage change.\n",
    "    One that has been produced from the earlier Prophet function\"\"\"\n",
    "    df1=df['yhat']\n",
    "    df1=df1.tail(14)\n",
    "    df1.reset_index(level=0, drop=True,inplace=True)\n",
    "    change=((df1[13]-df1[0])/df1[0])*100\n",
    "    change=round(change, 2)\n",
    "    if change >0:\n",
    "        print(f\"According to the model, you stand to gain {change}% over the next 14 days\")\n",
    "    else:\n",
    "        change_abs=abs(change)\n",
    "        print(f\"According to the model, you stand to lose {change_abs}% over the next 14 days\")\n",
    "    return None"
   ]
  },
  {
   "cell_type": "code",
   "execution_count": null,
   "metadata": {
    "scrolled": true
   },
   "outputs": [],
   "source": [
    "pct_change(results_AAPL)"
   ]
  },
  {
   "cell_type": "code",
   "execution_count": null,
   "metadata": {},
   "outputs": [],
   "source": [
    "pct_change(results_AXP)"
   ]
  },
  {
   "cell_type": "code",
   "execution_count": null,
   "metadata": {},
   "outputs": [],
   "source": [
    "pct_change(results_MMM)"
   ]
  },
  {
   "cell_type": "code",
   "execution_count": null,
   "metadata": {},
   "outputs": [],
   "source": [
    "pct_change(results_CAT)"
   ]
  },
  {
   "cell_type": "markdown",
   "metadata": {},
   "source": [
    "Now, let's create a function that will run through the Prophet process, and return the forecast."
   ]
  },
  {
   "cell_type": "code",
   "execution_count": null,
   "metadata": {},
   "outputs": [],
   "source": [
    "def fcast(stock):\n",
    "    \"\"\"This function will take a stock( as a string) and perform all the necessary changes to the data to allow Prophet to model\n",
    "    it and return the forecast dataframe\"\"\"\n",
    "    stock=stock.upper() #make sure the symbol is in uppercase\n",
    "    prof=Prophet(daily_seasonality=True, yearly_seasonality=True)\n",
    "    stonk = yf.Ticker(stock)\n",
    "    df1=stonk.history(period='1y')\n",
    "    df1=df1['Close']\n",
    "    df1=df1.to_frame()\n",
    "    df1.index.names = ['ds']\n",
    "    df1.columns=['y']\n",
    "    df1.reset_index(level=0, inplace=True)\n",
    "    prof.fit(df1)\n",
    "    future = prof.make_future_dataframe(periods=14)\n",
    "    forecast = prof.predict(future)\n",
    "    #The next 2 lines are disabled for the final function, but I wanted a few graphs.\n",
    "#    prof.plot(forecast)\n",
    " #   plt.show()\n",
    "    return forecast"
   ]
  },
  {
   "cell_type": "code",
   "execution_count": null,
   "metadata": {
    "scrolled": true
   },
   "outputs": [],
   "source": [
    "HAL=fcast('HAL')"
   ]
  },
  {
   "cell_type": "code",
   "execution_count": null,
   "metadata": {},
   "outputs": [],
   "source": [
    "HAL.head()"
   ]
  },
  {
   "cell_type": "code",
   "execution_count": null,
   "metadata": {},
   "outputs": [],
   "source": [
    "MMM=fcast('MMM')"
   ]
  },
  {
   "cell_type": "code",
   "execution_count": null,
   "metadata": {},
   "outputs": [],
   "source": [
    "AXP=fcast('AXP')"
   ]
  },
  {
   "cell_type": "markdown",
   "metadata": {},
   "source": [
    "Now the final piece: taking in 4 stocks from the user, running them through the previous functions, and letting us know which one stands to gain the most."
   ]
  },
  {
   "cell_type": "code",
   "execution_count": null,
   "metadata": {},
   "outputs": [],
   "source": [
    "def pred_4():\n",
    "    \"\"\"This function will prompt the user to input 4 different stock/ETF symbols. It will then use Prophet \n",
    "    to forecast the next 14 days of the stock price, and return the values (in percent) of potential gain and loss.\"\"\"\n",
    "    stocks=[]\n",
    "    pcts=[]\n",
    "    stock1,stock2,stock3,stock4=input(\"Enter 4 stock symbols: \").split(\",\")\n",
    "    stocks=[stock1,stock2,stock3,stock4]\n",
    "    print(\"Working...\")\n",
    "    for stock in stocks:\n",
    "        stock=stock.upper()\n",
    "        df=fcast(stock)\n",
    "        df1=df['yhat']\n",
    "        df1=df1.tail(14)\n",
    "        df1.reset_index(level=0, drop=True,inplace=True)\n",
    "        change=((df1[13]-df1[0])/df1[0])*100\n",
    "        change=round(change, 2)\n",
    "        pcts.append(change)\n",
    "    for i in range(0,4):\n",
    "        print(f\"Stock: {stocks[i].upper()}\")\n",
    "        print(f\"Percent Change: {pcts[i]}\")\n",
    "    maxp=pcts.index(max(pcts))\n",
    "    print()\n",
    "    print(f'According to the model, {stocks[maxp].upper()} has the highest upside.')\n",
    "    print(\"\\n\" * 3)\n",
    "    print('FOR ENTERTAINMENT PURPOSES ONLY. This does not substitute for advise from a financial advisor.') \n",
    "    print('The creator and affiliates are not responsible for any potential losses. But totally responsible for any gains.')\n",
    "    return None\n",
    "    "
   ]
  },
  {
   "cell_type": "code",
   "execution_count": null,
   "metadata": {
    "scrolled": false
   },
   "outputs": [],
   "source": [
    "pred_4()"
   ]
  },
  {
   "cell_type": "markdown",
   "metadata": {},
   "source": [
    "# Conclusion:"
   ]
  },
  {
   "cell_type": "markdown",
   "metadata": {},
   "source": [
    "I like to call this the KISSSS (the Keep it Simple Stock Selector-The Last 'S' is a typo), and it's true to its name. It's simple, it provides an answer that investors can use to make their decisions. Now as the disclaimer states, this should not be the only factor used in making any investment decision; but for someone that doesn't want to do a lot of research into their stock purchases, this will fit them just fine."
   ]
  },
  {
   "cell_type": "markdown",
   "metadata": {},
   "source": [
    "Personaly, I like Prophet much better than ARIMA. It provided much better numbers and it was built to predict time series that were more random than what ARIMA was built for."
   ]
  },
  {
   "cell_type": "code",
   "execution_count": null,
   "metadata": {},
   "outputs": [],
   "source": []
  }
 ],
 "metadata": {
  "kernelspec": {
   "display_name": "Python 3",
   "language": "python",
   "name": "python3"
  },
  "language_info": {
   "codemirror_mode": {
    "name": "ipython",
    "version": 3
   },
   "file_extension": ".py",
   "mimetype": "text/x-python",
   "name": "python",
   "nbconvert_exporter": "python",
   "pygments_lexer": "ipython3",
   "version": "3.6.9"
  }
 },
 "nbformat": 4,
 "nbformat_minor": 4
}
