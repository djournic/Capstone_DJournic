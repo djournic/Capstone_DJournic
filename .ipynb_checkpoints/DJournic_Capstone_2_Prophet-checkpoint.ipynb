{
 "cells": [
  {
   "cell_type": "markdown",
   "metadata": {},
   "source": [
    "# Prophet modeling"
   ]
  },
  {
   "cell_type": "markdown",
   "metadata": {},
   "source": [
    "Here we'll try to mimic the same process of finding the best train-test split, but for Facebook's Prophet library. Let's import everything."
   ]
  },
  {
   "cell_type": "code",
   "execution_count": 1,
   "metadata": {},
   "outputs": [],
   "source": [
    "from fbprophet import Prophet\n",
    "from prophet.diagnostics import cross_validation\n",
    "from prophet.plot import plot_cross_validation_metric\n",
    "from prophet.diagnostics import performance_metrics\n",
    "from sklearn.linear_model import LinearRegression\n",
    "from iexfinance.stocks import Stock\n",
    "import random\n",
    "#from trafalgar import*\n",
    "import pandas as pd\n",
    "import pandas.tseries\n",
    "import numpy as np\n",
    "import seaborn as sb\n",
    "import matplotlib.pyplot as plt\n",
    "import statsmodels.api as sm\n",
    "import matplotlib\n",
    "import pmdarima as pm\n",
    "import datetime as dt\n",
    "from datetime import date\n",
    "from datetime import timedelta \n",
    "import yfinance as yf\n",
    "import requests\n",
    "from sklearn.model_selection import TimeSeriesSplit\n",
    "from sktime.forecasting.model_selection import temporal_train_test_split\n",
    "from pandas.plotting import lag_plot\n",
    "from pandas import datetime\n",
    "import re\n",
    "from tiingo import TiingoClient\n",
    "import json\n",
    "from pandas_datareader import data as pdr"
   ]
  },
  {
   "cell_type": "code",
   "execution_count": 2,
   "metadata": {},
   "outputs": [
    {
     "data": {
      "text/plain": [
       "'0.1.63'"
      ]
     },
     "execution_count": 2,
     "metadata": {},
     "output_type": "execute_result"
    }
   ],
   "source": [
    "yf.__version__"
   ]
  },
  {
   "cell_type": "markdown",
   "metadata": {},
   "source": [
    "### The test case: C\n",
    "Just like the previous notebook, we'll try to run through a simple test case and expand it to other stocks. We'll use Citicgroup again."
   ]
  },
  {
   "cell_type": "markdown",
   "metadata": {},
   "source": [
    "Quick note: I encountered a bug with my earlier library, yfinance, so I've had to switch to tiingo, so a lot of code will be hashed out from earlier. And in case I can get the bugs worked out."
   ]
  },
  {
   "cell_type": "code",
   "execution_count": 3,
   "metadata": {},
   "outputs": [],
   "source": [
    "c = yf.Ticker(\"C\")"
   ]
  },
  {
   "cell_type": "code",
   "execution_count": 4,
   "metadata": {
    "scrolled": true
   },
   "outputs": [],
   "source": [
    "df=c.history(period=\"2y\")"
   ]
  },
  {
   "cell_type": "code",
   "execution_count": 5,
   "metadata": {},
   "outputs": [
    {
     "data": {
      "text/html": [
       "<div>\n",
       "<style scoped>\n",
       "    .dataframe tbody tr th:only-of-type {\n",
       "        vertical-align: middle;\n",
       "    }\n",
       "\n",
       "    .dataframe tbody tr th {\n",
       "        vertical-align: top;\n",
       "    }\n",
       "\n",
       "    .dataframe thead th {\n",
       "        text-align: right;\n",
       "    }\n",
       "</style>\n",
       "<table border=\"1\" class=\"dataframe\">\n",
       "  <thead>\n",
       "    <tr style=\"text-align: right;\">\n",
       "      <th></th>\n",
       "      <th>Open</th>\n",
       "      <th>High</th>\n",
       "      <th>Low</th>\n",
       "      <th>Close</th>\n",
       "      <th>Volume</th>\n",
       "      <th>Dividends</th>\n",
       "      <th>Stock Splits</th>\n",
       "    </tr>\n",
       "    <tr>\n",
       "      <th>Date</th>\n",
       "      <th></th>\n",
       "      <th></th>\n",
       "      <th></th>\n",
       "      <th></th>\n",
       "      <th></th>\n",
       "      <th></th>\n",
       "      <th></th>\n",
       "    </tr>\n",
       "  </thead>\n",
       "  <tbody>\n",
       "    <tr>\n",
       "      <th>2019-07-22</th>\n",
       "      <td>65.965877</td>\n",
       "      <td>66.497558</td>\n",
       "      <td>65.928565</td>\n",
       "      <td>66.329659</td>\n",
       "      <td>7930600</td>\n",
       "      <td>0.0</td>\n",
       "      <td>0</td>\n",
       "    </tr>\n",
       "    <tr>\n",
       "      <th>2019-07-23</th>\n",
       "      <td>66.534877</td>\n",
       "      <td>67.327735</td>\n",
       "      <td>66.506895</td>\n",
       "      <td>67.150505</td>\n",
       "      <td>11804300</td>\n",
       "      <td>0.0</td>\n",
       "      <td>0</td>\n",
       "    </tr>\n",
       "    <tr>\n",
       "      <th>2019-07-24</th>\n",
       "      <td>66.842676</td>\n",
       "      <td>68.167215</td>\n",
       "      <td>66.842676</td>\n",
       "      <td>68.101921</td>\n",
       "      <td>12512900</td>\n",
       "      <td>0.0</td>\n",
       "      <td>0</td>\n",
       "    </tr>\n",
       "    <tr>\n",
       "      <th>2019-07-25</th>\n",
       "      <td>68.055285</td>\n",
       "      <td>68.167220</td>\n",
       "      <td>66.161752</td>\n",
       "      <td>66.590828</td>\n",
       "      <td>15698300</td>\n",
       "      <td>0.0</td>\n",
       "      <td>0</td>\n",
       "    </tr>\n",
       "    <tr>\n",
       "      <th>2019-07-26</th>\n",
       "      <td>67.299737</td>\n",
       "      <td>67.756795</td>\n",
       "      <td>67.019902</td>\n",
       "      <td>67.309067</td>\n",
       "      <td>10625900</td>\n",
       "      <td>0.0</td>\n",
       "      <td>0</td>\n",
       "    </tr>\n",
       "  </tbody>\n",
       "</table>\n",
       "</div>"
      ],
      "text/plain": [
       "                 Open       High        Low      Close    Volume  Dividends  \\\n",
       "Date                                                                          \n",
       "2019-07-22  65.965877  66.497558  65.928565  66.329659   7930600        0.0   \n",
       "2019-07-23  66.534877  67.327735  66.506895  67.150505  11804300        0.0   \n",
       "2019-07-24  66.842676  68.167215  66.842676  68.101921  12512900        0.0   \n",
       "2019-07-25  68.055285  68.167220  66.161752  66.590828  15698300        0.0   \n",
       "2019-07-26  67.299737  67.756795  67.019902  67.309067  10625900        0.0   \n",
       "\n",
       "            Stock Splits  \n",
       "Date                      \n",
       "2019-07-22             0  \n",
       "2019-07-23             0  \n",
       "2019-07-24             0  \n",
       "2019-07-25             0  \n",
       "2019-07-26             0  "
      ]
     },
     "execution_count": 5,
     "metadata": {},
     "output_type": "execute_result"
    }
   ],
   "source": [
    "df.head()"
   ]
  },
  {
   "cell_type": "code",
   "execution_count": 6,
   "metadata": {},
   "outputs": [
    {
     "data": {
      "text/html": [
       "<div>\n",
       "<style scoped>\n",
       "    .dataframe tbody tr th:only-of-type {\n",
       "        vertical-align: middle;\n",
       "    }\n",
       "\n",
       "    .dataframe tbody tr th {\n",
       "        vertical-align: top;\n",
       "    }\n",
       "\n",
       "    .dataframe thead th {\n",
       "        text-align: right;\n",
       "    }\n",
       "</style>\n",
       "<table border=\"1\" class=\"dataframe\">\n",
       "  <thead>\n",
       "    <tr style=\"text-align: right;\">\n",
       "      <th></th>\n",
       "      <th>Open</th>\n",
       "      <th>High</th>\n",
       "      <th>Low</th>\n",
       "      <th>Close</th>\n",
       "      <th>Volume</th>\n",
       "      <th>Dividends</th>\n",
       "      <th>Stock Splits</th>\n",
       "    </tr>\n",
       "    <tr>\n",
       "      <th>Date</th>\n",
       "      <th></th>\n",
       "      <th></th>\n",
       "      <th></th>\n",
       "      <th></th>\n",
       "      <th></th>\n",
       "      <th></th>\n",
       "      <th></th>\n",
       "    </tr>\n",
       "  </thead>\n",
       "  <tbody>\n",
       "    <tr>\n",
       "      <th>2019-07-22</th>\n",
       "      <td>65.965877</td>\n",
       "      <td>66.497558</td>\n",
       "      <td>65.928565</td>\n",
       "      <td>66.329659</td>\n",
       "      <td>7930600</td>\n",
       "      <td>0.0</td>\n",
       "      <td>0</td>\n",
       "    </tr>\n",
       "    <tr>\n",
       "      <th>2019-07-23</th>\n",
       "      <td>66.534877</td>\n",
       "      <td>67.327735</td>\n",
       "      <td>66.506895</td>\n",
       "      <td>67.150505</td>\n",
       "      <td>11804300</td>\n",
       "      <td>0.0</td>\n",
       "      <td>0</td>\n",
       "    </tr>\n",
       "    <tr>\n",
       "      <th>2019-07-24</th>\n",
       "      <td>66.842676</td>\n",
       "      <td>68.167215</td>\n",
       "      <td>66.842676</td>\n",
       "      <td>68.101921</td>\n",
       "      <td>12512900</td>\n",
       "      <td>0.0</td>\n",
       "      <td>0</td>\n",
       "    </tr>\n",
       "    <tr>\n",
       "      <th>2019-07-25</th>\n",
       "      <td>68.055285</td>\n",
       "      <td>68.167220</td>\n",
       "      <td>66.161752</td>\n",
       "      <td>66.590828</td>\n",
       "      <td>15698300</td>\n",
       "      <td>0.0</td>\n",
       "      <td>0</td>\n",
       "    </tr>\n",
       "    <tr>\n",
       "      <th>2019-07-26</th>\n",
       "      <td>67.299737</td>\n",
       "      <td>67.756795</td>\n",
       "      <td>67.019902</td>\n",
       "      <td>67.309067</td>\n",
       "      <td>10625900</td>\n",
       "      <td>0.0</td>\n",
       "      <td>0</td>\n",
       "    </tr>\n",
       "  </tbody>\n",
       "</table>\n",
       "</div>"
      ],
      "text/plain": [
       "                 Open       High        Low      Close    Volume  Dividends  \\\n",
       "Date                                                                          \n",
       "2019-07-22  65.965877  66.497558  65.928565  66.329659   7930600        0.0   \n",
       "2019-07-23  66.534877  67.327735  66.506895  67.150505  11804300        0.0   \n",
       "2019-07-24  66.842676  68.167215  66.842676  68.101921  12512900        0.0   \n",
       "2019-07-25  68.055285  68.167220  66.161752  66.590828  15698300        0.0   \n",
       "2019-07-26  67.299737  67.756795  67.019902  67.309067  10625900        0.0   \n",
       "\n",
       "            Stock Splits  \n",
       "Date                      \n",
       "2019-07-22             0  \n",
       "2019-07-23             0  \n",
       "2019-07-24             0  \n",
       "2019-07-25             0  \n",
       "2019-07-26             0  "
      ]
     },
     "execution_count": 6,
     "metadata": {},
     "output_type": "execute_result"
    }
   ],
   "source": [
    "df.head()"
   ]
  },
  {
   "cell_type": "code",
   "execution_count": 7,
   "metadata": {},
   "outputs": [],
   "source": [
    "deltas=['d','m','y']\n",
    "att='200d'"
   ]
  },
  {
   "cell_type": "code",
   "execution_count": 8,
   "metadata": {},
   "outputs": [
    {
     "data": {
      "text/plain": [
       "'d'"
      ]
     },
     "execution_count": 8,
     "metadata": {},
     "output_type": "execute_result"
    }
   ],
   "source": [
    "att[-1]"
   ]
  },
  {
   "cell_type": "code",
   "execution_count": 9,
   "metadata": {},
   "outputs": [
    {
     "data": {
      "text/plain": [
       "'200'"
      ]
     },
     "execution_count": 9,
     "metadata": {},
     "output_type": "execute_result"
    }
   ],
   "source": [
    "spl=len(att)-1\n",
    "att[:spl]"
   ]
  },
  {
   "cell_type": "code",
   "execution_count": 10,
   "metadata": {},
   "outputs": [
    {
     "data": {
      "text/plain": [
       "'200 days'"
      ]
     },
     "execution_count": 10,
     "metadata": {},
     "output_type": "execute_result"
    }
   ],
   "source": [
    "end=att[:spl] + ' days'\n",
    "end"
   ]
  },
  {
   "cell_type": "code",
   "execution_count": 11,
   "metadata": {},
   "outputs": [],
   "source": [
    "df1=df['Close']"
   ]
  },
  {
   "cell_type": "code",
   "execution_count": 12,
   "metadata": {},
   "outputs": [
    {
     "data": {
      "text/plain": [
       "Date\n",
       "2019-07-22    66.329659\n",
       "2019-07-23    67.150505\n",
       "2019-07-24    68.101921\n",
       "2019-07-25    66.590828\n",
       "2019-07-26    67.309067\n",
       "Name: Close, dtype: float64"
      ]
     },
     "execution_count": 12,
     "metadata": {},
     "output_type": "execute_result"
    }
   ],
   "source": [
    "df1.head()"
   ]
  },
  {
   "cell_type": "code",
   "execution_count": 13,
   "metadata": {},
   "outputs": [],
   "source": [
    "df1=df1.to_frame()"
   ]
  },
  {
   "cell_type": "code",
   "execution_count": 14,
   "metadata": {},
   "outputs": [],
   "source": [
    "# instantiate Prophet\n",
    "prof_1 = Prophet()"
   ]
  },
  {
   "cell_type": "code",
   "execution_count": 15,
   "metadata": {},
   "outputs": [
    {
     "data": {
      "text/html": [
       "<div>\n",
       "<style scoped>\n",
       "    .dataframe tbody tr th:only-of-type {\n",
       "        vertical-align: middle;\n",
       "    }\n",
       "\n",
       "    .dataframe tbody tr th {\n",
       "        vertical-align: top;\n",
       "    }\n",
       "\n",
       "    .dataframe thead th {\n",
       "        text-align: right;\n",
       "    }\n",
       "</style>\n",
       "<table border=\"1\" class=\"dataframe\">\n",
       "  <thead>\n",
       "    <tr style=\"text-align: right;\">\n",
       "      <th></th>\n",
       "      <th>Close</th>\n",
       "    </tr>\n",
       "    <tr>\n",
       "      <th>Date</th>\n",
       "      <th></th>\n",
       "    </tr>\n",
       "  </thead>\n",
       "  <tbody>\n",
       "    <tr>\n",
       "      <th>2019-07-22</th>\n",
       "      <td>66.329659</td>\n",
       "    </tr>\n",
       "    <tr>\n",
       "      <th>2019-07-23</th>\n",
       "      <td>67.150505</td>\n",
       "    </tr>\n",
       "    <tr>\n",
       "      <th>2019-07-24</th>\n",
       "      <td>68.101921</td>\n",
       "    </tr>\n",
       "    <tr>\n",
       "      <th>2019-07-25</th>\n",
       "      <td>66.590828</td>\n",
       "    </tr>\n",
       "    <tr>\n",
       "      <th>2019-07-26</th>\n",
       "      <td>67.309067</td>\n",
       "    </tr>\n",
       "  </tbody>\n",
       "</table>\n",
       "</div>"
      ],
      "text/plain": [
       "                Close\n",
       "Date                 \n",
       "2019-07-22  66.329659\n",
       "2019-07-23  67.150505\n",
       "2019-07-24  68.101921\n",
       "2019-07-25  66.590828\n",
       "2019-07-26  67.309067"
      ]
     },
     "execution_count": 15,
     "metadata": {},
     "output_type": "execute_result"
    }
   ],
   "source": [
    "df1.head()"
   ]
  },
  {
   "cell_type": "code",
   "execution_count": 16,
   "metadata": {},
   "outputs": [],
   "source": [
    "df1.index.names = ['ds']\n",
    "df1.columns=['y']"
   ]
  },
  {
   "cell_type": "code",
   "execution_count": 17,
   "metadata": {},
   "outputs": [],
   "source": [
    "df1.reset_index(level=0, inplace=True)"
   ]
  },
  {
   "cell_type": "code",
   "execution_count": 18,
   "metadata": {},
   "outputs": [
    {
     "data": {
      "text/html": [
       "<div>\n",
       "<style scoped>\n",
       "    .dataframe tbody tr th:only-of-type {\n",
       "        vertical-align: middle;\n",
       "    }\n",
       "\n",
       "    .dataframe tbody tr th {\n",
       "        vertical-align: top;\n",
       "    }\n",
       "\n",
       "    .dataframe thead th {\n",
       "        text-align: right;\n",
       "    }\n",
       "</style>\n",
       "<table border=\"1\" class=\"dataframe\">\n",
       "  <thead>\n",
       "    <tr style=\"text-align: right;\">\n",
       "      <th></th>\n",
       "      <th>ds</th>\n",
       "      <th>y</th>\n",
       "    </tr>\n",
       "  </thead>\n",
       "  <tbody>\n",
       "    <tr>\n",
       "      <th>0</th>\n",
       "      <td>2019-07-22</td>\n",
       "      <td>66.329659</td>\n",
       "    </tr>\n",
       "    <tr>\n",
       "      <th>1</th>\n",
       "      <td>2019-07-23</td>\n",
       "      <td>67.150505</td>\n",
       "    </tr>\n",
       "    <tr>\n",
       "      <th>2</th>\n",
       "      <td>2019-07-24</td>\n",
       "      <td>68.101921</td>\n",
       "    </tr>\n",
       "    <tr>\n",
       "      <th>3</th>\n",
       "      <td>2019-07-25</td>\n",
       "      <td>66.590828</td>\n",
       "    </tr>\n",
       "    <tr>\n",
       "      <th>4</th>\n",
       "      <td>2019-07-26</td>\n",
       "      <td>67.309067</td>\n",
       "    </tr>\n",
       "  </tbody>\n",
       "</table>\n",
       "</div>"
      ],
      "text/plain": [
       "          ds          y\n",
       "0 2019-07-22  66.329659\n",
       "1 2019-07-23  67.150505\n",
       "2 2019-07-24  68.101921\n",
       "3 2019-07-25  66.590828\n",
       "4 2019-07-26  67.309067"
      ]
     },
     "execution_count": 18,
     "metadata": {},
     "output_type": "execute_result"
    }
   ],
   "source": [
    "df1.head()"
   ]
  },
  {
   "cell_type": "code",
   "execution_count": 19,
   "metadata": {},
   "outputs": [
    {
     "name": "stdout",
     "output_type": "stream",
     "text": [
      "<class 'pandas.core.frame.DataFrame'>\n",
      "RangeIndex: 506 entries, 0 to 505\n",
      "Data columns (total 2 columns):\n",
      " #   Column  Non-Null Count  Dtype         \n",
      "---  ------  --------------  -----         \n",
      " 0   ds      506 non-null    datetime64[ns]\n",
      " 1   y       506 non-null    float64       \n",
      "dtypes: datetime64[ns](1), float64(1)\n",
      "memory usage: 8.0 KB\n"
     ]
    }
   ],
   "source": [
    "df1.info()"
   ]
  },
  {
   "cell_type": "code",
   "execution_count": 20,
   "metadata": {},
   "outputs": [
    {
     "name": "stderr",
     "output_type": "stream",
     "text": [
      "INFO:fbprophet:Disabling daily seasonality. Run prophet with daily_seasonality=True to override this.\n"
     ]
    },
    {
     "data": {
      "text/plain": [
       "<fbprophet.forecaster.Prophet at 0x22152b83ba8>"
      ]
     },
     "execution_count": 20,
     "metadata": {},
     "output_type": "execute_result"
    }
   ],
   "source": [
    "prof_1.fit(df1)"
   ]
  },
  {
   "cell_type": "code",
   "execution_count": 21,
   "metadata": {},
   "outputs": [],
   "source": [
    "#Create a new dataframe for the predictions, 3 weeks out\n",
    "future = prof_1.make_future_dataframe(periods=21)"
   ]
  },
  {
   "cell_type": "code",
   "execution_count": 22,
   "metadata": {},
   "outputs": [],
   "source": [
    "forecast = prof_1.predict(future)"
   ]
  },
  {
   "cell_type": "code",
   "execution_count": 23,
   "metadata": {},
   "outputs": [
    {
     "data": {
      "text/html": [
       "<div>\n",
       "<style scoped>\n",
       "    .dataframe tbody tr th:only-of-type {\n",
       "        vertical-align: middle;\n",
       "    }\n",
       "\n",
       "    .dataframe tbody tr th {\n",
       "        vertical-align: top;\n",
       "    }\n",
       "\n",
       "    .dataframe thead th {\n",
       "        text-align: right;\n",
       "    }\n",
       "</style>\n",
       "<table border=\"1\" class=\"dataframe\">\n",
       "  <thead>\n",
       "    <tr style=\"text-align: right;\">\n",
       "      <th></th>\n",
       "      <th>ds</th>\n",
       "      <th>trend</th>\n",
       "      <th>yhat_lower</th>\n",
       "      <th>yhat_upper</th>\n",
       "      <th>trend_lower</th>\n",
       "      <th>trend_upper</th>\n",
       "      <th>additive_terms</th>\n",
       "      <th>additive_terms_lower</th>\n",
       "      <th>additive_terms_upper</th>\n",
       "      <th>weekly</th>\n",
       "      <th>weekly_lower</th>\n",
       "      <th>weekly_upper</th>\n",
       "      <th>yearly</th>\n",
       "      <th>yearly_lower</th>\n",
       "      <th>yearly_upper</th>\n",
       "      <th>multiplicative_terms</th>\n",
       "      <th>multiplicative_terms_lower</th>\n",
       "      <th>multiplicative_terms_upper</th>\n",
       "      <th>yhat</th>\n",
       "    </tr>\n",
       "  </thead>\n",
       "  <tbody>\n",
       "    <tr>\n",
       "      <th>522</th>\n",
       "      <td>2021-08-08</td>\n",
       "      <td>75.221873</td>\n",
       "      <td>71.812908</td>\n",
       "      <td>81.104707</td>\n",
       "      <td>74.972228</td>\n",
       "      <td>75.459852</td>\n",
       "      <td>1.195774</td>\n",
       "      <td>1.195774</td>\n",
       "      <td>1.195774</td>\n",
       "      <td>1.652086</td>\n",
       "      <td>1.652086</td>\n",
       "      <td>1.652086</td>\n",
       "      <td>-0.456312</td>\n",
       "      <td>-0.456312</td>\n",
       "      <td>-0.456312</td>\n",
       "      <td>0.0</td>\n",
       "      <td>0.0</td>\n",
       "      <td>0.0</td>\n",
       "      <td>76.417647</td>\n",
       "    </tr>\n",
       "    <tr>\n",
       "      <th>523</th>\n",
       "      <td>2021-08-09</td>\n",
       "      <td>75.292011</td>\n",
       "      <td>68.825221</td>\n",
       "      <td>78.755743</td>\n",
       "      <td>75.001984</td>\n",
       "      <td>75.560891</td>\n",
       "      <td>-1.283622</td>\n",
       "      <td>-1.283622</td>\n",
       "      <td>-1.283622</td>\n",
       "      <td>-0.533335</td>\n",
       "      <td>-0.533335</td>\n",
       "      <td>-0.533335</td>\n",
       "      <td>-0.750288</td>\n",
       "      <td>-0.750288</td>\n",
       "      <td>-0.750288</td>\n",
       "      <td>0.0</td>\n",
       "      <td>0.0</td>\n",
       "      <td>0.0</td>\n",
       "      <td>74.008389</td>\n",
       "    </tr>\n",
       "    <tr>\n",
       "      <th>524</th>\n",
       "      <td>2021-08-10</td>\n",
       "      <td>75.362149</td>\n",
       "      <td>68.813821</td>\n",
       "      <td>78.827274</td>\n",
       "      <td>75.024008</td>\n",
       "      <td>75.658578</td>\n",
       "      <td>-1.775524</td>\n",
       "      <td>-1.775524</td>\n",
       "      <td>-1.775524</td>\n",
       "      <td>-0.730948</td>\n",
       "      <td>-0.730948</td>\n",
       "      <td>-0.730948</td>\n",
       "      <td>-1.044576</td>\n",
       "      <td>-1.044576</td>\n",
       "      <td>-1.044576</td>\n",
       "      <td>0.0</td>\n",
       "      <td>0.0</td>\n",
       "      <td>0.0</td>\n",
       "      <td>73.586626</td>\n",
       "    </tr>\n",
       "    <tr>\n",
       "      <th>525</th>\n",
       "      <td>2021-08-11</td>\n",
       "      <td>75.432288</td>\n",
       "      <td>68.412270</td>\n",
       "      <td>78.549017</td>\n",
       "      <td>75.076825</td>\n",
       "      <td>75.760831</td>\n",
       "      <td>-1.994478</td>\n",
       "      <td>-1.994478</td>\n",
       "      <td>-1.994478</td>\n",
       "      <td>-0.659468</td>\n",
       "      <td>-0.659468</td>\n",
       "      <td>-0.659468</td>\n",
       "      <td>-1.335010</td>\n",
       "      <td>-1.335010</td>\n",
       "      <td>-1.335010</td>\n",
       "      <td>0.0</td>\n",
       "      <td>0.0</td>\n",
       "      <td>0.0</td>\n",
       "      <td>73.437810</td>\n",
       "    </tr>\n",
       "    <tr>\n",
       "      <th>526</th>\n",
       "      <td>2021-08-12</td>\n",
       "      <td>75.502426</td>\n",
       "      <td>68.111761</td>\n",
       "      <td>78.271051</td>\n",
       "      <td>75.078017</td>\n",
       "      <td>75.866483</td>\n",
       "      <td>-2.323817</td>\n",
       "      <td>-2.323817</td>\n",
       "      <td>-2.323817</td>\n",
       "      <td>-0.706195</td>\n",
       "      <td>-0.706195</td>\n",
       "      <td>-0.706195</td>\n",
       "      <td>-1.617622</td>\n",
       "      <td>-1.617622</td>\n",
       "      <td>-1.617622</td>\n",
       "      <td>0.0</td>\n",
       "      <td>0.0</td>\n",
       "      <td>0.0</td>\n",
       "      <td>73.178609</td>\n",
       "    </tr>\n",
       "  </tbody>\n",
       "</table>\n",
       "</div>"
      ],
      "text/plain": [
       "            ds      trend  yhat_lower  yhat_upper  trend_lower  trend_upper  \\\n",
       "522 2021-08-08  75.221873   71.812908   81.104707    74.972228    75.459852   \n",
       "523 2021-08-09  75.292011   68.825221   78.755743    75.001984    75.560891   \n",
       "524 2021-08-10  75.362149   68.813821   78.827274    75.024008    75.658578   \n",
       "525 2021-08-11  75.432288   68.412270   78.549017    75.076825    75.760831   \n",
       "526 2021-08-12  75.502426   68.111761   78.271051    75.078017    75.866483   \n",
       "\n",
       "     additive_terms  additive_terms_lower  additive_terms_upper    weekly  \\\n",
       "522        1.195774              1.195774              1.195774  1.652086   \n",
       "523       -1.283622             -1.283622             -1.283622 -0.533335   \n",
       "524       -1.775524             -1.775524             -1.775524 -0.730948   \n",
       "525       -1.994478             -1.994478             -1.994478 -0.659468   \n",
       "526       -2.323817             -2.323817             -2.323817 -0.706195   \n",
       "\n",
       "     weekly_lower  weekly_upper    yearly  yearly_lower  yearly_upper  \\\n",
       "522      1.652086      1.652086 -0.456312     -0.456312     -0.456312   \n",
       "523     -0.533335     -0.533335 -0.750288     -0.750288     -0.750288   \n",
       "524     -0.730948     -0.730948 -1.044576     -1.044576     -1.044576   \n",
       "525     -0.659468     -0.659468 -1.335010     -1.335010     -1.335010   \n",
       "526     -0.706195     -0.706195 -1.617622     -1.617622     -1.617622   \n",
       "\n",
       "     multiplicative_terms  multiplicative_terms_lower  \\\n",
       "522                   0.0                         0.0   \n",
       "523                   0.0                         0.0   \n",
       "524                   0.0                         0.0   \n",
       "525                   0.0                         0.0   \n",
       "526                   0.0                         0.0   \n",
       "\n",
       "     multiplicative_terms_upper       yhat  \n",
       "522                         0.0  76.417647  \n",
       "523                         0.0  74.008389  \n",
       "524                         0.0  73.586626  \n",
       "525                         0.0  73.437810  \n",
       "526                         0.0  73.178609  "
      ]
     },
     "execution_count": 23,
     "metadata": {},
     "output_type": "execute_result"
    }
   ],
   "source": [
    "forecast.tail()"
   ]
  },
  {
   "cell_type": "code",
   "execution_count": 24,
   "metadata": {},
   "outputs": [
    {
     "name": "stdout",
     "output_type": "stream",
     "text": [
      "<class 'pandas.core.frame.DataFrame'>\n",
      "RangeIndex: 527 entries, 0 to 526\n",
      "Data columns (total 19 columns):\n",
      " #   Column                      Non-Null Count  Dtype         \n",
      "---  ------                      --------------  -----         \n",
      " 0   ds                          527 non-null    datetime64[ns]\n",
      " 1   trend                       527 non-null    float64       \n",
      " 2   yhat_lower                  527 non-null    float64       \n",
      " 3   yhat_upper                  527 non-null    float64       \n",
      " 4   trend_lower                 527 non-null    float64       \n",
      " 5   trend_upper                 527 non-null    float64       \n",
      " 6   additive_terms              527 non-null    float64       \n",
      " 7   additive_terms_lower        527 non-null    float64       \n",
      " 8   additive_terms_upper        527 non-null    float64       \n",
      " 9   weekly                      527 non-null    float64       \n",
      " 10  weekly_lower                527 non-null    float64       \n",
      " 11  weekly_upper                527 non-null    float64       \n",
      " 12  yearly                      527 non-null    float64       \n",
      " 13  yearly_lower                527 non-null    float64       \n",
      " 14  yearly_upper                527 non-null    float64       \n",
      " 15  multiplicative_terms        527 non-null    float64       \n",
      " 16  multiplicative_terms_lower  527 non-null    float64       \n",
      " 17  multiplicative_terms_upper  527 non-null    float64       \n",
      " 18  yhat                        527 non-null    float64       \n",
      "dtypes: datetime64[ns](1), float64(18)\n",
      "memory usage: 78.4 KB\n"
     ]
    }
   ],
   "source": [
    "forecast.info()"
   ]
  },
  {
   "cell_type": "code",
   "execution_count": 25,
   "metadata": {},
   "outputs": [],
   "source": [
    "proph_pred=forecast['yhat']"
   ]
  },
  {
   "cell_type": "code",
   "execution_count": 26,
   "metadata": {},
   "outputs": [
    {
     "data": {
      "image/png": "[encoded data removed]",
      "text/plain": [
       "<Figure size 720x432 with 1 Axes>"
      ]
     },
     "metadata": {},
     "output_type": "display_data"
    }
   ],
   "source": [
    "prof_1.plot(forecast)\n",
    "plt.show()"
   ]
  },
  {
   "cell_type": "code",
   "execution_count": 27,
   "metadata": {
    "scrolled": true
   },
   "outputs": [
    {
     "name": "stderr",
     "output_type": "stream",
     "text": [
      "INFO:prophet:Making 99 forecasts with cutoffs between 2019-08-22 00:00:00 and 2021-07-08 00:00:00\n",
      "WARNING:prophet:Seasonality has period of 365.25 days which is larger than initial window. Consider increasing initial.\n"
     ]
    },
    {
     "data": {
      "application/vnd.jupyter.widget-view+json": {
       "model_id": "8b31ac16460d49689649099d79ea2d51",
       "version_major": 2,
       "version_minor": 0
      },
      "text/plain": [
       "  0%|          | 0/99 [00:00<?, ?it/s]"
      ]
     },
     "metadata": {},
     "output_type": "display_data"
    },
    {
     "name": "stderr",
     "output_type": "stream",
     "text": [
      "INFO:fbprophet:n_changepoints greater than number of observations. Using 18.\n",
      "INFO:fbprophet:n_changepoints greater than number of observations. Using 22.\n",
      "WARNING:fbprophet:Optimization terminated abnormally. Falling back to Newton.\n",
      "WARNING:fbprophet:Optimization terminated abnormally. Falling back to Newton.\n",
      "WARNING:fbprophet:Optimization terminated abnormally. Falling back to Newton.\n",
      "WARNING:fbprophet:Optimization terminated abnormally. Falling back to Newton.\n"
     ]
    }
   ],
   "source": [
    "df1_cv = cross_validation(prof_1, initial='30 days', period='7 days', horizon = '14 days')"
   ]
  },
  {
   "cell_type": "code",
   "execution_count": 28,
   "metadata": {},
   "outputs": [],
   "source": [
    "df1_pm = performance_metrics(df1_cv)"
   ]
  },
  {
   "cell_type": "code",
   "execution_count": 29,
   "metadata": {},
   "outputs": [],
   "source": [
    "trains=['30 days','60 days','180 days']\n",
    "tests=['7 days','14 days','21 days']"
   ]
  },
  {
   "cell_type": "code",
   "execution_count": 30,
   "metadata": {},
   "outputs": [
    {
     "data": {
      "text/html": [
       "<div>\n",
       "<style scoped>\n",
       "    .dataframe tbody tr th:only-of-type {\n",
       "        vertical-align: middle;\n",
       "    }\n",
       "\n",
       "    .dataframe tbody tr th {\n",
       "        vertical-align: top;\n",
       "    }\n",
       "\n",
       "    .dataframe thead th {\n",
       "        text-align: right;\n",
       "    }\n",
       "</style>\n",
       "<table border=\"1\" class=\"dataframe\">\n",
       "  <thead>\n",
       "    <tr style=\"text-align: right;\">\n",
       "      <th></th>\n",
       "      <th>horizon</th>\n",
       "      <th>mse</th>\n",
       "      <th>rmse</th>\n",
       "      <th>mae</th>\n",
       "      <th>mape</th>\n",
       "      <th>mdape</th>\n",
       "      <th>smape</th>\n",
       "      <th>coverage</th>\n",
       "    </tr>\n",
       "  </thead>\n",
       "  <tbody>\n",
       "    <tr>\n",
       "      <th>4</th>\n",
       "      <td>8 days</td>\n",
       "      <td>299.939991</td>\n",
       "      <td>17.318776</td>\n",
       "      <td>11.819715</td>\n",
       "      <td>0.196839</td>\n",
       "      <td>0.130225</td>\n",
       "      <td>0.194451</td>\n",
       "      <td>0.180684</td>\n",
       "    </tr>\n",
       "    <tr>\n",
       "      <th>5</th>\n",
       "      <td>11 days</td>\n",
       "      <td>961.160333</td>\n",
       "      <td>31.002586</td>\n",
       "      <td>18.867193</td>\n",
       "      <td>0.316191</td>\n",
       "      <td>0.172364</td>\n",
       "      <td>0.305642</td>\n",
       "      <td>0.125308</td>\n",
       "    </tr>\n",
       "    <tr>\n",
       "      <th>6</th>\n",
       "      <td>12 days</td>\n",
       "      <td>1354.790303</td>\n",
       "      <td>36.807476</td>\n",
       "      <td>21.765605</td>\n",
       "      <td>0.363490</td>\n",
       "      <td>0.189183</td>\n",
       "      <td>0.340397</td>\n",
       "      <td>0.111111</td>\n",
       "    </tr>\n",
       "    <tr>\n",
       "      <th>7</th>\n",
       "      <td>13 days</td>\n",
       "      <td>1973.067178</td>\n",
       "      <td>44.419221</td>\n",
       "      <td>25.621233</td>\n",
       "      <td>0.430302</td>\n",
       "      <td>0.217788</td>\n",
       "      <td>0.388603</td>\n",
       "      <td>0.113402</td>\n",
       "    </tr>\n",
       "    <tr>\n",
       "      <th>8</th>\n",
       "      <td>14 days</td>\n",
       "      <td>2675.748387</td>\n",
       "      <td>51.727637</td>\n",
       "      <td>28.378834</td>\n",
       "      <td>0.470544</td>\n",
       "      <td>0.212392</td>\n",
       "      <td>0.395549</td>\n",
       "      <td>0.103093</td>\n",
       "    </tr>\n",
       "  </tbody>\n",
       "</table>\n",
       "</div>"
      ],
      "text/plain": [
       "  horizon          mse       rmse        mae      mape     mdape     smape  \\\n",
       "4  8 days   299.939991  17.318776  11.819715  0.196839  0.130225  0.194451   \n",
       "5 11 days   961.160333  31.002586  18.867193  0.316191  0.172364  0.305642   \n",
       "6 12 days  1354.790303  36.807476  21.765605  0.363490  0.189183  0.340397   \n",
       "7 13 days  1973.067178  44.419221  25.621233  0.430302  0.217788  0.388603   \n",
       "8 14 days  2675.748387  51.727637  28.378834  0.470544  0.212392  0.395549   \n",
       "\n",
       "   coverage  \n",
       "4  0.180684  \n",
       "5  0.125308  \n",
       "6  0.111111  \n",
       "7  0.113402  \n",
       "8  0.103093  "
      ]
     },
     "execution_count": 30,
     "metadata": {},
     "output_type": "execute_result"
    }
   ],
   "source": [
    "df1_pm.tail()"
   ]
  },
  {
   "cell_type": "code",
   "execution_count": 31,
   "metadata": {},
   "outputs": [
    {
     "data": {
      "image/png": "[encoded data removed]",
      "text/plain": [
       "<Figure size 720x432 with 1 Axes>"
      ]
     },
     "metadata": {},
     "output_type": "display_data"
    }
   ],
   "source": [
    "fig = plot_cross_validation_metric(df1_cv, metric='mae')"
   ]
  },
  {
   "cell_type": "markdown",
   "metadata": {},
   "source": [
    "## STONKS (Again)!!!"
   ]
  },
  {
   "cell_type": "markdown",
   "metadata": {},
   "source": [
    "Just like in the ARIMA notebook, I want to test a number of train-test splits with Prophet. Since it works a little different from ARIMA, the code will be a little different, but still borrowing a lot. Here, we can import our stock symbols, and clean them up."
   ]
  },
  {
   "cell_type": "code",
   "execution_count": 32,
   "metadata": {},
   "outputs": [],
   "source": [
    "sp_500=pd.read_csv('Data/constituents_csv.csv')\n",
    "nsdq=pd.read_csv('Data/nasdaq1.csv')\n",
    "dow_30=pd.read_excel('Data/dow-jones-industrial-average-components.xls')"
   ]
  },
  {
   "cell_type": "code",
   "execution_count": 33,
   "metadata": {},
   "outputs": [],
   "source": [
    "new_cols=['Name','Symbol','Weight%']\n",
    "dow_30.columns=new_cols"
   ]
  },
  {
   "cell_type": "code",
   "execution_count": 34,
   "metadata": {
    "scrolled": true
   },
   "outputs": [
    {
     "data": {
      "text/html": [
       "<div>\n",
       "<style scoped>\n",
       "    .dataframe tbody tr th:only-of-type {\n",
       "        vertical-align: middle;\n",
       "    }\n",
       "\n",
       "    .dataframe tbody tr th {\n",
       "        vertical-align: top;\n",
       "    }\n",
       "\n",
       "    .dataframe thead th {\n",
       "        text-align: right;\n",
       "    }\n",
       "</style>\n",
       "<table border=\"1\" class=\"dataframe\">\n",
       "  <thead>\n",
       "    <tr style=\"text-align: right;\">\n",
       "      <th></th>\n",
       "      <th>Unnamed: 0</th>\n",
       "      <th>Symbol</th>\n",
       "      <th>Company Name</th>\n",
       "    </tr>\n",
       "  </thead>\n",
       "  <tbody>\n",
       "    <tr>\n",
       "      <th>0</th>\n",
       "      <td>0</td>\n",
       "      <td>AAIT</td>\n",
       "      <td>iShares MSCI All Country Asia Information Tech...</td>\n",
       "    </tr>\n",
       "    <tr>\n",
       "      <th>1</th>\n",
       "      <td>1</td>\n",
       "      <td>AAL</td>\n",
       "      <td>American Airlines Group, Inc.</td>\n",
       "    </tr>\n",
       "    <tr>\n",
       "      <th>2</th>\n",
       "      <td>2</td>\n",
       "      <td>AAME</td>\n",
       "      <td>Atlantic American Corporation</td>\n",
       "    </tr>\n",
       "    <tr>\n",
       "      <th>3</th>\n",
       "      <td>3</td>\n",
       "      <td>AAOI</td>\n",
       "      <td>Applied Optoelectronics, Inc.</td>\n",
       "    </tr>\n",
       "    <tr>\n",
       "      <th>4</th>\n",
       "      <td>4</td>\n",
       "      <td>AAON</td>\n",
       "      <td>AAON, Inc.</td>\n",
       "    </tr>\n",
       "  </tbody>\n",
       "</table>\n",
       "</div>"
      ],
      "text/plain": [
       "   Unnamed: 0 Symbol                                       Company Name\n",
       "0           0   AAIT  iShares MSCI All Country Asia Information Tech...\n",
       "1           1    AAL                      American Airlines Group, Inc.\n",
       "2           2   AAME                      Atlantic American Corporation\n",
       "3           3   AAOI                      Applied Optoelectronics, Inc.\n",
       "4           4   AAON                                         AAON, Inc."
      ]
     },
     "execution_count": 34,
     "metadata": {},
     "output_type": "execute_result"
    }
   ],
   "source": [
    "nsdq.head()"
   ]
  },
  {
   "cell_type": "code",
   "execution_count": 35,
   "metadata": {},
   "outputs": [],
   "source": [
    "nsdq.drop(columns='Unnamed: 0',inplace=True)"
   ]
  },
  {
   "cell_type": "code",
   "execution_count": 36,
   "metadata": {},
   "outputs": [
    {
     "data": {
      "text/plain": [
       "1734"
      ]
     },
     "execution_count": 36,
     "metadata": {},
     "output_type": "execute_result"
    }
   ],
   "source": [
    "len(nsdq)"
   ]
  },
  {
   "cell_type": "markdown",
   "metadata": {},
   "source": [
    "The following cells were necessary for cleaning the nasdaq stock list. But I saved it, and that's what I'm using."
   ]
  },
  {
   "cell_type": "code",
   "execution_count": 37,
   "metadata": {},
   "outputs": [],
   "source": [
    "#no_data=[]\n",
    "#for each in nsdq['Symbol']:\n",
    "#    x=yf.Ticker(each)\n",
    "#    df=x.history(period='1d')\n",
    "#    if len(df)==0:\n",
    "#        no_data.append(each)"
   ]
  },
  {
   "cell_type": "code",
   "execution_count": 38,
   "metadata": {},
   "outputs": [],
   "source": [
    "#len(no_data)"
   ]
  },
  {
   "cell_type": "code",
   "execution_count": 39,
   "metadata": {},
   "outputs": [],
   "source": [
    "#nd_index=[]\n",
    "#for each in no_data:\n",
    "#    y=nsdq.loc[nsdq['Symbol']==each].index\n",
    "#    nd_index.append(y[0])"
   ]
  },
  {
   "cell_type": "code",
   "execution_count": 40,
   "metadata": {},
   "outputs": [],
   "source": [
    "#nsdq = nsdq.drop(labels=nd_index,drop=True, axis=0)\n",
    "#nsdq.reset_index()"
   ]
  },
  {
   "cell_type": "code",
   "execution_count": 41,
   "metadata": {},
   "outputs": [],
   "source": [
    "#nsdq.to_csv(\"/Users/Daniel/Documents/Flatiron/Capstone/Project/nasdaq1.csv\")"
   ]
  },
  {
   "cell_type": "code",
   "execution_count": 42,
   "metadata": {},
   "outputs": [],
   "source": [
    "def tt_test_p (asset,train_val,test_val):\n",
    "    \"\"\"This function will take in a financial asset (stock, etf) as well as 2 lists of integers (training and testing days).\n",
    "    Then the asset will be looked up through yahoo finance and gather the price history. It will then run through the values\n",
    "    of the training and testing lists and run prophet models on all of them. It will record the metrics and return a\n",
    "    dataframe with all the results.\"\"\"\n",
    "    \n",
    "    stock = yf.Ticker(asset)\n",
    "    df1=stock.history(period='2y')\n",
    "    print(\"Processing: \",stock)\n",
    "    prof_1 = Prophet()\n",
    "    df1=df1['Close']\n",
    "    df1=df1.to_frame()\n",
    "    df1.index.names = ['ds']\n",
    "    df1.columns=['y']\n",
    "    df1.reset_index(level=0, inplace=True)\n",
    "    prof_1.fit(df1)\n",
    "    future = prof_1.make_future_dataframe(periods=21)\n",
    "    forecast = prof_1.predict(future)\n",
    "    for train_val in trains:\n",
    "        for test_val in tests:\n",
    "            df1_cv = cross_validation(prof_1, initial=train_val, period=test_val, horizon = '21 days')\n",
    "            df1_pm = performance_metrics(df1_cv)\n",
    "            print('Training: ', train_val)\n",
    "            print('Testing: ', test_val)\n",
    "            print (df1_pm.tail())             \n",
    "\n",
    "    return forecast"
   ]
  },
  {
   "cell_type": "code",
   "execution_count": 43,
   "metadata": {},
   "outputs": [
    {
     "data": {
      "text/html": [
       "<div>\n",
       "<style scoped>\n",
       "    .dataframe tbody tr th:only-of-type {\n",
       "        vertical-align: middle;\n",
       "    }\n",
       "\n",
       "    .dataframe tbody tr th {\n",
       "        vertical-align: top;\n",
       "    }\n",
       "\n",
       "    .dataframe thead th {\n",
       "        text-align: right;\n",
       "    }\n",
       "</style>\n",
       "<table border=\"1\" class=\"dataframe\">\n",
       "  <thead>\n",
       "    <tr style=\"text-align: right;\">\n",
       "      <th></th>\n",
       "      <th>index</th>\n",
       "      <th>Symbol</th>\n",
       "      <th>Train_Len</th>\n",
       "      <th>Test_Len</th>\n",
       "      <th>MAE</th>\n",
       "      <th>RMSE</th>\n",
       "    </tr>\n",
       "  </thead>\n",
       "  <tbody>\n",
       "  </tbody>\n",
       "</table>\n",
       "</div>"
      ],
      "text/plain": [
       "Empty DataFrame\n",
       "Columns: [index, Symbol, Train_Len, Test_Len, MAE, RMSE]\n",
       "Index: []"
      ]
     },
     "execution_count": 43,
     "metadata": {},
     "output_type": "execute_result"
    }
   ],
   "source": [
    "cols2=['Symbol','Train_Len','Test_Len','MAE','RMSE']\n",
    "reslts = pd.DataFrame(columns=cols2)\n",
    "reslts.reset_index()"
   ]
  },
  {
   "cell_type": "code",
   "execution_count": 44,
   "metadata": {
    "scrolled": false
   },
   "outputs": [
    {
     "name": "stderr",
     "output_type": "stream",
     "text": [
      "INFO:fbprophet:Disabling daily seasonality. Run prophet with daily_seasonality=True to override this.\n"
     ]
    },
    {
     "name": "stdout",
     "output_type": "stream",
     "text": [
      "Processing:  yfinance.Ticker object <CAT>\n"
     ]
    },
    {
     "name": "stderr",
     "output_type": "stream",
     "text": [
      "INFO:prophet:Making 98 forecasts with cutoffs between 2019-08-22 00:00:00 and 2021-07-01 00:00:00\n",
      "WARNING:prophet:Seasonality has period of 365.25 days which is larger than initial window. Consider increasing initial.\n"
     ]
    },
    {
     "data": {
      "application/vnd.jupyter.widget-view+json": {
       "model_id": "08964081fa3d4c54bfde3316c7b66e77",
       "version_major": 2,
       "version_minor": 0
      },
      "text/plain": [
       "  0%|          | 0/98 [00:00<?, ?it/s]"
      ]
     },
     "metadata": {},
     "output_type": "display_data"
    },
    {
     "name": "stderr",
     "output_type": "stream",
     "text": [
      "INFO:fbprophet:n_changepoints greater than number of observations. Using 18.\n",
      "INFO:fbprophet:n_changepoints greater than number of observations. Using 22.\n",
      "WARNING:fbprophet:Optimization terminated abnormally. Falling back to Newton.\n",
      "WARNING:fbprophet:Optimization terminated abnormally. Falling back to Newton.\n",
      "WARNING:fbprophet:Optimization terminated abnormally. Falling back to Newton.\n",
      "WARNING:fbprophet:Optimization terminated abnormally. Falling back to Newton.\n",
      "INFO:prophet:Making 49 forecasts with cutoffs between 2019-08-29 00:00:00 and 2021-07-01 00:00:00\n",
      "WARNING:prophet:Seasonality has period of 365.25 days which is larger than initial window. Consider increasing initial.\n"
     ]
    },
    {
     "name": "stdout",
     "output_type": "stream",
     "text": [
      "Training:  30 days\n",
      "Testing:  7 days\n",
      "   horizon           mse        rmse         mae      mape     mdape  \\\n",
      "9  15 days  14081.636698  118.666072   56.370148  0.424938  0.129169   \n",
      "10 18 days  31779.382010  178.267726   77.124908  0.583894  0.149977   \n",
      "11 19 days  46985.803870  216.762090   91.371872  0.690002  0.136772   \n",
      "12 20 days  56904.901220  238.547482   97.103331  0.734245  0.122270   \n",
      "13 21 days  76548.677425  276.674317  111.848019  0.846784  0.143794   \n",
      "\n",
      "       smape  coverage  \n",
      "9   0.342360  0.148936  \n",
      "10  0.393280  0.121482  \n",
      "11  0.423197  0.104807  \n",
      "12  0.439419  0.103488  \n",
      "13  0.468400  0.089982  \n"
     ]
    },
    {
     "data": {
      "application/vnd.jupyter.widget-view+json": {
       "model_id": "59517753740b4790a87c240b927b4627",
       "version_major": 2,
       "version_minor": 0
      },
      "text/plain": [
       "  0%|          | 0/49 [00:00<?, ?it/s]"
      ]
     },
     "metadata": {},
     "output_type": "display_data"
    },
    {
     "name": "stderr",
     "output_type": "stream",
     "text": [
      "INFO:fbprophet:n_changepoints greater than number of observations. Using 22.\n",
      "WARNING:fbprophet:Optimization terminated abnormally. Falling back to Newton.\n",
      "WARNING:fbprophet:Optimization terminated abnormally. Falling back to Newton.\n",
      "INFO:prophet:Making 33 forecasts with cutoffs between 2019-08-29 00:00:00 and 2021-07-01 00:00:00\n",
      "WARNING:prophet:Seasonality has period of 365.25 days which is larger than initial window. Consider increasing initial.\n"
     ]
    },
    {
     "name": "stdout",
     "output_type": "stream",
     "text": [
      "Training:  30 days\n",
      "Testing:  14 days\n",
      "   horizon           mse        rmse         mae      mape     mdape  \\\n",
      "9  15 days  14225.386401  119.270224   53.696336  0.397086  0.119754   \n",
      "10 18 days  33796.263333  183.837600   73.806354  0.545734  0.111239   \n",
      "11 19 days  50635.571903  225.023492   88.239568  0.655285  0.097225   \n",
      "12 20 days  57806.417415  240.429652   88.612827  0.664990  0.141793   \n",
      "13 21 days  82679.597762  287.540602  106.924913  0.806204  0.155568   \n",
      "\n",
      "       smape  coverage  \n",
      "9   0.305102  0.134402  \n",
      "10  0.351024  0.099068  \n",
      "11  0.393283  0.085050  \n",
      "12  0.407489  0.068513  \n",
      "13  0.446834  0.049107  \n"
     ]
    },
    {
     "data": {
      "application/vnd.jupyter.widget-view+json": {
       "model_id": "08f812b9a0f34f5bb437fa64dbf77503",
       "version_major": 2,
       "version_minor": 0
      },
      "text/plain": [
       "  0%|          | 0/33 [00:00<?, ?it/s]"
      ]
     },
     "metadata": {},
     "output_type": "display_data"
    },
    {
     "name": "stderr",
     "output_type": "stream",
     "text": [
      "INFO:fbprophet:n_changepoints greater than number of observations. Using 22.\n",
      "WARNING:fbprophet:Optimization terminated abnormally. Falling back to Newton.\n",
      "INFO:prophet:Making 93 forecasts with cutoffs between 2019-09-26 00:00:00 and 2021-07-01 00:00:00\n",
      "WARNING:prophet:Seasonality has period of 365.25 days which is larger than initial window. Consider increasing initial.\n"
     ]
    },
    {
     "name": "stdout",
     "output_type": "stream",
     "text": [
      "Training:  30 days\n",
      "Testing:  21 days\n",
      "   horizon            mse        rmse         mae      mape     mdape  \\\n",
      "9  15 days   21289.018757  145.907569   68.820655  0.534181  0.122917   \n",
      "10 18 days   46619.837476  215.916274   90.872850  0.707162  0.137109   \n",
      "11 19 days   67402.819403  259.620530  105.842290  0.816667  0.117197   \n",
      "12 20 days   86356.386011  293.864571  118.141535  0.907733  0.133697   \n",
      "13 21 days  108480.043632  329.363088  128.849838  0.989780  0.132180   \n",
      "\n",
      "       smape  coverage  \n",
      "9   0.344911  0.097739  \n",
      "10  0.353601  0.078723  \n",
      "11  0.382096  0.104965  \n",
      "12  0.411040  0.102515  \n",
      "13  0.418456  0.070479  \n"
     ]
    },
    {
     "data": {
      "application/vnd.jupyter.widget-view+json": {
       "model_id": "9bbd159bdec8480d94ad0b517d561dd2",
       "version_major": 2,
       "version_minor": 0
      },
      "text/plain": [
       "  0%|          | 0/93 [00:00<?, ?it/s]"
      ]
     },
     "metadata": {},
     "output_type": "display_data"
    },
    {
     "name": "stderr",
     "output_type": "stream",
     "text": [
      "WARNING:fbprophet:Optimization terminated abnormally. Falling back to Newton.\n",
      "WARNING:fbprophet:Optimization terminated abnormally. Falling back to Newton.\n",
      "WARNING:fbprophet:Optimization terminated abnormally. Falling back to Newton.\n",
      "WARNING:fbprophet:Optimization terminated abnormally. Falling back to Newton.\n",
      "INFO:prophet:Making 47 forecasts with cutoffs between 2019-09-26 00:00:00 and 2021-07-01 00:00:00\n",
      "WARNING:prophet:Seasonality has period of 365.25 days which is larger than initial window. Consider increasing initial.\n"
     ]
    },
    {
     "name": "stdout",
     "output_type": "stream",
     "text": [
      "Training:  60 days\n",
      "Testing:  7 days\n",
      "   horizon           mse        rmse        mae      mape     mdape     smape  \\\n",
      "9  15 days  12537.516963  111.971054  52.143933  0.389352  0.116175  0.326270   \n",
      "10 18 days  28244.574650  168.061223  70.026818  0.524561  0.139177  0.364386   \n",
      "11 19 days  41773.181489  204.384886  82.119698  0.611702  0.134983  0.385777   \n",
      "12 20 days  50035.039822  223.685135  85.916894  0.639124  0.133445  0.394631   \n",
      "13 21 days  67964.361046  260.699753  98.839719  0.735644  0.137563  0.416080   \n",
      "\n",
      "    coverage  \n",
      "9   0.172298  \n",
      "10  0.136957  \n",
      "11  0.110623  \n",
      "12  0.101669  \n",
      "13  0.091438  \n"
     ]
    },
    {
     "data": {
      "application/vnd.jupyter.widget-view+json": {
       "model_id": "ff946cee9fc347b1a97025b0ce1ba53e",
       "version_major": 2,
       "version_minor": 0
      },
      "text/plain": [
       "  0%|          | 0/47 [00:00<?, ?it/s]"
      ]
     },
     "metadata": {},
     "output_type": "display_data"
    },
    {
     "name": "stderr",
     "output_type": "stream",
     "text": [
      "WARNING:fbprophet:Optimization terminated abnormally. Falling back to Newton.\n",
      "WARNING:fbprophet:Optimization terminated abnormally. Falling back to Newton.\n",
      "INFO:prophet:Making 31 forecasts with cutoffs between 2019-10-10 00:00:00 and 2021-07-01 00:00:00\n",
      "WARNING:prophet:Seasonality has period of 365.25 days which is larger than initial window. Consider increasing initial.\n"
     ]
    },
    {
     "name": "stdout",
     "output_type": "stream",
     "text": [
      "Training:  60 days\n",
      "Testing:  14 days\n",
      "   horizon           mse        rmse        mae      mape     mdape     smape  \\\n",
      "9  15 days  10582.160725  102.869630  44.751334  0.324306  0.094942  0.268366   \n",
      "10 18 days  25561.543409  159.879778  59.716962  0.431302  0.105282  0.294652   \n",
      "11 19 days  38738.869963  196.821924  71.343673  0.516756  0.103774  0.332768   \n",
      "12 20 days  42655.337705  206.531687  69.476680  0.506732  0.134095  0.348229   \n",
      "13 21 days  63751.007035  252.489618  85.337902  0.626008  0.134666  0.387161   \n",
      "\n",
      "    coverage  \n",
      "9   0.155287  \n",
      "10  0.112619  \n",
      "11  0.088824  \n",
      "12  0.071451  \n",
      "13  0.051265  \n"
     ]
    },
    {
     "data": {
      "application/vnd.jupyter.widget-view+json": {
       "model_id": "0fe065904f8f4b8cbf58ec517c738414",
       "version_major": 2,
       "version_minor": 0
      },
      "text/plain": [
       "  0%|          | 0/31 [00:00<?, ?it/s]"
      ]
     },
     "metadata": {},
     "output_type": "display_data"
    },
    {
     "name": "stderr",
     "output_type": "stream",
     "text": [
      "WARNING:fbprophet:Optimization terminated abnormally. Falling back to Newton.\n",
      "INFO:prophet:Making 76 forecasts with cutoffs between 2020-01-23 00:00:00 and 2021-07-01 00:00:00\n",
      "WARNING:prophet:Seasonality has period of 365.25 days which is larger than initial window. Consider increasing initial.\n"
     ]
    },
    {
     "name": "stdout",
     "output_type": "stream",
     "text": [
      "Training:  60 days\n",
      "Testing:  21 days\n",
      "   horizon           mse        rmse         mae      mape     mdape  \\\n",
      "9  15 days  16322.963491  127.761354   58.464798  0.451291  0.129172   \n",
      "10 18 days  35584.324810  188.638079   74.152995  0.573262  0.118584   \n",
      "11 19 days  51361.734168  226.631274   85.086056  0.648104  0.104124   \n",
      "12 20 days  66023.279630  256.949955   94.503834  0.713551  0.126211   \n",
      "13 21 days  83207.635307  288.457337  102.215648  0.769518  0.126175   \n",
      "\n",
      "       smape  coverage  \n",
      "9   0.323397  0.127273  \n",
      "10  0.320809  0.097403  \n",
      "11  0.344550  0.112013  \n",
      "12  0.371410  0.109238  \n",
      "13  0.376310  0.075000  \n"
     ]
    },
    {
     "data": {
      "application/vnd.jupyter.widget-view+json": {
       "model_id": "87abf624b2164bd3bf988fd3985c4260",
       "version_major": 2,
       "version_minor": 0
      },
      "text/plain": [
       "  0%|          | 0/76 [00:00<?, ?it/s]"
      ]
     },
     "metadata": {},
     "output_type": "display_data"
    },
    {
     "name": "stderr",
     "output_type": "stream",
     "text": [
      "WARNING:fbprophet:Optimization terminated abnormally. Falling back to Newton.\n",
      "WARNING:fbprophet:Optimization terminated abnormally. Falling back to Newton.\n",
      "WARNING:fbprophet:Optimization terminated abnormally. Falling back to Newton.\n",
      "WARNING:fbprophet:Optimization terminated abnormally. Falling back to Newton.\n",
      "INFO:prophet:Making 38 forecasts with cutoffs between 2020-01-30 00:00:00 and 2021-07-01 00:00:00\n",
      "WARNING:prophet:Seasonality has period of 365.25 days which is larger than initial window. Consider increasing initial.\n"
     ]
    },
    {
     "name": "stdout",
     "output_type": "stream",
     "text": [
      "Training:  180 days\n",
      "Testing:  7 days\n",
      "   horizon          mse       rmse        mae      mape     mdape     smape  \\\n",
      "9  15 days  1845.480316  42.959054  26.378122  0.197642  0.083046  0.192440   \n",
      "10 18 days  2623.039243  51.215615  29.458428  0.226645  0.083046  0.209472   \n",
      "11 19 days  3133.402553  55.976804  31.562902  0.241378  0.089305  0.226127   \n",
      "12 20 days  3439.504762  58.647291  32.998636  0.249614  0.096818  0.236796   \n",
      "13 21 days  3813.937498  61.757085  34.454501  0.260913  0.099329  0.244475   \n",
      "\n",
      "    coverage  \n",
      "9   0.193818  \n",
      "10  0.159155  \n",
      "11  0.135705  \n",
      "12  0.122488  \n",
      "13  0.101316  \n"
     ]
    },
    {
     "data": {
      "application/vnd.jupyter.widget-view+json": {
       "model_id": "09c4a18adcc345e58db7d86185169dfd",
       "version_major": 2,
       "version_minor": 0
      },
      "text/plain": [
       "  0%|          | 0/38 [00:00<?, ?it/s]"
      ]
     },
     "metadata": {},
     "output_type": "display_data"
    },
    {
     "name": "stderr",
     "output_type": "stream",
     "text": [
      "WARNING:fbprophet:Optimization terminated abnormally. Falling back to Newton.\n",
      "WARNING:fbprophet:Optimization terminated abnormally. Falling back to Newton.\n",
      "INFO:prophet:Making 26 forecasts with cutoffs between 2020-01-23 00:00:00 and 2021-07-01 00:00:00\n",
      "WARNING:prophet:Seasonality has period of 365.25 days which is larger than initial window. Consider increasing initial.\n"
     ]
    },
    {
     "name": "stdout",
     "output_type": "stream",
     "text": [
      "Training:  180 days\n",
      "Testing:  14 days\n",
      "   horizon          mse       rmse        mae      mape     mdape     smape  \\\n",
      "9  15 days   844.415393  29.058826  21.353366  0.150006  0.080631  0.167027   \n",
      "10 18 days   934.505871  30.569689  22.416441  0.156593  0.075015  0.170099   \n",
      "11 19 days  1195.094502  34.570139  24.732547  0.174926  0.090316  0.198824   \n",
      "12 20 days  1398.035494  37.390313  26.663914  0.189184  0.097795  0.219781   \n",
      "13 21 days  1575.793505  39.696266  27.850901  0.199015  0.088908  0.229328   \n",
      "\n",
      "    coverage  \n",
      "9   0.175926  \n",
      "10  0.129630  \n",
      "11  0.109989  \n",
      "12  0.086745  \n",
      "13  0.061891  \n"
     ]
    },
    {
     "data": {
      "application/vnd.jupyter.widget-view+json": {
       "model_id": "3e6e37e2db5944019bb3be8eed01e24b",
       "version_major": 2,
       "version_minor": 0
      },
      "text/plain": [
       "  0%|          | 0/26 [00:00<?, ?it/s]"
      ]
     },
     "metadata": {},
     "output_type": "display_data"
    },
    {
     "name": "stderr",
     "output_type": "stream",
     "text": [
      "WARNING:fbprophet:Optimization terminated abnormally. Falling back to Newton.\n"
     ]
    },
    {
     "name": "stdout",
     "output_type": "stream",
     "text": [
      "Training:  180 days\n",
      "Testing:  21 days\n",
      "   horizon          mse       rmse        mae      mape     mdape     smape  \\\n",
      "9  15 days  3065.019745  55.362620  31.218013  0.251450  0.102076  0.209599   \n",
      "10 18 days  4430.523137  66.562175  33.920783  0.279765  0.117197  0.199091   \n",
      "11 19 days  5287.009273  72.711823  36.203366  0.291335  0.097113  0.226097   \n",
      "12 20 days  5913.710726  76.900655  38.232270  0.299202  0.093696  0.248777   \n",
      "13 21 days  6504.887295  80.652882  39.843000  0.304486  0.108372  0.256124   \n",
      "\n",
      "    coverage  \n",
      "9   0.126486  \n",
      "10  0.099882  \n",
      "11  0.132883  \n",
      "12  0.126819  \n",
      "13  0.088358  \n"
     ]
    }
   ],
   "source": [
    "results_CAT=tt_test_p('CAT',trains,tests)"
   ]
  },
  {
   "cell_type": "code",
   "execution_count": 45,
   "metadata": {},
   "outputs": [
    {
     "name": "stderr",
     "output_type": "stream",
     "text": [
      "INFO:fbprophet:Disabling daily seasonality. Run prophet with daily_seasonality=True to override this.\n"
     ]
    },
    {
     "name": "stdout",
     "output_type": "stream",
     "text": [
      "Processing:  yfinance.Ticker object <MMM>\n"
     ]
    },
    {
     "name": "stderr",
     "output_type": "stream",
     "text": [
      "INFO:prophet:Making 98 forecasts with cutoffs between 2019-08-22 00:00:00 and 2021-07-01 00:00:00\n",
      "WARNING:prophet:Seasonality has period of 365.25 days which is larger than initial window. Consider increasing initial.\n"
     ]
    },
    {
     "data": {
      "application/vnd.jupyter.widget-view+json": {
       "model_id": "ee90af344259477f90feadd6b7cb1c09",
       "version_major": 2,
       "version_minor": 0
      },
      "text/plain": [
       "  0%|          | 0/98 [00:00<?, ?it/s]"
      ]
     },
     "metadata": {},
     "output_type": "display_data"
    },
    {
     "name": "stderr",
     "output_type": "stream",
     "text": [
      "INFO:fbprophet:n_changepoints greater than number of observations. Using 18.\n",
      "INFO:fbprophet:n_changepoints greater than number of observations. Using 22.\n",
      "WARNING:fbprophet:Optimization terminated abnormally. Falling back to Newton.\n",
      "WARNING:fbprophet:Optimization terminated abnormally. Falling back to Newton.\n",
      "WARNING:fbprophet:Optimization terminated abnormally. Falling back to Newton.\n",
      "WARNING:fbprophet:Optimization terminated abnormally. Falling back to Newton.\n",
      "WARNING:fbprophet:Optimization terminated abnormally. Falling back to Newton.\n",
      "WARNING:fbprophet:Optimization terminated abnormally. Falling back to Newton.\n",
      "INFO:prophet:Making 49 forecasts with cutoffs between 2019-08-29 00:00:00 and 2021-07-01 00:00:00\n",
      "WARNING:prophet:Seasonality has period of 365.25 days which is larger than initial window. Consider increasing initial.\n"
     ]
    },
    {
     "name": "stdout",
     "output_type": "stream",
     "text": [
      "Training:  30 days\n",
      "Testing:  7 days\n",
      "   horizon            mse        rmse         mae      mape     mdape  \\\n",
      "9  15 days   19584.880196  139.945990   65.706700  0.421617  0.114499   \n",
      "10 18 days   44393.525044  210.697710   91.652212  0.587120  0.129993   \n",
      "11 19 days   65513.379084  255.955815  108.511197  0.692952  0.118303   \n",
      "12 20 days   84341.588569  290.416233  120.643289  0.770383  0.117025   \n",
      "13 21 days  101195.123900  318.111810  127.992282  0.821257  0.135961   \n",
      "\n",
      "       smape  coverage  \n",
      "9   0.348675  0.195035  \n",
      "10  0.406874  0.204759  \n",
      "11  0.429670  0.184949  \n",
      "12  0.438039  0.154653  \n",
      "13  0.439478  0.152926  \n"
     ]
    },
    {
     "data": {
      "application/vnd.jupyter.widget-view+json": {
       "model_id": "d2ebd2c4f82e486d960b21ea87fc3d99",
       "version_major": 2,
       "version_minor": 0
      },
      "text/plain": [
       "  0%|          | 0/49 [00:00<?, ?it/s]"
      ]
     },
     "metadata": {},
     "output_type": "display_data"
    },
    {
     "name": "stderr",
     "output_type": "stream",
     "text": [
      "INFO:fbprophet:n_changepoints greater than number of observations. Using 22.\n",
      "WARNING:fbprophet:Optimization terminated abnormally. Falling back to Newton.\n",
      "WARNING:fbprophet:Optimization terminated abnormally. Falling back to Newton.\n",
      "WARNING:fbprophet:Optimization terminated abnormally. Falling back to Newton.\n",
      "INFO:prophet:Making 33 forecasts with cutoffs between 2019-08-29 00:00:00 and 2021-07-01 00:00:00\n",
      "WARNING:prophet:Seasonality has period of 365.25 days which is larger than initial window. Consider increasing initial.\n"
     ]
    },
    {
     "name": "stdout",
     "output_type": "stream",
     "text": [
      "Training:  30 days\n",
      "Testing:  14 days\n",
      "   horizon           mse        rmse         mae      mape     mdape  \\\n",
      "9  15 days  21890.510708  147.954421   69.194706  0.437402  0.120160   \n",
      "10 18 days  48710.894268  220.705447   97.444791  0.615167  0.100111   \n",
      "11 19 days  70245.724988  265.039101  114.567717  0.726643  0.091700   \n",
      "12 20 days  87987.145732  296.626273  125.752459  0.799766  0.122913   \n",
      "13 21 days  97914.025689  312.912169  127.899716  0.819148  0.130091   \n",
      "\n",
      "       smape  coverage  \n",
      "9   0.348159  0.219825  \n",
      "10  0.396171  0.212422  \n",
      "11  0.409796  0.205648  \n",
      "12  0.410555  0.164140  \n",
      "13  0.400796  0.190774  \n"
     ]
    },
    {
     "data": {
      "application/vnd.jupyter.widget-view+json": {
       "model_id": "4e758f658cea42248ea16562c901cfec",
       "version_major": 2,
       "version_minor": 0
      },
      "text/plain": [
       "  0%|          | 0/33 [00:00<?, ?it/s]"
      ]
     },
     "metadata": {},
     "output_type": "display_data"
    },
    {
     "name": "stderr",
     "output_type": "stream",
     "text": [
      "INFO:fbprophet:n_changepoints greater than number of observations. Using 22.\n",
      "WARNING:fbprophet:Optimization terminated abnormally. Falling back to Newton.\n",
      "WARNING:fbprophet:Optimization terminated abnormally. Falling back to Newton.\n",
      "INFO:prophet:Making 93 forecasts with cutoffs between 2019-09-26 00:00:00 and 2021-07-01 00:00:00\n",
      "WARNING:prophet:Seasonality has period of 365.25 days which is larger than initial window. Consider increasing initial.\n"
     ]
    },
    {
     "name": "stdout",
     "output_type": "stream",
     "text": [
      "Training:  30 days\n",
      "Testing:  21 days\n",
      "   horizon            mse        rmse         mae      mape     mdape  \\\n",
      "9  15 days   24820.841789  157.546316   74.524774  0.483124  0.125160   \n",
      "10 18 days   52178.228716  228.425543  101.553609  0.663267  0.125160   \n",
      "11 19 days   73151.750573  270.465803  117.172517  0.761008  0.127459   \n",
      "12 20 days   91521.833693  302.525757  129.590143  0.840341  0.132394   \n",
      "13 21 days  112210.832575  334.978854  141.705236  0.921339  0.135961   \n",
      "\n",
      "       smape  coverage  \n",
      "9   0.301350  0.097739  \n",
      "10  0.380970  0.142553  \n",
      "11  0.418906  0.177305  \n",
      "12  0.432818  0.206963  \n",
      "13  0.441331  0.214096  \n"
     ]
    },
    {
     "data": {
      "application/vnd.jupyter.widget-view+json": {
       "model_id": "2e46e2ebcbdd4a608cdead5d306c1950",
       "version_major": 2,
       "version_minor": 0
      },
      "text/plain": [
       "  0%|          | 0/93 [00:00<?, ?it/s]"
      ]
     },
     "metadata": {},
     "output_type": "display_data"
    },
    {
     "name": "stderr",
     "output_type": "stream",
     "text": [
      "WARNING:fbprophet:Optimization terminated abnormally. Falling back to Newton.\n",
      "WARNING:fbprophet:Optimization terminated abnormally. Falling back to Newton.\n",
      "WARNING:fbprophet:Optimization terminated abnormally. Falling back to Newton.\n",
      "WARNING:fbprophet:Optimization terminated abnormally. Falling back to Newton.\n",
      "WARNING:fbprophet:Optimization terminated abnormally. Falling back to Newton.\n",
      "WARNING:fbprophet:Optimization terminated abnormally. Falling back to Newton.\n",
      "INFO:prophet:Making 47 forecasts with cutoffs between 2019-09-26 00:00:00 and 2021-07-01 00:00:00\n",
      "WARNING:prophet:Seasonality has period of 365.25 days which is larger than initial window. Consider increasing initial.\n"
     ]
    },
    {
     "name": "stdout",
     "output_type": "stream",
     "text": [
      "Training:  60 days\n",
      "Testing:  7 days\n",
      "   horizon           mse        rmse         mae      mape     mdape  \\\n",
      "9  15 days  15922.971376  126.186257   59.160930  0.380625  0.108886   \n",
      "10 18 days  36750.157663  191.703306   81.717038  0.524269  0.115550   \n",
      "11 19 days  54722.333440  233.928052   96.227145  0.613473  0.117577   \n",
      "12 20 days  71001.925831  266.461866  106.540190  0.677832  0.125075   \n",
      "13 21 days  84485.226879  290.663425  111.434479  0.712460  0.132506   \n",
      "\n",
      "       smape  coverage  \n",
      "9   0.335183  0.198458  \n",
      "10  0.383683  0.216588  \n",
      "11  0.397859  0.195259  \n",
      "12  0.402011  0.155673  \n",
      "13  0.399317  0.165245  \n"
     ]
    },
    {
     "data": {
      "application/vnd.jupyter.widget-view+json": {
       "model_id": "eeb5b56173ff49aa94a6f352d8c952da",
       "version_major": 2,
       "version_minor": 0
      },
      "text/plain": [
       "  0%|          | 0/47 [00:00<?, ?it/s]"
      ]
     },
     "metadata": {},
     "output_type": "display_data"
    },
    {
     "name": "stderr",
     "output_type": "stream",
     "text": [
      "WARNING:fbprophet:Optimization terminated abnormally. Falling back to Newton.\n",
      "WARNING:fbprophet:Optimization terminated abnormally. Falling back to Newton.\n",
      "WARNING:fbprophet:Optimization terminated abnormally. Falling back to Newton.\n",
      "INFO:prophet:Making 31 forecasts with cutoffs between 2019-10-10 00:00:00 and 2021-07-01 00:00:00\n",
      "WARNING:prophet:Seasonality has period of 365.25 days which is larger than initial window. Consider increasing initial.\n"
     ]
    },
    {
     "name": "stdout",
     "output_type": "stream",
     "text": [
      "Training:  60 days\n",
      "Testing:  14 days\n",
      "   horizon           mse        rmse        mae      mape     mdape     smape  \\\n",
      "9  15 days  13585.748564  116.557919  54.348527  0.344498  0.109078  0.317553   \n",
      "10 18 days  30873.901610  175.709708  74.940056  0.473486  0.097135  0.358241   \n",
      "11 19 days  45030.441320  212.203773  87.820526  0.555502  0.103086  0.369437   \n",
      "12 20 days  57078.982090  238.912080  96.266050  0.608792  0.120351  0.368682   \n",
      "13 21 days  58726.595865  242.335709  93.866890  0.597989  0.131277  0.355459   \n",
      "\n",
      "    coverage  \n",
      "9   0.229597  \n",
      "10  0.237449  \n",
      "11  0.222060  \n",
      "12  0.186091  \n",
      "13  0.206360  \n"
     ]
    },
    {
     "data": {
      "application/vnd.jupyter.widget-view+json": {
       "model_id": "d0f0acce51e34e69b6b867a76adc7e45",
       "version_major": 2,
       "version_minor": 0
      },
      "text/plain": [
       "  0%|          | 0/31 [00:00<?, ?it/s]"
      ]
     },
     "metadata": {},
     "output_type": "display_data"
    },
    {
     "name": "stderr",
     "output_type": "stream",
     "text": [
      "WARNING:fbprophet:Optimization terminated abnormally. Falling back to Newton.\n",
      "WARNING:fbprophet:Optimization terminated abnormally. Falling back to Newton.\n",
      "INFO:prophet:Making 76 forecasts with cutoffs between 2020-01-23 00:00:00 and 2021-07-01 00:00:00\n",
      "WARNING:prophet:Seasonality has period of 365.25 days which is larger than initial window. Consider increasing initial.\n"
     ]
    },
    {
     "name": "stdout",
     "output_type": "stream",
     "text": [
      "Training:  60 days\n",
      "Testing:  21 days\n",
      "   horizon           mse        rmse         mae      mape     mdape  \\\n",
      "9  15 days  13169.203105  114.757148   55.826421  0.366923  0.117635   \n",
      "10 18 days  27979.200307  167.269843   74.047688  0.490965  0.119911   \n",
      "11 19 days  39290.584946  198.218528   84.647457  0.554015  0.122881   \n",
      "12 20 days  49556.100233  222.611995   93.196947  0.606952  0.119744   \n",
      "13 21 days  61320.655340  247.630078  101.421784  0.662492  0.136810   \n",
      "\n",
      "       smape  coverage  \n",
      "9   0.254018  0.104545  \n",
      "10  0.309971  0.152597  \n",
      "11  0.332805  0.189123  \n",
      "12  0.343262  0.197947  \n",
      "13  0.352341  0.218182  \n"
     ]
    },
    {
     "data": {
      "application/vnd.jupyter.widget-view+json": {
       "model_id": "fd530f9556be4e4891fd00a0c1231b85",
       "version_major": 2,
       "version_minor": 0
      },
      "text/plain": [
       "  0%|          | 0/76 [00:00<?, ?it/s]"
      ]
     },
     "metadata": {},
     "output_type": "display_data"
    },
    {
     "name": "stderr",
     "output_type": "stream",
     "text": [
      "WARNING:fbprophet:Optimization terminated abnormally. Falling back to Newton.\n",
      "WARNING:fbprophet:Optimization terminated abnormally. Falling back to Newton.\n",
      "WARNING:fbprophet:Optimization terminated abnormally. Falling back to Newton.\n",
      "WARNING:fbprophet:Optimization terminated abnormally. Falling back to Newton.\n",
      "WARNING:fbprophet:Optimization terminated abnormally. Falling back to Newton.\n",
      "WARNING:fbprophet:Optimization terminated abnormally. Falling back to Newton.\n",
      "INFO:prophet:Making 38 forecasts with cutoffs between 2020-01-30 00:00:00 and 2021-07-01 00:00:00\n",
      "WARNING:prophet:Seasonality has period of 365.25 days which is larger than initial window. Consider increasing initial.\n"
     ]
    },
    {
     "name": "stdout",
     "output_type": "stream",
     "text": [
      "Training:  180 days\n",
      "Testing:  7 days\n",
      "   horizon          mse       rmse        mae      mape     mdape     smape  \\\n",
      "9  15 days  2379.554256  48.780675  26.774863  0.177557  0.080437  0.188989   \n",
      "10 18 days  3670.144472  60.581717  30.939552  0.210085  0.081530  0.217636   \n",
      "11 19 days  4461.591141  66.795143  33.544754  0.225975  0.090182  0.229607   \n",
      "12 20 days  5007.171748  70.761372  35.685683  0.238131  0.099967  0.236123   \n",
      "13 21 days  5615.231877  74.934851  37.510835  0.251431  0.088989  0.241987   \n",
      "\n",
      "    coverage  \n",
      "9   0.248727  \n",
      "10  0.267222  \n",
      "11  0.239657  \n",
      "12  0.187321  \n",
      "13  0.199880  \n"
     ]
    },
    {
     "data": {
      "application/vnd.jupyter.widget-view+json": {
       "model_id": "2d15813c7599438aa3083154d8c6b58e",
       "version_major": 2,
       "version_minor": 0
      },
      "text/plain": [
       "  0%|          | 0/38 [00:00<?, ?it/s]"
      ]
     },
     "metadata": {},
     "output_type": "display_data"
    },
    {
     "name": "stderr",
     "output_type": "stream",
     "text": [
      "WARNING:fbprophet:Optimization terminated abnormally. Falling back to Newton.\n",
      "WARNING:fbprophet:Optimization terminated abnormally. Falling back to Newton.\n",
      "WARNING:fbprophet:Optimization terminated abnormally. Falling back to Newton.\n",
      "INFO:prophet:Making 26 forecasts with cutoffs between 2020-01-23 00:00:00 and 2021-07-01 00:00:00\n",
      "WARNING:prophet:Seasonality has period of 365.25 days which is larger than initial window. Consider increasing initial.\n"
     ]
    },
    {
     "name": "stdout",
     "output_type": "stream",
     "text": [
      "Training:  180 days\n",
      "Testing:  14 days\n",
      "   horizon          mse       rmse        mae      mape     mdape     smape  \\\n",
      "9  15 days   776.707184  27.869467  18.624050  0.117959  0.077260  0.136504   \n",
      "10 18 days  1169.635852  34.199939  20.450709  0.130420  0.058023  0.161755   \n",
      "11 19 days  1521.112360  39.001440  22.770487  0.147077  0.069289  0.181461   \n",
      "12 20 days  1899.786529  43.586541  25.174704  0.162228  0.116819  0.191778   \n",
      "13 21 days  2309.106101  48.053159  26.854964  0.174131  0.069827  0.198267   \n",
      "\n",
      "    coverage  \n",
      "9   0.277778  \n",
      "10  0.296296  \n",
      "11  0.274972  \n",
      "12  0.207602  \n",
      "13  0.243177  \n"
     ]
    },
    {
     "data": {
      "application/vnd.jupyter.widget-view+json": {
       "model_id": "04a97118e70f45ada169c0f58b6d0e62",
       "version_major": 2,
       "version_minor": 0
      },
      "text/plain": [
       "  0%|          | 0/26 [00:00<?, ?it/s]"
      ]
     },
     "metadata": {},
     "output_type": "display_data"
    },
    {
     "name": "stderr",
     "output_type": "stream",
     "text": [
      "WARNING:fbprophet:Optimization terminated abnormally. Falling back to Newton.\n",
      "WARNING:fbprophet:Optimization terminated abnormally. Falling back to Newton.\n"
     ]
    },
    {
     "name": "stdout",
     "output_type": "stream",
     "text": [
      "Training:  180 days\n",
      "Testing:  21 days\n",
      "   horizon          mse       rmse        mae      mape     mdape     smape  \\\n",
      "9  15 days  3062.190947  55.337067  30.229309  0.208318  0.106569  0.185546   \n",
      "10 18 days  5191.534134  72.052301  36.120251  0.258644  0.108049  0.232170   \n",
      "11 19 days  6198.650465  78.731509  38.515857  0.270194  0.108870  0.247998   \n",
      "12 20 days  7115.455506  84.353159  40.642993  0.280432  0.085540  0.251635   \n",
      "13 21 days  8156.990674  90.316060  42.913675  0.294125  0.114600  0.256440   \n",
      "\n",
      "    coverage  \n",
      "9   0.126486  \n",
      "10  0.180964  \n",
      "11  0.224099  \n",
      "12  0.230769  \n",
      "13  0.257796  \n"
     ]
    }
   ],
   "source": [
    "results_MMM=tt_test_p('MMM',trains,tests)"
   ]
  },
  {
   "cell_type": "code",
   "execution_count": 46,
   "metadata": {},
   "outputs": [
    {
     "name": "stderr",
     "output_type": "stream",
     "text": [
      "INFO:fbprophet:Disabling daily seasonality. Run prophet with daily_seasonality=True to override this.\n"
     ]
    },
    {
     "name": "stdout",
     "output_type": "stream",
     "text": [
      "Processing:  yfinance.Ticker object <AXP>\n"
     ]
    },
    {
     "name": "stderr",
     "output_type": "stream",
     "text": [
      "INFO:prophet:Making 98 forecasts with cutoffs between 2019-08-22 00:00:00 and 2021-07-01 00:00:00\n",
      "WARNING:prophet:Seasonality has period of 365.25 days which is larger than initial window. Consider increasing initial.\n"
     ]
    },
    {
     "data": {
      "application/vnd.jupyter.widget-view+json": {
       "model_id": "56b0fde63db24ccba274c5520e1a55b4",
       "version_major": 2,
       "version_minor": 0
      },
      "text/plain": [
       "  0%|          | 0/98 [00:00<?, ?it/s]"
      ]
     },
     "metadata": {},
     "output_type": "display_data"
    },
    {
     "name": "stderr",
     "output_type": "stream",
     "text": [
      "INFO:fbprophet:n_changepoints greater than number of observations. Using 18.\n",
      "INFO:fbprophet:n_changepoints greater than number of observations. Using 22.\n",
      "INFO:prophet:Making 49 forecasts with cutoffs between 2019-08-29 00:00:00 and 2021-07-01 00:00:00\n",
      "WARNING:prophet:Seasonality has period of 365.25 days which is larger than initial window. Consider increasing initial.\n"
     ]
    },
    {
     "name": "stdout",
     "output_type": "stream",
     "text": [
      "Training:  30 days\n",
      "Testing:  7 days\n",
      "   horizon           mse        rmse        mae      mape     mdape     smape  \\\n",
      "9  15 days   7109.748458   84.319324  44.277285  0.406533  0.140316  0.351291   \n",
      "10 18 days  15766.688340  125.565474  60.672086  0.557334  0.156489  0.400720   \n",
      "11 19 days  23081.211832  151.925020  71.519858  0.648293  0.130631  0.420585   \n",
      "12 20 days  29375.300453  171.392242  77.989923  0.701150  0.127520  0.423625   \n",
      "13 21 days  34074.722776  184.593399  82.493604  0.738984  0.158063  0.435804   \n",
      "\n",
      "    coverage  \n",
      "9   0.180851  \n",
      "10  0.164722  \n",
      "11  0.171395  \n",
      "12  0.204299  \n",
      "13  0.232934  \n"
     ]
    },
    {
     "data": {
      "application/vnd.jupyter.widget-view+json": {
       "model_id": "5a2bd0ac384d4949b9c37cb32e7fe3dd",
       "version_major": 2,
       "version_minor": 0
      },
      "text/plain": [
       "  0%|          | 0/49 [00:00<?, ?it/s]"
      ]
     },
     "metadata": {},
     "output_type": "display_data"
    },
    {
     "name": "stderr",
     "output_type": "stream",
     "text": [
      "INFO:fbprophet:n_changepoints greater than number of observations. Using 22.\n",
      "INFO:prophet:Making 33 forecasts with cutoffs between 2019-08-29 00:00:00 and 2021-07-01 00:00:00\n",
      "WARNING:prophet:Seasonality has period of 365.25 days which is larger than initial window. Consider increasing initial.\n"
     ]
    },
    {
     "name": "stdout",
     "output_type": "stream",
     "text": [
      "Training:  30 days\n",
      "Testing:  14 days\n",
      "   horizon           mse        rmse        mae      mape     mdape     smape  \\\n",
      "9  15 days   7015.243664   83.757051  45.169863  0.396576  0.112557  0.338232   \n",
      "10 18 days  16107.155856  126.913970  63.269358  0.555115  0.121081  0.389113   \n",
      "11 19 days  23746.288093  154.098307  74.293991  0.652938  0.122958  0.407195   \n",
      "12 20 days  29704.136228  172.348879  78.656835  0.696477  0.183258  0.395122   \n",
      "13 21 days  31041.213798  176.185169  79.551065  0.707424  0.194979  0.401357   \n",
      "\n",
      "    coverage  \n",
      "9   0.169971  \n",
      "10  0.130124  \n",
      "11  0.163455  \n",
      "12  0.200583  \n",
      "13  0.239881  \n"
     ]
    },
    {
     "data": {
      "application/vnd.jupyter.widget-view+json": {
       "model_id": "3317aed7fc0b4586a8202621f8f0914f",
       "version_major": 2,
       "version_minor": 0
      },
      "text/plain": [
       "  0%|          | 0/33 [00:00<?, ?it/s]"
      ]
     },
     "metadata": {},
     "output_type": "display_data"
    },
    {
     "name": "stderr",
     "output_type": "stream",
     "text": [
      "INFO:fbprophet:n_changepoints greater than number of observations. Using 22.\n",
      "INFO:prophet:Making 93 forecasts with cutoffs between 2019-09-26 00:00:00 and 2021-07-01 00:00:00\n",
      "WARNING:prophet:Seasonality has period of 365.25 days which is larger than initial window. Consider increasing initial.\n"
     ]
    },
    {
     "name": "stdout",
     "output_type": "stream",
     "text": [
      "Training:  30 days\n",
      "Testing:  21 days\n",
      "   horizon           mse        rmse        mae      mape     mdape     smape  \\\n",
      "9  15 days  10961.651421  104.697906  55.659261  0.528491  0.121489  0.335663   \n",
      "10 18 days  22804.295842  151.010913  73.792809  0.708800  0.105889  0.362296   \n",
      "11 19 days  31936.728457  178.708501  84.384389  0.788893  0.090174  0.376885   \n",
      "12 20 days  40305.511091  200.762325  92.685556  0.845596  0.126093  0.392271   \n",
      "13 21 days  50145.091431  223.930997  99.409960  0.898093  0.133221  0.391278   \n",
      "\n",
      "    coverage  \n",
      "9   0.141622  \n",
      "10  0.112057  \n",
      "11  0.093617  \n",
      "12  0.199226  \n",
      "13  0.244681  \n"
     ]
    },
    {
     "data": {
      "application/vnd.jupyter.widget-view+json": {
       "model_id": "282f7a1334d14d15802d4f51af4349ed",
       "version_major": 2,
       "version_minor": 0
      },
      "text/plain": [
       "  0%|          | 0/93 [00:00<?, ?it/s]"
      ]
     },
     "metadata": {},
     "output_type": "display_data"
    },
    {
     "name": "stderr",
     "output_type": "stream",
     "text": [
      "INFO:prophet:Making 47 forecasts with cutoffs between 2019-09-26 00:00:00 and 2021-07-01 00:00:00\n",
      "WARNING:prophet:Seasonality has period of 365.25 days which is larger than initial window. Consider increasing initial.\n"
     ]
    },
    {
     "name": "stdout",
     "output_type": "stream",
     "text": [
      "Training:  60 days\n",
      "Testing:  7 days\n",
      "   horizon           mse        rmse        mae      mape     mdape     smape  \\\n",
      "9  15 days   5304.482373   72.831877  36.852474  0.342213  0.119812  0.312319   \n",
      "10 18 days  11236.002568  106.000012  48.369880  0.450285  0.124324  0.346544   \n",
      "11 19 days  16155.326411  127.103605  55.975606  0.511900  0.121397  0.361216   \n",
      "12 20 days  20181.723171  142.062392  59.924037  0.542365  0.142165  0.363162   \n",
      "13 21 days  21732.552298  147.419647  61.249499  0.552483  0.149234  0.373816   \n",
      "\n",
      "    coverage  \n",
      "9   0.187387  \n",
      "10  0.181733  \n",
      "11  0.184460  \n",
      "12  0.215375  \n",
      "13  0.245695  \n"
     ]
    },
    {
     "data": {
      "application/vnd.jupyter.widget-view+json": {
       "model_id": "70c20071d61b4d90ba369433f5ac83c0",
       "version_major": 2,
       "version_minor": 0
      },
      "text/plain": [
       "  0%|          | 0/47 [00:00<?, ?it/s]"
      ]
     },
     "metadata": {},
     "output_type": "display_data"
    },
    {
     "name": "stderr",
     "output_type": "stream",
     "text": [
      "INFO:prophet:Making 31 forecasts with cutoffs between 2019-10-10 00:00:00 and 2021-07-01 00:00:00\n",
      "WARNING:prophet:Seasonality has period of 365.25 days which is larger than initial window. Consider increasing initial.\n"
     ]
    },
    {
     "name": "stdout",
     "output_type": "stream",
     "text": [
      "Training:  60 days\n",
      "Testing:  14 days\n",
      "   horizon           mse        rmse        mae      mape     mdape     smape  \\\n",
      "9  15 days   5381.328950   73.357542  38.877820  0.342305  0.110500  0.316125   \n",
      "10 18 days  12672.516445  112.572272  53.866140  0.473181  0.117752  0.360831   \n",
      "11 19 days  18960.751465  137.698045  63.232396  0.556721  0.126041  0.376786   \n",
      "12 20 days  23830.697208  154.371944  66.367931  0.589001  0.160235  0.362424   \n",
      "13 21 days  23387.855629  152.930885  65.294581  0.581759  0.165906  0.366113   \n",
      "\n",
      "    coverage  \n",
      "9   0.177517  \n",
      "10  0.121438  \n",
      "11  0.163451  \n",
      "12  0.224198  \n",
      "13  0.257625  \n"
     ]
    },
    {
     "data": {
      "application/vnd.jupyter.widget-view+json": {
       "model_id": "689806d3c4654b83bcc21c8bc7b1a445",
       "version_major": 2,
       "version_minor": 0
      },
      "text/plain": [
       "  0%|          | 0/31 [00:00<?, ?it/s]"
      ]
     },
     "metadata": {},
     "output_type": "display_data"
    },
    {
     "name": "stderr",
     "output_type": "stream",
     "text": [
      "INFO:prophet:Making 76 forecasts with cutoffs between 2020-01-23 00:00:00 and 2021-07-01 00:00:00\n",
      "WARNING:prophet:Seasonality has period of 365.25 days which is larger than initial window. Consider increasing initial.\n"
     ]
    },
    {
     "name": "stdout",
     "output_type": "stream",
     "text": [
      "Training:  60 days\n",
      "Testing:  21 days\n",
      "   horizon           mse        rmse        mae      mape     mdape     smape  \\\n",
      "9  15 days   6712.859311   81.932041  40.933744  0.401040  0.119809  0.251271   \n",
      "10 18 days  12778.427728  113.041708  50.842083  0.508792  0.102951  0.272013   \n",
      "11 19 days  17091.981238  130.736304  56.475540  0.542873  0.116974  0.290241   \n",
      "12 20 days  20964.607727  144.791601  60.823390  0.564441  0.123691  0.305832   \n",
      "13 21 days  25420.299119  159.437446  63.341322  0.580004  0.130567  0.304280   \n",
      "\n",
      "    coverage  \n",
      "9   0.151515  \n",
      "10  0.120130  \n",
      "11  0.099838  \n",
      "12  0.212610  \n",
      "13  0.260606  \n"
     ]
    },
    {
     "data": {
      "application/vnd.jupyter.widget-view+json": {
       "model_id": "586d72111ea84a9786bb500316cee2f8",
       "version_major": 2,
       "version_minor": 0
      },
      "text/plain": [
       "  0%|          | 0/76 [00:00<?, ?it/s]"
      ]
     },
     "metadata": {},
     "output_type": "display_data"
    },
    {
     "name": "stderr",
     "output_type": "stream",
     "text": [
      "INFO:prophet:Making 38 forecasts with cutoffs between 2020-01-30 00:00:00 and 2021-07-01 00:00:00\n",
      "WARNING:prophet:Seasonality has period of 365.25 days which is larger than initial window. Consider increasing initial.\n"
     ]
    },
    {
     "name": "stdout",
     "output_type": "stream",
     "text": [
      "Training:  180 days\n",
      "Testing:  7 days\n",
      "   horizon          mse       rmse        mae      mape     mdape     smape  \\\n",
      "9  15 days  1973.367560  44.422602  23.096423  0.231412  0.097012  0.216633   \n",
      "10 18 days  3030.645492  55.051299  27.064228  0.277904  0.092799  0.239419   \n",
      "11 19 days  3589.645524  59.913651  29.183994  0.291797  0.094227  0.249986   \n",
      "12 20 days  3883.598709  62.318526  30.206382  0.295548  0.122631  0.256809   \n",
      "13 21 days  4377.735260  66.164456  31.403424  0.307262  0.089988  0.263007   \n",
      "\n",
      "    coverage  \n",
      "9   0.235636  \n",
      "10  0.215109  \n",
      "11  0.221739  \n",
      "12  0.260048  \n",
      "13  0.297010  \n"
     ]
    },
    {
     "data": {
      "application/vnd.jupyter.widget-view+json": {
       "model_id": "8b6b683292ac4055aa01dce4ca0d7e9a",
       "version_major": 2,
       "version_minor": 0
      },
      "text/plain": [
       "  0%|          | 0/38 [00:00<?, ?it/s]"
      ]
     },
     "metadata": {},
     "output_type": "display_data"
    },
    {
     "name": "stderr",
     "output_type": "stream",
     "text": [
      "INFO:prophet:Making 26 forecasts with cutoffs between 2020-01-23 00:00:00 and 2021-07-01 00:00:00\n",
      "WARNING:prophet:Seasonality has period of 365.25 days which is larger than initial window. Consider increasing initial.\n"
     ]
    },
    {
     "name": "stdout",
     "output_type": "stream",
     "text": [
      "Training:  180 days\n",
      "Testing:  14 days\n",
      "   horizon          mse       rmse        mae      mape     mdape     smape  \\\n",
      "9  15 days  1101.356012  33.186684  20.254910  0.187390  0.091955  0.196220   \n",
      "10 18 days  1518.064538  38.962348  23.646563  0.221055  0.092343  0.217219   \n",
      "11 19 days  1748.554572  41.815722  25.453883  0.241525  0.113280  0.230372   \n",
      "12 20 days  1854.966134  43.069318  26.350352  0.255120  0.124182  0.240819   \n",
      "13 21 days  2100.025030  45.826030  27.537672  0.271408  0.084656  0.249988   \n",
      "\n",
      "    coverage  \n",
      "9   0.231481  \n",
      "10  0.170370  \n",
      "11  0.211560  \n",
      "12  0.273879  \n",
      "13  0.313353  \n"
     ]
    },
    {
     "data": {
      "application/vnd.jupyter.widget-view+json": {
       "model_id": "f98aa00763a5491db5d05ad27123b556",
       "version_major": 2,
       "version_minor": 0
      },
      "text/plain": [
       "  0%|          | 0/26 [00:00<?, ?it/s]"
      ]
     },
     "metadata": {},
     "output_type": "display_data"
    },
    {
     "name": "stdout",
     "output_type": "stream",
     "text": [
      "Training:  180 days\n",
      "Testing:  21 days\n",
      "   horizon          mse       rmse        mae      mape     mdape     smape  \\\n",
      "9  15 days  3738.033148  61.139457  27.121142  0.294049  0.085462  0.193497   \n",
      "10 18 days  5950.460775  77.139230  32.295357  0.364414  0.100432  0.209364   \n",
      "11 19 days  7004.182022  83.690991  35.060414  0.372086  0.090174  0.228440   \n",
      "12 20 days  7691.765901  87.702713  36.724913  0.367572  0.087195  0.241666   \n",
      "13 21 days  8623.657669  92.863651  38.043273  0.375487  0.119891  0.246816   \n",
      "\n",
      "    coverage  \n",
      "9   0.183784  \n",
      "10  0.142186  \n",
      "11  0.118243  \n",
      "12  0.250520  \n",
      "13  0.307692  \n"
     ]
    }
   ],
   "source": [
    "results_AXP=tt_test_p('AXP',trains,tests)"
   ]
  },
  {
   "cell_type": "code",
   "execution_count": 47,
   "metadata": {},
   "outputs": [
    {
     "name": "stderr",
     "output_type": "stream",
     "text": [
      "INFO:fbprophet:Disabling daily seasonality. Run prophet with daily_seasonality=True to override this.\n"
     ]
    },
    {
     "name": "stdout",
     "output_type": "stream",
     "text": [
      "Processing:  yfinance.Ticker object <AAPL>\n"
     ]
    },
    {
     "name": "stderr",
     "output_type": "stream",
     "text": [
      "INFO:prophet:Making 98 forecasts with cutoffs between 2019-08-22 00:00:00 and 2021-07-01 00:00:00\n",
      "WARNING:prophet:Seasonality has period of 365.25 days which is larger than initial window. Consider increasing initial.\n"
     ]
    },
    {
     "data": {
      "application/vnd.jupyter.widget-view+json": {
       "model_id": "65f010db6c124e4aabb1c185bd595de2",
       "version_major": 2,
       "version_minor": 0
      },
      "text/plain": [
       "  0%|          | 0/98 [00:00<?, ?it/s]"
      ]
     },
     "metadata": {},
     "output_type": "display_data"
    },
    {
     "name": "stderr",
     "output_type": "stream",
     "text": [
      "INFO:fbprophet:n_changepoints greater than number of observations. Using 17.\n",
      "INFO:fbprophet:n_changepoints greater than number of observations. Using 21.\n",
      "INFO:fbprophet:n_changepoints greater than number of observations. Using 24.\n",
      "WARNING:fbprophet:Optimization terminated abnormally. Falling back to Newton.\n",
      "WARNING:fbprophet:Optimization terminated abnormally. Falling back to Newton.\n",
      "WARNING:fbprophet:Optimization terminated abnormally. Falling back to Newton.\n",
      "INFO:prophet:Making 49 forecasts with cutoffs between 2019-08-29 00:00:00 and 2021-07-01 00:00:00\n",
      "WARNING:prophet:Seasonality has period of 365.25 days which is larger than initial window. Consider increasing initial.\n"
     ]
    },
    {
     "name": "stdout",
     "output_type": "stream",
     "text": [
      "Training:  30 days\n",
      "Testing:  7 days\n",
      "   horizon           mse        rmse        mae      mape     mdape     smape  \\\n",
      "9  15 days   2280.819602   47.757927  27.683946  0.398606  0.097443  0.350964   \n",
      "10 18 days   4965.219413   70.464313  37.650713  0.555663  0.139601  0.419327   \n",
      "11 19 days   7300.343269   85.442046  44.766469  0.660672  0.110273  0.449069   \n",
      "12 20 days   8781.417376   93.709217  47.460545  0.702236  0.095616  0.446265   \n",
      "13 21 days  11718.787054  108.253347  53.364706  0.789605  0.110193  0.463596   \n",
      "\n",
      "    coverage  \n",
      "9   0.131206  \n",
      "10  0.138870  \n",
      "11  0.143341  \n",
      "12  0.151976  \n",
      "13  0.120789  \n"
     ]
    },
    {
     "data": {
      "application/vnd.jupyter.widget-view+json": {
       "model_id": "7854d7c1e0e045bc89e4be9b2ff70f2f",
       "version_major": 2,
       "version_minor": 0
      },
      "text/plain": [
       "  0%|          | 0/49 [00:00<?, ?it/s]"
      ]
     },
     "metadata": {},
     "output_type": "display_data"
    },
    {
     "name": "stderr",
     "output_type": "stream",
     "text": [
      "INFO:fbprophet:n_changepoints greater than number of observations. Using 21.\n",
      "WARNING:fbprophet:Optimization terminated abnormally. Falling back to Newton.\n",
      "INFO:prophet:Making 33 forecasts with cutoffs between 2019-08-29 00:00:00 and 2021-07-01 00:00:00\n",
      "WARNING:prophet:Seasonality has period of 365.25 days which is larger than initial window. Consider increasing initial.\n"
     ]
    },
    {
     "name": "stdout",
     "output_type": "stream",
     "text": [
      "Training:  30 days\n",
      "Testing:  14 days\n",
      "   horizon           mse        rmse        mae      mape     mdape     smape  \\\n",
      "9  15 days   2400.221978   48.992060  29.132708  0.419009  0.105096  0.379178   \n",
      "10 18 days   5459.017862   73.885167  39.373054  0.580966  0.102269  0.433789   \n",
      "11 19 days   8177.059723   90.427096  46.834577  0.693175  0.098624  0.453842   \n",
      "12 20 days   9278.316918   96.324020  47.776921  0.711746  0.109629  0.443134   \n",
      "13 21 days  12888.901828  113.529299  54.572367  0.811508  0.104695  0.453207   \n",
      "\n",
      "    coverage  \n",
      "9   0.120408  \n",
      "10  0.127640  \n",
      "11  0.156146  \n",
      "12  0.165598  \n",
      "13  0.126190  \n"
     ]
    },
    {
     "data": {
      "application/vnd.jupyter.widget-view+json": {
       "model_id": "29037f028947492680527ffe0759e90d",
       "version_major": 2,
       "version_minor": 0
      },
      "text/plain": [
       "  0%|          | 0/33 [00:00<?, ?it/s]"
      ]
     },
     "metadata": {},
     "output_type": "display_data"
    },
    {
     "name": "stderr",
     "output_type": "stream",
     "text": [
      "INFO:fbprophet:n_changepoints greater than number of observations. Using 21.\n",
      "WARNING:fbprophet:Optimization terminated abnormally. Falling back to Newton.\n",
      "INFO:prophet:Making 93 forecasts with cutoffs between 2019-09-26 00:00:00 and 2021-07-01 00:00:00\n",
      "WARNING:prophet:Seasonality has period of 365.25 days which is larger than initial window. Consider increasing initial.\n"
     ]
    },
    {
     "name": "stdout",
     "output_type": "stream",
     "text": [
      "Training:  30 days\n",
      "Testing:  21 days\n",
      "   horizon           mse        rmse        mae      mape     mdape     smape  \\\n",
      "9  15 days   2640.965929   51.390329  26.519505  0.389227  0.103966  0.287681   \n",
      "10 18 days   5463.575131   73.916001  35.515835  0.535368  0.084425  0.365202   \n",
      "11 19 days   7735.591313   87.952210  42.087098  0.626938  0.094919  0.409007   \n",
      "12 20 days   9825.471338   99.123516  46.036139  0.684408  0.089502  0.398666   \n",
      "13 21 days  12340.194132  111.086426  51.247882  0.755518  0.079937  0.416175   \n",
      "\n",
      "    coverage  \n",
      "9   0.206782  \n",
      "10  0.263830  \n",
      "11  0.238298  \n",
      "12  0.195358  \n",
      "13  0.140957  \n"
     ]
    },
    {
     "data": {
      "application/vnd.jupyter.widget-view+json": {
       "model_id": "2d62c355f273497eac4941d270b4da9d",
       "version_major": 2,
       "version_minor": 0
      },
      "text/plain": [
       "  0%|          | 0/93 [00:00<?, ?it/s]"
      ]
     },
     "metadata": {},
     "output_type": "display_data"
    },
    {
     "name": "stderr",
     "output_type": "stream",
     "text": [
      "WARNING:fbprophet:Optimization terminated abnormally. Falling back to Newton.\n",
      "WARNING:fbprophet:Optimization terminated abnormally. Falling back to Newton.\n",
      "WARNING:fbprophet:Optimization terminated abnormally. Falling back to Newton.\n",
      "INFO:prophet:Making 47 forecasts with cutoffs between 2019-09-26 00:00:00 and 2021-07-01 00:00:00\n",
      "WARNING:prophet:Seasonality has period of 365.25 days which is larger than initial window. Consider increasing initial.\n"
     ]
    },
    {
     "name": "stdout",
     "output_type": "stream",
     "text": [
      "Training:  60 days\n",
      "Testing:  7 days\n",
      "   horizon           mse        rmse        mae      mape     mdape     smape  \\\n",
      "9  15 days   2155.511930   46.427491  26.407547  0.368283  0.097341  0.338345   \n",
      "10 18 days   4705.226276   68.594652  35.640764  0.510725  0.100730  0.394296   \n",
      "11 19 days   6934.760696   83.275211  42.285353  0.606498  0.102006  0.418278   \n",
      "12 20 days   8285.795332   91.026344  44.519772  0.639270  0.107213  0.414438   \n",
      "13 21 days  11122.704945  105.464235  50.039831  0.718850  0.098123  0.431444   \n",
      "\n",
      "    coverage  \n",
      "9   0.123667  \n",
      "10  0.138569  \n",
      "11  0.143810  \n",
      "12  0.141871  \n",
      "13  0.120469  \n"
     ]
    },
    {
     "data": {
      "application/vnd.jupyter.widget-view+json": {
       "model_id": "c39b9b143f1343098063e9fd4cb90c42",
       "version_major": 2,
       "version_minor": 0
      },
      "text/plain": [
       "  0%|          | 0/47 [00:00<?, ?it/s]"
      ]
     },
     "metadata": {},
     "output_type": "display_data"
    },
    {
     "name": "stderr",
     "output_type": "stream",
     "text": [
      "WARNING:fbprophet:Optimization terminated abnormally. Falling back to Newton.\n",
      "INFO:prophet:Making 31 forecasts with cutoffs between 2019-10-10 00:00:00 and 2021-07-01 00:00:00\n",
      "WARNING:prophet:Seasonality has period of 365.25 days which is larger than initial window. Consider increasing initial.\n"
     ]
    },
    {
     "name": "stdout",
     "output_type": "stream",
     "text": [
      "Training:  60 days\n",
      "Testing:  14 days\n",
      "   horizon           mse        rmse        mae      mape     mdape     smape  \\\n",
      "9  15 days   2167.662594   46.558164  27.203684  0.377947  0.088661  0.364465   \n",
      "10 18 days   4933.834380   70.241258  36.532645  0.522555  0.084425  0.417426   \n",
      "11 19 days   7409.046710   86.075820  43.540427  0.626607  0.099226  0.438118   \n",
      "12 20 days   8235.971527   90.752254  44.006250  0.635123  0.099226  0.427545   \n",
      "13 21 days  11593.264948  107.672025  50.438800  0.726750  0.112497  0.438722   \n",
      "\n",
      "    coverage  \n",
      "9   0.125754  \n",
      "10  0.133650  \n",
      "11  0.148162  \n",
      "12  0.166084  \n",
      "13  0.116807  \n"
     ]
    },
    {
     "data": {
      "application/vnd.jupyter.widget-view+json": {
       "model_id": "05eb44d104934350ae8c4bcdb33ab012",
       "version_major": 2,
       "version_minor": 0
      },
      "text/plain": [
       "  0%|          | 0/31 [00:00<?, ?it/s]"
      ]
     },
     "metadata": {},
     "output_type": "display_data"
    },
    {
     "name": "stderr",
     "output_type": "stream",
     "text": [
      "WARNING:fbprophet:Optimization terminated abnormally. Falling back to Newton.\n",
      "INFO:prophet:Making 76 forecasts with cutoffs between 2020-01-23 00:00:00 and 2021-07-01 00:00:00\n",
      "WARNING:prophet:Seasonality has period of 365.25 days which is larger than initial window. Consider increasing initial.\n"
     ]
    },
    {
     "name": "stdout",
     "output_type": "stream",
     "text": [
      "Training:  60 days\n",
      "Testing:  21 days\n",
      "   horizon           mse        rmse        mae      mape     mdape     smape  \\\n",
      "9  15 days   2783.195490   52.756000  26.686585  0.385712  0.082646  0.275753   \n",
      "10 18 days   5747.414725   75.811706  35.628135  0.529823  0.067482  0.325581   \n",
      "11 19 days   8099.357789   89.996432  42.145435  0.618950  0.104749  0.360496   \n",
      "12 20 days  10256.212447  101.272960  46.014507  0.674536  0.082259  0.352288   \n",
      "13 21 days  12823.977144  113.243000  51.161807  0.743925  0.078701  0.374756   \n",
      "\n",
      "    coverage  \n",
      "9   0.221212  \n",
      "10  0.259740  \n",
      "11  0.243506  \n",
      "12  0.230938  \n",
      "13  0.182576  \n"
     ]
    },
    {
     "data": {
      "application/vnd.jupyter.widget-view+json": {
       "model_id": "d806b2cd063f4064a4ad517936e659a5",
       "version_major": 2,
       "version_minor": 0
      },
      "text/plain": [
       "  0%|          | 0/76 [00:00<?, ?it/s]"
      ]
     },
     "metadata": {},
     "output_type": "display_data"
    },
    {
     "name": "stderr",
     "output_type": "stream",
     "text": [
      "WARNING:fbprophet:Optimization terminated abnormally. Falling back to Newton.\n",
      "WARNING:fbprophet:Optimization terminated abnormally. Falling back to Newton.\n",
      "WARNING:fbprophet:Optimization terminated abnormally. Falling back to Newton.\n",
      "INFO:prophet:Making 38 forecasts with cutoffs between 2020-01-30 00:00:00 and 2021-07-01 00:00:00\n",
      "WARNING:prophet:Seasonality has period of 365.25 days which is larger than initial window. Consider increasing initial.\n"
     ]
    },
    {
     "name": "stdout",
     "output_type": "stream",
     "text": [
      "Training:  180 days\n",
      "Testing:  7 days\n",
      "   horizon          mse       rmse        mae      mape     mdape     smape  \\\n",
      "9  15 days   707.761727  26.603792  14.891014  0.180287  0.069788  0.177853   \n",
      "10 18 days  1030.328909  32.098737  16.744380  0.209431  0.075951  0.210108   \n",
      "11 19 days  1279.325114  35.767655  18.491381  0.228341  0.075796  0.231680   \n",
      "12 20 days  1436.280843  37.898296  19.376898  0.237973  0.084419  0.238747   \n",
      "13 21 days  1594.489014  39.931053  20.043769  0.247508  0.078701  0.245878   \n",
      "\n",
      "    coverage  \n",
      "9   0.166182  \n",
      "10  0.166837  \n",
      "11  0.181028  \n",
      "12  0.193301  \n",
      "13  0.144617  \n"
     ]
    },
    {
     "data": {
      "application/vnd.jupyter.widget-view+json": {
       "model_id": "39b38195d3a143b19da7ff1bfac81095",
       "version_major": 2,
       "version_minor": 0
      },
      "text/plain": [
       "  0%|          | 0/38 [00:00<?, ?it/s]"
      ]
     },
     "metadata": {},
     "output_type": "display_data"
    },
    {
     "name": "stderr",
     "output_type": "stream",
     "text": [
      "WARNING:fbprophet:Optimization terminated abnormally. Falling back to Newton.\n",
      "INFO:prophet:Making 26 forecasts with cutoffs between 2020-01-23 00:00:00 and 2021-07-01 00:00:00\n",
      "WARNING:prophet:Seasonality has period of 365.25 days which is larger than initial window. Consider increasing initial.\n"
     ]
    },
    {
     "name": "stdout",
     "output_type": "stream",
     "text": [
      "Training:  180 days\n",
      "Testing:  14 days\n",
      "   horizon         mse       rmse        mae      mape     mdape     smape  \\\n",
      "9  15 days  383.807468  19.591005  13.238439  0.152348  0.068940  0.184770   \n",
      "10 18 days  474.015771  21.771903  14.037651  0.164695  0.075286  0.216323   \n",
      "11 19 days  674.428901  25.969769  15.851923  0.187623  0.075860  0.238635   \n",
      "12 20 days  807.125810  28.409960  16.894739  0.201386  0.087061  0.242730   \n",
      "13 21 days  918.964339  30.314425  17.705792  0.212523  0.071885  0.246675   \n",
      "\n",
      "    coverage  \n",
      "9   0.157407  \n",
      "10  0.166667  \n",
      "11  0.183502  \n",
      "12  0.202729  \n",
      "13  0.158869  \n"
     ]
    },
    {
     "data": {
      "application/vnd.jupyter.widget-view+json": {
       "model_id": "06b2504d354d4e999adb561a6385a6fe",
       "version_major": 2,
       "version_minor": 0
      },
      "text/plain": [
       "  0%|          | 0/26 [00:00<?, ?it/s]"
      ]
     },
     "metadata": {},
     "output_type": "display_data"
    },
    {
     "name": "stderr",
     "output_type": "stream",
     "text": [
      "WARNING:fbprophet:Optimization terminated abnormally. Falling back to Newton.\n"
     ]
    },
    {
     "name": "stdout",
     "output_type": "stream",
     "text": [
      "Training:  180 days\n",
      "Testing:  21 days\n",
      "   horizon          mse       rmse        mae      mape     mdape     smape  \\\n",
      "9  15 days  1277.043885  35.735751  15.463019  0.208922  0.055044  0.146853   \n",
      "10 18 days  1997.632376  44.694881  18.010791  0.254322  0.057322  0.178220   \n",
      "11 19 days  2352.152423  48.498994  19.901919  0.268780  0.066599  0.205109   \n",
      "12 20 days  2616.891921  51.155566  20.748189  0.275716  0.054789  0.209722   \n",
      "13 21 days  2899.093881  53.843234  21.789390  0.284642  0.073753  0.212504   \n",
      "\n",
      "    coverage  \n",
      "9   0.252973  \n",
      "10  0.334900  \n",
      "11  0.300676  \n",
      "12  0.269231  \n",
      "13  0.188150  \n"
     ]
    }
   ],
   "source": [
    "results_AAPL=tt_test_p('AAPL',trains,tests)"
   ]
  },
  {
   "cell_type": "code",
   "execution_count": 48,
   "metadata": {},
   "outputs": [
    {
     "name": "stderr",
     "output_type": "stream",
     "text": [
      "INFO:fbprophet:Disabling daily seasonality. Run prophet with daily_seasonality=True to override this.\n"
     ]
    },
    {
     "name": "stdout",
     "output_type": "stream",
     "text": [
      "Processing:  yfinance.Ticker object <AMGN>\n"
     ]
    },
    {
     "name": "stderr",
     "output_type": "stream",
     "text": [
      "INFO:prophet:Making 98 forecasts with cutoffs between 2019-08-22 00:00:00 and 2021-07-01 00:00:00\n",
      "WARNING:prophet:Seasonality has period of 365.25 days which is larger than initial window. Consider increasing initial.\n"
     ]
    },
    {
     "data": {
      "application/vnd.jupyter.widget-view+json": {
       "model_id": "70585b36f49242fb86f880eae619ecf5",
       "version_major": 2,
       "version_minor": 0
      },
      "text/plain": [
       "  0%|          | 0/98 [00:00<?, ?it/s]"
      ]
     },
     "metadata": {},
     "output_type": "display_data"
    },
    {
     "name": "stderr",
     "output_type": "stream",
     "text": [
      "INFO:fbprophet:n_changepoints greater than number of observations. Using 17.\n",
      "INFO:fbprophet:n_changepoints greater than number of observations. Using 21.\n",
      "INFO:fbprophet:n_changepoints greater than number of observations. Using 24.\n",
      "WARNING:fbprophet:Optimization terminated abnormally. Falling back to Newton.\n",
      "WARNING:fbprophet:Optimization terminated abnormally. Falling back to Newton.\n",
      "WARNING:fbprophet:Optimization terminated abnormally. Falling back to Newton.\n",
      "INFO:prophet:Making 49 forecasts with cutoffs between 2019-08-29 00:00:00 and 2021-07-01 00:00:00\n",
      "WARNING:prophet:Seasonality has period of 365.25 days which is larger than initial window. Consider increasing initial.\n"
     ]
    },
    {
     "name": "stdout",
     "output_type": "stream",
     "text": [
      "Training:  30 days\n",
      "Testing:  7 days\n",
      "   horizon            mse        rmse         mae      mape     mdape  \\\n",
      "9  15 days   47387.335007  217.686323   98.050944  0.477810  0.065042   \n",
      "10 18 days  111477.207504  333.882026  144.202129  0.706353  0.096972   \n",
      "11 19 days  166108.985762  407.564701  173.106623  0.849318  0.097685   \n",
      "12 20 days  212000.000810  460.434578  190.238848  0.939273  0.080261   \n",
      "13 21 days  263122.673281  512.954845  208.081856  1.030818  0.090589   \n",
      "\n",
      "       smape  coverage  \n",
      "9   0.322126  0.152482  \n",
      "10  0.360104  0.153054  \n",
      "11  0.365508  0.150118  \n",
      "12  0.365036  0.123607  \n",
      "13  0.363188  0.157137  \n"
     ]
    },
    {
     "data": {
      "application/vnd.jupyter.widget-view+json": {
       "model_id": "43b8b26b81e54f62927d842b9f5d9211",
       "version_major": 2,
       "version_minor": 0
      },
      "text/plain": [
       "  0%|          | 0/49 [00:00<?, ?it/s]"
      ]
     },
     "metadata": {},
     "output_type": "display_data"
    },
    {
     "name": "stderr",
     "output_type": "stream",
     "text": [
      "INFO:fbprophet:n_changepoints greater than number of observations. Using 21.\n",
      "WARNING:fbprophet:Optimization terminated abnormally. Falling back to Newton.\n",
      "WARNING:fbprophet:Optimization terminated abnormally. Falling back to Newton.\n",
      "WARNING:fbprophet:Optimization terminated abnormally. Falling back to Newton.\n",
      "INFO:prophet:Making 33 forecasts with cutoffs between 2019-08-29 00:00:00 and 2021-07-01 00:00:00\n",
      "WARNING:prophet:Seasonality has period of 365.25 days which is larger than initial window. Consider increasing initial.\n"
     ]
    },
    {
     "name": "stdout",
     "output_type": "stream",
     "text": [
      "Training:  30 days\n",
      "Testing:  14 days\n",
      "   horizon            mse        rmse         mae      mape     mdape  \\\n",
      "9  15 days   41683.632756  204.165699   95.242582  0.465289  0.069900   \n",
      "10 18 days  103135.708891  321.147488  144.800438  0.709194  0.089450   \n",
      "11 19 days  155095.285161  393.821387  173.575342  0.848223  0.070293   \n",
      "12 20 days  194702.535133  441.251102  184.807881  0.911514  0.079188   \n",
      "13 21 days  235511.293782  485.295058  198.364430  0.982030  0.077180   \n",
      "\n",
      "       smape  coverage  \n",
      "9   0.337938  0.162682  \n",
      "10  0.389047  0.164596  \n",
      "11  0.389451  0.127243  \n",
      "12  0.375844  0.103499  \n",
      "13  0.367323  0.148512  \n"
     ]
    },
    {
     "data": {
      "application/vnd.jupyter.widget-view+json": {
       "model_id": "ccd7f9f6742c47db98f79356102a3bc9",
       "version_major": 2,
       "version_minor": 0
      },
      "text/plain": [
       "  0%|          | 0/33 [00:00<?, ?it/s]"
      ]
     },
     "metadata": {},
     "output_type": "display_data"
    },
    {
     "name": "stderr",
     "output_type": "stream",
     "text": [
      "INFO:fbprophet:n_changepoints greater than number of observations. Using 21.\n",
      "WARNING:fbprophet:Optimization terminated abnormally. Falling back to Newton.\n",
      "INFO:prophet:Making 93 forecasts with cutoffs between 2019-09-26 00:00:00 and 2021-07-01 00:00:00\n",
      "WARNING:prophet:Seasonality has period of 365.25 days which is larger than initial window. Consider increasing initial.\n"
     ]
    },
    {
     "name": "stdout",
     "output_type": "stream",
     "text": [
      "Training:  30 days\n",
      "Testing:  21 days\n",
      "   horizon            mse        rmse         mae      mape     mdape  \\\n",
      "9  15 days   31625.804125  177.836453   83.734651  0.415045  0.073530   \n",
      "10 18 days   82817.603884  287.780479  126.182440  0.632879  0.090390   \n",
      "11 19 days  128464.559387  358.419530  151.552368  0.758204  0.082869   \n",
      "12 20 days  173422.891507  416.440742  173.171699  0.867036  0.076147   \n",
      "13 21 days  229063.485672  478.605773  194.740719  0.973048  0.091701   \n",
      "\n",
      "       smape  coverage  \n",
      "9   0.325498  0.141622  \n",
      "10  0.353914  0.154610  \n",
      "11  0.344332  0.134752  \n",
      "12  0.351019  0.123791  \n",
      "13  0.353224  0.164894  \n"
     ]
    },
    {
     "data": {
      "application/vnd.jupyter.widget-view+json": {
       "model_id": "c80bd772466e4af59a8864db0245254b",
       "version_major": 2,
       "version_minor": 0
      },
      "text/plain": [
       "  0%|          | 0/93 [00:00<?, ?it/s]"
      ]
     },
     "metadata": {},
     "output_type": "display_data"
    },
    {
     "name": "stderr",
     "output_type": "stream",
     "text": [
      "WARNING:fbprophet:Optimization terminated abnormally. Falling back to Newton.\n",
      "WARNING:fbprophet:Optimization terminated abnormally. Falling back to Newton.\n",
      "WARNING:fbprophet:Optimization terminated abnormally. Falling back to Newton.\n",
      "INFO:prophet:Making 47 forecasts with cutoffs between 2019-09-26 00:00:00 and 2021-07-01 00:00:00\n",
      "WARNING:prophet:Seasonality has period of 365.25 days which is larger than initial window. Consider increasing initial.\n"
     ]
    },
    {
     "name": "stdout",
     "output_type": "stream",
     "text": [
      "Training:  60 days\n",
      "Testing:  7 days\n",
      "   horizon            mse        rmse         mae      mape     mdape  \\\n",
      "9  15 days   29918.833698  172.970615   74.236551  0.350217  0.074184   \n",
      "10 18 days   67937.339027  260.647922  105.733290  0.498741  0.081657   \n",
      "11 19 days   99833.750646  315.964793  124.591808  0.585603  0.093202   \n",
      "12 20 days  125079.989805  353.666495  133.947300  0.631272  0.089340   \n",
      "13 21 days  149583.116147  386.759765  142.504516  0.672778  0.084632   \n",
      "\n",
      "       smape  coverage  \n",
      "9   0.262958  0.168690  \n",
      "10  0.296726  0.173423  \n",
      "11  0.301199  0.162072  \n",
      "12  0.298452  0.130396  \n",
      "13  0.293442  0.165655  \n"
     ]
    },
    {
     "data": {
      "application/vnd.jupyter.widget-view+json": {
       "model_id": "a88255bbc0964a338bdd28ea09d98e2e",
       "version_major": 2,
       "version_minor": 0
      },
      "text/plain": [
       "  0%|          | 0/47 [00:00<?, ?it/s]"
      ]
     },
     "metadata": {},
     "output_type": "display_data"
    },
    {
     "name": "stderr",
     "output_type": "stream",
     "text": [
      "WARNING:fbprophet:Optimization terminated abnormally. Falling back to Newton.\n",
      "WARNING:fbprophet:Optimization terminated abnormally. Falling back to Newton.\n",
      "WARNING:fbprophet:Optimization terminated abnormally. Falling back to Newton.\n",
      "INFO:prophet:Making 31 forecasts with cutoffs between 2019-10-10 00:00:00 and 2021-07-01 00:00:00\n",
      "WARNING:prophet:Seasonality has period of 365.25 days which is larger than initial window. Consider increasing initial.\n"
     ]
    },
    {
     "name": "stdout",
     "output_type": "stream",
     "text": [
      "Training:  60 days\n",
      "Testing:  14 days\n",
      "   horizon            mse        rmse         mae      mape     mdape  \\\n",
      "9  15 days   25787.707581  160.585515   71.516393  0.335537  0.061096   \n",
      "10 18 days   60573.379735  246.116598  105.545762  0.493591  0.066271   \n",
      "11 19 days   89205.029399  298.672110  124.794409  0.581434  0.079294   \n",
      "12 20 days  108060.914961  328.726201  129.196153  0.605346  0.078115   \n",
      "13 21 days  119615.372989  345.854555  133.139822  0.624629  0.077081   \n",
      "\n",
      "       smape  coverage  \n",
      "9   0.280728  0.184821  \n",
      "10  0.326509  0.181140  \n",
      "11  0.328650  0.147798  \n",
      "12  0.315036  0.114640  \n",
      "13  0.304044  0.155094  \n"
     ]
    },
    {
     "data": {
      "application/vnd.jupyter.widget-view+json": {
       "model_id": "047c6fc052e7436fb2ac9b6ceee2f5f1",
       "version_major": 2,
       "version_minor": 0
      },
      "text/plain": [
       "  0%|          | 0/31 [00:00<?, ?it/s]"
      ]
     },
     "metadata": {},
     "output_type": "display_data"
    },
    {
     "name": "stderr",
     "output_type": "stream",
     "text": [
      "WARNING:fbprophet:Optimization terminated abnormally. Falling back to Newton.\n",
      "INFO:prophet:Making 76 forecasts with cutoffs between 2020-01-23 00:00:00 and 2021-07-01 00:00:00\n",
      "WARNING:prophet:Seasonality has period of 365.25 days which is larger than initial window. Consider increasing initial.\n"
     ]
    },
    {
     "name": "stdout",
     "output_type": "stream",
     "text": [
      "Training:  60 days\n",
      "Testing:  21 days\n",
      "   horizon           mse        rmse         mae      mape     mdape  \\\n",
      "9  15 days  13885.998953  117.838869   53.362524  0.249014  0.065395   \n",
      "10 18 days  28810.810995  169.737477   73.003704  0.344045  0.079869   \n",
      "11 19 days  40469.147334  201.169449   82.885800  0.387270  0.072497   \n",
      "12 20 days  51609.819054  227.177946   92.293726  0.429814  0.082308   \n",
      "13 21 days  64758.374053  254.476667  100.833747  0.467404  0.077335   \n",
      "\n",
      "       smape  coverage  \n",
      "9   0.208756  0.174242  \n",
      "10  0.236286  0.178571  \n",
      "11  0.234104  0.120942  \n",
      "12  0.242247  0.121701  \n",
      "13  0.245920  0.175758  \n"
     ]
    },
    {
     "data": {
      "application/vnd.jupyter.widget-view+json": {
       "model_id": "6c5332da64a64ab68beb7f688c59591b",
       "version_major": 2,
       "version_minor": 0
      },
      "text/plain": [
       "  0%|          | 0/76 [00:00<?, ?it/s]"
      ]
     },
     "metadata": {},
     "output_type": "display_data"
    },
    {
     "name": "stderr",
     "output_type": "stream",
     "text": [
      "WARNING:fbprophet:Optimization terminated abnormally. Falling back to Newton.\n",
      "WARNING:fbprophet:Optimization terminated abnormally. Falling back to Newton.\n",
      "WARNING:fbprophet:Optimization terminated abnormally. Falling back to Newton.\n",
      "INFO:prophet:Making 38 forecasts with cutoffs between 2020-01-30 00:00:00 and 2021-07-01 00:00:00\n",
      "WARNING:prophet:Seasonality has period of 365.25 days which is larger than initial window. Consider increasing initial.\n"
     ]
    },
    {
     "name": "stdout",
     "output_type": "stream",
     "text": [
      "Training:  180 days\n",
      "Testing:  7 days\n",
      "   horizon          mse       rmse        mae      mape     mdape     smape  \\\n",
      "9  15 days  1499.850815  38.727907  22.559377  0.102177  0.059832  0.103712   \n",
      "10 18 days  2169.268371  46.575405  25.522071  0.116430  0.064758  0.119239   \n",
      "11 19 days  2518.638853  50.186042  26.934470  0.122711  0.075806  0.125265   \n",
      "12 20 days  2688.212431  51.847974  28.145261  0.128379  0.076060  0.129037   \n",
      "13 21 days  2993.865664  54.716229  28.760361  0.131625  0.077802  0.130002   \n",
      "\n",
      "    coverage  \n",
      "9   0.198909  \n",
      "10  0.199360  \n",
      "11  0.185375  \n",
      "12  0.152871  \n",
      "13  0.182416  \n"
     ]
    },
    {
     "data": {
      "application/vnd.jupyter.widget-view+json": {
       "model_id": "dc93f5439d4e4b68bb01f1da1c5c447f",
       "version_major": 2,
       "version_minor": 0
      },
      "text/plain": [
       "  0%|          | 0/38 [00:00<?, ?it/s]"
      ]
     },
     "metadata": {},
     "output_type": "display_data"
    },
    {
     "name": "stderr",
     "output_type": "stream",
     "text": [
      "WARNING:fbprophet:Optimization terminated abnormally. Falling back to Newton.\n",
      "WARNING:fbprophet:Optimization terminated abnormally. Falling back to Newton.\n",
      "WARNING:fbprophet:Optimization terminated abnormally. Falling back to Newton.\n",
      "INFO:prophet:Making 26 forecasts with cutoffs between 2020-01-23 00:00:00 and 2021-07-01 00:00:00\n",
      "WARNING:prophet:Seasonality has period of 365.25 days which is larger than initial window. Consider increasing initial.\n"
     ]
    },
    {
     "name": "stdout",
     "output_type": "stream",
     "text": [
      "Training:  180 days\n",
      "Testing:  14 days\n",
      "   horizon          mse       rmse        mae      mape     mdape     smape  \\\n",
      "9  15 days   959.324411  30.972963  18.225613  0.082207  0.051678  0.097485   \n",
      "10 18 days  1462.988791  38.249036  20.798806  0.093625  0.065086  0.117545   \n",
      "11 19 days  1723.668977  41.517093  22.618245  0.101869  0.065881  0.126464   \n",
      "12 20 days  1866.964293  43.208382  24.432630  0.110635  0.076713  0.131964   \n",
      "13 21 days  2177.819516  46.667114  25.235003  0.113559  0.066191  0.133555   \n",
      "\n",
      "    coverage  \n",
      "9   0.212963  \n",
      "10  0.214815  \n",
      "11  0.164422  \n",
      "12  0.131579  \n",
      "13  0.171053  \n"
     ]
    },
    {
     "data": {
      "application/vnd.jupyter.widget-view+json": {
       "model_id": "fe565e8fd3dd4921941179ed2fb313c3",
       "version_major": 2,
       "version_minor": 0
      },
      "text/plain": [
       "  0%|          | 0/26 [00:00<?, ?it/s]"
      ]
     },
     "metadata": {},
     "output_type": "display_data"
    },
    {
     "name": "stderr",
     "output_type": "stream",
     "text": [
      "WARNING:fbprophet:Optimization terminated abnormally. Falling back to Newton.\n"
     ]
    },
    {
     "name": "stdout",
     "output_type": "stream",
     "text": [
      "Training:  180 days\n",
      "Testing:  21 days\n",
      "   horizon          mse       rmse        mae      mape     mdape     smape  \\\n",
      "9  15 days  1113.579002  33.370331  20.950030  0.095849  0.051149  0.089028   \n",
      "10 18 days  1525.985051  39.063859  23.947707  0.111502  0.079294  0.101905   \n",
      "11 19 days  1564.089275  39.548569  24.571217  0.112192  0.079294  0.104434   \n",
      "12 20 days  1745.341699  41.777287  26.117422  0.119420  0.076147  0.110906   \n",
      "13 21 days  1872.341594  43.270563  27.370840  0.125123  0.085423  0.116411   \n",
      "\n",
      "    coverage  \n",
      "9   0.156757  \n",
      "10  0.153937  \n",
      "11  0.130631  \n",
      "12  0.142412  \n",
      "13  0.153846  \n"
     ]
    }
   ],
   "source": [
    "results_AMGN=tt_test_p('AMGN',trains,tests)"
   ]
  },
  {
   "cell_type": "markdown",
   "metadata": {},
   "source": [
    "After looking over these results, it seems unlike ARIMA, Prophet likes the 180/7 split. Although it doesn't matter that much when using Prophet; it automatically takes all the data available and uses it. The train/test split is mainly used here for cross-validation."
   ]
  },
  {
   "cell_type": "markdown",
   "metadata": {},
   "source": [
    "### Putting it all together"
   ]
  },
  {
   "cell_type": "markdown",
   "metadata": {},
   "source": [
    "So let's make us a function! Ultimately, we'll want it to be able to select the best of 4 stocks input by the user. As always, let's start simple."
   ]
  },
  {
   "cell_type": "code",
   "execution_count": 49,
   "metadata": {
    "scrolled": true
   },
   "outputs": [
    {
     "data": {
      "text/html": [
       "<div>\n",
       "<style scoped>\n",
       "    .dataframe tbody tr th:only-of-type {\n",
       "        vertical-align: middle;\n",
       "    }\n",
       "\n",
       "    .dataframe tbody tr th {\n",
       "        vertical-align: top;\n",
       "    }\n",
       "\n",
       "    .dataframe thead th {\n",
       "        text-align: right;\n",
       "    }\n",
       "</style>\n",
       "<table border=\"1\" class=\"dataframe\">\n",
       "  <thead>\n",
       "    <tr style=\"text-align: right;\">\n",
       "      <th></th>\n",
       "      <th>ds</th>\n",
       "      <th>trend</th>\n",
       "      <th>yhat_lower</th>\n",
       "      <th>yhat_upper</th>\n",
       "      <th>trend_lower</th>\n",
       "      <th>trend_upper</th>\n",
       "      <th>additive_terms</th>\n",
       "      <th>additive_terms_lower</th>\n",
       "      <th>additive_terms_upper</th>\n",
       "      <th>weekly</th>\n",
       "      <th>weekly_lower</th>\n",
       "      <th>weekly_upper</th>\n",
       "      <th>yearly</th>\n",
       "      <th>yearly_lower</th>\n",
       "      <th>yearly_upper</th>\n",
       "      <th>multiplicative_terms</th>\n",
       "      <th>multiplicative_terms_lower</th>\n",
       "      <th>multiplicative_terms_upper</th>\n",
       "      <th>yhat</th>\n",
       "    </tr>\n",
       "  </thead>\n",
       "  <tbody>\n",
       "    <tr>\n",
       "      <th>521</th>\n",
       "      <td>2021-08-08</td>\n",
       "      <td>229.728690</td>\n",
       "      <td>232.846488</td>\n",
       "      <td>248.777844</td>\n",
       "      <td>229.150404</td>\n",
       "      <td>230.175757</td>\n",
       "      <td>11.104362</td>\n",
       "      <td>11.104362</td>\n",
       "      <td>11.104362</td>\n",
       "      <td>2.752136</td>\n",
       "      <td>2.752136</td>\n",
       "      <td>2.752136</td>\n",
       "      <td>8.352226</td>\n",
       "      <td>8.352226</td>\n",
       "      <td>8.352226</td>\n",
       "      <td>0.0</td>\n",
       "      <td>0.0</td>\n",
       "      <td>0.0</td>\n",
       "      <td>240.833052</td>\n",
       "    </tr>\n",
       "    <tr>\n",
       "      <th>522</th>\n",
       "      <td>2021-08-09</td>\n",
       "      <td>229.633713</td>\n",
       "      <td>228.852723</td>\n",
       "      <td>245.428324</td>\n",
       "      <td>228.993875</td>\n",
       "      <td>230.155174</td>\n",
       "      <td>7.474945</td>\n",
       "      <td>7.474945</td>\n",
       "      <td>7.474945</td>\n",
       "      <td>-1.059438</td>\n",
       "      <td>-1.059438</td>\n",
       "      <td>-1.059438</td>\n",
       "      <td>8.534383</td>\n",
       "      <td>8.534383</td>\n",
       "      <td>8.534383</td>\n",
       "      <td>0.0</td>\n",
       "      <td>0.0</td>\n",
       "      <td>0.0</td>\n",
       "      <td>237.108659</td>\n",
       "    </tr>\n",
       "    <tr>\n",
       "      <th>523</th>\n",
       "      <td>2021-08-10</td>\n",
       "      <td>229.538737</td>\n",
       "      <td>228.747299</td>\n",
       "      <td>245.012943</td>\n",
       "      <td>228.852219</td>\n",
       "      <td>230.105378</td>\n",
       "      <td>7.798091</td>\n",
       "      <td>7.798091</td>\n",
       "      <td>7.798091</td>\n",
       "      <td>-1.003857</td>\n",
       "      <td>-1.003857</td>\n",
       "      <td>-1.003857</td>\n",
       "      <td>8.801948</td>\n",
       "      <td>8.801948</td>\n",
       "      <td>8.801948</td>\n",
       "      <td>0.0</td>\n",
       "      <td>0.0</td>\n",
       "      <td>0.0</td>\n",
       "      <td>237.336828</td>\n",
       "    </tr>\n",
       "    <tr>\n",
       "      <th>524</th>\n",
       "      <td>2021-08-11</td>\n",
       "      <td>229.443760</td>\n",
       "      <td>230.008994</td>\n",
       "      <td>245.361434</td>\n",
       "      <td>228.599488</td>\n",
       "      <td>230.100186</td>\n",
       "      <td>8.057594</td>\n",
       "      <td>8.057594</td>\n",
       "      <td>8.057594</td>\n",
       "      <td>-1.089640</td>\n",
       "      <td>-1.089640</td>\n",
       "      <td>-1.089640</td>\n",
       "      <td>9.147234</td>\n",
       "      <td>9.147234</td>\n",
       "      <td>9.147234</td>\n",
       "      <td>0.0</td>\n",
       "      <td>0.0</td>\n",
       "      <td>0.0</td>\n",
       "      <td>237.501354</td>\n",
       "    </tr>\n",
       "    <tr>\n",
       "      <th>525</th>\n",
       "      <td>2021-08-12</td>\n",
       "      <td>229.348784</td>\n",
       "      <td>229.707544</td>\n",
       "      <td>245.486597</td>\n",
       "      <td>228.417961</td>\n",
       "      <td>230.087677</td>\n",
       "      <td>8.162935</td>\n",
       "      <td>8.162935</td>\n",
       "      <td>8.162935</td>\n",
       "      <td>-1.397763</td>\n",
       "      <td>-1.397763</td>\n",
       "      <td>-1.397763</td>\n",
       "      <td>9.560698</td>\n",
       "      <td>9.560698</td>\n",
       "      <td>9.560698</td>\n",
       "      <td>0.0</td>\n",
       "      <td>0.0</td>\n",
       "      <td>0.0</td>\n",
       "      <td>237.511719</td>\n",
       "    </tr>\n",
       "  </tbody>\n",
       "</table>\n",
       "</div>"
      ],
      "text/plain": [
       "            ds       trend  yhat_lower  yhat_upper  trend_lower  trend_upper  \\\n",
       "521 2021-08-08  229.728690  232.846488  248.777844   229.150404   230.175757   \n",
       "522 2021-08-09  229.633713  228.852723  245.428324   228.993875   230.155174   \n",
       "523 2021-08-10  229.538737  228.747299  245.012943   228.852219   230.105378   \n",
       "524 2021-08-11  229.443760  230.008994  245.361434   228.599488   230.100186   \n",
       "525 2021-08-12  229.348784  229.707544  245.486597   228.417961   230.087677   \n",
       "\n",
       "     additive_terms  additive_terms_lower  additive_terms_upper    weekly  \\\n",
       "521       11.104362             11.104362             11.104362  2.752136   \n",
       "522        7.474945              7.474945              7.474945 -1.059438   \n",
       "523        7.798091              7.798091              7.798091 -1.003857   \n",
       "524        8.057594              8.057594              8.057594 -1.089640   \n",
       "525        8.162935              8.162935              8.162935 -1.397763   \n",
       "\n",
       "     weekly_lower  weekly_upper    yearly  yearly_lower  yearly_upper  \\\n",
       "521      2.752136      2.752136  8.352226      8.352226      8.352226   \n",
       "522     -1.059438     -1.059438  8.534383      8.534383      8.534383   \n",
       "523     -1.003857     -1.003857  8.801948      8.801948      8.801948   \n",
       "524     -1.089640     -1.089640  9.147234      9.147234      9.147234   \n",
       "525     -1.397763     -1.397763  9.560698      9.560698      9.560698   \n",
       "\n",
       "     multiplicative_terms  multiplicative_terms_lower  \\\n",
       "521                   0.0                         0.0   \n",
       "522                   0.0                         0.0   \n",
       "523                   0.0                         0.0   \n",
       "524                   0.0                         0.0   \n",
       "525                   0.0                         0.0   \n",
       "\n",
       "     multiplicative_terms_upper        yhat  \n",
       "521                         0.0  240.833052  \n",
       "522                         0.0  237.108659  \n",
       "523                         0.0  237.336828  \n",
       "524                         0.0  237.501354  \n",
       "525                         0.0  237.511719  "
      ]
     },
     "execution_count": 49,
     "metadata": {},
     "output_type": "execute_result"
    }
   ],
   "source": [
    "results_AMGN.tail()"
   ]
  },
  {
   "cell_type": "code",
   "execution_count": 50,
   "metadata": {},
   "outputs": [],
   "source": [
    "pred_cols=['ds','yhat']"
   ]
  },
  {
   "cell_type": "code",
   "execution_count": 51,
   "metadata": {},
   "outputs": [],
   "source": [
    "AMGN_preds=results_AMGN[pred_cols]"
   ]
  },
  {
   "cell_type": "code",
   "execution_count": 52,
   "metadata": {},
   "outputs": [
    {
     "data": {
      "text/html": [
       "<div>\n",
       "<style scoped>\n",
       "    .dataframe tbody tr th:only-of-type {\n",
       "        vertical-align: middle;\n",
       "    }\n",
       "\n",
       "    .dataframe tbody tr th {\n",
       "        vertical-align: top;\n",
       "    }\n",
       "\n",
       "    .dataframe thead th {\n",
       "        text-align: right;\n",
       "    }\n",
       "</style>\n",
       "<table border=\"1\" class=\"dataframe\">\n",
       "  <thead>\n",
       "    <tr style=\"text-align: right;\">\n",
       "      <th></th>\n",
       "      <th>ds</th>\n",
       "      <th>yhat</th>\n",
       "    </tr>\n",
       "  </thead>\n",
       "  <tbody>\n",
       "    <tr>\n",
       "      <th>521</th>\n",
       "      <td>2021-08-08</td>\n",
       "      <td>240.833052</td>\n",
       "    </tr>\n",
       "    <tr>\n",
       "      <th>522</th>\n",
       "      <td>2021-08-09</td>\n",
       "      <td>237.108659</td>\n",
       "    </tr>\n",
       "    <tr>\n",
       "      <th>523</th>\n",
       "      <td>2021-08-10</td>\n",
       "      <td>237.336828</td>\n",
       "    </tr>\n",
       "    <tr>\n",
       "      <th>524</th>\n",
       "      <td>2021-08-11</td>\n",
       "      <td>237.501354</td>\n",
       "    </tr>\n",
       "    <tr>\n",
       "      <th>525</th>\n",
       "      <td>2021-08-12</td>\n",
       "      <td>237.511719</td>\n",
       "    </tr>\n",
       "  </tbody>\n",
       "</table>\n",
       "</div>"
      ],
      "text/plain": [
       "            ds        yhat\n",
       "521 2021-08-08  240.833052\n",
       "522 2021-08-09  237.108659\n",
       "523 2021-08-10  237.336828\n",
       "524 2021-08-11  237.501354\n",
       "525 2021-08-12  237.511719"
      ]
     },
     "execution_count": 52,
     "metadata": {},
     "output_type": "execute_result"
    }
   ],
   "source": [
    "AMGN_preds.tail()"
   ]
  },
  {
   "cell_type": "code",
   "execution_count": 53,
   "metadata": {},
   "outputs": [],
   "source": [
    "AMGN_preds=AMGN_preds.tail(21)"
   ]
  },
  {
   "cell_type": "code",
   "execution_count": 54,
   "metadata": {},
   "outputs": [
    {
     "data": {
      "text/html": [
       "<div>\n",
       "<style scoped>\n",
       "    .dataframe tbody tr th:only-of-type {\n",
       "        vertical-align: middle;\n",
       "    }\n",
       "\n",
       "    .dataframe tbody tr th {\n",
       "        vertical-align: top;\n",
       "    }\n",
       "\n",
       "    .dataframe thead th {\n",
       "        text-align: right;\n",
       "    }\n",
       "</style>\n",
       "<table border=\"1\" class=\"dataframe\">\n",
       "  <thead>\n",
       "    <tr style=\"text-align: right;\">\n",
       "      <th></th>\n",
       "      <th>ds</th>\n",
       "      <th>yhat</th>\n",
       "    </tr>\n",
       "  </thead>\n",
       "  <tbody>\n",
       "    <tr>\n",
       "      <th>505</th>\n",
       "      <td>2021-07-23</td>\n",
       "      <td>246.003762</td>\n",
       "    </tr>\n",
       "    <tr>\n",
       "      <th>506</th>\n",
       "      <td>2021-07-24</td>\n",
       "      <td>248.921539</td>\n",
       "    </tr>\n",
       "    <tr>\n",
       "      <th>507</th>\n",
       "      <td>2021-07-25</td>\n",
       "      <td>248.109571</td>\n",
       "    </tr>\n",
       "    <tr>\n",
       "      <th>508</th>\n",
       "      <td>2021-07-26</td>\n",
       "      <td>243.474530</td>\n",
       "    </tr>\n",
       "    <tr>\n",
       "      <th>509</th>\n",
       "      <td>2021-07-27</td>\n",
       "      <td>242.708102</td>\n",
       "    </tr>\n",
       "  </tbody>\n",
       "</table>\n",
       "</div>"
      ],
      "text/plain": [
       "            ds        yhat\n",
       "505 2021-07-23  246.003762\n",
       "506 2021-07-24  248.921539\n",
       "507 2021-07-25  248.109571\n",
       "508 2021-07-26  243.474530\n",
       "509 2021-07-27  242.708102"
      ]
     },
     "execution_count": 54,
     "metadata": {},
     "output_type": "execute_result"
    }
   ],
   "source": [
    "AMGN_preds.head()"
   ]
  },
  {
   "cell_type": "code",
   "execution_count": 55,
   "metadata": {},
   "outputs": [],
   "source": [
    "AMGN_preds.reset_index(level=0, drop=True,inplace=True)"
   ]
  },
  {
   "cell_type": "code",
   "execution_count": 56,
   "metadata": {},
   "outputs": [
    {
     "data": {
      "text/html": [
       "<div>\n",
       "<style scoped>\n",
       "    .dataframe tbody tr th:only-of-type {\n",
       "        vertical-align: middle;\n",
       "    }\n",
       "\n",
       "    .dataframe tbody tr th {\n",
       "        vertical-align: top;\n",
       "    }\n",
       "\n",
       "    .dataframe thead th {\n",
       "        text-align: right;\n",
       "    }\n",
       "</style>\n",
       "<table border=\"1\" class=\"dataframe\">\n",
       "  <thead>\n",
       "    <tr style=\"text-align: right;\">\n",
       "      <th></th>\n",
       "      <th>ds</th>\n",
       "      <th>yhat</th>\n",
       "    </tr>\n",
       "  </thead>\n",
       "  <tbody>\n",
       "    <tr>\n",
       "      <th>0</th>\n",
       "      <td>2021-07-23</td>\n",
       "      <td>246.003762</td>\n",
       "    </tr>\n",
       "    <tr>\n",
       "      <th>1</th>\n",
       "      <td>2021-07-24</td>\n",
       "      <td>248.921539</td>\n",
       "    </tr>\n",
       "    <tr>\n",
       "      <th>2</th>\n",
       "      <td>2021-07-25</td>\n",
       "      <td>248.109571</td>\n",
       "    </tr>\n",
       "    <tr>\n",
       "      <th>3</th>\n",
       "      <td>2021-07-26</td>\n",
       "      <td>243.474530</td>\n",
       "    </tr>\n",
       "    <tr>\n",
       "      <th>4</th>\n",
       "      <td>2021-07-27</td>\n",
       "      <td>242.708102</td>\n",
       "    </tr>\n",
       "  </tbody>\n",
       "</table>\n",
       "</div>"
      ],
      "text/plain": [
       "          ds        yhat\n",
       "0 2021-07-23  246.003762\n",
       "1 2021-07-24  248.921539\n",
       "2 2021-07-25  248.109571\n",
       "3 2021-07-26  243.474530\n",
       "4 2021-07-27  242.708102"
      ]
     },
     "execution_count": 56,
     "metadata": {},
     "output_type": "execute_result"
    }
   ],
   "source": [
    "AMGN_preds.head()"
   ]
  },
  {
   "cell_type": "code",
   "execution_count": 57,
   "metadata": {
    "scrolled": true
   },
   "outputs": [
    {
     "data": {
      "text/plain": [
       "237.51171863532227"
      ]
     },
     "execution_count": 57,
     "metadata": {},
     "output_type": "execute_result"
    }
   ],
   "source": [
    "AMGN_preds['yhat'][20]"
   ]
  },
  {
   "cell_type": "code",
   "execution_count": 58,
   "metadata": {},
   "outputs": [
    {
     "data": {
      "text/plain": [
       "246.00376195404905"
      ]
     },
     "execution_count": 58,
     "metadata": {},
     "output_type": "execute_result"
    }
   ],
   "source": [
    "AMGN_preds['yhat'][0]"
   ]
  },
  {
   "cell_type": "code",
   "execution_count": 59,
   "metadata": {},
   "outputs": [],
   "source": [
    "change_percent=((AMGN_preds['yhat'][20]-AMGN_preds['yhat'][0])/AMGN_preds['yhat'][0])*100"
   ]
  },
  {
   "cell_type": "code",
   "execution_count": 60,
   "metadata": {},
   "outputs": [],
   "source": [
    "change_percent=round(change_percent,2)"
   ]
  },
  {
   "cell_type": "code",
   "execution_count": 61,
   "metadata": {},
   "outputs": [
    {
     "data": {
      "text/plain": [
       "-3.45"
      ]
     },
     "execution_count": 61,
     "metadata": {},
     "output_type": "execute_result"
    }
   ],
   "source": [
    "change_percent"
   ]
  },
  {
   "cell_type": "code",
   "execution_count": 62,
   "metadata": {},
   "outputs": [],
   "source": [
    "def pct_change(df):\n",
    "    \"\"\"This function will quickly calculate the percentage change from the predictions dataframe.\n",
    "    One that has been produced from the earlier Prophet function\"\"\"\n",
    "    df1=df['yhat']\n",
    "    df1=df1.tail(21)\n",
    "    df1.reset_index(level=0, drop=True,inplace=True)\n",
    "    change=((df1[20]-df1[0])/df1[0])*100\n",
    "    change=round(change, 2)\n",
    "    if change >0:\n",
    "        print(f\"According to the model, you stand to gain {change}% over the next 21 days\")\n",
    "    else:\n",
    "        change_abs=abs(change)\n",
    "        print(f\"According to the model, you stand to lose {change_abs}% over the next 21 days\")\n",
    "    return None"
   ]
  },
  {
   "cell_type": "code",
   "execution_count": 63,
   "metadata": {
    "scrolled": true
   },
   "outputs": [
    {
     "name": "stdout",
     "output_type": "stream",
     "text": [
      "According to the model, you stand to gain 5.16% over the next 21 days\n"
     ]
    }
   ],
   "source": [
    "pct_change(results_AAPL)"
   ]
  },
  {
   "cell_type": "code",
   "execution_count": 64,
   "metadata": {},
   "outputs": [
    {
     "name": "stdout",
     "output_type": "stream",
     "text": [
      "According to the model, you stand to gain 2.04% over the next 21 days\n"
     ]
    }
   ],
   "source": [
    "pct_change(results_AXP)"
   ]
  },
  {
   "cell_type": "code",
   "execution_count": 65,
   "metadata": {},
   "outputs": [
    {
     "name": "stdout",
     "output_type": "stream",
     "text": [
      "According to the model, you stand to lose 2.58% over the next 21 days\n"
     ]
    }
   ],
   "source": [
    "pct_change(results_MMM)"
   ]
  },
  {
   "cell_type": "code",
   "execution_count": 66,
   "metadata": {},
   "outputs": [
    {
     "name": "stdout",
     "output_type": "stream",
     "text": [
      "According to the model, you stand to lose 6.2% over the next 21 days\n"
     ]
    }
   ],
   "source": [
    "pct_change(results_CAT)"
   ]
  },
  {
   "cell_type": "code",
   "execution_count": 67,
   "metadata": {},
   "outputs": [],
   "source": [
    "def fcast(stock):\n",
    "    \"\"\"This function will take a stock and perform Prophet modeling on it and return the forecast dataframe\"\"\"\n",
    "    stock=stock.upper() #make sure the symbol is in uppercase\n",
    "    prof=Prophet()\n",
    "    stonk = yf.Ticker(stock)\n",
    "    df1=stonk.history(period='1y')\n",
    "    df1=df1['Close']\n",
    "    df1=df1.to_frame()\n",
    "    df1.index.names = ['ds']\n",
    "    df1.columns=['y']\n",
    "    df1.reset_index(level=0, inplace=True)\n",
    "    prof.fit(df1)\n",
    "    future = prof.make_future_dataframe(periods=21)\n",
    "    forecast = prof.predict(future)\n",
    "    #The next 2 lines are disabled for the final function\n",
    "#    prof.plot(forecast)\n",
    " #   plt.show()\n",
    "    return forecast"
   ]
  },
  {
   "cell_type": "code",
   "execution_count": 68,
   "metadata": {
    "scrolled": true
   },
   "outputs": [
    {
     "name": "stderr",
     "output_type": "stream",
     "text": [
      "INFO:fbprophet:Disabling yearly seasonality. Run prophet with yearly_seasonality=True to override this.\n",
      "INFO:fbprophet:Disabling daily seasonality. Run prophet with daily_seasonality=True to override this.\n"
     ]
    }
   ],
   "source": [
    "HAL=fcast('HAL')"
   ]
  },
  {
   "cell_type": "code",
   "execution_count": 69,
   "metadata": {},
   "outputs": [
    {
     "data": {
      "text/html": [
       "<div>\n",
       "<style scoped>\n",
       "    .dataframe tbody tr th:only-of-type {\n",
       "        vertical-align: middle;\n",
       "    }\n",
       "\n",
       "    .dataframe tbody tr th {\n",
       "        vertical-align: top;\n",
       "    }\n",
       "\n",
       "    .dataframe thead th {\n",
       "        text-align: right;\n",
       "    }\n",
       "</style>\n",
       "<table border=\"1\" class=\"dataframe\">\n",
       "  <thead>\n",
       "    <tr style=\"text-align: right;\">\n",
       "      <th></th>\n",
       "      <th>ds</th>\n",
       "      <th>trend</th>\n",
       "      <th>yhat_lower</th>\n",
       "      <th>yhat_upper</th>\n",
       "      <th>trend_lower</th>\n",
       "      <th>trend_upper</th>\n",
       "      <th>additive_terms</th>\n",
       "      <th>additive_terms_lower</th>\n",
       "      <th>additive_terms_upper</th>\n",
       "      <th>weekly</th>\n",
       "      <th>weekly_lower</th>\n",
       "      <th>weekly_upper</th>\n",
       "      <th>multiplicative_terms</th>\n",
       "      <th>multiplicative_terms_lower</th>\n",
       "      <th>multiplicative_terms_upper</th>\n",
       "      <th>yhat</th>\n",
       "    </tr>\n",
       "  </thead>\n",
       "  <tbody>\n",
       "    <tr>\n",
       "      <th>0</th>\n",
       "      <td>2020-07-23</td>\n",
       "      <td>15.361697</td>\n",
       "      <td>13.585789</td>\n",
       "      <td>17.189172</td>\n",
       "      <td>15.361697</td>\n",
       "      <td>15.361697</td>\n",
       "      <td>0.089397</td>\n",
       "      <td>0.089397</td>\n",
       "      <td>0.089397</td>\n",
       "      <td>0.089397</td>\n",
       "      <td>0.089397</td>\n",
       "      <td>0.089397</td>\n",
       "      <td>0.0</td>\n",
       "      <td>0.0</td>\n",
       "      <td>0.0</td>\n",
       "      <td>15.451094</td>\n",
       "    </tr>\n",
       "    <tr>\n",
       "      <th>1</th>\n",
       "      <td>2020-07-24</td>\n",
       "      <td>15.334423</td>\n",
       "      <td>13.693948</td>\n",
       "      <td>17.211390</td>\n",
       "      <td>15.334423</td>\n",
       "      <td>15.334423</td>\n",
       "      <td>0.121897</td>\n",
       "      <td>0.121897</td>\n",
       "      <td>0.121897</td>\n",
       "      <td>0.121897</td>\n",
       "      <td>0.121897</td>\n",
       "      <td>0.121897</td>\n",
       "      <td>0.0</td>\n",
       "      <td>0.0</td>\n",
       "      <td>0.0</td>\n",
       "      <td>15.456320</td>\n",
       "    </tr>\n",
       "    <tr>\n",
       "      <th>2</th>\n",
       "      <td>2020-07-27</td>\n",
       "      <td>15.252602</td>\n",
       "      <td>13.648942</td>\n",
       "      <td>17.229513</td>\n",
       "      <td>15.252602</td>\n",
       "      <td>15.252602</td>\n",
       "      <td>0.136222</td>\n",
       "      <td>0.136222</td>\n",
       "      <td>0.136222</td>\n",
       "      <td>0.136222</td>\n",
       "      <td>0.136222</td>\n",
       "      <td>0.136222</td>\n",
       "      <td>0.0</td>\n",
       "      <td>0.0</td>\n",
       "      <td>0.0</td>\n",
       "      <td>15.388825</td>\n",
       "    </tr>\n",
       "    <tr>\n",
       "      <th>3</th>\n",
       "      <td>2020-07-28</td>\n",
       "      <td>15.225329</td>\n",
       "      <td>13.586955</td>\n",
       "      <td>17.128831</td>\n",
       "      <td>15.225329</td>\n",
       "      <td>15.225329</td>\n",
       "      <td>0.177682</td>\n",
       "      <td>0.177682</td>\n",
       "      <td>0.177682</td>\n",
       "      <td>0.177682</td>\n",
       "      <td>0.177682</td>\n",
       "      <td>0.177682</td>\n",
       "      <td>0.0</td>\n",
       "      <td>0.0</td>\n",
       "      <td>0.0</td>\n",
       "      <td>15.403011</td>\n",
       "    </tr>\n",
       "    <tr>\n",
       "      <th>4</th>\n",
       "      <td>2020-07-29</td>\n",
       "      <td>15.198055</td>\n",
       "      <td>13.707243</td>\n",
       "      <td>17.450188</td>\n",
       "      <td>15.198055</td>\n",
       "      <td>15.198055</td>\n",
       "      <td>0.266268</td>\n",
       "      <td>0.266268</td>\n",
       "      <td>0.266268</td>\n",
       "      <td>0.266268</td>\n",
       "      <td>0.266268</td>\n",
       "      <td>0.266268</td>\n",
       "      <td>0.0</td>\n",
       "      <td>0.0</td>\n",
       "      <td>0.0</td>\n",
       "      <td>15.464323</td>\n",
       "    </tr>\n",
       "  </tbody>\n",
       "</table>\n",
       "</div>"
      ],
      "text/plain": [
       "          ds      trend  yhat_lower  yhat_upper  trend_lower  trend_upper  \\\n",
       "0 2020-07-23  15.361697   13.585789   17.189172    15.361697    15.361697   \n",
       "1 2020-07-24  15.334423   13.693948   17.211390    15.334423    15.334423   \n",
       "2 2020-07-27  15.252602   13.648942   17.229513    15.252602    15.252602   \n",
       "3 2020-07-28  15.225329   13.586955   17.128831    15.225329    15.225329   \n",
       "4 2020-07-29  15.198055   13.707243   17.450188    15.198055    15.198055   \n",
       "\n",
       "   additive_terms  additive_terms_lower  additive_terms_upper    weekly  \\\n",
       "0        0.089397              0.089397              0.089397  0.089397   \n",
       "1        0.121897              0.121897              0.121897  0.121897   \n",
       "2        0.136222              0.136222              0.136222  0.136222   \n",
       "3        0.177682              0.177682              0.177682  0.177682   \n",
       "4        0.266268              0.266268              0.266268  0.266268   \n",
       "\n",
       "   weekly_lower  weekly_upper  multiplicative_terms  \\\n",
       "0      0.089397      0.089397                   0.0   \n",
       "1      0.121897      0.121897                   0.0   \n",
       "2      0.136222      0.136222                   0.0   \n",
       "3      0.177682      0.177682                   0.0   \n",
       "4      0.266268      0.266268                   0.0   \n",
       "\n",
       "   multiplicative_terms_lower  multiplicative_terms_upper       yhat  \n",
       "0                         0.0                         0.0  15.451094  \n",
       "1                         0.0                         0.0  15.456320  \n",
       "2                         0.0                         0.0  15.388825  \n",
       "3                         0.0                         0.0  15.403011  \n",
       "4                         0.0                         0.0  15.464323  "
      ]
     },
     "execution_count": 69,
     "metadata": {},
     "output_type": "execute_result"
    }
   ],
   "source": [
    "HAL.head()"
   ]
  },
  {
   "cell_type": "code",
   "execution_count": 70,
   "metadata": {},
   "outputs": [
    {
     "name": "stderr",
     "output_type": "stream",
     "text": [
      "INFO:fbprophet:Disabling yearly seasonality. Run prophet with yearly_seasonality=True to override this.\n",
      "INFO:fbprophet:Disabling daily seasonality. Run prophet with daily_seasonality=True to override this.\n"
     ]
    }
   ],
   "source": [
    "MMM=fcast('MMM')"
   ]
  },
  {
   "cell_type": "code",
   "execution_count": 71,
   "metadata": {},
   "outputs": [
    {
     "name": "stderr",
     "output_type": "stream",
     "text": [
      "INFO:fbprophet:Disabling yearly seasonality. Run prophet with yearly_seasonality=True to override this.\n",
      "INFO:fbprophet:Disabling daily seasonality. Run prophet with daily_seasonality=True to override this.\n"
     ]
    }
   ],
   "source": [
    "AXP=fcast('AXP')"
   ]
  },
  {
   "cell_type": "code",
   "execution_count": 72,
   "metadata": {},
   "outputs": [],
   "source": [
    "def pred_4():\n",
    "    \"\"\"This function will prompt the user to input 4 different stock/ETF symbols. It will then use Prophet \n",
    "    to forecast the next 21 days of the stock price, and return the values (in percent) of potential gain and loss.\"\"\"\n",
    "    stocks=[]\n",
    "    pcts=[]\n",
    "    stock1,stock2,stock3,stock4=input(\"Enter 4 stock symbols: \").split(\",\")\n",
    "    stocks=[stock1,stock2,stock3,stock4]\n",
    "    for stock in stocks:\n",
    "        stock=stock.upper()\n",
    "        df=fcast(stock)\n",
    "        df1=df['yhat']\n",
    "        df1=df1.tail(21)\n",
    "        df1.reset_index(level=0, drop=True,inplace=True)\n",
    "        change=((df1[20]-df1[0])/df1[0])*100\n",
    "        change=round(change, 2)\n",
    "        pcts.append(change)\n",
    "    for i in range(0,4):\n",
    "        print(f\"Stock: {stocks[i].upper()}\")\n",
    "        print(f\"Percent Change: {pcts[i]}\")\n",
    "    maxp=pcts.index(max(pcts))\n",
    "    print()\n",
    "    print(f'According to the model, {stocks[maxp].upper()} has the highest upside.')\n",
    "    print(\"\\n\" * 3)\n",
    "    print('FOR ENTERTAINMENT PURPOSES ONLY. This does not substitute for advise from a financial advisor.') \n",
    "    print('The creator and affiliates are not responsible for any potential losses. But totally responsible for any gains.')\n",
    "    return None\n",
    "    "
   ]
  },
  {
   "cell_type": "code",
   "execution_count": 73,
   "metadata": {
    "scrolled": false
   },
   "outputs": [
    {
     "name": "stdout",
     "output_type": "stream",
     "text": [
      "Enter 4 stock symbols: amzn,msft,f,t\n"
     ]
    },
    {
     "name": "stderr",
     "output_type": "stream",
     "text": [
      "INFO:fbprophet:Disabling yearly seasonality. Run prophet with yearly_seasonality=True to override this.\n",
      "INFO:fbprophet:Disabling daily seasonality. Run prophet with daily_seasonality=True to override this.\n",
      "INFO:fbprophet:Disabling yearly seasonality. Run prophet with yearly_seasonality=True to override this.\n",
      "INFO:fbprophet:Disabling daily seasonality. Run prophet with daily_seasonality=True to override this.\n",
      "INFO:fbprophet:Disabling yearly seasonality. Run prophet with yearly_seasonality=True to override this.\n",
      "INFO:fbprophet:Disabling daily seasonality. Run prophet with daily_seasonality=True to override this.\n",
      "INFO:fbprophet:Disabling yearly seasonality. Run prophet with yearly_seasonality=True to override this.\n",
      "INFO:fbprophet:Disabling daily seasonality. Run prophet with daily_seasonality=True to override this.\n"
     ]
    },
    {
     "name": "stdout",
     "output_type": "stream",
     "text": [
      "Stock: AMZN\n",
      "Percent Change: 2.34\n",
      "Stock: MSFT\n",
      "Percent Change: 2.61\n",
      "Stock: F\n",
      "Percent Change: 2.84\n",
      "Stock: T\n",
      "Percent Change: -2.86\n",
      "\n",
      "According to the model, F has the highest upside.\n",
      "\n",
      "\n",
      "\n",
      "\n",
      "FOR ENTERTAINMENT PURPOSES ONLY. This does not substitute for advise from a financial advisor.\n",
      "The creator and affiliates are not responsible for any potential losses. But totally responsible for any gains.\n"
     ]
    }
   ],
   "source": [
    "pred_4()"
   ]
  },
  {
   "cell_type": "code",
   "execution_count": null,
   "metadata": {},
   "outputs": [],
   "source": []
  },
  {
   "cell_type": "code",
   "execution_count": null,
   "metadata": {},
   "outputs": [],
   "source": []
  },
  {
   "cell_type": "code",
   "execution_count": null,
   "metadata": {},
   "outputs": [],
   "source": []
  },
  {
   "cell_type": "code",
   "execution_count": null,
   "metadata": {},
   "outputs": [],
   "source": []
  },
  {
   "cell_type": "code",
   "execution_count": null,
   "metadata": {},
   "outputs": [],
   "source": []
  },
  {
   "cell_type": "code",
   "execution_count": null,
   "metadata": {},
   "outputs": [],
   "source": []
  },
  {
   "cell_type": "code",
   "execution_count": null,
   "metadata": {},
   "outputs": [],
   "source": []
  },
  {
   "cell_type": "code",
   "execution_count": null,
   "metadata": {},
   "outputs": [],
   "source": []
  },
  {
   "cell_type": "code",
   "execution_count": null,
   "metadata": {},
   "outputs": [],
   "source": []
  },
  {
   "cell_type": "code",
   "execution_count": null,
   "metadata": {},
   "outputs": [],
   "source": []
  },
  {
   "cell_type": "code",
   "execution_count": null,
   "metadata": {},
   "outputs": [],
   "source": []
  },
  {
   "cell_type": "code",
   "execution_count": null,
   "metadata": {},
   "outputs": [],
   "source": []
  },
  {
   "cell_type": "code",
   "execution_count": null,
   "metadata": {},
   "outputs": [],
   "source": []
  },
  {
   "cell_type": "code",
   "execution_count": null,
   "metadata": {},
   "outputs": [],
   "source": []
  },
  {
   "cell_type": "code",
   "execution_count": null,
   "metadata": {},
   "outputs": [],
   "source": []
  },
  {
   "cell_type": "code",
   "execution_count": null,
   "metadata": {},
   "outputs": [],
   "source": []
  },
  {
   "cell_type": "code",
   "execution_count": null,
   "metadata": {},
   "outputs": [],
   "source": []
  },
  {
   "cell_type": "code",
   "execution_count": null,
   "metadata": {},
   "outputs": [],
   "source": []
  }
 ],
 "metadata": {
  "kernelspec": {
   "display_name": "Python 3",
   "language": "python",
   "name": "python3"
  },
  "language_info": {
   "codemirror_mode": {
    "name": "ipython",
    "version": 3
   },
   "file_extension": ".py",
   "mimetype": "text/x-python",
   "name": "python",
   "nbconvert_exporter": "python",
   "pygments_lexer": "ipython3",
   "version": "3.6.9"
  }
 },
 "nbformat": 4,
 "nbformat_minor": 4
}
