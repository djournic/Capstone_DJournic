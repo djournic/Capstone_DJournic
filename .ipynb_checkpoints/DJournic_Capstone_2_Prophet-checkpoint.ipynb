{
 "cells": [
  {
   "cell_type": "markdown",
   "metadata": {},
   "source": [
    "# Prophet modeling"
   ]
  },
  {
   "cell_type": "markdown",
   "metadata": {},
   "source": [
    "Here we'll try to mimic the same process of finding the best train-test split, but for Facebook's Prophet library. Let's import everything."
   ]
  },
  {
   "cell_type": "code",
   "execution_count": 1,
   "metadata": {},
   "outputs": [],
   "source": [
    "from fbprophet import Prophet\n",
    "from prophet.diagnostics import cross_validation\n",
    "from prophet.plot import plot_cross_validation_metric\n",
    "from prophet.diagnostics import performance_metrics\n",
    "from sklearn.linear_model import LinearRegression\n",
    "from iexfinance.stocks import Stock\n",
    "import random\n",
    "import pandas as pd\n",
    "import matplotlib.pyplot as plt\n",
    "import pandas.tseries\n",
    "import datetime as dt\n",
    "from datetime import date\n",
    "from datetime import timedelta \n",
    "import yfinance as yf\n",
    "import requests\n",
    "from pandas.plotting import lag_plot\n",
    "from pandas import datetime\n",
    "import re\n",
    "from tiingo import TiingoClient\n",
    "import json\n",
    "from pandas_datareader import data as pdr"
   ]
  },
  {
   "cell_type": "code",
   "execution_count": 2,
   "metadata": {},
   "outputs": [
    {
     "data": {
      "text/plain": [
       "'0.1.63'"
      ]
     },
     "execution_count": 2,
     "metadata": {},
     "output_type": "execute_result"
    }
   ],
   "source": [
    "yf.__version__"
   ]
  },
  {
   "cell_type": "markdown",
   "metadata": {},
   "source": [
    "### The test case: C\n",
    "Just like the previous notebook, we'll try to run through a simple test case and expand it to other stocks. We'll use Citicgroup again."
   ]
  },
  {
   "cell_type": "markdown",
   "metadata": {},
   "source": [
    "Quick note: I encountered a bug with my earlier library, yfinance, so I've had to switch to tiingo, so a lot of code will be hashed out from earlier. And in case I can get the bugs worked out."
   ]
  },
  {
   "cell_type": "code",
   "execution_count": 3,
   "metadata": {},
   "outputs": [],
   "source": [
    "c = yf.Ticker(\"C\")"
   ]
  },
  {
   "cell_type": "code",
   "execution_count": 4,
   "metadata": {
    "scrolled": true
   },
   "outputs": [],
   "source": [
    "df=c.history(period=\"2y\")"
   ]
  },
  {
   "cell_type": "code",
   "execution_count": 5,
   "metadata": {},
   "outputs": [
    {
     "data": {
      "text/html": [
       "<div>\n",
       "<style scoped>\n",
       "    .dataframe tbody tr th:only-of-type {\n",
       "        vertical-align: middle;\n",
       "    }\n",
       "\n",
       "    .dataframe tbody tr th {\n",
       "        vertical-align: top;\n",
       "    }\n",
       "\n",
       "    .dataframe thead th {\n",
       "        text-align: right;\n",
       "    }\n",
       "</style>\n",
       "<table border=\"1\" class=\"dataframe\">\n",
       "  <thead>\n",
       "    <tr style=\"text-align: right;\">\n",
       "      <th></th>\n",
       "      <th>Open</th>\n",
       "      <th>High</th>\n",
       "      <th>Low</th>\n",
       "      <th>Close</th>\n",
       "      <th>Volume</th>\n",
       "      <th>Dividends</th>\n",
       "      <th>Stock Splits</th>\n",
       "    </tr>\n",
       "    <tr>\n",
       "      <th>Date</th>\n",
       "      <th></th>\n",
       "      <th></th>\n",
       "      <th></th>\n",
       "      <th></th>\n",
       "      <th></th>\n",
       "      <th></th>\n",
       "      <th></th>\n",
       "    </tr>\n",
       "  </thead>\n",
       "  <tbody>\n",
       "    <tr>\n",
       "      <th>2019-08-05</th>\n",
       "      <td>61.193141</td>\n",
       "      <td>61.398363</td>\n",
       "      <td>60.241665</td>\n",
       "      <td>60.801357</td>\n",
       "      <td>21144800</td>\n",
       "      <td>0.0</td>\n",
       "      <td>0</td>\n",
       "    </tr>\n",
       "    <tr>\n",
       "      <th>2019-08-06</th>\n",
       "      <td>61.566267</td>\n",
       "      <td>61.874100</td>\n",
       "      <td>60.474867</td>\n",
       "      <td>61.799473</td>\n",
       "      <td>12411500</td>\n",
       "      <td>0.0</td>\n",
       "      <td>0</td>\n",
       "    </tr>\n",
       "    <tr>\n",
       "      <th>2019-08-07</th>\n",
       "      <td>60.288308</td>\n",
       "      <td>60.931958</td>\n",
       "      <td>59.364816</td>\n",
       "      <td>60.764050</td>\n",
       "      <td>18418300</td>\n",
       "      <td>0.0</td>\n",
       "      <td>0</td>\n",
       "    </tr>\n",
       "    <tr>\n",
       "      <th>2019-08-08</th>\n",
       "      <td>61.426339</td>\n",
       "      <td>62.303194</td>\n",
       "      <td>61.221117</td>\n",
       "      <td>62.256550</td>\n",
       "      <td>13577900</td>\n",
       "      <td>0.0</td>\n",
       "      <td>0</td>\n",
       "    </tr>\n",
       "    <tr>\n",
       "      <th>2019-08-09</th>\n",
       "      <td>61.874093</td>\n",
       "      <td>62.097968</td>\n",
       "      <td>60.829329</td>\n",
       "      <td>61.612904</td>\n",
       "      <td>13604600</td>\n",
       "      <td>0.0</td>\n",
       "      <td>0</td>\n",
       "    </tr>\n",
       "  </tbody>\n",
       "</table>\n",
       "</div>"
      ],
      "text/plain": [
       "                 Open       High        Low      Close    Volume  Dividends  \\\n",
       "Date                                                                          \n",
       "2019-08-05  61.193141  61.398363  60.241665  60.801357  21144800        0.0   \n",
       "2019-08-06  61.566267  61.874100  60.474867  61.799473  12411500        0.0   \n",
       "2019-08-07  60.288308  60.931958  59.364816  60.764050  18418300        0.0   \n",
       "2019-08-08  61.426339  62.303194  61.221117  62.256550  13577900        0.0   \n",
       "2019-08-09  61.874093  62.097968  60.829329  61.612904  13604600        0.0   \n",
       "\n",
       "            Stock Splits  \n",
       "Date                      \n",
       "2019-08-05             0  \n",
       "2019-08-06             0  \n",
       "2019-08-07             0  \n",
       "2019-08-08             0  \n",
       "2019-08-09             0  "
      ]
     },
     "execution_count": 5,
     "metadata": {},
     "output_type": "execute_result"
    }
   ],
   "source": [
    "df.head()"
   ]
  },
  {
   "cell_type": "code",
   "execution_count": 6,
   "metadata": {},
   "outputs": [
    {
     "data": {
      "text/html": [
       "<div>\n",
       "<style scoped>\n",
       "    .dataframe tbody tr th:only-of-type {\n",
       "        vertical-align: middle;\n",
       "    }\n",
       "\n",
       "    .dataframe tbody tr th {\n",
       "        vertical-align: top;\n",
       "    }\n",
       "\n",
       "    .dataframe thead th {\n",
       "        text-align: right;\n",
       "    }\n",
       "</style>\n",
       "<table border=\"1\" class=\"dataframe\">\n",
       "  <thead>\n",
       "    <tr style=\"text-align: right;\">\n",
       "      <th></th>\n",
       "      <th>Open</th>\n",
       "      <th>High</th>\n",
       "      <th>Low</th>\n",
       "      <th>Close</th>\n",
       "      <th>Volume</th>\n",
       "      <th>Dividends</th>\n",
       "      <th>Stock Splits</th>\n",
       "    </tr>\n",
       "    <tr>\n",
       "      <th>Date</th>\n",
       "      <th></th>\n",
       "      <th></th>\n",
       "      <th></th>\n",
       "      <th></th>\n",
       "      <th></th>\n",
       "      <th></th>\n",
       "      <th></th>\n",
       "    </tr>\n",
       "  </thead>\n",
       "  <tbody>\n",
       "    <tr>\n",
       "      <th>2019-08-05</th>\n",
       "      <td>61.193141</td>\n",
       "      <td>61.398363</td>\n",
       "      <td>60.241665</td>\n",
       "      <td>60.801357</td>\n",
       "      <td>21144800</td>\n",
       "      <td>0.0</td>\n",
       "      <td>0</td>\n",
       "    </tr>\n",
       "    <tr>\n",
       "      <th>2019-08-06</th>\n",
       "      <td>61.566267</td>\n",
       "      <td>61.874100</td>\n",
       "      <td>60.474867</td>\n",
       "      <td>61.799473</td>\n",
       "      <td>12411500</td>\n",
       "      <td>0.0</td>\n",
       "      <td>0</td>\n",
       "    </tr>\n",
       "    <tr>\n",
       "      <th>2019-08-07</th>\n",
       "      <td>60.288308</td>\n",
       "      <td>60.931958</td>\n",
       "      <td>59.364816</td>\n",
       "      <td>60.764050</td>\n",
       "      <td>18418300</td>\n",
       "      <td>0.0</td>\n",
       "      <td>0</td>\n",
       "    </tr>\n",
       "    <tr>\n",
       "      <th>2019-08-08</th>\n",
       "      <td>61.426339</td>\n",
       "      <td>62.303194</td>\n",
       "      <td>61.221117</td>\n",
       "      <td>62.256550</td>\n",
       "      <td>13577900</td>\n",
       "      <td>0.0</td>\n",
       "      <td>0</td>\n",
       "    </tr>\n",
       "    <tr>\n",
       "      <th>2019-08-09</th>\n",
       "      <td>61.874093</td>\n",
       "      <td>62.097968</td>\n",
       "      <td>60.829329</td>\n",
       "      <td>61.612904</td>\n",
       "      <td>13604600</td>\n",
       "      <td>0.0</td>\n",
       "      <td>0</td>\n",
       "    </tr>\n",
       "  </tbody>\n",
       "</table>\n",
       "</div>"
      ],
      "text/plain": [
       "                 Open       High        Low      Close    Volume  Dividends  \\\n",
       "Date                                                                          \n",
       "2019-08-05  61.193141  61.398363  60.241665  60.801357  21144800        0.0   \n",
       "2019-08-06  61.566267  61.874100  60.474867  61.799473  12411500        0.0   \n",
       "2019-08-07  60.288308  60.931958  59.364816  60.764050  18418300        0.0   \n",
       "2019-08-08  61.426339  62.303194  61.221117  62.256550  13577900        0.0   \n",
       "2019-08-09  61.874093  62.097968  60.829329  61.612904  13604600        0.0   \n",
       "\n",
       "            Stock Splits  \n",
       "Date                      \n",
       "2019-08-05             0  \n",
       "2019-08-06             0  \n",
       "2019-08-07             0  \n",
       "2019-08-08             0  \n",
       "2019-08-09             0  "
      ]
     },
     "execution_count": 6,
     "metadata": {},
     "output_type": "execute_result"
    }
   ],
   "source": [
    "df.head()"
   ]
  },
  {
   "cell_type": "markdown",
   "metadata": {},
   "source": [
    "One of the data cleaning aspects of Prophet is that it requires the time periods to be in strings. I want to make this as simple as possible (i.e. just input a number), so here I'll look to transform some potential inputs into Prophet format."
   ]
  },
  {
   "cell_type": "code",
   "execution_count": 7,
   "metadata": {},
   "outputs": [],
   "source": [
    "deltas=['d','m','y']\n",
    "att='200d'"
   ]
  },
  {
   "cell_type": "code",
   "execution_count": 8,
   "metadata": {},
   "outputs": [
    {
     "data": {
      "text/plain": [
       "'d'"
      ]
     },
     "execution_count": 8,
     "metadata": {},
     "output_type": "execute_result"
    }
   ],
   "source": [
    "att[-1]"
   ]
  },
  {
   "cell_type": "code",
   "execution_count": 9,
   "metadata": {},
   "outputs": [
    {
     "data": {
      "text/plain": [
       "'200'"
      ]
     },
     "execution_count": 9,
     "metadata": {},
     "output_type": "execute_result"
    }
   ],
   "source": [
    "spl=len(att)-1\n",
    "att[:spl]"
   ]
  },
  {
   "cell_type": "code",
   "execution_count": 10,
   "metadata": {},
   "outputs": [
    {
     "data": {
      "text/plain": [
       "'200 days'"
      ]
     },
     "execution_count": 10,
     "metadata": {},
     "output_type": "execute_result"
    }
   ],
   "source": [
    "end=att[:spl] + ' days'\n",
    "end"
   ]
  },
  {
   "cell_type": "markdown",
   "metadata": {},
   "source": [
    "So let's get a dataframe with our close price so we can test modeling it."
   ]
  },
  {
   "cell_type": "code",
   "execution_count": 11,
   "metadata": {},
   "outputs": [],
   "source": [
    "df1=df['Close']"
   ]
  },
  {
   "cell_type": "code",
   "execution_count": 12,
   "metadata": {},
   "outputs": [
    {
     "data": {
      "text/plain": [
       "Date\n",
       "2019-08-05    60.801357\n",
       "2019-08-06    61.799473\n",
       "2019-08-07    60.764050\n",
       "2019-08-08    62.256550\n",
       "2019-08-09    61.612904\n",
       "Name: Close, dtype: float64"
      ]
     },
     "execution_count": 12,
     "metadata": {},
     "output_type": "execute_result"
    }
   ],
   "source": [
    "df1.head()"
   ]
  },
  {
   "cell_type": "code",
   "execution_count": 13,
   "metadata": {},
   "outputs": [],
   "source": [
    "df1=df1.to_frame()"
   ]
  },
  {
   "cell_type": "code",
   "execution_count": 14,
   "metadata": {},
   "outputs": [],
   "source": [
    "# instantiate Prophet\n",
    "prof_1 = Prophet(daily_seasonality=True, yearly_seasonality=True)"
   ]
  },
  {
   "cell_type": "code",
   "execution_count": 15,
   "metadata": {},
   "outputs": [
    {
     "data": {
      "text/html": [
       "<div>\n",
       "<style scoped>\n",
       "    .dataframe tbody tr th:only-of-type {\n",
       "        vertical-align: middle;\n",
       "    }\n",
       "\n",
       "    .dataframe tbody tr th {\n",
       "        vertical-align: top;\n",
       "    }\n",
       "\n",
       "    .dataframe thead th {\n",
       "        text-align: right;\n",
       "    }\n",
       "</style>\n",
       "<table border=\"1\" class=\"dataframe\">\n",
       "  <thead>\n",
       "    <tr style=\"text-align: right;\">\n",
       "      <th></th>\n",
       "      <th>Close</th>\n",
       "    </tr>\n",
       "    <tr>\n",
       "      <th>Date</th>\n",
       "      <th></th>\n",
       "    </tr>\n",
       "  </thead>\n",
       "  <tbody>\n",
       "    <tr>\n",
       "      <th>2019-08-05</th>\n",
       "      <td>60.801357</td>\n",
       "    </tr>\n",
       "    <tr>\n",
       "      <th>2019-08-06</th>\n",
       "      <td>61.799473</td>\n",
       "    </tr>\n",
       "    <tr>\n",
       "      <th>2019-08-07</th>\n",
       "      <td>60.764050</td>\n",
       "    </tr>\n",
       "    <tr>\n",
       "      <th>2019-08-08</th>\n",
       "      <td>62.256550</td>\n",
       "    </tr>\n",
       "    <tr>\n",
       "      <th>2019-08-09</th>\n",
       "      <td>61.612904</td>\n",
       "    </tr>\n",
       "  </tbody>\n",
       "</table>\n",
       "</div>"
      ],
      "text/plain": [
       "                Close\n",
       "Date                 \n",
       "2019-08-05  60.801357\n",
       "2019-08-06  61.799473\n",
       "2019-08-07  60.764050\n",
       "2019-08-08  62.256550\n",
       "2019-08-09  61.612904"
      ]
     },
     "execution_count": 15,
     "metadata": {},
     "output_type": "execute_result"
    }
   ],
   "source": [
    "df1.head()"
   ]
  },
  {
   "cell_type": "markdown",
   "metadata": {},
   "source": [
    "Prophet requires the dataframe to be in a certain format, let's get it that way now."
   ]
  },
  {
   "cell_type": "code",
   "execution_count": 16,
   "metadata": {},
   "outputs": [],
   "source": [
    "df1.index.names = ['ds']\n",
    "df1.columns=['y']"
   ]
  },
  {
   "cell_type": "code",
   "execution_count": 17,
   "metadata": {},
   "outputs": [],
   "source": [
    "df1.reset_index(level=0, inplace=True)"
   ]
  },
  {
   "cell_type": "code",
   "execution_count": 18,
   "metadata": {},
   "outputs": [
    {
     "data": {
      "text/html": [
       "<div>\n",
       "<style scoped>\n",
       "    .dataframe tbody tr th:only-of-type {\n",
       "        vertical-align: middle;\n",
       "    }\n",
       "\n",
       "    .dataframe tbody tr th {\n",
       "        vertical-align: top;\n",
       "    }\n",
       "\n",
       "    .dataframe thead th {\n",
       "        text-align: right;\n",
       "    }\n",
       "</style>\n",
       "<table border=\"1\" class=\"dataframe\">\n",
       "  <thead>\n",
       "    <tr style=\"text-align: right;\">\n",
       "      <th></th>\n",
       "      <th>ds</th>\n",
       "      <th>y</th>\n",
       "    </tr>\n",
       "  </thead>\n",
       "  <tbody>\n",
       "    <tr>\n",
       "      <th>0</th>\n",
       "      <td>2019-08-05</td>\n",
       "      <td>60.801357</td>\n",
       "    </tr>\n",
       "    <tr>\n",
       "      <th>1</th>\n",
       "      <td>2019-08-06</td>\n",
       "      <td>61.799473</td>\n",
       "    </tr>\n",
       "    <tr>\n",
       "      <th>2</th>\n",
       "      <td>2019-08-07</td>\n",
       "      <td>60.764050</td>\n",
       "    </tr>\n",
       "    <tr>\n",
       "      <th>3</th>\n",
       "      <td>2019-08-08</td>\n",
       "      <td>62.256550</td>\n",
       "    </tr>\n",
       "    <tr>\n",
       "      <th>4</th>\n",
       "      <td>2019-08-09</td>\n",
       "      <td>61.612904</td>\n",
       "    </tr>\n",
       "  </tbody>\n",
       "</table>\n",
       "</div>"
      ],
      "text/plain": [
       "          ds          y\n",
       "0 2019-08-05  60.801357\n",
       "1 2019-08-06  61.799473\n",
       "2 2019-08-07  60.764050\n",
       "3 2019-08-08  62.256550\n",
       "4 2019-08-09  61.612904"
      ]
     },
     "execution_count": 18,
     "metadata": {},
     "output_type": "execute_result"
    }
   ],
   "source": [
    "df1.head()"
   ]
  },
  {
   "cell_type": "code",
   "execution_count": 19,
   "metadata": {},
   "outputs": [
    {
     "name": "stdout",
     "output_type": "stream",
     "text": [
      "<class 'pandas.core.frame.DataFrame'>\n",
      "RangeIndex: 504 entries, 0 to 503\n",
      "Data columns (total 2 columns):\n",
      " #   Column  Non-Null Count  Dtype         \n",
      "---  ------  --------------  -----         \n",
      " 0   ds      504 non-null    datetime64[ns]\n",
      " 1   y       504 non-null    float64       \n",
      "dtypes: datetime64[ns](1), float64(1)\n",
      "memory usage: 8.0 KB\n"
     ]
    }
   ],
   "source": [
    "df1.info()"
   ]
  },
  {
   "cell_type": "code",
   "execution_count": 20,
   "metadata": {
    "scrolled": true
   },
   "outputs": [
    {
     "data": {
      "text/plain": [
       "<fbprophet.forecaster.Prophet at 0x1b115defb38>"
      ]
     },
     "execution_count": 20,
     "metadata": {},
     "output_type": "execute_result"
    }
   ],
   "source": [
    "prof_1.fit(df1)"
   ]
  },
  {
   "cell_type": "code",
   "execution_count": 21,
   "metadata": {},
   "outputs": [],
   "source": [
    "#Create a new dataframe for the predictions, 3 weeks out\n",
    "future = prof_1.make_future_dataframe(periods=21)"
   ]
  },
  {
   "cell_type": "code",
   "execution_count": 22,
   "metadata": {},
   "outputs": [],
   "source": [
    "forecast = prof_1.predict(future)"
   ]
  },
  {
   "cell_type": "code",
   "execution_count": 23,
   "metadata": {},
   "outputs": [
    {
     "data": {
      "text/html": [
       "<div>\n",
       "<style scoped>\n",
       "    .dataframe tbody tr th:only-of-type {\n",
       "        vertical-align: middle;\n",
       "    }\n",
       "\n",
       "    .dataframe tbody tr th {\n",
       "        vertical-align: top;\n",
       "    }\n",
       "\n",
       "    .dataframe thead th {\n",
       "        text-align: right;\n",
       "    }\n",
       "</style>\n",
       "<table border=\"1\" class=\"dataframe\">\n",
       "  <thead>\n",
       "    <tr style=\"text-align: right;\">\n",
       "      <th></th>\n",
       "      <th>ds</th>\n",
       "      <th>trend</th>\n",
       "      <th>yhat_lower</th>\n",
       "      <th>yhat_upper</th>\n",
       "      <th>trend_lower</th>\n",
       "      <th>trend_upper</th>\n",
       "      <th>additive_terms</th>\n",
       "      <th>additive_terms_lower</th>\n",
       "      <th>additive_terms_upper</th>\n",
       "      <th>daily</th>\n",
       "      <th>...</th>\n",
       "      <th>weekly</th>\n",
       "      <th>weekly_lower</th>\n",
       "      <th>weekly_upper</th>\n",
       "      <th>yearly</th>\n",
       "      <th>yearly_lower</th>\n",
       "      <th>yearly_upper</th>\n",
       "      <th>multiplicative_terms</th>\n",
       "      <th>multiplicative_terms_lower</th>\n",
       "      <th>multiplicative_terms_upper</th>\n",
       "      <th>yhat</th>\n",
       "    </tr>\n",
       "  </thead>\n",
       "  <tbody>\n",
       "    <tr>\n",
       "      <th>520</th>\n",
       "      <td>2021-08-20</td>\n",
       "      <td>68.267361</td>\n",
       "      <td>62.364401</td>\n",
       "      <td>71.711882</td>\n",
       "      <td>67.934749</td>\n",
       "      <td>68.523518</td>\n",
       "      <td>-1.237113</td>\n",
       "      <td>-1.237113</td>\n",
       "      <td>-1.237113</td>\n",
       "      <td>0.05992</td>\n",
       "      <td>...</td>\n",
       "      <td>-0.032221</td>\n",
       "      <td>-0.032221</td>\n",
       "      <td>-0.032221</td>\n",
       "      <td>-1.264811</td>\n",
       "      <td>-1.264811</td>\n",
       "      <td>-1.264811</td>\n",
       "      <td>0.0</td>\n",
       "      <td>0.0</td>\n",
       "      <td>0.0</td>\n",
       "      <td>67.030248</td>\n",
       "    </tr>\n",
       "    <tr>\n",
       "      <th>521</th>\n",
       "      <td>2021-08-21</td>\n",
       "      <td>68.281255</td>\n",
       "      <td>62.535134</td>\n",
       "      <td>71.424529</td>\n",
       "      <td>67.911889</td>\n",
       "      <td>68.594402</td>\n",
       "      <td>-1.322664</td>\n",
       "      <td>-1.322664</td>\n",
       "      <td>-1.322664</td>\n",
       "      <td>0.05992</td>\n",
       "      <td>...</td>\n",
       "      <td>-0.007490</td>\n",
       "      <td>-0.007490</td>\n",
       "      <td>-0.007490</td>\n",
       "      <td>-1.375093</td>\n",
       "      <td>-1.375093</td>\n",
       "      <td>-1.375093</td>\n",
       "      <td>0.0</td>\n",
       "      <td>0.0</td>\n",
       "      <td>0.0</td>\n",
       "      <td>66.958591</td>\n",
       "    </tr>\n",
       "    <tr>\n",
       "      <th>522</th>\n",
       "      <td>2021-08-22</td>\n",
       "      <td>68.295149</td>\n",
       "      <td>62.345419</td>\n",
       "      <td>71.344428</td>\n",
       "      <td>67.879011</td>\n",
       "      <td>68.657887</td>\n",
       "      <td>-1.425161</td>\n",
       "      <td>-1.425161</td>\n",
       "      <td>-1.425161</td>\n",
       "      <td>0.05992</td>\n",
       "      <td>...</td>\n",
       "      <td>-0.007490</td>\n",
       "      <td>-0.007490</td>\n",
       "      <td>-0.007490</td>\n",
       "      <td>-1.477591</td>\n",
       "      <td>-1.477591</td>\n",
       "      <td>-1.477591</td>\n",
       "      <td>0.0</td>\n",
       "      <td>0.0</td>\n",
       "      <td>0.0</td>\n",
       "      <td>66.869988</td>\n",
       "    </tr>\n",
       "    <tr>\n",
       "      <th>523</th>\n",
       "      <td>2021-08-23</td>\n",
       "      <td>68.309044</td>\n",
       "      <td>61.912220</td>\n",
       "      <td>71.655689</td>\n",
       "      <td>67.839100</td>\n",
       "      <td>68.721467</td>\n",
       "      <td>-1.412362</td>\n",
       "      <td>-1.412362</td>\n",
       "      <td>-1.412362</td>\n",
       "      <td>0.05992</td>\n",
       "      <td>...</td>\n",
       "      <td>0.100137</td>\n",
       "      <td>0.100137</td>\n",
       "      <td>0.100137</td>\n",
       "      <td>-1.572419</td>\n",
       "      <td>-1.572419</td>\n",
       "      <td>-1.572419</td>\n",
       "      <td>0.0</td>\n",
       "      <td>0.0</td>\n",
       "      <td>0.0</td>\n",
       "      <td>66.896681</td>\n",
       "    </tr>\n",
       "    <tr>\n",
       "      <th>524</th>\n",
       "      <td>2021-08-24</td>\n",
       "      <td>68.322938</td>\n",
       "      <td>62.107482</td>\n",
       "      <td>71.258398</td>\n",
       "      <td>67.801953</td>\n",
       "      <td>68.790806</td>\n",
       "      <td>-1.673165</td>\n",
       "      <td>-1.673165</td>\n",
       "      <td>-1.673165</td>\n",
       "      <td>0.05992</td>\n",
       "      <td>...</td>\n",
       "      <td>-0.073166</td>\n",
       "      <td>-0.073166</td>\n",
       "      <td>-0.073166</td>\n",
       "      <td>-1.659918</td>\n",
       "      <td>-1.659918</td>\n",
       "      <td>-1.659918</td>\n",
       "      <td>0.0</td>\n",
       "      <td>0.0</td>\n",
       "      <td>0.0</td>\n",
       "      <td>66.649773</td>\n",
       "    </tr>\n",
       "  </tbody>\n",
       "</table>\n",
       "<p>5 rows × 22 columns</p>\n",
       "</div>"
      ],
      "text/plain": [
       "            ds      trend  yhat_lower  yhat_upper  trend_lower  trend_upper  \\\n",
       "520 2021-08-20  68.267361   62.364401   71.711882    67.934749    68.523518   \n",
       "521 2021-08-21  68.281255   62.535134   71.424529    67.911889    68.594402   \n",
       "522 2021-08-22  68.295149   62.345419   71.344428    67.879011    68.657887   \n",
       "523 2021-08-23  68.309044   61.912220   71.655689    67.839100    68.721467   \n",
       "524 2021-08-24  68.322938   62.107482   71.258398    67.801953    68.790806   \n",
       "\n",
       "     additive_terms  additive_terms_lower  additive_terms_upper    daily  ...  \\\n",
       "520       -1.237113             -1.237113             -1.237113  0.05992  ...   \n",
       "521       -1.322664             -1.322664             -1.322664  0.05992  ...   \n",
       "522       -1.425161             -1.425161             -1.425161  0.05992  ...   \n",
       "523       -1.412362             -1.412362             -1.412362  0.05992  ...   \n",
       "524       -1.673165             -1.673165             -1.673165  0.05992  ...   \n",
       "\n",
       "       weekly  weekly_lower  weekly_upper    yearly  yearly_lower  \\\n",
       "520 -0.032221     -0.032221     -0.032221 -1.264811     -1.264811   \n",
       "521 -0.007490     -0.007490     -0.007490 -1.375093     -1.375093   \n",
       "522 -0.007490     -0.007490     -0.007490 -1.477591     -1.477591   \n",
       "523  0.100137      0.100137      0.100137 -1.572419     -1.572419   \n",
       "524 -0.073166     -0.073166     -0.073166 -1.659918     -1.659918   \n",
       "\n",
       "     yearly_upper  multiplicative_terms  multiplicative_terms_lower  \\\n",
       "520     -1.264811                   0.0                         0.0   \n",
       "521     -1.375093                   0.0                         0.0   \n",
       "522     -1.477591                   0.0                         0.0   \n",
       "523     -1.572419                   0.0                         0.0   \n",
       "524     -1.659918                   0.0                         0.0   \n",
       "\n",
       "     multiplicative_terms_upper       yhat  \n",
       "520                         0.0  67.030248  \n",
       "521                         0.0  66.958591  \n",
       "522                         0.0  66.869988  \n",
       "523                         0.0  66.896681  \n",
       "524                         0.0  66.649773  \n",
       "\n",
       "[5 rows x 22 columns]"
      ]
     },
     "execution_count": 23,
     "metadata": {},
     "output_type": "execute_result"
    }
   ],
   "source": [
    "forecast.tail()"
   ]
  },
  {
   "cell_type": "code",
   "execution_count": 24,
   "metadata": {},
   "outputs": [
    {
     "name": "stdout",
     "output_type": "stream",
     "text": [
      "<class 'pandas.core.frame.DataFrame'>\n",
      "RangeIndex: 525 entries, 0 to 524\n",
      "Data columns (total 22 columns):\n",
      " #   Column                      Non-Null Count  Dtype         \n",
      "---  ------                      --------------  -----         \n",
      " 0   ds                          525 non-null    datetime64[ns]\n",
      " 1   trend                       525 non-null    float64       \n",
      " 2   yhat_lower                  525 non-null    float64       \n",
      " 3   yhat_upper                  525 non-null    float64       \n",
      " 4   trend_lower                 525 non-null    float64       \n",
      " 5   trend_upper                 525 non-null    float64       \n",
      " 6   additive_terms              525 non-null    float64       \n",
      " 7   additive_terms_lower        525 non-null    float64       \n",
      " 8   additive_terms_upper        525 non-null    float64       \n",
      " 9   daily                       525 non-null    float64       \n",
      " 10  daily_lower                 525 non-null    float64       \n",
      " 11  daily_upper                 525 non-null    float64       \n",
      " 12  weekly                      525 non-null    float64       \n",
      " 13  weekly_lower                525 non-null    float64       \n",
      " 14  weekly_upper                525 non-null    float64       \n",
      " 15  yearly                      525 non-null    float64       \n",
      " 16  yearly_lower                525 non-null    float64       \n",
      " 17  yearly_upper                525 non-null    float64       \n",
      " 18  multiplicative_terms        525 non-null    float64       \n",
      " 19  multiplicative_terms_lower  525 non-null    float64       \n",
      " 20  multiplicative_terms_upper  525 non-null    float64       \n",
      " 21  yhat                        525 non-null    float64       \n",
      "dtypes: datetime64[ns](1), float64(21)\n",
      "memory usage: 90.4 KB\n"
     ]
    }
   ],
   "source": [
    "forecast.info()"
   ]
  },
  {
   "cell_type": "code",
   "execution_count": 25,
   "metadata": {},
   "outputs": [],
   "source": [
    "proph_pred=forecast['yhat']"
   ]
  },
  {
   "cell_type": "code",
   "execution_count": 26,
   "metadata": {},
   "outputs": [
    {
     "data": {
      "image/png": "[encoded data removed]",
      "text/plain": [
       "<Figure size 720x432 with 1 Axes>"
      ]
     },
     "metadata": {},
     "output_type": "display_data"
    }
   ],
   "source": [
    "prof_1.plot(forecast)\n",
    "plt.show()"
   ]
  },
  {
   "cell_type": "markdown",
   "metadata": {},
   "source": [
    "Thankfully, Prophet has its own cross validation and performance metrics functions to see how well the model performed."
   ]
  },
  {
   "cell_type": "code",
   "execution_count": 27,
   "metadata": {
    "scrolled": false
   },
   "outputs": [
    {
     "name": "stderr",
     "output_type": "stream",
     "text": [
      "INFO:prophet:Making 686 forecasts with cutoffs between 2019-09-04 00:00:00 and 2021-07-20 00:00:00\n",
      "WARNING:prophet:Seasonality has period of 365.25 days which is larger than initial window. Consider increasing initial.\n"
     ]
    },
    {
     "data": {
      "application/vnd.jupyter.widget-view+json": {
       "model_id": "8f135cdf1e94400f8dcb4be528f13a7b",
       "version_major": 2,
       "version_minor": 0
      },
      "text/plain": [
       "  0%|          | 0/686 [00:00<?, ?it/s]"
      ]
     },
     "metadata": {},
     "output_type": "display_data"
    },
    {
     "name": "stderr",
     "output_type": "stream",
     "text": [
      "INFO:fbprophet:n_changepoints greater than number of observations. Using 16.\n",
      "INFO:fbprophet:n_changepoints greater than number of observations. Using 17.\n",
      "INFO:fbprophet:n_changepoints greater than number of observations. Using 18.\n",
      "INFO:fbprophet:n_changepoints greater than number of observations. Using 18.\n",
      "INFO:fbprophet:n_changepoints greater than number of observations. Using 18.\n",
      "INFO:fbprophet:n_changepoints greater than number of observations. Using 19.\n",
      "INFO:fbprophet:n_changepoints greater than number of observations. Using 19.\n",
      "INFO:fbprophet:n_changepoints greater than number of observations. Using 20.\n",
      "INFO:fbprophet:n_changepoints greater than number of observations. Using 21.\n",
      "INFO:fbprophet:n_changepoints greater than number of observations. Using 22.\n",
      "INFO:fbprophet:n_changepoints greater than number of observations. Using 22.\n",
      "INFO:fbprophet:n_changepoints greater than number of observations. Using 22.\n",
      "INFO:fbprophet:n_changepoints greater than number of observations. Using 23.\n",
      "INFO:fbprophet:n_changepoints greater than number of observations. Using 23.\n",
      "INFO:fbprophet:n_changepoints greater than number of observations. Using 24.\n"
     ]
    }
   ],
   "source": [
    "df1_cv = cross_validation(prof_1, initial='30 days', period='1 days', horizon = '14 days')"
   ]
  },
  {
   "cell_type": "code",
   "execution_count": 28,
   "metadata": {},
   "outputs": [],
   "source": [
    "df1_pm = performance_metrics(df1_cv)"
   ]
  },
  {
   "cell_type": "code",
   "execution_count": 29,
   "metadata": {},
   "outputs": [],
   "source": [
    "trains=['30 days','60 days','180 days']\n",
    "tests=['7 days','14 days']"
   ]
  },
  {
   "cell_type": "code",
   "execution_count": 30,
   "metadata": {},
   "outputs": [
    {
     "data": {
      "text/html": [
       "<div>\n",
       "<style scoped>\n",
       "    .dataframe tbody tr th:only-of-type {\n",
       "        vertical-align: middle;\n",
       "    }\n",
       "\n",
       "    .dataframe tbody tr th {\n",
       "        vertical-align: top;\n",
       "    }\n",
       "\n",
       "    .dataframe thead th {\n",
       "        text-align: right;\n",
       "    }\n",
       "</style>\n",
       "<table border=\"1\" class=\"dataframe\">\n",
       "  <thead>\n",
       "    <tr style=\"text-align: right;\">\n",
       "      <th></th>\n",
       "      <th>horizon</th>\n",
       "      <th>mse</th>\n",
       "      <th>rmse</th>\n",
       "      <th>mae</th>\n",
       "      <th>mape</th>\n",
       "      <th>mdape</th>\n",
       "      <th>smape</th>\n",
       "      <th>coverage</th>\n",
       "    </tr>\n",
       "  </thead>\n",
       "  <tbody>\n",
       "    <tr>\n",
       "      <th>8</th>\n",
       "      <td>10 days</td>\n",
       "      <td>708.396596</td>\n",
       "      <td>26.615721</td>\n",
       "      <td>15.584340</td>\n",
       "      <td>0.257049</td>\n",
       "      <td>0.154739</td>\n",
       "      <td>0.262983</td>\n",
       "      <td>0.172758</td>\n",
       "    </tr>\n",
       "    <tr>\n",
       "      <th>9</th>\n",
       "      <td>11 days</td>\n",
       "      <td>1077.200705</td>\n",
       "      <td>32.820736</td>\n",
       "      <td>18.163820</td>\n",
       "      <td>0.298277</td>\n",
       "      <td>0.163035</td>\n",
       "      <td>0.298560</td>\n",
       "      <td>0.162788</td>\n",
       "    </tr>\n",
       "    <tr>\n",
       "      <th>10</th>\n",
       "      <td>12 days</td>\n",
       "      <td>1670.998155</td>\n",
       "      <td>40.877844</td>\n",
       "      <td>21.331844</td>\n",
       "      <td>0.347984</td>\n",
       "      <td>0.163163</td>\n",
       "      <td>0.330071</td>\n",
       "      <td>0.163094</td>\n",
       "    </tr>\n",
       "    <tr>\n",
       "      <th>11</th>\n",
       "      <td>13 days</td>\n",
       "      <td>2095.208052</td>\n",
       "      <td>45.773443</td>\n",
       "      <td>23.585374</td>\n",
       "      <td>0.383391</td>\n",
       "      <td>0.166343</td>\n",
       "      <td>0.348293</td>\n",
       "      <td>0.158863</td>\n",
       "    </tr>\n",
       "    <tr>\n",
       "      <th>12</th>\n",
       "      <td>14 days</td>\n",
       "      <td>2624.437041</td>\n",
       "      <td>51.229260</td>\n",
       "      <td>26.115164</td>\n",
       "      <td>0.422288</td>\n",
       "      <td>0.170746</td>\n",
       "      <td>0.366759</td>\n",
       "      <td>0.156448</td>\n",
       "    </tr>\n",
       "  </tbody>\n",
       "</table>\n",
       "</div>"
      ],
      "text/plain": [
       "   horizon          mse       rmse        mae      mape     mdape     smape  \\\n",
       "8  10 days   708.396596  26.615721  15.584340  0.257049  0.154739  0.262983   \n",
       "9  11 days  1077.200705  32.820736  18.163820  0.298277  0.163035  0.298560   \n",
       "10 12 days  1670.998155  40.877844  21.331844  0.347984  0.163163  0.330071   \n",
       "11 13 days  2095.208052  45.773443  23.585374  0.383391  0.166343  0.348293   \n",
       "12 14 days  2624.437041  51.229260  26.115164  0.422288  0.170746  0.366759   \n",
       "\n",
       "    coverage  \n",
       "8   0.172758  \n",
       "9   0.162788  \n",
       "10  0.163094  \n",
       "11  0.158863  \n",
       "12  0.156448  "
      ]
     },
     "execution_count": 30,
     "metadata": {},
     "output_type": "execute_result"
    }
   ],
   "source": [
    "df1_pm.tail()"
   ]
  },
  {
   "cell_type": "code",
   "execution_count": 31,
   "metadata": {},
   "outputs": [
    {
     "data": {
      "image/png": "[encoded data removed]",
      "text/plain": [
       "<Figure size 720x432 with 1 Axes>"
      ]
     },
     "metadata": {},
     "output_type": "display_data"
    }
   ],
   "source": [
    "fig = plot_cross_validation_metric(df1_cv, metric='mae')"
   ]
  },
  {
   "cell_type": "markdown",
   "metadata": {},
   "source": [
    "## STONKS (Again)!!!"
   ]
  },
  {
   "cell_type": "markdown",
   "metadata": {},
   "source": [
    "Just like in the ARIMA notebook, I want to test a number of train-test splits with Prophet. Since it works a little different from ARIMA, the code will be a little different, but still borrowing a lot. Here, we can import our stock symbols, and clean them up."
   ]
  },
  {
   "cell_type": "code",
   "execution_count": 32,
   "metadata": {},
   "outputs": [],
   "source": [
    "sp_500=pd.read_csv('Data/constituents_csv.csv')\n",
    "nsdq=pd.read_csv('Data/nasdaq.csv')\n",
    "dow_30=pd.read_excel('Data/dow-jones-industrial-average-components.xls')"
   ]
  },
  {
   "cell_type": "markdown",
   "metadata": {},
   "source": [
    "Again, we'll be doing the same things we did in the ARIMA notebook to make the data model-friendly. Like changing the names of the columns in the Dow dataframe."
   ]
  },
  {
   "cell_type": "code",
   "execution_count": 33,
   "metadata": {},
   "outputs": [],
   "source": [
    "new_cols=['Name','Symbol','Weight%']\n",
    "dow_30.columns=new_cols"
   ]
  },
  {
   "cell_type": "code",
   "execution_count": 34,
   "metadata": {
    "scrolled": true
   },
   "outputs": [
    {
     "data": {
      "text/html": [
       "<div>\n",
       "<style scoped>\n",
       "    .dataframe tbody tr th:only-of-type {\n",
       "        vertical-align: middle;\n",
       "    }\n",
       "\n",
       "    .dataframe tbody tr th {\n",
       "        vertical-align: top;\n",
       "    }\n",
       "\n",
       "    .dataframe thead th {\n",
       "        text-align: right;\n",
       "    }\n",
       "</style>\n",
       "<table border=\"1\" class=\"dataframe\">\n",
       "  <thead>\n",
       "    <tr style=\"text-align: right;\">\n",
       "      <th></th>\n",
       "      <th>Unnamed: 0</th>\n",
       "      <th>Symbol</th>\n",
       "      <th>Company Name</th>\n",
       "    </tr>\n",
       "  </thead>\n",
       "  <tbody>\n",
       "    <tr>\n",
       "      <th>0</th>\n",
       "      <td>1</td>\n",
       "      <td>AAL</td>\n",
       "      <td>American Airlines Group, Inc.</td>\n",
       "    </tr>\n",
       "    <tr>\n",
       "      <th>1</th>\n",
       "      <td>2</td>\n",
       "      <td>AAME</td>\n",
       "      <td>Atlantic American Corporation</td>\n",
       "    </tr>\n",
       "    <tr>\n",
       "      <th>2</th>\n",
       "      <td>3</td>\n",
       "      <td>AAOI</td>\n",
       "      <td>Applied Optoelectronics, Inc.</td>\n",
       "    </tr>\n",
       "    <tr>\n",
       "      <th>3</th>\n",
       "      <td>4</td>\n",
       "      <td>AAON</td>\n",
       "      <td>AAON, Inc.</td>\n",
       "    </tr>\n",
       "    <tr>\n",
       "      <th>4</th>\n",
       "      <td>5</td>\n",
       "      <td>AAPL</td>\n",
       "      <td>Apple Inc.</td>\n",
       "    </tr>\n",
       "  </tbody>\n",
       "</table>\n",
       "</div>"
      ],
      "text/plain": [
       "   Unnamed: 0 Symbol                   Company Name\n",
       "0           1    AAL  American Airlines Group, Inc.\n",
       "1           2   AAME  Atlantic American Corporation\n",
       "2           3   AAOI  Applied Optoelectronics, Inc.\n",
       "3           4   AAON                     AAON, Inc.\n",
       "4           5   AAPL                     Apple Inc."
      ]
     },
     "execution_count": 34,
     "metadata": {},
     "output_type": "execute_result"
    }
   ],
   "source": [
    "nsdq.head()"
   ]
  },
  {
   "cell_type": "code",
   "execution_count": 35,
   "metadata": {},
   "outputs": [],
   "source": [
    "nsdq.drop(columns='Unnamed: 0',inplace=True)"
   ]
  },
  {
   "cell_type": "code",
   "execution_count": 36,
   "metadata": {},
   "outputs": [
    {
     "data": {
      "text/plain": [
       "1701"
      ]
     },
     "execution_count": 36,
     "metadata": {},
     "output_type": "execute_result"
    }
   ],
   "source": [
    "len(nsdq)"
   ]
  },
  {
   "cell_type": "markdown",
   "metadata": {},
   "source": [
    "Again, like the ARIMA notebook, this code is to find all the bad stocks (delisted) in the NASDAQ csv file. I've hashed it out because I saved the csv, so it should work just fine. But I kept the code in case I run this in the future and it doesn't work."
   ]
  },
  {
   "cell_type": "code",
   "execution_count": 37,
   "metadata": {},
   "outputs": [],
   "source": [
    "#no_data=[]\n",
    "#for each in nsdq['Symbol']:\n",
    "#    x=yf.Ticker(each)\n",
    "#    df=x.history(period='1d')\n",
    "#    if len(df)==0:\n",
    "#        no_data.append(each)"
   ]
  },
  {
   "cell_type": "code",
   "execution_count": 38,
   "metadata": {},
   "outputs": [],
   "source": [
    "#len(no_data)"
   ]
  },
  {
   "cell_type": "code",
   "execution_count": 39,
   "metadata": {},
   "outputs": [],
   "source": [
    "#nd_index=[]\n",
    "#for each in no_data:\n",
    "#    y=nsdq.loc[nsdq['Symbol']==each].index\n",
    "#    nd_index.append(y[0])"
   ]
  },
  {
   "cell_type": "code",
   "execution_count": 40,
   "metadata": {},
   "outputs": [],
   "source": [
    "#nsdq = nsdq.drop(labels=nd_index,drop=True, axis=0)\n",
    "#nsdq.reset_index()"
   ]
  },
  {
   "cell_type": "code",
   "execution_count": 41,
   "metadata": {},
   "outputs": [],
   "source": [
    "#nsdq.to_csv(\"/Users/Daniel/Documents/Flatiron/Capstone/Project/nasdaq.csv\")"
   ]
  },
  {
   "cell_type": "code",
   "execution_count": 42,
   "metadata": {},
   "outputs": [],
   "source": [
    "def tt_test_p (asset,train_val,test_val):\n",
    "    \"\"\"This function will take in a financial asset (stock, etf, as a string) as well as 2 lists of integers (training and testing days).\n",
    "    Then the asset will be looked up through yahoo finance and gather the price history. It will then run through the values\n",
    "    of the training and testing lists and run prophet models on all of them. It will record the metrics and return a\n",
    "    dataframe with all the results.\"\"\"\n",
    "    \n",
    "    stock = yf.Ticker(asset)\n",
    "    df1=stock.history(period='1y')\n",
    "    print(\"Processing: \",stock)\n",
    "    prof_1 = Prophet(daily_seasonality=True, yearly_seasonality=True)\n",
    "    df1=df1['Close']\n",
    "    df1=df1.to_frame()\n",
    "    df1.index.names = ['ds']\n",
    "    df1.columns=['y']\n",
    "    df1.reset_index(level=0, inplace=True)\n",
    "    prof_1.fit(df1)\n",
    "    future = prof_1.make_future_dataframe(periods=14)\n",
    "    forecast = prof_1.predict(future)\n",
    "    for train_val in trains:\n",
    "        for test_val in tests:\n",
    "            df1_cv = cross_validation(prof_1, initial=train_val, period='1 days', horizon = test_val)\n",
    "            df1_pm = performance_metrics(df1_cv)\n",
    "            print('Training: ', train_val)\n",
    "            print('Testing: ', test_val)\n",
    "            print (df1_pm.tail())             \n",
    "\n",
    "    return forecast"
   ]
  },
  {
   "cell_type": "code",
   "execution_count": 43,
   "metadata": {},
   "outputs": [
    {
     "data": {
      "text/html": [
       "<div>\n",
       "<style scoped>\n",
       "    .dataframe tbody tr th:only-of-type {\n",
       "        vertical-align: middle;\n",
       "    }\n",
       "\n",
       "    .dataframe tbody tr th {\n",
       "        vertical-align: top;\n",
       "    }\n",
       "\n",
       "    .dataframe thead th {\n",
       "        text-align: right;\n",
       "    }\n",
       "</style>\n",
       "<table border=\"1\" class=\"dataframe\">\n",
       "  <thead>\n",
       "    <tr style=\"text-align: right;\">\n",
       "      <th></th>\n",
       "      <th>index</th>\n",
       "      <th>Symbol</th>\n",
       "      <th>Train_Len</th>\n",
       "      <th>Test_Len</th>\n",
       "      <th>MAE</th>\n",
       "      <th>RMSE</th>\n",
       "    </tr>\n",
       "  </thead>\n",
       "  <tbody>\n",
       "  </tbody>\n",
       "</table>\n",
       "</div>"
      ],
      "text/plain": [
       "Empty DataFrame\n",
       "Columns: [index, Symbol, Train_Len, Test_Len, MAE, RMSE]\n",
       "Index: []"
      ]
     },
     "execution_count": 43,
     "metadata": {},
     "output_type": "execute_result"
    }
   ],
   "source": [
    "cols2=['Symbol','Train_Len','Test_Len','MAE','RMSE']\n",
    "reslts = pd.DataFrame(columns=cols2)\n",
    "reslts.reset_index()"
   ]
  },
  {
   "cell_type": "code",
   "execution_count": 44,
   "metadata": {
    "scrolled": false
   },
   "outputs": [
    {
     "name": "stdout",
     "output_type": "stream",
     "text": [
      "Processing:  yfinance.Ticker object <CAT>\n"
     ]
    },
    {
     "name": "stderr",
     "output_type": "stream",
     "text": [
      "INFO:prophet:Making 328 forecasts with cutoffs between 2020-09-03 00:00:00 and 2021-07-27 00:00:00\n",
      "WARNING:prophet:Seasonality has period of 365.25 days which is larger than initial window. Consider increasing initial.\n"
     ]
    },
    {
     "data": {
      "application/vnd.jupyter.widget-view+json": {
       "model_id": "8f6b736009f14ad291121731bc88f633",
       "version_major": 2,
       "version_minor": 0
      },
      "text/plain": [
       "  0%|          | 0/328 [00:00<?, ?it/s]"
      ]
     },
     "metadata": {},
     "output_type": "display_data"
    },
    {
     "name": "stderr",
     "output_type": "stream",
     "text": [
      "INFO:fbprophet:n_changepoints greater than number of observations. Using 17.\n",
      "INFO:fbprophet:n_changepoints greater than number of observations. Using 18.\n",
      "INFO:fbprophet:n_changepoints greater than number of observations. Using 18.\n",
      "INFO:fbprophet:n_changepoints greater than number of observations. Using 18.\n",
      "INFO:fbprophet:n_changepoints greater than number of observations. Using 18.\n",
      "INFO:fbprophet:n_changepoints greater than number of observations. Using 19.\n",
      "INFO:fbprophet:n_changepoints greater than number of observations. Using 19.\n",
      "INFO:fbprophet:n_changepoints greater than number of observations. Using 20.\n",
      "INFO:fbprophet:n_changepoints greater than number of observations. Using 21.\n",
      "INFO:fbprophet:n_changepoints greater than number of observations. Using 21.\n",
      "INFO:fbprophet:n_changepoints greater than number of observations. Using 21.\n",
      "INFO:fbprophet:n_changepoints greater than number of observations. Using 22.\n",
      "INFO:fbprophet:n_changepoints greater than number of observations. Using 23.\n",
      "INFO:fbprophet:n_changepoints greater than number of observations. Using 23.\n",
      "INFO:fbprophet:n_changepoints greater than number of observations. Using 24.\n",
      "INFO:prophet:Making 321 forecasts with cutoffs between 2020-09-03 00:00:00 and 2021-07-20 00:00:00\n"
     ]
    },
    {
     "name": "stdout",
     "output_type": "stream",
     "text": [
      "Training:  30 days\n",
      "Testing:  7 days\n",
      "  horizon          mse       rmse        mae      mape     mdape     smape  \\\n",
      "2  3 days   317.237723  17.811168  14.239748  0.075192  0.056638  0.074894   \n",
      "3  4 days   562.571507  23.718590  19.077743  0.101273  0.082723  0.101006   \n",
      "4  5 days   938.942701  30.642172  24.482679  0.131240  0.101526  0.132553   \n",
      "5  6 days  1391.340581  37.300678  29.146991  0.158029  0.114836  0.163535   \n",
      "6  7 days  2288.854841  47.841978  36.358471  0.198461  0.132797  0.212785   \n",
      "\n",
      "   coverage  \n",
      "2  0.137168  \n",
      "3  0.137168  \n",
      "4  0.119469  \n",
      "5  0.106195  \n",
      "6  0.088496  \n"
     ]
    },
    {
     "name": "stderr",
     "output_type": "stream",
     "text": [
      "WARNING:prophet:Seasonality has period of 365.25 days which is larger than initial window. Consider increasing initial.\n"
     ]
    },
    {
     "data": {
      "application/vnd.jupyter.widget-view+json": {
       "model_id": "ed5c983219b0472490def9d11909ecbc",
       "version_major": 2,
       "version_minor": 0
      },
      "text/plain": [
       "  0%|          | 0/321 [00:00<?, ?it/s]"
      ]
     },
     "metadata": {},
     "output_type": "display_data"
    },
    {
     "name": "stderr",
     "output_type": "stream",
     "text": [
      "INFO:fbprophet:n_changepoints greater than number of observations. Using 17.\n",
      "INFO:fbprophet:n_changepoints greater than number of observations. Using 18.\n",
      "INFO:fbprophet:n_changepoints greater than number of observations. Using 18.\n",
      "INFO:fbprophet:n_changepoints greater than number of observations. Using 18.\n",
      "INFO:fbprophet:n_changepoints greater than number of observations. Using 18.\n",
      "INFO:fbprophet:n_changepoints greater than number of observations. Using 19.\n",
      "INFO:fbprophet:n_changepoints greater than number of observations. Using 19.\n",
      "INFO:fbprophet:n_changepoints greater than number of observations. Using 20.\n",
      "INFO:fbprophet:n_changepoints greater than number of observations. Using 21.\n",
      "INFO:fbprophet:n_changepoints greater than number of observations. Using 21.\n",
      "INFO:fbprophet:n_changepoints greater than number of observations. Using 21.\n",
      "INFO:fbprophet:n_changepoints greater than number of observations. Using 22.\n",
      "INFO:fbprophet:n_changepoints greater than number of observations. Using 23.\n",
      "INFO:fbprophet:n_changepoints greater than number of observations. Using 23.\n",
      "INFO:fbprophet:n_changepoints greater than number of observations. Using 24.\n",
      "INFO:prophet:Making 298 forecasts with cutoffs between 2020-10-03 00:00:00 and 2021-07-27 00:00:00\n"
     ]
    },
    {
     "name": "stdout",
     "output_type": "stream",
     "text": [
      "Training:  30 days\n",
      "Testing:  14 days\n",
      "   horizon           mse        rmse         mae      mape     mdape  \\\n",
      "8  10 days  12065.430352  109.842753   79.481933  0.443920  0.268827   \n",
      "9  11 days  17229.950420  131.262906   95.000350  0.531911  0.323520   \n",
      "10 12 days  24902.059199  157.803863  113.028945  0.634394  0.349536   \n",
      "11 13 days  34933.308085  186.904543  130.845407  0.738764  0.398833   \n",
      "12 14 days  47485.113160  217.910792  148.505635  0.841495  0.369823   \n",
      "\n",
      "       smape  coverage  \n",
      "8   0.440157  0.038044  \n",
      "9   0.496958  0.037304  \n",
      "10  0.559694  0.049098  \n",
      "11  0.607810  0.044590  \n",
      "12  0.646863  0.031015  \n"
     ]
    },
    {
     "name": "stderr",
     "output_type": "stream",
     "text": [
      "WARNING:prophet:Seasonality has period of 365.25 days which is larger than initial window. Consider increasing initial.\n"
     ]
    },
    {
     "data": {
      "application/vnd.jupyter.widget-view+json": {
       "model_id": "7566791c18f94fce92280eecebe35565",
       "version_major": 2,
       "version_minor": 0
      },
      "text/plain": [
       "  0%|          | 0/298 [00:00<?, ?it/s]"
      ]
     },
     "metadata": {},
     "output_type": "display_data"
    },
    {
     "name": "stderr",
     "output_type": "stream",
     "text": [
      "INFO:prophet:Making 291 forecasts with cutoffs between 2020-10-03 00:00:00 and 2021-07-20 00:00:00\n"
     ]
    },
    {
     "name": "stdout",
     "output_type": "stream",
     "text": [
      "Training:  60 days\n",
      "Testing:  7 days\n",
      "  horizon          mse       rmse        mae      mape     mdape     smape  \\\n",
      "2  3 days   302.804179  17.401269  13.782396  0.069888  0.055163  0.070182   \n",
      "3  4 days   532.218684  23.069865  18.395090  0.093560  0.079689  0.094755   \n",
      "4  5 days   878.445927  29.638588  23.589877  0.121141  0.096528  0.124811   \n",
      "5  6 days  1272.697427  35.674885  27.581536  0.142919  0.104242  0.148239   \n",
      "6  7 days  2062.086772  45.410206  33.966957  0.176925  0.125132  0.187936   \n",
      "\n",
      "   coverage  \n",
      "2  0.160194  \n",
      "3  0.156098  \n",
      "4  0.122549  \n",
      "5  0.112745  \n",
      "6  0.098039  \n"
     ]
    },
    {
     "name": "stderr",
     "output_type": "stream",
     "text": [
      "WARNING:prophet:Seasonality has period of 365.25 days which is larger than initial window. Consider increasing initial.\n"
     ]
    },
    {
     "data": {
      "application/vnd.jupyter.widget-view+json": {
       "model_id": "ba9bb9b7cfe74543ba899f4cb1687707",
       "version_major": 2,
       "version_minor": 0
      },
      "text/plain": [
       "  0%|          | 0/291 [00:00<?, ?it/s]"
      ]
     },
     "metadata": {},
     "output_type": "display_data"
    },
    {
     "name": "stderr",
     "output_type": "stream",
     "text": [
      "INFO:prophet:Making 178 forecasts with cutoffs between 2021-01-31 00:00:00 and 2021-07-27 00:00:00\n",
      "WARNING:prophet:Seasonality has period of 365.25 days which is larger than initial window. Consider increasing initial.\n"
     ]
    },
    {
     "name": "stdout",
     "output_type": "stream",
     "text": [
      "Training:  60 days\n",
      "Testing:  14 days\n",
      "   horizon           mse        rmse         mae      mape     mdape  \\\n",
      "8  10 days  10303.580399  101.506553   73.107211  0.391111  0.252126   \n",
      "9  11 days  14300.197707  119.583434   85.887449  0.459296  0.268827   \n",
      "10 12 days  20246.239912  142.289282  100.993194  0.540672  0.338022   \n",
      "11 13 days  27463.387837  165.720813  114.776833  0.616178  0.356709   \n",
      "12 14 days  37503.494329  193.658189  129.484589  0.697977  0.354018   \n",
      "\n",
      "       smape  coverage  \n",
      "8   0.406558  0.041994  \n",
      "9   0.455322  0.044937  \n",
      "10  0.506837  0.052330  \n",
      "11  0.543278  0.048108  \n",
      "12  0.576568  0.030889  \n"
     ]
    },
    {
     "data": {
      "application/vnd.jupyter.widget-view+json": {
       "model_id": "3fa6e8d8aeb04d53b8b4694b765af371",
       "version_major": 2,
       "version_minor": 0
      },
      "text/plain": [
       "  0%|          | 0/178 [00:00<?, ?it/s]"
      ]
     },
     "metadata": {},
     "output_type": "display_data"
    },
    {
     "name": "stderr",
     "output_type": "stream",
     "text": [
      "INFO:prophet:Making 171 forecasts with cutoffs between 2021-01-31 00:00:00 and 2021-07-20 00:00:00\n",
      "WARNING:prophet:Seasonality has period of 365.25 days which is larger than initial window. Consider increasing initial.\n"
     ]
    },
    {
     "name": "stdout",
     "output_type": "stream",
     "text": [
      "Training:  180 days\n",
      "Testing:  7 days\n",
      "  horizon          mse       rmse        mae      mape     mdape     smape  \\\n",
      "2  3 days   309.340762  17.588086  14.270664  0.065365  0.055645  0.065805   \n",
      "3  4 days   526.912412  22.954573  18.457258  0.084528  0.073343  0.085351   \n",
      "4  5 days   743.233789  27.262314  22.117854  0.101236  0.090483  0.101718   \n",
      "5  6 days   881.238083  29.685654  24.020261  0.109805  0.091335  0.110217   \n",
      "6  7 days  1235.640860  35.151684  27.916653  0.127171  0.102973  0.129374   \n",
      "\n",
      "   coverage  \n",
      "2  0.169355  \n",
      "3  0.154472  \n",
      "4  0.163934  \n",
      "5  0.155738  \n",
      "6  0.113821  \n"
     ]
    },
    {
     "data": {
      "application/vnd.jupyter.widget-view+json": {
       "model_id": "0953258a3db249a28491569541dd5c19",
       "version_major": 2,
       "version_minor": 0
      },
      "text/plain": [
       "  0%|          | 0/171 [00:00<?, ?it/s]"
      ]
     },
     "metadata": {},
     "output_type": "display_data"
    },
    {
     "name": "stdout",
     "output_type": "stream",
     "text": [
      "Training:  180 days\n",
      "Testing:  14 days\n",
      "   horizon          mse       rmse        mae      mape     mdape     smape  \\\n",
      "8  10 days  3769.509458  61.396331  48.749029  0.221178  0.212934  0.233976   \n",
      "9  11 days  5102.962464  71.435023  56.704838  0.257303  0.257644  0.276871   \n",
      "10 12 days  6529.988835  80.808346  64.867142  0.293623  0.260189  0.313857   \n",
      "11 13 days  7367.534397  85.834343  69.122660  0.312323  0.276769  0.330714   \n",
      "12 14 days  8408.050210  91.695421  72.768689  0.328835  0.313372  0.345726   \n",
      "\n",
      "    coverage  \n",
      "8   0.064884  \n",
      "9   0.073695  \n",
      "10  0.094915  \n",
      "11  0.078322  \n",
      "12  0.049780  \n"
     ]
    }
   ],
   "source": [
    "results_CAT=tt_test_p('CAT',trains,tests)"
   ]
  },
  {
   "cell_type": "code",
   "execution_count": 45,
   "metadata": {},
   "outputs": [
    {
     "name": "stdout",
     "output_type": "stream",
     "text": [
      "Processing:  yfinance.Ticker object <MMM>\n"
     ]
    },
    {
     "name": "stderr",
     "output_type": "stream",
     "text": [
      "INFO:prophet:Making 328 forecasts with cutoffs between 2020-09-03 00:00:00 and 2021-07-27 00:00:00\n",
      "WARNING:prophet:Seasonality has period of 365.25 days which is larger than initial window. Consider increasing initial.\n"
     ]
    },
    {
     "data": {
      "application/vnd.jupyter.widget-view+json": {
       "model_id": "730f6393caa940779505fb1f5011e349",
       "version_major": 2,
       "version_minor": 0
      },
      "text/plain": [
       "  0%|          | 0/328 [00:00<?, ?it/s]"
      ]
     },
     "metadata": {},
     "output_type": "display_data"
    },
    {
     "name": "stderr",
     "output_type": "stream",
     "text": [
      "INFO:fbprophet:n_changepoints greater than number of observations. Using 17.\n",
      "INFO:fbprophet:n_changepoints greater than number of observations. Using 18.\n",
      "INFO:fbprophet:n_changepoints greater than number of observations. Using 18.\n",
      "INFO:fbprophet:n_changepoints greater than number of observations. Using 18.\n",
      "INFO:fbprophet:n_changepoints greater than number of observations. Using 18.\n",
      "INFO:fbprophet:n_changepoints greater than number of observations. Using 19.\n",
      "INFO:fbprophet:n_changepoints greater than number of observations. Using 19.\n",
      "INFO:fbprophet:n_changepoints greater than number of observations. Using 20.\n",
      "INFO:fbprophet:n_changepoints greater than number of observations. Using 21.\n",
      "INFO:fbprophet:n_changepoints greater than number of observations. Using 21.\n",
      "INFO:fbprophet:n_changepoints greater than number of observations. Using 21.\n",
      "INFO:fbprophet:n_changepoints greater than number of observations. Using 22.\n",
      "INFO:fbprophet:n_changepoints greater than number of observations. Using 23.\n",
      "INFO:fbprophet:n_changepoints greater than number of observations. Using 23.\n",
      "INFO:fbprophet:n_changepoints greater than number of observations. Using 24.\n",
      "INFO:prophet:Making 321 forecasts with cutoffs between 2020-09-03 00:00:00 and 2021-07-20 00:00:00\n",
      "WARNING:prophet:Seasonality has period of 365.25 days which is larger than initial window. Consider increasing initial.\n"
     ]
    },
    {
     "name": "stdout",
     "output_type": "stream",
     "text": [
      "Training:  30 days\n",
      "Testing:  7 days\n",
      "  horizon          mse       rmse        mae      mape     mdape     smape  \\\n",
      "2  3 days   139.466210  11.809581   8.349757  0.048127  0.031713  0.047792   \n",
      "3  4 days   279.335031  16.713319  11.306432  0.065510  0.043007  0.065028   \n",
      "4  5 days   534.676578  23.123075  14.759982  0.085979  0.053371  0.086109   \n",
      "5  6 days   836.300062  28.918853  18.654586  0.109228  0.062942  0.111375   \n",
      "6  7 days  1585.800818  39.822115  25.029876  0.147186  0.077217  0.156173   \n",
      "\n",
      "   coverage  \n",
      "2  0.230088  \n",
      "3  0.181416  \n",
      "4  0.141593  \n",
      "5  0.106195  \n",
      "6  0.088496  \n"
     ]
    },
    {
     "data": {
      "application/vnd.jupyter.widget-view+json": {
       "model_id": "772185d0589c4e71a954bff5e63c8c50",
       "version_major": 2,
       "version_minor": 0
      },
      "text/plain": [
       "  0%|          | 0/321 [00:00<?, ?it/s]"
      ]
     },
     "metadata": {},
     "output_type": "display_data"
    },
    {
     "name": "stderr",
     "output_type": "stream",
     "text": [
      "INFO:fbprophet:n_changepoints greater than number of observations. Using 17.\n",
      "INFO:fbprophet:n_changepoints greater than number of observations. Using 18.\n",
      "INFO:fbprophet:n_changepoints greater than number of observations. Using 18.\n",
      "INFO:fbprophet:n_changepoints greater than number of observations. Using 18.\n",
      "INFO:fbprophet:n_changepoints greater than number of observations. Using 18.\n",
      "INFO:fbprophet:n_changepoints greater than number of observations. Using 19.\n",
      "INFO:fbprophet:n_changepoints greater than number of observations. Using 19.\n",
      "INFO:fbprophet:n_changepoints greater than number of observations. Using 20.\n",
      "INFO:fbprophet:n_changepoints greater than number of observations. Using 21.\n",
      "INFO:fbprophet:n_changepoints greater than number of observations. Using 21.\n",
      "INFO:fbprophet:n_changepoints greater than number of observations. Using 21.\n",
      "INFO:fbprophet:n_changepoints greater than number of observations. Using 22.\n",
      "INFO:fbprophet:n_changepoints greater than number of observations. Using 23.\n",
      "INFO:fbprophet:n_changepoints greater than number of observations. Using 23.\n",
      "INFO:fbprophet:n_changepoints greater than number of observations. Using 24.\n"
     ]
    },
    {
     "name": "stdout",
     "output_type": "stream",
     "text": [
      "Training:  30 days\n",
      "Testing:  14 days\n",
      "   horizon           mse        rmse         mae      mape     mdape  \\\n",
      "8  10 days  10976.326996  104.767967   57.082954  0.339667  0.135933   \n",
      "9  11 days  16618.004267  128.910838   68.016814  0.405356  0.132414   \n",
      "10 12 days  23779.116989  154.204789   78.244871  0.466481  0.144581   \n",
      "11 13 days  30715.055614  175.257113   90.270134  0.537170  0.170846   \n",
      "12 14 days  42388.054849  205.883595  107.976232  0.641144  0.154714   \n",
      "\n",
      "       smape  coverage  \n",
      "8   0.327688  0.018627  \n",
      "9   0.357311  0.019986  \n",
      "10  0.382902  0.025832  \n",
      "11  0.409527  0.020677  \n",
      "12  0.444054  0.014863  \n"
     ]
    },
    {
     "name": "stderr",
     "output_type": "stream",
     "text": [
      "INFO:prophet:Making 298 forecasts with cutoffs between 2020-10-03 00:00:00 and 2021-07-27 00:00:00\n",
      "WARNING:prophet:Seasonality has period of 365.25 days which is larger than initial window. Consider increasing initial.\n"
     ]
    },
    {
     "data": {
      "application/vnd.jupyter.widget-view+json": {
       "model_id": "877b102959bd4fefb033d84de46e86a3",
       "version_major": 2,
       "version_minor": 0
      },
      "text/plain": [
       "  0%|          | 0/298 [00:00<?, ?it/s]"
      ]
     },
     "metadata": {},
     "output_type": "display_data"
    },
    {
     "name": "stderr",
     "output_type": "stream",
     "text": [
      "INFO:prophet:Making 291 forecasts with cutoffs between 2020-10-03 00:00:00 and 2021-07-20 00:00:00\n"
     ]
    },
    {
     "name": "stdout",
     "output_type": "stream",
     "text": [
      "Training:  60 days\n",
      "Testing:  7 days\n",
      "  horizon          mse       rmse        mae      mape     mdape     smape  \\\n",
      "2  3 days   105.664869  10.279342   7.555554  0.042627  0.030875  0.042743   \n",
      "3  4 days   193.762692  13.919867   9.982810  0.056490  0.039897  0.056911   \n",
      "4  5 days   380.842129  19.515177  12.923577  0.073578  0.050095  0.075337   \n",
      "5  6 days   646.819158  25.432640  16.342198  0.093775  0.057218  0.097567   \n",
      "6  7 days  1168.770695  34.187288  21.602745  0.124519  0.072167  0.134029   \n",
      "\n",
      "   coverage  \n",
      "2  0.237864  \n",
      "3  0.180488  \n",
      "4  0.156863  \n",
      "5  0.117647  \n",
      "6  0.093137  \n"
     ]
    },
    {
     "name": "stderr",
     "output_type": "stream",
     "text": [
      "WARNING:prophet:Seasonality has period of 365.25 days which is larger than initial window. Consider increasing initial.\n"
     ]
    },
    {
     "data": {
      "application/vnd.jupyter.widget-view+json": {
       "model_id": "ec5d9c3905274d919a98a5ee2ec6ebc7",
       "version_major": 2,
       "version_minor": 0
      },
      "text/plain": [
       "  0%|          | 0/291 [00:00<?, ?it/s]"
      ]
     },
     "metadata": {},
     "output_type": "display_data"
    },
    {
     "name": "stderr",
     "output_type": "stream",
     "text": [
      "INFO:prophet:Making 178 forecasts with cutoffs between 2021-01-31 00:00:00 and 2021-07-27 00:00:00\n",
      "WARNING:prophet:Seasonality has period of 365.25 days which is larger than initial window. Consider increasing initial.\n"
     ]
    },
    {
     "name": "stdout",
     "output_type": "stream",
     "text": [
      "Training:  60 days\n",
      "Testing:  14 days\n",
      "   horizon           mse        rmse        mae      mape     mdape     smape  \\\n",
      "8  10 days   6783.394970   82.361368  45.735213  0.266663  0.125816  0.270930   \n",
      "9  11 days   9349.044843   96.690459  52.113672  0.304047  0.137946  0.292475   \n",
      "10 12 days  13560.905458  116.451301  59.524967  0.347727  0.144581  0.317978   \n",
      "11 13 days  19442.240448  139.435435  70.514030  0.412237  0.159719  0.344488   \n",
      "12 14 days  28164.262483  167.822116  85.829953  0.501671  0.153406  0.379597   \n",
      "\n",
      "    coverage  \n",
      "8   0.016905  \n",
      "9   0.020739  \n",
      "10  0.028674  \n",
      "11  0.019398  \n",
      "12  0.015075  \n"
     ]
    },
    {
     "data": {
      "application/vnd.jupyter.widget-view+json": {
       "model_id": "d4233a52515c4bb3ab31141269acc708",
       "version_major": 2,
       "version_minor": 0
      },
      "text/plain": [
       "  0%|          | 0/178 [00:00<?, ?it/s]"
      ]
     },
     "metadata": {},
     "output_type": "display_data"
    },
    {
     "name": "stderr",
     "output_type": "stream",
     "text": [
      "INFO:prophet:Making 171 forecasts with cutoffs between 2021-01-31 00:00:00 and 2021-07-20 00:00:00\n",
      "WARNING:prophet:Seasonality has period of 365.25 days which is larger than initial window. Consider increasing initial.\n"
     ]
    },
    {
     "name": "stdout",
     "output_type": "stream",
     "text": [
      "Training:  180 days\n",
      "Testing:  7 days\n",
      "  horizon         mse       rmse        mae      mape     mdape     smape  \\\n",
      "2  3 days   52.969184   7.277993   5.755069  0.029829  0.024873  0.029652   \n",
      "3  4 days   80.152006   8.952765   7.125394  0.036884  0.032786  0.036658   \n",
      "4  5 days  109.216671  10.450678   8.338567  0.043146  0.035153  0.043050   \n",
      "5  6 days  129.601070  11.384247   9.332779  0.048214  0.040037  0.048163   \n",
      "6  7 days  192.925185  13.889751  11.259884  0.058074  0.054553  0.057732   \n",
      "\n",
      "   coverage  \n",
      "2  0.266129  \n",
      "3  0.235772  \n",
      "4  0.196721  \n",
      "5  0.139344  \n",
      "6  0.146341  \n"
     ]
    },
    {
     "data": {
      "application/vnd.jupyter.widget-view+json": {
       "model_id": "09a5dcd18bab4bfdac5eaa5e150a9926",
       "version_major": 2,
       "version_minor": 0
      },
      "text/plain": [
       "  0%|          | 0/171 [00:00<?, ?it/s]"
      ]
     },
     "metadata": {},
     "output_type": "display_data"
    },
    {
     "name": "stdout",
     "output_type": "stream",
     "text": [
      "Training:  180 days\n",
      "Testing:  14 days\n",
      "   horizon          mse       rmse        mae      mape     mdape     smape  \\\n",
      "8  10 days   542.687478  23.295654  19.169271  0.098512  0.091363  0.097542   \n",
      "9  11 days   681.454041  26.104675  21.389466  0.109816  0.099595  0.108489   \n",
      "10 12 days   809.272844  28.447721  23.393312  0.120019  0.099364  0.119370   \n",
      "11 13 days   931.399593  30.518840  25.322030  0.129786  0.114424  0.129481   \n",
      "12 14 days  1149.351429  33.902086  28.103998  0.143925  0.118140  0.142564   \n",
      "\n",
      "    coverage  \n",
      "8   0.028520  \n",
      "9   0.029030  \n",
      "10  0.040164  \n",
      "11  0.036674  \n",
      "12  0.027920  \n"
     ]
    }
   ],
   "source": [
    "results_MMM=tt_test_p('MMM',trains,tests)"
   ]
  },
  {
   "cell_type": "code",
   "execution_count": 46,
   "metadata": {},
   "outputs": [
    {
     "name": "stdout",
     "output_type": "stream",
     "text": [
      "Processing:  yfinance.Ticker object <AXP>\n"
     ]
    },
    {
     "name": "stderr",
     "output_type": "stream",
     "text": [
      "INFO:prophet:Making 328 forecasts with cutoffs between 2020-09-03 00:00:00 and 2021-07-27 00:00:00\n",
      "WARNING:prophet:Seasonality has period of 365.25 days which is larger than initial window. Consider increasing initial.\n"
     ]
    },
    {
     "data": {
      "application/vnd.jupyter.widget-view+json": {
       "model_id": "73fd3245e89c4412b70500c1dfc79e6d",
       "version_major": 2,
       "version_minor": 0
      },
      "text/plain": [
       "  0%|          | 0/328 [00:00<?, ?it/s]"
      ]
     },
     "metadata": {},
     "output_type": "display_data"
    },
    {
     "name": "stderr",
     "output_type": "stream",
     "text": [
      "INFO:fbprophet:n_changepoints greater than number of observations. Using 17.\n",
      "INFO:fbprophet:n_changepoints greater than number of observations. Using 18.\n",
      "INFO:fbprophet:n_changepoints greater than number of observations. Using 18.\n",
      "INFO:fbprophet:n_changepoints greater than number of observations. Using 18.\n",
      "INFO:fbprophet:n_changepoints greater than number of observations. Using 18.\n",
      "INFO:fbprophet:n_changepoints greater than number of observations. Using 19.\n",
      "INFO:fbprophet:n_changepoints greater than number of observations. Using 19.\n",
      "INFO:fbprophet:n_changepoints greater than number of observations. Using 20.\n",
      "INFO:fbprophet:n_changepoints greater than number of observations. Using 21.\n",
      "INFO:fbprophet:n_changepoints greater than number of observations. Using 21.\n",
      "INFO:fbprophet:n_changepoints greater than number of observations. Using 21.\n",
      "INFO:fbprophet:n_changepoints greater than number of observations. Using 22.\n",
      "INFO:fbprophet:n_changepoints greater than number of observations. Using 23.\n",
      "INFO:fbprophet:n_changepoints greater than number of observations. Using 23.\n",
      "INFO:fbprophet:n_changepoints greater than number of observations. Using 24.\n",
      "INFO:prophet:Making 321 forecasts with cutoffs between 2020-09-03 00:00:00 and 2021-07-20 00:00:00\n"
     ]
    },
    {
     "name": "stdout",
     "output_type": "stream",
     "text": [
      "Training:  30 days\n",
      "Testing:  7 days\n",
      "  horizon          mse       rmse        mae      mape     mdape     smape  \\\n",
      "2  3 days   234.686084  15.319467  11.762519  0.095693  0.075089  0.095854   \n",
      "3  4 days   470.578094  21.692812  16.357233  0.134409  0.100106  0.135424   \n",
      "4  5 days   825.576878  28.732854  21.034906  0.174678  0.125905  0.183292   \n",
      "5  6 days  1277.009494  35.735270  25.643243  0.214847  0.140364  0.231832   \n",
      "6  7 days  2278.788748  47.736660  33.749117  0.285066  0.165691  0.309098   \n",
      "\n",
      "   coverage  \n",
      "2  0.221239  \n",
      "3  0.168142  \n",
      "4  0.146018  \n",
      "5  0.132743  \n",
      "6  0.079646  \n"
     ]
    },
    {
     "name": "stderr",
     "output_type": "stream",
     "text": [
      "WARNING:prophet:Seasonality has period of 365.25 days which is larger than initial window. Consider increasing initial.\n"
     ]
    },
    {
     "data": {
      "application/vnd.jupyter.widget-view+json": {
       "model_id": "6edac5bd4cd246a9984383d1d208b3db",
       "version_major": 2,
       "version_minor": 0
      },
      "text/plain": [
       "  0%|          | 0/321 [00:00<?, ?it/s]"
      ]
     },
     "metadata": {},
     "output_type": "display_data"
    },
    {
     "name": "stderr",
     "output_type": "stream",
     "text": [
      "INFO:fbprophet:n_changepoints greater than number of observations. Using 17.\n",
      "INFO:fbprophet:n_changepoints greater than number of observations. Using 18.\n",
      "INFO:fbprophet:n_changepoints greater than number of observations. Using 18.\n",
      "INFO:fbprophet:n_changepoints greater than number of observations. Using 18.\n",
      "INFO:fbprophet:n_changepoints greater than number of observations. Using 18.\n",
      "INFO:fbprophet:n_changepoints greater than number of observations. Using 19.\n",
      "INFO:fbprophet:n_changepoints greater than number of observations. Using 19.\n",
      "INFO:fbprophet:n_changepoints greater than number of observations. Using 20.\n",
      "INFO:fbprophet:n_changepoints greater than number of observations. Using 21.\n",
      "INFO:fbprophet:n_changepoints greater than number of observations. Using 21.\n",
      "INFO:fbprophet:n_changepoints greater than number of observations. Using 21.\n",
      "INFO:fbprophet:n_changepoints greater than number of observations. Using 22.\n",
      "INFO:fbprophet:n_changepoints greater than number of observations. Using 23.\n",
      "INFO:fbprophet:n_changepoints greater than number of observations. Using 23.\n",
      "INFO:fbprophet:n_changepoints greater than number of observations. Using 24.\n"
     ]
    },
    {
     "name": "stdout",
     "output_type": "stream",
     "text": [
      "Training:  30 days\n",
      "Testing:  14 days\n",
      "   horizon           mse        rmse         mae      mape     mdape  \\\n",
      "8  10 days  11623.804649  107.813750   71.257586  0.611005  0.306464   \n",
      "9  11 days  17093.551857  130.742311   85.298104  0.734192  0.326580   \n",
      "10 12 days  25033.285288  158.219105  100.865282  0.870922  0.370810   \n",
      "11 13 days  35237.141452  187.715587  117.674047  1.019692  0.443866   \n",
      "12 14 days  49984.055934  223.571143  138.617226  1.205960  0.382699   \n",
      "\n",
      "       smape  coverage  \n",
      "8   0.519949  0.030298  \n",
      "9   0.573523  0.025059  \n",
      "10  0.625700  0.016123  \n",
      "11  0.661512  0.013575  \n",
      "12  0.697163  0.016811  \n"
     ]
    },
    {
     "name": "stderr",
     "output_type": "stream",
     "text": [
      "INFO:prophet:Making 298 forecasts with cutoffs between 2020-10-03 00:00:00 and 2021-07-27 00:00:00\n",
      "WARNING:prophet:Seasonality has period of 365.25 days which is larger than initial window. Consider increasing initial.\n"
     ]
    },
    {
     "data": {
      "application/vnd.jupyter.widget-view+json": {
       "model_id": "e4996b0bb8b946b5946e134f5d2a0525",
       "version_major": 2,
       "version_minor": 0
      },
      "text/plain": [
       "  0%|          | 0/298 [00:00<?, ?it/s]"
      ]
     },
     "metadata": {},
     "output_type": "display_data"
    },
    {
     "name": "stdout",
     "output_type": "stream",
     "text": [
      "Training:  60 days\n",
      "Testing:  7 days\n",
      "  horizon          mse       rmse        mae      mape     mdape     smape  \\\n",
      "2  3 days   205.792217  14.345460  10.969570  0.085589  0.068914  0.086403   \n",
      "3  4 days   400.018310  20.000458  14.984839  0.117595  0.091284  0.119605   \n",
      "4  5 days   697.811550  26.416123  19.194053  0.152339  0.116789  0.161057   \n",
      "5  6 days  1150.739996  33.922559  23.710730  0.191219  0.129900  0.208136   \n",
      "6  7 days  2060.069056  45.387984  31.076956  0.253302  0.152527  0.279164   \n",
      "\n",
      "   coverage  \n",
      "2  0.242718  \n",
      "3  0.180488  \n",
      "4  0.161765  \n",
      "5  0.147059  \n",
      "6  0.098039  \n"
     ]
    },
    {
     "name": "stderr",
     "output_type": "stream",
     "text": [
      "INFO:prophet:Making 291 forecasts with cutoffs between 2020-10-03 00:00:00 and 2021-07-20 00:00:00\n",
      "WARNING:prophet:Seasonality has period of 365.25 days which is larger than initial window. Consider increasing initial.\n"
     ]
    },
    {
     "data": {
      "application/vnd.jupyter.widget-view+json": {
       "model_id": "3175f3075dd54462a70b7d5fd14de047",
       "version_major": 2,
       "version_minor": 0
      },
      "text/plain": [
       "  0%|          | 0/291 [00:00<?, ?it/s]"
      ]
     },
     "metadata": {},
     "output_type": "display_data"
    },
    {
     "name": "stderr",
     "output_type": "stream",
     "text": [
      "INFO:prophet:Making 178 forecasts with cutoffs between 2021-01-31 00:00:00 and 2021-07-27 00:00:00\n",
      "WARNING:prophet:Seasonality has period of 365.25 days which is larger than initial window. Consider increasing initial.\n"
     ]
    },
    {
     "name": "stdout",
     "output_type": "stream",
     "text": [
      "Training:  60 days\n",
      "Testing:  14 days\n",
      "   horizon           mse        rmse         mae      mape     mdape  \\\n",
      "8  10 days   8989.488806   94.812915   61.515406  0.504792  0.269059   \n",
      "9  11 days  12446.591823  111.564295   71.180259  0.582947  0.317844   \n",
      "10 12 days  18097.593445  134.527296   83.193666  0.682536  0.345210   \n",
      "11 13 days  27509.288231  165.859242   99.006596  0.819216  0.359396   \n",
      "12 14 days  41409.277334  203.492696  119.198857  0.995337  0.395569   \n",
      "\n",
      "       smape  coverage  \n",
      "8   0.447346  0.033435  \n",
      "9   0.482875  0.027782  \n",
      "10  0.522844  0.017921  \n",
      "11  0.564309  0.015075  \n",
      "12  0.613903  0.018660  \n"
     ]
    },
    {
     "data": {
      "application/vnd.jupyter.widget-view+json": {
       "model_id": "a50491a421754cf29cc22775079df6a3",
       "version_major": 2,
       "version_minor": 0
      },
      "text/plain": [
       "  0%|          | 0/178 [00:00<?, ?it/s]"
      ]
     },
     "metadata": {},
     "output_type": "display_data"
    },
    {
     "name": "stderr",
     "output_type": "stream",
     "text": [
      "INFO:prophet:Making 171 forecasts with cutoffs between 2021-01-31 00:00:00 and 2021-07-20 00:00:00\n",
      "WARNING:prophet:Seasonality has period of 365.25 days which is larger than initial window. Consider increasing initial.\n"
     ]
    },
    {
     "name": "stdout",
     "output_type": "stream",
     "text": [
      "Training:  180 days\n",
      "Testing:  7 days\n",
      "  horizon         mse       rmse        mae      mape     mdape     smape  \\\n",
      "2  3 days  133.866005  11.570048   9.253562  0.061569  0.055821  0.061605   \n",
      "3  4 days  213.817074  14.622485  12.000246  0.079691  0.076645  0.079824   \n",
      "4  5 days  304.461797  17.448834  14.445195  0.095892  0.094823  0.096397   \n",
      "5  6 days  355.420519  18.852600  15.721353  0.104314  0.108521  0.105203   \n",
      "6  7 days  480.907766  21.929609  18.576661  0.123174  0.122032  0.124670   \n",
      "\n",
      "   coverage  \n",
      "2  0.290323  \n",
      "3  0.219512  \n",
      "4  0.180328  \n",
      "5  0.163934  \n",
      "6  0.105691  \n"
     ]
    },
    {
     "data": {
      "application/vnd.jupyter.widget-view+json": {
       "model_id": "95137a1b99b8455b9461362925a94c35",
       "version_major": 2,
       "version_minor": 0
      },
      "text/plain": [
       "  0%|          | 0/171 [00:00<?, ?it/s]"
      ]
     },
     "metadata": {},
     "output_type": "display_data"
    },
    {
     "name": "stdout",
     "output_type": "stream",
     "text": [
      "Training:  180 days\n",
      "Testing:  14 days\n",
      "   horizon          mse       rmse        mae      mape     mdape     smape  \\\n",
      "8  10 days  1609.614532  40.120002  34.745598  0.229241  0.217868  0.232873   \n",
      "9  11 days  2112.956631  45.966908  40.266285  0.264872  0.278872  0.269252   \n",
      "10 12 days  2613.031026  51.117815  45.129421  0.296803  0.268731  0.303224   \n",
      "11 13 days  2963.091609  54.434287  48.072893  0.316239  0.296081  0.326333   \n",
      "12 14 days  3379.226737  58.131117  51.133547  0.335813  0.338476  0.351059   \n",
      "\n",
      "    coverage  \n",
      "8   0.031271  \n",
      "9   0.021696  \n",
      "10  0.010991  \n",
      "11  0.008547  \n",
      "12  0.014556  \n"
     ]
    }
   ],
   "source": [
    "results_AXP=tt_test_p('AXP',trains,tests)"
   ]
  },
  {
   "cell_type": "code",
   "execution_count": 47,
   "metadata": {},
   "outputs": [
    {
     "name": "stdout",
     "output_type": "stream",
     "text": [
      "Processing:  yfinance.Ticker object <AAPL>\n"
     ]
    },
    {
     "name": "stderr",
     "output_type": "stream",
     "text": [
      "INFO:prophet:Making 329 forecasts with cutoffs between 2020-09-03 00:00:00 and 2021-07-28 00:00:00\n",
      "WARNING:prophet:Seasonality has period of 365.25 days which is larger than initial window. Consider increasing initial.\n"
     ]
    },
    {
     "data": {
      "application/vnd.jupyter.widget-view+json": {
       "model_id": "b99c1861a3b44449b9dcb1b78e4516e0",
       "version_major": 2,
       "version_minor": 0
      },
      "text/plain": [
       "  0%|          | 0/329 [00:00<?, ?it/s]"
      ]
     },
     "metadata": {},
     "output_type": "display_data"
    },
    {
     "name": "stderr",
     "output_type": "stream",
     "text": [
      "INFO:fbprophet:n_changepoints greater than number of observations. Using 17.\n",
      "INFO:fbprophet:n_changepoints greater than number of observations. Using 18.\n",
      "INFO:fbprophet:n_changepoints greater than number of observations. Using 18.\n",
      "INFO:fbprophet:n_changepoints greater than number of observations. Using 18.\n",
      "INFO:fbprophet:n_changepoints greater than number of observations. Using 18.\n",
      "INFO:fbprophet:n_changepoints greater than number of observations. Using 19.\n",
      "INFO:fbprophet:n_changepoints greater than number of observations. Using 19.\n",
      "INFO:fbprophet:n_changepoints greater than number of observations. Using 20.\n",
      "INFO:fbprophet:n_changepoints greater than number of observations. Using 21.\n",
      "INFO:fbprophet:n_changepoints greater than number of observations. Using 21.\n",
      "INFO:fbprophet:n_changepoints greater than number of observations. Using 21.\n",
      "INFO:fbprophet:n_changepoints greater than number of observations. Using 22.\n",
      "INFO:fbprophet:n_changepoints greater than number of observations. Using 23.\n",
      "INFO:fbprophet:n_changepoints greater than number of observations. Using 23.\n",
      "INFO:fbprophet:n_changepoints greater than number of observations. Using 24.\n",
      "INFO:prophet:Making 322 forecasts with cutoffs between 2020-09-03 00:00:00 and 2021-07-21 00:00:00\n",
      "WARNING:prophet:Seasonality has period of 365.25 days which is larger than initial window. Consider increasing initial.\n"
     ]
    },
    {
     "name": "stdout",
     "output_type": "stream",
     "text": [
      "Training:  30 days\n",
      "Testing:  7 days\n",
      "  horizon          mse       rmse        mae      mape     mdape     smape  \\\n",
      "2  3 days   257.987451  16.061988   9.074407  0.075452  0.034706  0.083260   \n",
      "3  4 days   532.323417  23.072135  12.805230  0.107217  0.046654  0.120555   \n",
      "4  5 days   822.086030  28.672043  16.132481  0.135413  0.049690  0.149729   \n",
      "5  6 days  1010.179628  31.783323  18.304776  0.152992  0.058665  0.167556   \n",
      "6  7 days  1917.221734  43.786091  23.354981  0.195325  0.065717  0.203541   \n",
      "\n",
      "   coverage  \n",
      "2  0.336283  \n",
      "3  0.309735  \n",
      "4  0.268722  \n",
      "5  0.255507  \n",
      "6  0.198238  \n"
     ]
    },
    {
     "data": {
      "application/vnd.jupyter.widget-view+json": {
       "model_id": "cf29583d9df54e0aa1db7f9322afc012",
       "version_major": 2,
       "version_minor": 0
      },
      "text/plain": [
       "  0%|          | 0/322 [00:00<?, ?it/s]"
      ]
     },
     "metadata": {},
     "output_type": "display_data"
    },
    {
     "name": "stderr",
     "output_type": "stream",
     "text": [
      "INFO:fbprophet:n_changepoints greater than number of observations. Using 17.\n",
      "INFO:fbprophet:n_changepoints greater than number of observations. Using 18.\n",
      "INFO:fbprophet:n_changepoints greater than number of observations. Using 18.\n",
      "INFO:fbprophet:n_changepoints greater than number of observations. Using 18.\n",
      "INFO:fbprophet:n_changepoints greater than number of observations. Using 18.\n",
      "INFO:fbprophet:n_changepoints greater than number of observations. Using 19.\n",
      "INFO:fbprophet:n_changepoints greater than number of observations. Using 19.\n",
      "INFO:fbprophet:n_changepoints greater than number of observations. Using 20.\n",
      "INFO:fbprophet:n_changepoints greater than number of observations. Using 21.\n",
      "INFO:fbprophet:n_changepoints greater than number of observations. Using 21.\n",
      "INFO:fbprophet:n_changepoints greater than number of observations. Using 21.\n",
      "INFO:fbprophet:n_changepoints greater than number of observations. Using 22.\n",
      "INFO:fbprophet:n_changepoints greater than number of observations. Using 23.\n",
      "INFO:fbprophet:n_changepoints greater than number of observations. Using 23.\n",
      "INFO:fbprophet:n_changepoints greater than number of observations. Using 24.\n",
      "INFO:prophet:Making 299 forecasts with cutoffs between 2020-10-03 00:00:00 and 2021-07-28 00:00:00\n"
     ]
    },
    {
     "name": "stdout",
     "output_type": "stream",
     "text": [
      "Training:  30 days\n",
      "Testing:  14 days\n",
      "   horizon           mse        rmse        mae      mape     mdape     smape  \\\n",
      "8  10 days  11715.373906  108.237581  56.272280  0.473956  0.098170  0.409145   \n",
      "9  11 days  18894.352279  137.456729  71.916302  0.608052  0.111304  0.453094   \n",
      "10 12 days  25774.392920  160.544053  83.071226  0.702429  0.113476  0.465833   \n",
      "11 13 days  29318.273225  171.225796  87.894920  0.740604  0.116963  0.467048   \n",
      "12 14 days  37208.017225  192.893798  96.981716  0.816259  0.115875  0.486779   \n",
      "\n",
      "    coverage  \n",
      "8   0.142197  \n",
      "9   0.117059  \n",
      "10  0.104882  \n",
      "11  0.100378  \n",
      "12  0.105551  \n"
     ]
    },
    {
     "name": "stderr",
     "output_type": "stream",
     "text": [
      "WARNING:prophet:Seasonality has period of 365.25 days which is larger than initial window. Consider increasing initial.\n"
     ]
    },
    {
     "data": {
      "application/vnd.jupyter.widget-view+json": {
       "model_id": "77aae49d1aec4f42b2eb45af03ad7b84",
       "version_major": 2,
       "version_minor": 0
      },
      "text/plain": [
       "  0%|          | 0/299 [00:00<?, ?it/s]"
      ]
     },
     "metadata": {},
     "output_type": "display_data"
    },
    {
     "name": "stderr",
     "output_type": "stream",
     "text": [
      "INFO:prophet:Making 292 forecasts with cutoffs between 2020-10-03 00:00:00 and 2021-07-21 00:00:00\n"
     ]
    },
    {
     "name": "stdout",
     "output_type": "stream",
     "text": [
      "Training:  60 days\n",
      "Testing:  7 days\n",
      "  horizon         mse       rmse        mae      mape     mdape     smape  \\\n",
      "2  3 days  101.330277  10.066294   6.826193  0.054876  0.032387  0.054346   \n",
      "3  4 days  194.258169  13.937653   9.088669  0.073205  0.042229  0.072188   \n",
      "4  5 days  322.266848  17.951792  11.245297  0.090738  0.043689  0.089540   \n",
      "5  6 days  500.780281  22.378121  13.601082  0.109786  0.052612  0.109940   \n",
      "6  7 days  871.646168  29.523654  17.242325  0.139431  0.057897  0.146302   \n",
      "\n",
      "   coverage  \n",
      "2  0.359223  \n",
      "3  0.336585  \n",
      "4  0.292683  \n",
      "5  0.273171  \n",
      "6  0.229268  \n"
     ]
    },
    {
     "name": "stderr",
     "output_type": "stream",
     "text": [
      "WARNING:prophet:Seasonality has period of 365.25 days which is larger than initial window. Consider increasing initial.\n"
     ]
    },
    {
     "data": {
      "application/vnd.jupyter.widget-view+json": {
       "model_id": "6d39c5d7d3df4d10a062708dd314dc77",
       "version_major": 2,
       "version_minor": 0
      },
      "text/plain": [
       "  0%|          | 0/292 [00:00<?, ?it/s]"
      ]
     },
     "metadata": {},
     "output_type": "display_data"
    },
    {
     "name": "stderr",
     "output_type": "stream",
     "text": [
      "INFO:prophet:Making 179 forecasts with cutoffs between 2021-01-31 00:00:00 and 2021-07-28 00:00:00\n",
      "WARNING:prophet:Seasonality has period of 365.25 days which is larger than initial window. Consider increasing initial.\n"
     ]
    },
    {
     "name": "stdout",
     "output_type": "stream",
     "text": [
      "Training:  60 days\n",
      "Testing:  14 days\n",
      "   horizon           mse        rmse        mae      mape     mdape     smape  \\\n",
      "8  10 days   4600.995561   67.830639  38.138929  0.310799  0.084571  0.330964   \n",
      "9  11 days   6994.624200   83.633870  46.297488  0.377062  0.098410  0.353417   \n",
      "10 12 days   9714.912614   98.564256  52.205505  0.424035  0.104187  0.358865   \n",
      "11 13 days  13060.957473  114.284546  58.202623  0.471944  0.106996  0.371873   \n",
      "12 14 days  18417.070617  135.709508  67.397464  0.547124  0.102374  0.399026   \n",
      "\n",
      "    coverage  \n",
      "8   0.149664  \n",
      "9   0.116222  \n",
      "10  0.112143  \n",
      "11  0.115000  \n",
      "12  0.111429  \n"
     ]
    },
    {
     "data": {
      "application/vnd.jupyter.widget-view+json": {
       "model_id": "99b6aed3530f4116bc8ace3fbef59483",
       "version_major": 2,
       "version_minor": 0
      },
      "text/plain": [
       "  0%|          | 0/179 [00:00<?, ?it/s]"
      ]
     },
     "metadata": {},
     "output_type": "display_data"
    },
    {
     "name": "stderr",
     "output_type": "stream",
     "text": [
      "INFO:prophet:Making 172 forecasts with cutoffs between 2021-01-31 00:00:00 and 2021-07-21 00:00:00\n",
      "WARNING:prophet:Seasonality has period of 365.25 days which is larger than initial window. Consider increasing initial.\n"
     ]
    },
    {
     "name": "stdout",
     "output_type": "stream",
     "text": [
      "Training:  180 days\n",
      "Testing:  7 days\n",
      "  horizon        mse      rmse       mae      mape     mdape     smape  \\\n",
      "2  3 days  21.971001  4.687323  3.808883  0.029194  0.027881  0.029179   \n",
      "3  4 days  32.354374  5.688091  4.453454  0.034108  0.028851  0.034136   \n",
      "4  5 days  38.983029  6.243639  4.912519  0.037625  0.029021  0.037615   \n",
      "5  6 days  46.380583  6.810329  5.312764  0.040763  0.032167  0.040781   \n",
      "6  7 days  71.493801  8.455401  6.229608  0.047815  0.038383  0.048087   \n",
      "\n",
      "   coverage  \n",
      "2  0.451613  \n",
      "3  0.463415  \n",
      "4  0.390244  \n",
      "5  0.398374  \n",
      "6  0.314516  \n"
     ]
    },
    {
     "data": {
      "application/vnd.jupyter.widget-view+json": {
       "model_id": "464e9d4c6dca403d814330d02f67ee5b",
       "version_major": 2,
       "version_minor": 0
      },
      "text/plain": [
       "  0%|          | 0/172 [00:00<?, ?it/s]"
      ]
     },
     "metadata": {},
     "output_type": "display_data"
    },
    {
     "name": "stdout",
     "output_type": "stream",
     "text": [
      "Training:  180 days\n",
      "Testing:  14 days\n",
      "   horizon         mse       rmse        mae      mape     mdape     smape  \\\n",
      "8  10 days  169.176108  13.006772   9.172336  0.070405  0.054218  0.070598   \n",
      "9  11 days  207.628845  14.409332  10.132537  0.078061  0.055001  0.078082   \n",
      "10 12 days  209.342448  14.468671  10.581511  0.081755  0.055254  0.080961   \n",
      "11 13 days  196.187225  14.006685  10.646274  0.082294  0.068379  0.081000   \n",
      "12 14 days  226.104552  15.036773  11.269481  0.086951  0.070751  0.086233   \n",
      "\n",
      "    coverage  \n",
      "8   0.228464  \n",
      "9   0.205326  \n",
      "10  0.203390  \n",
      "11  0.191342  \n",
      "12  0.179293  \n"
     ]
    }
   ],
   "source": [
    "results_AAPL=tt_test_p('AAPL',trains,tests)"
   ]
  },
  {
   "cell_type": "code",
   "execution_count": 48,
   "metadata": {},
   "outputs": [
    {
     "name": "stdout",
     "output_type": "stream",
     "text": [
      "Processing:  yfinance.Ticker object <AMGN>\n"
     ]
    },
    {
     "name": "stderr",
     "output_type": "stream",
     "text": [
      "INFO:prophet:Making 329 forecasts with cutoffs between 2020-09-03 00:00:00 and 2021-07-28 00:00:00\n",
      "WARNING:prophet:Seasonality has period of 365.25 days which is larger than initial window. Consider increasing initial.\n"
     ]
    },
    {
     "data": {
      "application/vnd.jupyter.widget-view+json": {
       "model_id": "02f49b8bd60043dea63550c6ae8c01a4",
       "version_major": 2,
       "version_minor": 0
      },
      "text/plain": [
       "  0%|          | 0/329 [00:00<?, ?it/s]"
      ]
     },
     "metadata": {},
     "output_type": "display_data"
    },
    {
     "name": "stderr",
     "output_type": "stream",
     "text": [
      "INFO:fbprophet:n_changepoints greater than number of observations. Using 17.\n",
      "INFO:fbprophet:n_changepoints greater than number of observations. Using 18.\n",
      "INFO:fbprophet:n_changepoints greater than number of observations. Using 18.\n",
      "INFO:fbprophet:n_changepoints greater than number of observations. Using 18.\n",
      "INFO:fbprophet:n_changepoints greater than number of observations. Using 18.\n",
      "INFO:fbprophet:n_changepoints greater than number of observations. Using 19.\n",
      "INFO:fbprophet:n_changepoints greater than number of observations. Using 19.\n",
      "INFO:fbprophet:n_changepoints greater than number of observations. Using 20.\n",
      "INFO:fbprophet:n_changepoints greater than number of observations. Using 21.\n",
      "INFO:fbprophet:n_changepoints greater than number of observations. Using 21.\n",
      "INFO:fbprophet:n_changepoints greater than number of observations. Using 21.\n",
      "INFO:fbprophet:n_changepoints greater than number of observations. Using 22.\n",
      "INFO:fbprophet:n_changepoints greater than number of observations. Using 23.\n",
      "INFO:fbprophet:n_changepoints greater than number of observations. Using 23.\n",
      "INFO:fbprophet:n_changepoints greater than number of observations. Using 24.\n"
     ]
    },
    {
     "name": "stdout",
     "output_type": "stream",
     "text": [
      "Training:  30 days\n",
      "Testing:  7 days\n",
      "  horizon          mse       rmse        mae      mape     mdape     smape  \\\n",
      "2  3 days   697.028328  26.401294  17.019189  0.072132  0.039548  0.073922   \n",
      "3  4 days  1476.517578  38.425481  25.006889  0.106392  0.055441  0.111827   \n",
      "4  5 days  2854.199007  53.424704  34.846998  0.148548  0.067905  0.158660   \n",
      "5  6 days  3809.941316  61.724722  40.740864  0.173849  0.087543  0.184828   \n",
      "6  7 days  5923.655424  76.965287  50.267864  0.214796  0.096128  0.226235   \n",
      "\n",
      "   coverage  \n",
      "2  0.261062  \n",
      "3  0.185841  \n",
      "4  0.127753  \n",
      "5  0.132159  \n",
      "6  0.088106  \n"
     ]
    },
    {
     "name": "stderr",
     "output_type": "stream",
     "text": [
      "INFO:prophet:Making 322 forecasts with cutoffs between 2020-09-03 00:00:00 and 2021-07-21 00:00:00\n",
      "WARNING:prophet:Seasonality has period of 365.25 days which is larger than initial window. Consider increasing initial.\n"
     ]
    },
    {
     "data": {
      "application/vnd.jupyter.widget-view+json": {
       "model_id": "c979e8ce7df943ec9061373c901f63e2",
       "version_major": 2,
       "version_minor": 0
      },
      "text/plain": [
       "  0%|          | 0/322 [00:00<?, ?it/s]"
      ]
     },
     "metadata": {},
     "output_type": "display_data"
    },
    {
     "name": "stderr",
     "output_type": "stream",
     "text": [
      "INFO:fbprophet:n_changepoints greater than number of observations. Using 17.\n",
      "INFO:fbprophet:n_changepoints greater than number of observations. Using 18.\n",
      "INFO:fbprophet:n_changepoints greater than number of observations. Using 18.\n",
      "INFO:fbprophet:n_changepoints greater than number of observations. Using 18.\n",
      "INFO:fbprophet:n_changepoints greater than number of observations. Using 18.\n",
      "INFO:fbprophet:n_changepoints greater than number of observations. Using 19.\n",
      "INFO:fbprophet:n_changepoints greater than number of observations. Using 19.\n",
      "INFO:fbprophet:n_changepoints greater than number of observations. Using 20.\n",
      "INFO:fbprophet:n_changepoints greater than number of observations. Using 21.\n",
      "INFO:fbprophet:n_changepoints greater than number of observations. Using 21.\n",
      "INFO:fbprophet:n_changepoints greater than number of observations. Using 21.\n",
      "INFO:fbprophet:n_changepoints greater than number of observations. Using 22.\n",
      "INFO:fbprophet:n_changepoints greater than number of observations. Using 23.\n",
      "INFO:fbprophet:n_changepoints greater than number of observations. Using 23.\n",
      "INFO:fbprophet:n_changepoints greater than number of observations. Using 24.\n",
      "INFO:prophet:Making 299 forecasts with cutoffs between 2020-10-03 00:00:00 and 2021-07-28 00:00:00\n"
     ]
    },
    {
     "name": "stdout",
     "output_type": "stream",
     "text": [
      "Training:  30 days\n",
      "Testing:  14 days\n",
      "   horizon            mse        rmse         mae      mape     mdape  \\\n",
      "8  10 days   36526.751344  191.119730  116.282505  0.499867  0.188803   \n",
      "9  11 days   56683.920558  238.083852  143.374660  0.617823  0.209003   \n",
      "10 12 days   88657.520666  297.754128  176.812374  0.763967  0.253955   \n",
      "11 13 days  117816.160966  343.243588  203.577841  0.881016  0.314034   \n",
      "12 14 days  153352.260205  391.602171  230.381137  0.998008  0.312605   \n",
      "\n",
      "       smape  coverage  \n",
      "8   0.463455  0.066289  \n",
      "9   0.521640  0.051439  \n",
      "10  0.563231  0.048271  \n",
      "11  0.599792  0.036646  \n",
      "12  0.639770  0.037983  \n"
     ]
    },
    {
     "name": "stderr",
     "output_type": "stream",
     "text": [
      "WARNING:prophet:Seasonality has period of 365.25 days which is larger than initial window. Consider increasing initial.\n"
     ]
    },
    {
     "data": {
      "application/vnd.jupyter.widget-view+json": {
       "model_id": "acd3d4f6dec341f9a80fcc5060d9845c",
       "version_major": 2,
       "version_minor": 0
      },
      "text/plain": [
       "  0%|          | 0/299 [00:00<?, ?it/s]"
      ]
     },
     "metadata": {},
     "output_type": "display_data"
    },
    {
     "name": "stdout",
     "output_type": "stream",
     "text": [
      "Training:  60 days\n",
      "Testing:  7 days\n",
      "  horizon          mse       rmse        mae      mape     mdape     smape  \\\n",
      "2  3 days   638.727288  25.273055  15.714963  0.066899  0.037270  0.068785   \n",
      "3  4 days  1332.879278  36.508619  22.879113  0.097888  0.048395  0.103376   \n",
      "4  5 days  2423.438054  49.228427  30.864290  0.132567  0.061129  0.142107   \n",
      "5  6 days  3027.421036  55.022005  35.353267  0.152254  0.073403  0.163873   \n",
      "6  7 days  4375.359269  66.146499  42.917341  0.185212  0.087963  0.197987   \n",
      "\n",
      "   coverage  \n",
      "2  0.286408  \n",
      "3  0.214634  \n",
      "4  0.146341  \n",
      "5  0.156098  \n",
      "6  0.107317  \n"
     ]
    },
    {
     "name": "stderr",
     "output_type": "stream",
     "text": [
      "INFO:prophet:Making 292 forecasts with cutoffs between 2020-10-03 00:00:00 and 2021-07-21 00:00:00\n",
      "WARNING:prophet:Seasonality has period of 365.25 days which is larger than initial window. Consider increasing initial.\n"
     ]
    },
    {
     "data": {
      "application/vnd.jupyter.widget-view+json": {
       "model_id": "919ce04dbe0a421c83d7b92e54ae6cd9",
       "version_major": 2,
       "version_minor": 0
      },
      "text/plain": [
       "  0%|          | 0/292 [00:00<?, ?it/s]"
      ]
     },
     "metadata": {},
     "output_type": "display_data"
    },
    {
     "name": "stderr",
     "output_type": "stream",
     "text": [
      "INFO:prophet:Making 179 forecasts with cutoffs between 2021-01-31 00:00:00 and 2021-07-28 00:00:00\n",
      "WARNING:prophet:Seasonality has period of 365.25 days which is larger than initial window. Consider increasing initial.\n"
     ]
    },
    {
     "name": "stdout",
     "output_type": "stream",
     "text": [
      "Training:  60 days\n",
      "Testing:  14 days\n",
      "   horizon            mse        rmse         mae      mape     mdape  \\\n",
      "8  10 days   26703.500597  163.412058   97.339230  0.423950  0.151502   \n",
      "9  11 days   42451.034517  206.036488  119.446988  0.521688  0.176207   \n",
      "10 12 days   64744.238891  254.448892  144.514507  0.633047  0.182425   \n",
      "11 13 days   82588.907282  287.382858  162.984761  0.715307  0.228898   \n",
      "12 14 days  103669.178356  321.976984  181.546037  0.797832  0.272031   \n",
      "\n",
      "       smape  coverage  \n",
      "8   0.414280  0.069554  \n",
      "9   0.459022  0.059186  \n",
      "10  0.494992  0.062143  \n",
      "11  0.527841  0.050714  \n",
      "12  0.559617  0.045000  \n"
     ]
    },
    {
     "data": {
      "application/vnd.jupyter.widget-view+json": {
       "model_id": "0cd183260c0c438ba024b919449175a8",
       "version_major": 2,
       "version_minor": 0
      },
      "text/plain": [
       "  0%|          | 0/179 [00:00<?, ?it/s]"
      ]
     },
     "metadata": {},
     "output_type": "display_data"
    },
    {
     "name": "stderr",
     "output_type": "stream",
     "text": [
      "INFO:prophet:Making 172 forecasts with cutoffs between 2021-01-31 00:00:00 and 2021-07-21 00:00:00\n",
      "WARNING:prophet:Seasonality has period of 365.25 days which is larger than initial window. Consider increasing initial.\n"
     ]
    },
    {
     "name": "stdout",
     "output_type": "stream",
     "text": [
      "Training:  180 days\n",
      "Testing:  7 days\n",
      "  horizon          mse       rmse        mae      mape     mdape     smape  \\\n",
      "2  3 days   289.243059  17.007147  11.293797  0.046381  0.030973  0.047263   \n",
      "3  4 days   487.047396  22.069150  14.822891  0.060836  0.038715  0.062500   \n",
      "4  5 days   669.776211  25.880035  17.896663  0.073349  0.046176  0.075383   \n",
      "5  6 days   747.469679  27.339892  19.117548  0.078379  0.053004  0.080489   \n",
      "6  7 days  1063.831131  32.616424  22.405572  0.092026  0.056816  0.096033   \n",
      "\n",
      "   coverage  \n",
      "2  0.338710  \n",
      "3  0.235772  \n",
      "4  0.170732  \n",
      "5  0.203252  \n",
      "6  0.145161  \n"
     ]
    },
    {
     "data": {
      "application/vnd.jupyter.widget-view+json": {
       "model_id": "f092f3c745404e9b9744b193b689c8ba",
       "version_major": 2,
       "version_minor": 0
      },
      "text/plain": [
       "  0%|          | 0/172 [00:00<?, ?it/s]"
      ]
     },
     "metadata": {},
     "output_type": "display_data"
    },
    {
     "name": "stdout",
     "output_type": "stream",
     "text": [
      "Training:  180 days\n",
      "Testing:  14 days\n",
      "   horizon          mse       rmse        mae      mape     mdape     smape  \\\n",
      "8  10 days  3745.880488  61.203599  41.387717  0.169805  0.094178  0.186073   \n",
      "9  11 days  5158.781300  71.824657  49.023697  0.201240  0.114379  0.225824   \n",
      "10 12 days  6301.002160  79.378852  55.070009  0.225941  0.149275  0.253718   \n",
      "11 13 days  6870.596826  82.889063  58.141203  0.238651  0.146760  0.268899   \n",
      "12 14 days  7964.498955  89.244042  61.430445  0.252463  0.146760  0.288236   \n",
      "\n",
      "    coverage  \n",
      "8   0.089859  \n",
      "9   0.062873  \n",
      "10  0.056872  \n",
      "11  0.035226  \n",
      "12  0.043343  \n"
     ]
    }
   ],
   "source": [
    "results_AMGN=tt_test_p('AMGN',trains,tests)"
   ]
  },
  {
   "cell_type": "markdown",
   "metadata": {},
   "source": [
    "After looking over these results, it seems unlike ARIMA, Prophet likes the 180/7 split. "
   ]
  },
  {
   "cell_type": "code",
   "execution_count": 76,
   "metadata": {},
   "outputs": [],
   "source": [
    "stocks=['MMM','AXP','AMGN','AAPL','CAT']\n",
    "cv_cols=['horizon','mse','rmse','mae','mape','mdape','smape','coverage']"
   ]
  },
  {
   "cell_type": "code",
   "execution_count": 79,
   "metadata": {
    "scrolled": true
   },
   "outputs": [
    {
     "name": "stdout",
     "output_type": "stream",
     "text": [
      "Processing:  MMM\n"
     ]
    },
    {
     "name": "stderr",
     "output_type": "stream",
     "text": [
      "INFO:prophet:Making 322 forecasts with cutoffs between 2020-09-03 00:00:00 and 2021-07-21 00:00:00\n",
      "WARNING:prophet:Seasonality has period of 365.25 days which is larger than initial window. Consider increasing initial.\n"
     ]
    },
    {
     "data": {
      "application/vnd.jupyter.widget-view+json": {
       "model_id": "0df2c15b463e423a871f215e3cb3e4e8",
       "version_major": 2,
       "version_minor": 0
      },
      "text/plain": [
       "  0%|          | 0/322 [00:00<?, ?it/s]"
      ]
     },
     "metadata": {},
     "output_type": "display_data"
    },
    {
     "name": "stderr",
     "output_type": "stream",
     "text": [
      "INFO:fbprophet:n_changepoints greater than number of observations. Using 17.\n",
      "INFO:fbprophet:n_changepoints greater than number of observations. Using 18.\n",
      "INFO:fbprophet:n_changepoints greater than number of observations. Using 18.\n",
      "INFO:fbprophet:n_changepoints greater than number of observations. Using 18.\n",
      "INFO:fbprophet:n_changepoints greater than number of observations. Using 18.\n",
      "INFO:fbprophet:n_changepoints greater than number of observations. Using 19.\n",
      "INFO:fbprophet:n_changepoints greater than number of observations. Using 19.\n",
      "INFO:fbprophet:n_changepoints greater than number of observations. Using 20.\n",
      "INFO:fbprophet:n_changepoints greater than number of observations. Using 21.\n",
      "INFO:fbprophet:n_changepoints greater than number of observations. Using 21.\n",
      "INFO:fbprophet:n_changepoints greater than number of observations. Using 21.\n",
      "INFO:fbprophet:n_changepoints greater than number of observations. Using 22.\n",
      "INFO:fbprophet:n_changepoints greater than number of observations. Using 23.\n",
      "INFO:fbprophet:n_changepoints greater than number of observations. Using 23.\n",
      "INFO:fbprophet:n_changepoints greater than number of observations. Using 24.\n"
     ]
    },
    {
     "name": "stdout",
     "output_type": "stream",
     "text": [
      "Processing:  AXP\n"
     ]
    },
    {
     "name": "stderr",
     "output_type": "stream",
     "text": [
      "INFO:prophet:Making 322 forecasts with cutoffs between 2020-09-03 00:00:00 and 2021-07-21 00:00:00\n",
      "WARNING:prophet:Seasonality has period of 365.25 days which is larger than initial window. Consider increasing initial.\n"
     ]
    },
    {
     "data": {
      "application/vnd.jupyter.widget-view+json": {
       "model_id": "06245aa3376e4c90a19a507d5fa5fc80",
       "version_major": 2,
       "version_minor": 0
      },
      "text/plain": [
       "  0%|          | 0/322 [00:00<?, ?it/s]"
      ]
     },
     "metadata": {},
     "output_type": "display_data"
    },
    {
     "name": "stderr",
     "output_type": "stream",
     "text": [
      "INFO:fbprophet:n_changepoints greater than number of observations. Using 17.\n",
      "INFO:fbprophet:n_changepoints greater than number of observations. Using 18.\n",
      "INFO:fbprophet:n_changepoints greater than number of observations. Using 18.\n",
      "INFO:fbprophet:n_changepoints greater than number of observations. Using 18.\n",
      "INFO:fbprophet:n_changepoints greater than number of observations. Using 18.\n",
      "INFO:fbprophet:n_changepoints greater than number of observations. Using 19.\n",
      "INFO:fbprophet:n_changepoints greater than number of observations. Using 19.\n",
      "INFO:fbprophet:n_changepoints greater than number of observations. Using 20.\n",
      "INFO:fbprophet:n_changepoints greater than number of observations. Using 21.\n",
      "INFO:fbprophet:n_changepoints greater than number of observations. Using 21.\n",
      "INFO:fbprophet:n_changepoints greater than number of observations. Using 21.\n",
      "INFO:fbprophet:n_changepoints greater than number of observations. Using 22.\n",
      "INFO:fbprophet:n_changepoints greater than number of observations. Using 23.\n",
      "INFO:fbprophet:n_changepoints greater than number of observations. Using 23.\n",
      "INFO:fbprophet:n_changepoints greater than number of observations. Using 24.\n"
     ]
    },
    {
     "name": "stdout",
     "output_type": "stream",
     "text": [
      "Processing:  AMGN\n"
     ]
    },
    {
     "name": "stderr",
     "output_type": "stream",
     "text": [
      "INFO:prophet:Making 322 forecasts with cutoffs between 2020-09-03 00:00:00 and 2021-07-21 00:00:00\n",
      "WARNING:prophet:Seasonality has period of 365.25 days which is larger than initial window. Consider increasing initial.\n"
     ]
    },
    {
     "data": {
      "application/vnd.jupyter.widget-view+json": {
       "model_id": "0b1e2b346582463591c4e32b8c2222cd",
       "version_major": 2,
       "version_minor": 0
      },
      "text/plain": [
       "  0%|          | 0/322 [00:00<?, ?it/s]"
      ]
     },
     "metadata": {},
     "output_type": "display_data"
    },
    {
     "name": "stderr",
     "output_type": "stream",
     "text": [
      "INFO:fbprophet:n_changepoints greater than number of observations. Using 17.\n",
      "INFO:fbprophet:n_changepoints greater than number of observations. Using 18.\n",
      "INFO:fbprophet:n_changepoints greater than number of observations. Using 18.\n",
      "INFO:fbprophet:n_changepoints greater than number of observations. Using 18.\n",
      "INFO:fbprophet:n_changepoints greater than number of observations. Using 18.\n",
      "INFO:fbprophet:n_changepoints greater than number of observations. Using 19.\n",
      "INFO:fbprophet:n_changepoints greater than number of observations. Using 19.\n",
      "INFO:fbprophet:n_changepoints greater than number of observations. Using 20.\n",
      "INFO:fbprophet:n_changepoints greater than number of observations. Using 21.\n",
      "INFO:fbprophet:n_changepoints greater than number of observations. Using 21.\n",
      "INFO:fbprophet:n_changepoints greater than number of observations. Using 21.\n",
      "INFO:fbprophet:n_changepoints greater than number of observations. Using 22.\n",
      "INFO:fbprophet:n_changepoints greater than number of observations. Using 23.\n",
      "INFO:fbprophet:n_changepoints greater than number of observations. Using 23.\n",
      "INFO:fbprophet:n_changepoints greater than number of observations. Using 24.\n"
     ]
    },
    {
     "name": "stdout",
     "output_type": "stream",
     "text": [
      "Processing:  AAPL\n"
     ]
    },
    {
     "name": "stderr",
     "output_type": "stream",
     "text": [
      "INFO:prophet:Making 322 forecasts with cutoffs between 2020-09-03 00:00:00 and 2021-07-21 00:00:00\n",
      "WARNING:prophet:Seasonality has period of 365.25 days which is larger than initial window. Consider increasing initial.\n"
     ]
    },
    {
     "data": {
      "application/vnd.jupyter.widget-view+json": {
       "model_id": "c640dca00e60466b8ec0708c97549734",
       "version_major": 2,
       "version_minor": 0
      },
      "text/plain": [
       "  0%|          | 0/322 [00:00<?, ?it/s]"
      ]
     },
     "metadata": {},
     "output_type": "display_data"
    },
    {
     "name": "stderr",
     "output_type": "stream",
     "text": [
      "INFO:fbprophet:n_changepoints greater than number of observations. Using 17.\n",
      "INFO:fbprophet:n_changepoints greater than number of observations. Using 18.\n",
      "INFO:fbprophet:n_changepoints greater than number of observations. Using 18.\n",
      "INFO:fbprophet:n_changepoints greater than number of observations. Using 18.\n",
      "INFO:fbprophet:n_changepoints greater than number of observations. Using 18.\n",
      "INFO:fbprophet:n_changepoints greater than number of observations. Using 19.\n",
      "INFO:fbprophet:n_changepoints greater than number of observations. Using 19.\n",
      "INFO:fbprophet:n_changepoints greater than number of observations. Using 20.\n",
      "INFO:fbprophet:n_changepoints greater than number of observations. Using 21.\n",
      "INFO:fbprophet:n_changepoints greater than number of observations. Using 21.\n",
      "INFO:fbprophet:n_changepoints greater than number of observations. Using 21.\n",
      "INFO:fbprophet:n_changepoints greater than number of observations. Using 22.\n",
      "INFO:fbprophet:n_changepoints greater than number of observations. Using 23.\n",
      "INFO:fbprophet:n_changepoints greater than number of observations. Using 23.\n",
      "INFO:fbprophet:n_changepoints greater than number of observations. Using 24.\n"
     ]
    },
    {
     "name": "stdout",
     "output_type": "stream",
     "text": [
      "Processing:  CAT\n"
     ]
    },
    {
     "name": "stderr",
     "output_type": "stream",
     "text": [
      "INFO:prophet:Making 322 forecasts with cutoffs between 2020-09-03 00:00:00 and 2021-07-21 00:00:00\n",
      "WARNING:prophet:Seasonality has period of 365.25 days which is larger than initial window. Consider increasing initial.\n"
     ]
    },
    {
     "data": {
      "application/vnd.jupyter.widget-view+json": {
       "model_id": "cef98795367841508a6a720a7d1283a9",
       "version_major": 2,
       "version_minor": 0
      },
      "text/plain": [
       "  0%|          | 0/322 [00:00<?, ?it/s]"
      ]
     },
     "metadata": {},
     "output_type": "display_data"
    },
    {
     "name": "stderr",
     "output_type": "stream",
     "text": [
      "INFO:fbprophet:n_changepoints greater than number of observations. Using 17.\n",
      "INFO:fbprophet:n_changepoints greater than number of observations. Using 18.\n",
      "INFO:fbprophet:n_changepoints greater than number of observations. Using 18.\n",
      "INFO:fbprophet:n_changepoints greater than number of observations. Using 18.\n",
      "INFO:fbprophet:n_changepoints greater than number of observations. Using 18.\n",
      "INFO:fbprophet:n_changepoints greater than number of observations. Using 19.\n",
      "INFO:fbprophet:n_changepoints greater than number of observations. Using 19.\n",
      "INFO:fbprophet:n_changepoints greater than number of observations. Using 20.\n",
      "INFO:fbprophet:n_changepoints greater than number of observations. Using 21.\n",
      "INFO:fbprophet:n_changepoints greater than number of observations. Using 21.\n",
      "INFO:fbprophet:n_changepoints greater than number of observations. Using 21.\n",
      "INFO:fbprophet:n_changepoints greater than number of observations. Using 22.\n",
      "INFO:fbprophet:n_changepoints greater than number of observations. Using 23.\n",
      "INFO:fbprophet:n_changepoints greater than number of observations. Using 23.\n",
      "INFO:fbprophet:n_changepoints greater than number of observations. Using 24.\n"
     ]
    }
   ],
   "source": [
    "df_y=pd.DataFrame(columns=cv_cols)\n",
    "for each in stocks:\n",
    "    stock = yf.Ticker(each)\n",
    "    df1=stock.history(period='1y')\n",
    "    print(\"Processing: \",each)\n",
    "    prof_1 = Prophet(daily_seasonality=True, yearly_seasonality=True)\n",
    "    df1=df1['Close']\n",
    "    df1=df1.to_frame()\n",
    "    df1.index.names = ['ds']\n",
    "    df1.columns=['y']\n",
    "    df1.reset_index(level=0, inplace=True)\n",
    "    prof_1.fit(df1)\n",
    "    df1_cv = cross_validation(prof_1, initial='30 days', period='1 days', horizon = '14 days')\n",
    "    df1_pm = performance_metrics(df1_cv)\n",
    "    df_ph=df1_pm.sort_values(by=['mae']).head(2)\n",
    "    df_y=pd.concat([df_y,df_ph])"
   ]
  },
  {
   "cell_type": "code",
   "execution_count": 80,
   "metadata": {},
   "outputs": [
    {
     "data": {
      "text/html": [
       "<div>\n",
       "<style scoped>\n",
       "    .dataframe tbody tr th:only-of-type {\n",
       "        vertical-align: middle;\n",
       "    }\n",
       "\n",
       "    .dataframe tbody tr th {\n",
       "        vertical-align: top;\n",
       "    }\n",
       "\n",
       "    .dataframe thead th {\n",
       "        text-align: right;\n",
       "    }\n",
       "</style>\n",
       "<table border=\"1\" class=\"dataframe\">\n",
       "  <thead>\n",
       "    <tr style=\"text-align: right;\">\n",
       "      <th></th>\n",
       "      <th>horizon</th>\n",
       "      <th>mse</th>\n",
       "      <th>rmse</th>\n",
       "      <th>mae</th>\n",
       "      <th>mape</th>\n",
       "      <th>mdape</th>\n",
       "      <th>smape</th>\n",
       "      <th>coverage</th>\n",
       "    </tr>\n",
       "  </thead>\n",
       "  <tbody>\n",
       "    <tr>\n",
       "      <th>0</th>\n",
       "      <td>2 days</td>\n",
       "      <td>52.764097</td>\n",
       "      <td>7.263890</td>\n",
       "      <td>5.238207</td>\n",
       "      <td>0.029970</td>\n",
       "      <td>0.019928</td>\n",
       "      <td>0.029888</td>\n",
       "      <td>0.385506</td>\n",
       "    </tr>\n",
       "    <tr>\n",
       "      <th>1</th>\n",
       "      <td>3 days</td>\n",
       "      <td>119.839458</td>\n",
       "      <td>10.947121</td>\n",
       "      <td>7.715429</td>\n",
       "      <td>0.044474</td>\n",
       "      <td>0.029549</td>\n",
       "      <td>0.044207</td>\n",
       "      <td>0.260648</td>\n",
       "    </tr>\n",
       "    <tr>\n",
       "      <th>0</th>\n",
       "      <td>2 days</td>\n",
       "      <td>94.685846</td>\n",
       "      <td>9.730665</td>\n",
       "      <td>7.258065</td>\n",
       "      <td>0.058095</td>\n",
       "      <td>0.039634</td>\n",
       "      <td>0.057968</td>\n",
       "      <td>0.314363</td>\n",
       "    </tr>\n",
       "    <tr>\n",
       "      <th>1</th>\n",
       "      <td>3 days</td>\n",
       "      <td>204.149914</td>\n",
       "      <td>14.288104</td>\n",
       "      <td>10.919213</td>\n",
       "      <td>0.088640</td>\n",
       "      <td>0.067578</td>\n",
       "      <td>0.088720</td>\n",
       "      <td>0.232784</td>\n",
       "    </tr>\n",
       "    <tr>\n",
       "      <th>0</th>\n",
       "      <td>2 days</td>\n",
       "      <td>259.975489</td>\n",
       "      <td>16.123755</td>\n",
       "      <td>10.186850</td>\n",
       "      <td>0.043158</td>\n",
       "      <td>0.024419</td>\n",
       "      <td>0.043688</td>\n",
       "      <td>0.407459</td>\n",
       "    </tr>\n",
       "    <tr>\n",
       "      <th>1</th>\n",
       "      <td>3 days</td>\n",
       "      <td>599.588460</td>\n",
       "      <td>24.486495</td>\n",
       "      <td>15.661054</td>\n",
       "      <td>0.066384</td>\n",
       "      <td>0.038856</td>\n",
       "      <td>0.067878</td>\n",
       "      <td>0.278120</td>\n",
       "    </tr>\n",
       "    <tr>\n",
       "      <th>0</th>\n",
       "      <td>2 days</td>\n",
       "      <td>92.461517</td>\n",
       "      <td>9.615691</td>\n",
       "      <td>5.482373</td>\n",
       "      <td>0.045067</td>\n",
       "      <td>0.026104</td>\n",
       "      <td>0.047163</td>\n",
       "      <td>0.474704</td>\n",
       "    </tr>\n",
       "    <tr>\n",
       "      <th>1</th>\n",
       "      <td>3 days</td>\n",
       "      <td>220.899762</td>\n",
       "      <td>14.862697</td>\n",
       "      <td>8.364964</td>\n",
       "      <td>0.069461</td>\n",
       "      <td>0.034532</td>\n",
       "      <td>0.075927</td>\n",
       "      <td>0.360823</td>\n",
       "    </tr>\n",
       "    <tr>\n",
       "      <th>0</th>\n",
       "      <td>2 days</td>\n",
       "      <td>133.992780</td>\n",
       "      <td>11.575525</td>\n",
       "      <td>8.822443</td>\n",
       "      <td>0.046023</td>\n",
       "      <td>0.035453</td>\n",
       "      <td>0.045970</td>\n",
       "      <td>0.283273</td>\n",
       "    </tr>\n",
       "    <tr>\n",
       "      <th>1</th>\n",
       "      <td>3 days</td>\n",
       "      <td>277.175247</td>\n",
       "      <td>16.648581</td>\n",
       "      <td>13.152346</td>\n",
       "      <td>0.069353</td>\n",
       "      <td>0.055988</td>\n",
       "      <td>0.069113</td>\n",
       "      <td>0.169523</td>\n",
       "    </tr>\n",
       "  </tbody>\n",
       "</table>\n",
       "</div>"
      ],
      "text/plain": [
       "  horizon         mse       rmse        mae      mape     mdape     smape  \\\n",
       "0  2 days   52.764097   7.263890   5.238207  0.029970  0.019928  0.029888   \n",
       "1  3 days  119.839458  10.947121   7.715429  0.044474  0.029549  0.044207   \n",
       "0  2 days   94.685846   9.730665   7.258065  0.058095  0.039634  0.057968   \n",
       "1  3 days  204.149914  14.288104  10.919213  0.088640  0.067578  0.088720   \n",
       "0  2 days  259.975489  16.123755  10.186850  0.043158  0.024419  0.043688   \n",
       "1  3 days  599.588460  24.486495  15.661054  0.066384  0.038856  0.067878   \n",
       "0  2 days   92.461517   9.615691   5.482373  0.045067  0.026104  0.047163   \n",
       "1  3 days  220.899762  14.862697   8.364964  0.069461  0.034532  0.075927   \n",
       "0  2 days  133.992780  11.575525   8.822443  0.046023  0.035453  0.045970   \n",
       "1  3 days  277.175247  16.648581  13.152346  0.069353  0.055988  0.069113   \n",
       "\n",
       "   coverage  \n",
       "0  0.385506  \n",
       "1  0.260648  \n",
       "0  0.314363  \n",
       "1  0.232784  \n",
       "0  0.407459  \n",
       "1  0.278120  \n",
       "0  0.474704  \n",
       "1  0.360823  \n",
       "0  0.283273  \n",
       "1  0.169523  "
      ]
     },
     "execution_count": 80,
     "metadata": {},
     "output_type": "execute_result"
    }
   ],
   "source": [
    "df_y"
   ]
  },
  {
   "cell_type": "markdown",
   "metadata": {},
   "source": [
    "### Putting it all together"
   ]
  },
  {
   "cell_type": "markdown",
   "metadata": {},
   "source": [
    "So let's make us a function! Ultimately, we'll want it to be able to select the best of 4 stocks input by the user. As always, let's start simple."
   ]
  },
  {
   "cell_type": "code",
   "execution_count": 49,
   "metadata": {
    "scrolled": false
   },
   "outputs": [
    {
     "data": {
      "text/html": [
       "<div>\n",
       "<style scoped>\n",
       "    .dataframe tbody tr th:only-of-type {\n",
       "        vertical-align: middle;\n",
       "    }\n",
       "\n",
       "    .dataframe tbody tr th {\n",
       "        vertical-align: top;\n",
       "    }\n",
       "\n",
       "    .dataframe thead th {\n",
       "        text-align: right;\n",
       "    }\n",
       "</style>\n",
       "<table border=\"1\" class=\"dataframe\">\n",
       "  <thead>\n",
       "    <tr style=\"text-align: right;\">\n",
       "      <th></th>\n",
       "      <th>ds</th>\n",
       "      <th>trend</th>\n",
       "      <th>yhat_lower</th>\n",
       "      <th>yhat_upper</th>\n",
       "      <th>trend_lower</th>\n",
       "      <th>trend_upper</th>\n",
       "      <th>additive_terms</th>\n",
       "      <th>additive_terms_lower</th>\n",
       "      <th>additive_terms_upper</th>\n",
       "      <th>daily</th>\n",
       "      <th>...</th>\n",
       "      <th>weekly</th>\n",
       "      <th>weekly_lower</th>\n",
       "      <th>weekly_upper</th>\n",
       "      <th>yearly</th>\n",
       "      <th>yearly_lower</th>\n",
       "      <th>yearly_upper</th>\n",
       "      <th>multiplicative_terms</th>\n",
       "      <th>multiplicative_terms_lower</th>\n",
       "      <th>multiplicative_terms_upper</th>\n",
       "      <th>yhat</th>\n",
       "    </tr>\n",
       "  </thead>\n",
       "  <tbody>\n",
       "    <tr>\n",
       "      <th>269</th>\n",
       "      <td>2021-08-21</td>\n",
       "      <td>239.084904</td>\n",
       "      <td>236.063123</td>\n",
       "      <td>247.134345</td>\n",
       "      <td>239.084562</td>\n",
       "      <td>239.085215</td>\n",
       "      <td>2.415503</td>\n",
       "      <td>2.415503</td>\n",
       "      <td>2.415503</td>\n",
       "      <td>-0.539827</td>\n",
       "      <td>...</td>\n",
       "      <td>0.067478</td>\n",
       "      <td>0.067478</td>\n",
       "      <td>0.067478</td>\n",
       "      <td>2.887852</td>\n",
       "      <td>2.887852</td>\n",
       "      <td>2.887852</td>\n",
       "      <td>0.0</td>\n",
       "      <td>0.0</td>\n",
       "      <td>0.0</td>\n",
       "      <td>241.500407</td>\n",
       "    </tr>\n",
       "    <tr>\n",
       "      <th>270</th>\n",
       "      <td>2021-08-22</td>\n",
       "      <td>239.091427</td>\n",
       "      <td>236.977703</td>\n",
       "      <td>247.721849</td>\n",
       "      <td>239.091049</td>\n",
       "      <td>239.091777</td>\n",
       "      <td>3.247861</td>\n",
       "      <td>3.247861</td>\n",
       "      <td>3.247861</td>\n",
       "      <td>-0.539827</td>\n",
       "      <td>...</td>\n",
       "      <td>0.067478</td>\n",
       "      <td>0.067478</td>\n",
       "      <td>0.067478</td>\n",
       "      <td>3.720210</td>\n",
       "      <td>3.720210</td>\n",
       "      <td>3.720210</td>\n",
       "      <td>0.0</td>\n",
       "      <td>0.0</td>\n",
       "      <td>0.0</td>\n",
       "      <td>242.339288</td>\n",
       "    </tr>\n",
       "    <tr>\n",
       "      <th>271</th>\n",
       "      <td>2021-08-23</td>\n",
       "      <td>239.097950</td>\n",
       "      <td>238.215588</td>\n",
       "      <td>248.776950</td>\n",
       "      <td>239.097534</td>\n",
       "      <td>239.098330</td>\n",
       "      <td>4.090950</td>\n",
       "      <td>4.090950</td>\n",
       "      <td>4.090950</td>\n",
       "      <td>-0.539827</td>\n",
       "      <td>...</td>\n",
       "      <td>0.118866</td>\n",
       "      <td>0.118866</td>\n",
       "      <td>0.118866</td>\n",
       "      <td>4.511911</td>\n",
       "      <td>4.511911</td>\n",
       "      <td>4.511911</td>\n",
       "      <td>0.0</td>\n",
       "      <td>0.0</td>\n",
       "      <td>0.0</td>\n",
       "      <td>243.188900</td>\n",
       "    </tr>\n",
       "    <tr>\n",
       "      <th>272</th>\n",
       "      <td>2021-08-24</td>\n",
       "      <td>239.104473</td>\n",
       "      <td>238.676194</td>\n",
       "      <td>249.219295</td>\n",
       "      <td>239.104003</td>\n",
       "      <td>239.104885</td>\n",
       "      <td>4.829282</td>\n",
       "      <td>4.829282</td>\n",
       "      <td>4.829282</td>\n",
       "      <td>-0.539827</td>\n",
       "      <td>...</td>\n",
       "      <td>0.123696</td>\n",
       "      <td>0.123696</td>\n",
       "      <td>0.123696</td>\n",
       "      <td>5.245413</td>\n",
       "      <td>5.245413</td>\n",
       "      <td>5.245413</td>\n",
       "      <td>0.0</td>\n",
       "      <td>0.0</td>\n",
       "      <td>0.0</td>\n",
       "      <td>243.933755</td>\n",
       "    </tr>\n",
       "    <tr>\n",
       "      <th>273</th>\n",
       "      <td>2021-08-25</td>\n",
       "      <td>239.110996</td>\n",
       "      <td>239.118825</td>\n",
       "      <td>249.758222</td>\n",
       "      <td>239.110480</td>\n",
       "      <td>239.111454</td>\n",
       "      <td>5.269481</td>\n",
       "      <td>5.269481</td>\n",
       "      <td>5.269481</td>\n",
       "      <td>-0.539827</td>\n",
       "      <td>...</td>\n",
       "      <td>-0.095744</td>\n",
       "      <td>-0.095744</td>\n",
       "      <td>-0.095744</td>\n",
       "      <td>5.905052</td>\n",
       "      <td>5.905052</td>\n",
       "      <td>5.905052</td>\n",
       "      <td>0.0</td>\n",
       "      <td>0.0</td>\n",
       "      <td>0.0</td>\n",
       "      <td>244.380476</td>\n",
       "    </tr>\n",
       "  </tbody>\n",
       "</table>\n",
       "<p>5 rows × 22 columns</p>\n",
       "</div>"
      ],
      "text/plain": [
       "            ds       trend  yhat_lower  yhat_upper  trend_lower  trend_upper  \\\n",
       "269 2021-08-21  239.084904  236.063123  247.134345   239.084562   239.085215   \n",
       "270 2021-08-22  239.091427  236.977703  247.721849   239.091049   239.091777   \n",
       "271 2021-08-23  239.097950  238.215588  248.776950   239.097534   239.098330   \n",
       "272 2021-08-24  239.104473  238.676194  249.219295   239.104003   239.104885   \n",
       "273 2021-08-25  239.110996  239.118825  249.758222   239.110480   239.111454   \n",
       "\n",
       "     additive_terms  additive_terms_lower  additive_terms_upper     daily  \\\n",
       "269        2.415503              2.415503              2.415503 -0.539827   \n",
       "270        3.247861              3.247861              3.247861 -0.539827   \n",
       "271        4.090950              4.090950              4.090950 -0.539827   \n",
       "272        4.829282              4.829282              4.829282 -0.539827   \n",
       "273        5.269481              5.269481              5.269481 -0.539827   \n",
       "\n",
       "     ...    weekly  weekly_lower  weekly_upper    yearly  yearly_lower  \\\n",
       "269  ...  0.067478      0.067478      0.067478  2.887852      2.887852   \n",
       "270  ...  0.067478      0.067478      0.067478  3.720210      3.720210   \n",
       "271  ...  0.118866      0.118866      0.118866  4.511911      4.511911   \n",
       "272  ...  0.123696      0.123696      0.123696  5.245413      5.245413   \n",
       "273  ... -0.095744     -0.095744     -0.095744  5.905052      5.905052   \n",
       "\n",
       "     yearly_upper  multiplicative_terms  multiplicative_terms_lower  \\\n",
       "269      2.887852                   0.0                         0.0   \n",
       "270      3.720210                   0.0                         0.0   \n",
       "271      4.511911                   0.0                         0.0   \n",
       "272      5.245413                   0.0                         0.0   \n",
       "273      5.905052                   0.0                         0.0   \n",
       "\n",
       "     multiplicative_terms_upper        yhat  \n",
       "269                         0.0  241.500407  \n",
       "270                         0.0  242.339288  \n",
       "271                         0.0  243.188900  \n",
       "272                         0.0  243.933755  \n",
       "273                         0.0  244.380476  \n",
       "\n",
       "[5 rows x 22 columns]"
      ]
     },
     "execution_count": 49,
     "metadata": {},
     "output_type": "execute_result"
    }
   ],
   "source": [
    "results_AMGN.tail()"
   ]
  },
  {
   "cell_type": "code",
   "execution_count": 50,
   "metadata": {},
   "outputs": [],
   "source": [
    "pred_cols=['ds','yhat']"
   ]
  },
  {
   "cell_type": "code",
   "execution_count": 51,
   "metadata": {},
   "outputs": [],
   "source": [
    "AMGN_preds=results_AMGN[pred_cols]"
   ]
  },
  {
   "cell_type": "code",
   "execution_count": 52,
   "metadata": {},
   "outputs": [
    {
     "data": {
      "text/html": [
       "<div>\n",
       "<style scoped>\n",
       "    .dataframe tbody tr th:only-of-type {\n",
       "        vertical-align: middle;\n",
       "    }\n",
       "\n",
       "    .dataframe tbody tr th {\n",
       "        vertical-align: top;\n",
       "    }\n",
       "\n",
       "    .dataframe thead th {\n",
       "        text-align: right;\n",
       "    }\n",
       "</style>\n",
       "<table border=\"1\" class=\"dataframe\">\n",
       "  <thead>\n",
       "    <tr style=\"text-align: right;\">\n",
       "      <th></th>\n",
       "      <th>ds</th>\n",
       "      <th>yhat</th>\n",
       "    </tr>\n",
       "  </thead>\n",
       "  <tbody>\n",
       "    <tr>\n",
       "      <th>269</th>\n",
       "      <td>2021-08-21</td>\n",
       "      <td>241.500407</td>\n",
       "    </tr>\n",
       "    <tr>\n",
       "      <th>270</th>\n",
       "      <td>2021-08-22</td>\n",
       "      <td>242.339288</td>\n",
       "    </tr>\n",
       "    <tr>\n",
       "      <th>271</th>\n",
       "      <td>2021-08-23</td>\n",
       "      <td>243.188900</td>\n",
       "    </tr>\n",
       "    <tr>\n",
       "      <th>272</th>\n",
       "      <td>2021-08-24</td>\n",
       "      <td>243.933755</td>\n",
       "    </tr>\n",
       "    <tr>\n",
       "      <th>273</th>\n",
       "      <td>2021-08-25</td>\n",
       "      <td>244.380476</td>\n",
       "    </tr>\n",
       "  </tbody>\n",
       "</table>\n",
       "</div>"
      ],
      "text/plain": [
       "            ds        yhat\n",
       "269 2021-08-21  241.500407\n",
       "270 2021-08-22  242.339288\n",
       "271 2021-08-23  243.188900\n",
       "272 2021-08-24  243.933755\n",
       "273 2021-08-25  244.380476"
      ]
     },
     "execution_count": 52,
     "metadata": {},
     "output_type": "execute_result"
    }
   ],
   "source": [
    "AMGN_preds.tail()"
   ]
  },
  {
   "cell_type": "code",
   "execution_count": 53,
   "metadata": {},
   "outputs": [],
   "source": [
    "AMGN_preds=AMGN_preds.tail(21)"
   ]
  },
  {
   "cell_type": "code",
   "execution_count": 54,
   "metadata": {},
   "outputs": [
    {
     "data": {
      "text/html": [
       "<div>\n",
       "<style scoped>\n",
       "    .dataframe tbody tr th:only-of-type {\n",
       "        vertical-align: middle;\n",
       "    }\n",
       "\n",
       "    .dataframe tbody tr th {\n",
       "        vertical-align: top;\n",
       "    }\n",
       "\n",
       "    .dataframe thead th {\n",
       "        text-align: right;\n",
       "    }\n",
       "</style>\n",
       "<table border=\"1\" class=\"dataframe\">\n",
       "  <thead>\n",
       "    <tr style=\"text-align: right;\">\n",
       "      <th></th>\n",
       "      <th>ds</th>\n",
       "      <th>yhat</th>\n",
       "    </tr>\n",
       "  </thead>\n",
       "  <tbody>\n",
       "    <tr>\n",
       "      <th>253</th>\n",
       "      <td>2021-08-05</td>\n",
       "      <td>235.980591</td>\n",
       "    </tr>\n",
       "    <tr>\n",
       "      <th>254</th>\n",
       "      <td>2021-08-06</td>\n",
       "      <td>236.002167</td>\n",
       "    </tr>\n",
       "    <tr>\n",
       "      <th>255</th>\n",
       "      <td>2021-08-07</td>\n",
       "      <td>235.496276</td>\n",
       "    </tr>\n",
       "    <tr>\n",
       "      <th>256</th>\n",
       "      <td>2021-08-08</td>\n",
       "      <td>235.189921</td>\n",
       "    </tr>\n",
       "    <tr>\n",
       "      <th>257</th>\n",
       "      <td>2021-08-09</td>\n",
       "      <td>235.066197</td>\n",
       "    </tr>\n",
       "  </tbody>\n",
       "</table>\n",
       "</div>"
      ],
      "text/plain": [
       "            ds        yhat\n",
       "253 2021-08-05  235.980591\n",
       "254 2021-08-06  236.002167\n",
       "255 2021-08-07  235.496276\n",
       "256 2021-08-08  235.189921\n",
       "257 2021-08-09  235.066197"
      ]
     },
     "execution_count": 54,
     "metadata": {},
     "output_type": "execute_result"
    }
   ],
   "source": [
    "AMGN_preds.head()"
   ]
  },
  {
   "cell_type": "code",
   "execution_count": 55,
   "metadata": {},
   "outputs": [],
   "source": [
    "AMGN_preds.reset_index(level=0, drop=True,inplace=True)"
   ]
  },
  {
   "cell_type": "code",
   "execution_count": 56,
   "metadata": {},
   "outputs": [
    {
     "data": {
      "text/html": [
       "<div>\n",
       "<style scoped>\n",
       "    .dataframe tbody tr th:only-of-type {\n",
       "        vertical-align: middle;\n",
       "    }\n",
       "\n",
       "    .dataframe tbody tr th {\n",
       "        vertical-align: top;\n",
       "    }\n",
       "\n",
       "    .dataframe thead th {\n",
       "        text-align: right;\n",
       "    }\n",
       "</style>\n",
       "<table border=\"1\" class=\"dataframe\">\n",
       "  <thead>\n",
       "    <tr style=\"text-align: right;\">\n",
       "      <th></th>\n",
       "      <th>ds</th>\n",
       "      <th>yhat</th>\n",
       "    </tr>\n",
       "  </thead>\n",
       "  <tbody>\n",
       "    <tr>\n",
       "      <th>0</th>\n",
       "      <td>2021-08-05</td>\n",
       "      <td>235.980591</td>\n",
       "    </tr>\n",
       "    <tr>\n",
       "      <th>1</th>\n",
       "      <td>2021-08-06</td>\n",
       "      <td>236.002167</td>\n",
       "    </tr>\n",
       "    <tr>\n",
       "      <th>2</th>\n",
       "      <td>2021-08-07</td>\n",
       "      <td>235.496276</td>\n",
       "    </tr>\n",
       "    <tr>\n",
       "      <th>3</th>\n",
       "      <td>2021-08-08</td>\n",
       "      <td>235.189921</td>\n",
       "    </tr>\n",
       "    <tr>\n",
       "      <th>4</th>\n",
       "      <td>2021-08-09</td>\n",
       "      <td>235.066197</td>\n",
       "    </tr>\n",
       "  </tbody>\n",
       "</table>\n",
       "</div>"
      ],
      "text/plain": [
       "          ds        yhat\n",
       "0 2021-08-05  235.980591\n",
       "1 2021-08-06  236.002167\n",
       "2 2021-08-07  235.496276\n",
       "3 2021-08-08  235.189921\n",
       "4 2021-08-09  235.066197"
      ]
     },
     "execution_count": 56,
     "metadata": {},
     "output_type": "execute_result"
    }
   ],
   "source": [
    "AMGN_preds.head()"
   ]
  },
  {
   "cell_type": "code",
   "execution_count": 57,
   "metadata": {
    "scrolled": true
   },
   "outputs": [
    {
     "data": {
      "text/plain": [
       "244.38047643943617"
      ]
     },
     "execution_count": 57,
     "metadata": {},
     "output_type": "execute_result"
    }
   ],
   "source": [
    "AMGN_preds['yhat'][20]"
   ]
  },
  {
   "cell_type": "code",
   "execution_count": 58,
   "metadata": {},
   "outputs": [
    {
     "data": {
      "text/plain": [
       "235.98059115901373"
      ]
     },
     "execution_count": 58,
     "metadata": {},
     "output_type": "execute_result"
    }
   ],
   "source": [
    "AMGN_preds['yhat'][0]"
   ]
  },
  {
   "cell_type": "code",
   "execution_count": 59,
   "metadata": {},
   "outputs": [],
   "source": [
    "change_percent=((AMGN_preds['yhat'][20]-AMGN_preds['yhat'][0])/AMGN_preds['yhat'][0])*100"
   ]
  },
  {
   "cell_type": "code",
   "execution_count": 60,
   "metadata": {},
   "outputs": [],
   "source": [
    "change_percent=round(change_percent,3)"
   ]
  },
  {
   "cell_type": "code",
   "execution_count": 61,
   "metadata": {},
   "outputs": [
    {
     "data": {
      "text/plain": [
       "3.56"
      ]
     },
     "execution_count": 61,
     "metadata": {},
     "output_type": "execute_result"
    }
   ],
   "source": [
    "change_percent"
   ]
  },
  {
   "cell_type": "markdown",
   "metadata": {},
   "source": [
    "Now let's put this together into a simple function. It will take the yhat predictions and calculate the percentage return."
   ]
  },
  {
   "cell_type": "code",
   "execution_count": 62,
   "metadata": {},
   "outputs": [],
   "source": [
    "def pct_change(df):\n",
    "    \"\"\"This function will take a Prophet forecast dataframe and quickly calculate the percentage change.\n",
    "    One that has been produced from the earlier Prophet function\"\"\"\n",
    "    df1=df['yhat']\n",
    "    df1=df1.tail(14)\n",
    "    df1.reset_index(level=0, drop=True,inplace=True)\n",
    "    change=((df1[13]-df1[0])/df1[0])*100\n",
    "    change=round(change, 2)\n",
    "    if change >0:\n",
    "        print(f\"According to the model, you stand to gain {change}% over the next 14 days\")\n",
    "    else:\n",
    "        change_abs=abs(change)\n",
    "        print(f\"According to the model, you stand to lose {change_abs}% over the next 14 days\")\n",
    "    return None"
   ]
  },
  {
   "cell_type": "code",
   "execution_count": 63,
   "metadata": {
    "scrolled": true
   },
   "outputs": [
    {
     "name": "stdout",
     "output_type": "stream",
     "text": [
      "According to the model, you stand to gain 7.74% over the next 14 days\n"
     ]
    }
   ],
   "source": [
    "pct_change(results_AAPL)"
   ]
  },
  {
   "cell_type": "code",
   "execution_count": 64,
   "metadata": {},
   "outputs": [
    {
     "name": "stdout",
     "output_type": "stream",
     "text": [
      "According to the model, you stand to gain 1.91% over the next 14 days\n"
     ]
    }
   ],
   "source": [
    "pct_change(results_AXP)"
   ]
  },
  {
   "cell_type": "code",
   "execution_count": 65,
   "metadata": {},
   "outputs": [
    {
     "name": "stdout",
     "output_type": "stream",
     "text": [
      "According to the model, you stand to gain 2.45% over the next 14 days\n"
     ]
    }
   ],
   "source": [
    "pct_change(results_MMM)"
   ]
  },
  {
   "cell_type": "code",
   "execution_count": 66,
   "metadata": {},
   "outputs": [
    {
     "name": "stdout",
     "output_type": "stream",
     "text": [
      "According to the model, you stand to gain 2.53% over the next 14 days\n"
     ]
    }
   ],
   "source": [
    "pct_change(results_CAT)"
   ]
  },
  {
   "cell_type": "markdown",
   "metadata": {},
   "source": [
    "Now, let's create a function that will run through the Prophet process, and return the forecast."
   ]
  },
  {
   "cell_type": "code",
   "execution_count": 67,
   "metadata": {},
   "outputs": [],
   "source": [
    "def fcast(stock):\n",
    "    \"\"\"This function will take a stock( as a string) and perform all the necessary changes to the data to allow Prophet to model\n",
    "    it and return the forecast dataframe\"\"\"\n",
    "    stock=stock.upper() #make sure the symbol is in uppercase\n",
    "    prof=Prophet(daily_seasonality=True, yearly_seasonality=True)\n",
    "    stonk = yf.Ticker(stock)\n",
    "    df1=stonk.history(period='1y')\n",
    "    df1=df1['Close']\n",
    "    df1=df1.to_frame()\n",
    "    df1.index.names = ['ds']\n",
    "    df1.columns=['y']\n",
    "    df1.reset_index(level=0, inplace=True)\n",
    "    prof.fit(df1)\n",
    "    future = prof.make_future_dataframe(periods=14)\n",
    "    forecast = prof.predict(future)\n",
    "    #The next 2 lines are disabled for the final function, but I wanted a few graphs.\n",
    "#    prof.plot(forecast)\n",
    " #   plt.show()\n",
    "    return forecast"
   ]
  },
  {
   "cell_type": "code",
   "execution_count": 68,
   "metadata": {
    "scrolled": true
   },
   "outputs": [],
   "source": [
    "HAL=fcast('HAL')"
   ]
  },
  {
   "cell_type": "code",
   "execution_count": 69,
   "metadata": {},
   "outputs": [
    {
     "data": {
      "text/html": [
       "<div>\n",
       "<style scoped>\n",
       "    .dataframe tbody tr th:only-of-type {\n",
       "        vertical-align: middle;\n",
       "    }\n",
       "\n",
       "    .dataframe tbody tr th {\n",
       "        vertical-align: top;\n",
       "    }\n",
       "\n",
       "    .dataframe thead th {\n",
       "        text-align: right;\n",
       "    }\n",
       "</style>\n",
       "<table border=\"1\" class=\"dataframe\">\n",
       "  <thead>\n",
       "    <tr style=\"text-align: right;\">\n",
       "      <th></th>\n",
       "      <th>ds</th>\n",
       "      <th>trend</th>\n",
       "      <th>yhat_lower</th>\n",
       "      <th>yhat_upper</th>\n",
       "      <th>trend_lower</th>\n",
       "      <th>trend_upper</th>\n",
       "      <th>additive_terms</th>\n",
       "      <th>additive_terms_lower</th>\n",
       "      <th>additive_terms_upper</th>\n",
       "      <th>daily</th>\n",
       "      <th>...</th>\n",
       "      <th>weekly</th>\n",
       "      <th>weekly_lower</th>\n",
       "      <th>weekly_upper</th>\n",
       "      <th>yearly</th>\n",
       "      <th>yearly_lower</th>\n",
       "      <th>yearly_upper</th>\n",
       "      <th>multiplicative_terms</th>\n",
       "      <th>multiplicative_terms_lower</th>\n",
       "      <th>multiplicative_terms_upper</th>\n",
       "      <th>yhat</th>\n",
       "    </tr>\n",
       "  </thead>\n",
       "  <tbody>\n",
       "    <tr>\n",
       "      <th>0</th>\n",
       "      <td>2020-08-04</td>\n",
       "      <td>15.208723</td>\n",
       "      <td>14.397799</td>\n",
       "      <td>16.092330</td>\n",
       "      <td>15.208723</td>\n",
       "      <td>15.208723</td>\n",
       "      <td>0.040393</td>\n",
       "      <td>0.040393</td>\n",
       "      <td>0.040393</td>\n",
       "      <td>1.002183</td>\n",
       "      <td>...</td>\n",
       "      <td>0.047247</td>\n",
       "      <td>0.047247</td>\n",
       "      <td>0.047247</td>\n",
       "      <td>-1.009037</td>\n",
       "      <td>-1.009037</td>\n",
       "      <td>-1.009037</td>\n",
       "      <td>0.0</td>\n",
       "      <td>0.0</td>\n",
       "      <td>0.0</td>\n",
       "      <td>15.249116</td>\n",
       "    </tr>\n",
       "    <tr>\n",
       "      <th>1</th>\n",
       "      <td>2020-08-05</td>\n",
       "      <td>15.223325</td>\n",
       "      <td>14.552520</td>\n",
       "      <td>16.224515</td>\n",
       "      <td>15.223325</td>\n",
       "      <td>15.223325</td>\n",
       "      <td>0.150849</td>\n",
       "      <td>0.150849</td>\n",
       "      <td>0.150849</td>\n",
       "      <td>1.002183</td>\n",
       "      <td>...</td>\n",
       "      <td>0.124678</td>\n",
       "      <td>0.124678</td>\n",
       "      <td>0.124678</td>\n",
       "      <td>-0.976012</td>\n",
       "      <td>-0.976012</td>\n",
       "      <td>-0.976012</td>\n",
       "      <td>0.0</td>\n",
       "      <td>0.0</td>\n",
       "      <td>0.0</td>\n",
       "      <td>15.374174</td>\n",
       "    </tr>\n",
       "    <tr>\n",
       "      <th>2</th>\n",
       "      <td>2020-08-06</td>\n",
       "      <td>15.237927</td>\n",
       "      <td>14.478887</td>\n",
       "      <td>16.110173</td>\n",
       "      <td>15.237927</td>\n",
       "      <td>15.237927</td>\n",
       "      <td>0.086589</td>\n",
       "      <td>0.086589</td>\n",
       "      <td>0.086589</td>\n",
       "      <td>1.002183</td>\n",
       "      <td>...</td>\n",
       "      <td>0.024142</td>\n",
       "      <td>0.024142</td>\n",
       "      <td>0.024142</td>\n",
       "      <td>-0.939736</td>\n",
       "      <td>-0.939736</td>\n",
       "      <td>-0.939736</td>\n",
       "      <td>0.0</td>\n",
       "      <td>0.0</td>\n",
       "      <td>0.0</td>\n",
       "      <td>15.324516</td>\n",
       "    </tr>\n",
       "    <tr>\n",
       "      <th>3</th>\n",
       "      <td>2020-08-07</td>\n",
       "      <td>15.252529</td>\n",
       "      <td>14.512036</td>\n",
       "      <td>16.276425</td>\n",
       "      <td>15.252529</td>\n",
       "      <td>15.252529</td>\n",
       "      <td>0.115955</td>\n",
       "      <td>0.115955</td>\n",
       "      <td>0.115955</td>\n",
       "      <td>1.002183</td>\n",
       "      <td>...</td>\n",
       "      <td>0.014447</td>\n",
       "      <td>0.014447</td>\n",
       "      <td>0.014447</td>\n",
       "      <td>-0.900674</td>\n",
       "      <td>-0.900674</td>\n",
       "      <td>-0.900674</td>\n",
       "      <td>0.0</td>\n",
       "      <td>0.0</td>\n",
       "      <td>0.0</td>\n",
       "      <td>15.368485</td>\n",
       "    </tr>\n",
       "    <tr>\n",
       "      <th>4</th>\n",
       "      <td>2020-08-10</td>\n",
       "      <td>15.296336</td>\n",
       "      <td>14.705964</td>\n",
       "      <td>16.386731</td>\n",
       "      <td>15.296336</td>\n",
       "      <td>15.296336</td>\n",
       "      <td>0.270726</td>\n",
       "      <td>0.270726</td>\n",
       "      <td>0.270726</td>\n",
       "      <td>1.002183</td>\n",
       "      <td>...</td>\n",
       "      <td>0.040031</td>\n",
       "      <td>0.040031</td>\n",
       "      <td>0.040031</td>\n",
       "      <td>-0.771488</td>\n",
       "      <td>-0.771488</td>\n",
       "      <td>-0.771488</td>\n",
       "      <td>0.0</td>\n",
       "      <td>0.0</td>\n",
       "      <td>0.0</td>\n",
       "      <td>15.567062</td>\n",
       "    </tr>\n",
       "  </tbody>\n",
       "</table>\n",
       "<p>5 rows × 22 columns</p>\n",
       "</div>"
      ],
      "text/plain": [
       "          ds      trend  yhat_lower  yhat_upper  trend_lower  trend_upper  \\\n",
       "0 2020-08-04  15.208723   14.397799   16.092330    15.208723    15.208723   \n",
       "1 2020-08-05  15.223325   14.552520   16.224515    15.223325    15.223325   \n",
       "2 2020-08-06  15.237927   14.478887   16.110173    15.237927    15.237927   \n",
       "3 2020-08-07  15.252529   14.512036   16.276425    15.252529    15.252529   \n",
       "4 2020-08-10  15.296336   14.705964   16.386731    15.296336    15.296336   \n",
       "\n",
       "   additive_terms  additive_terms_lower  additive_terms_upper     daily  ...  \\\n",
       "0        0.040393              0.040393              0.040393  1.002183  ...   \n",
       "1        0.150849              0.150849              0.150849  1.002183  ...   \n",
       "2        0.086589              0.086589              0.086589  1.002183  ...   \n",
       "3        0.115955              0.115955              0.115955  1.002183  ...   \n",
       "4        0.270726              0.270726              0.270726  1.002183  ...   \n",
       "\n",
       "     weekly  weekly_lower  weekly_upper    yearly  yearly_lower  yearly_upper  \\\n",
       "0  0.047247      0.047247      0.047247 -1.009037     -1.009037     -1.009037   \n",
       "1  0.124678      0.124678      0.124678 -0.976012     -0.976012     -0.976012   \n",
       "2  0.024142      0.024142      0.024142 -0.939736     -0.939736     -0.939736   \n",
       "3  0.014447      0.014447      0.014447 -0.900674     -0.900674     -0.900674   \n",
       "4  0.040031      0.040031      0.040031 -0.771488     -0.771488     -0.771488   \n",
       "\n",
       "   multiplicative_terms  multiplicative_terms_lower  \\\n",
       "0                   0.0                         0.0   \n",
       "1                   0.0                         0.0   \n",
       "2                   0.0                         0.0   \n",
       "3                   0.0                         0.0   \n",
       "4                   0.0                         0.0   \n",
       "\n",
       "   multiplicative_terms_upper       yhat  \n",
       "0                         0.0  15.249116  \n",
       "1                         0.0  15.374174  \n",
       "2                         0.0  15.324516  \n",
       "3                         0.0  15.368485  \n",
       "4                         0.0  15.567062  \n",
       "\n",
       "[5 rows x 22 columns]"
      ]
     },
     "execution_count": 69,
     "metadata": {},
     "output_type": "execute_result"
    }
   ],
   "source": [
    "HAL.head()"
   ]
  },
  {
   "cell_type": "code",
   "execution_count": 70,
   "metadata": {},
   "outputs": [],
   "source": [
    "MMM=fcast('MMM')"
   ]
  },
  {
   "cell_type": "code",
   "execution_count": 71,
   "metadata": {},
   "outputs": [],
   "source": [
    "AXP=fcast('AXP')"
   ]
  },
  {
   "cell_type": "markdown",
   "metadata": {},
   "source": [
    "Now the final piece: taking in 4 stocks from the user, running them through the previous functions, and letting us know which one stands to gain the most."
   ]
  },
  {
   "cell_type": "code",
   "execution_count": 72,
   "metadata": {},
   "outputs": [],
   "source": [
    "def pred_4():\n",
    "    \"\"\"This function will prompt the user to input 4 different stock/ETF symbols. It will then use Prophet \n",
    "    to forecast the next 14 days of the stock price, and return the values (in percent) of potential gain and loss.\"\"\"\n",
    "    stocks=[]\n",
    "    pcts=[]\n",
    "    stock1,stock2,stock3,stock4=input(\"Enter 4 stock symbols: \").split(\",\")\n",
    "    stocks=[stock1,stock2,stock3,stock4]\n",
    "    print(\"Working...\")\n",
    "    for stock in stocks:\n",
    "        stock=stock.upper()\n",
    "        df=fcast(stock)\n",
    "        df1=df['yhat']\n",
    "        df1=df1.tail(14)\n",
    "        df1.reset_index(level=0, drop=True,inplace=True)\n",
    "        change=((df1[13]-df1[0])/df1[0])*100\n",
    "        change=round(change, 2)\n",
    "        pcts.append(change)\n",
    "    for i in range(0,4):\n",
    "        print(f\"Stock: {stocks[i].upper()}\")\n",
    "        print(f\"Percent Change: {pcts[i]}\")\n",
    "    maxp=pcts.index(max(pcts))\n",
    "    print()\n",
    "    print(f'According to the model, {stocks[maxp].upper()} has the highest upside.')\n",
    "    print(\"\\n\" * 3)\n",
    "    print('FOR ENTERTAINMENT PURPOSES ONLY. This does not substitute for advise from a financial advisor.') \n",
    "    print('The creator and affiliates are not responsible for any potential losses. But totally responsible for any gains.')\n",
    "    return None\n",
    "    "
   ]
  },
  {
   "cell_type": "code",
   "execution_count": 74,
   "metadata": {
    "scrolled": false
   },
   "outputs": [
    {
     "name": "stdout",
     "output_type": "stream",
     "text": [
      "Enter 4 stock symbols: dis,aapl,amzn,tsla\n",
      "Working...\n",
      "Stock: DIS\n",
      "Percent Change: 0.39\n",
      "Stock: AAPL\n",
      "Percent Change: 6.39\n",
      "Stock: AMZN\n",
      "Percent Change: 2.44\n",
      "Stock: TSLA\n",
      "Percent Change: 17.27\n",
      "\n",
      "According to the model, TSLA has the highest upside.\n",
      "\n",
      "\n",
      "\n",
      "\n",
      "FOR ENTERTAINMENT PURPOSES ONLY. This does not substitute for advise from a financial advisor.\n",
      "The creator and affiliates are not responsible for any potential losses. But totally responsible for any gains.\n"
     ]
    }
   ],
   "source": [
    "pred_4()"
   ]
  },
  {
   "cell_type": "markdown",
   "metadata": {},
   "source": [
    "# Conclusion:"
   ]
  },
  {
   "cell_type": "markdown",
   "metadata": {},
   "source": [
    "I like to call this the KISSSS (the Keep it Simple Stock Selector-The Last 'S' is a typo), and it's true to its name. It's simple, it provides an answer that investors can use to make their decisions. Now as the disclaimer states, this should not be the only factor used in making any investment decision; but for someone that doesn't want to do a lot of research into their stock purchases, this will fit them just fine."
   ]
  },
  {
   "cell_type": "markdown",
   "metadata": {},
   "source": [
    "Personaly, I like Prophet much better than ARIMA. It provided much better numbers and it was built to predict time series that were more random than what ARIMA was built for."
   ]
  },
  {
   "cell_type": "code",
   "execution_count": null,
   "metadata": {},
   "outputs": [],
   "source": []
  }
 ],
 "metadata": {
  "kernelspec": {
   "display_name": "Python 3",
   "language": "python",
   "name": "python3"
  },
  "language_info": {
   "codemirror_mode": {
    "name": "ipython",
    "version": 3
   },
   "file_extension": ".py",
   "mimetype": "text/x-python",
   "name": "python",
   "nbconvert_exporter": "python",
   "pygments_lexer": "ipython3",
   "version": "3.6.9"
  }
 },
 "nbformat": 4,
 "nbformat_minor": 4
}
